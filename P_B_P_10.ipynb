{
 "cells": [
  {
   "cell_type": "code",
   "execution_count": 1,
   "id": "1ad44cb5-eca0-416b-a86d-fe9082fb680b",
   "metadata": {},
   "outputs": [],
   "source": [
    "Number_list=[-1,2,3,4,56,7,8,9,1,8,6,]"
   ]
  },
  {
   "cell_type": "markdown",
   "id": "ca035339-1332-4f56-9c5e-f5516bf4747d",
   "metadata": {},
   "source": [
    "1. Write a Python program to find sum of elements in list?\n"
   ]
  },
  {
   "cell_type": "code",
   "execution_count": 2,
   "id": "f0afdefd-aa9c-46b0-9a85-35a1325defba",
   "metadata": {},
   "outputs": [
    {
     "data": {
      "text/plain": [
       "103"
      ]
     },
     "execution_count": 2,
     "metadata": {},
     "output_type": "execute_result"
    }
   ],
   "source": [
    "def sum_list(Number_list=list()):\n",
    "    sumation= 0\n",
    "    for i in Number_list:\n",
    "        sumation+=i\n",
    "    return sumation\n",
    "sum_list(Number_list)"
   ]
  },
  {
   "cell_type": "markdown",
   "id": "a709cda5-9a32-4d0b-abc8-69469542de78",
   "metadata": {},
   "source": [
    "2. Write a Python program to Multiply all numbers in the list?"
   ]
  },
  {
   "cell_type": "code",
   "execution_count": 3,
   "id": "cd939fda-be33-4063-a6e1-f2ee01e632a7",
   "metadata": {},
   "outputs": [
    {
     "data": {
      "text/plain": [
       "-32514048"
      ]
     },
     "execution_count": 3,
     "metadata": {},
     "output_type": "execute_result"
    }
   ],
   "source": [
    "def multi_list(Number_list=list()):\n",
    "    sumation= 1\n",
    "    for i in Number_list:\n",
    "        sumation*=i\n",
    "    return sumation\n",
    "multi_list(Number_list)"
   ]
  },
  {
   "cell_type": "markdown",
   "id": "8237a853-8879-45bb-855b-fd7bf8ed362a",
   "metadata": {},
   "source": [
    "3. Write a Python program to find smallest number in a list?"
   ]
  },
  {
   "cell_type": "code",
   "execution_count": 4,
   "id": "5b72fc61-f8fb-47dd-bd89-282cd52aede9",
   "metadata": {},
   "outputs": [
    {
     "data": {
      "text/plain": [
       "-1"
      ]
     },
     "execution_count": 4,
     "metadata": {},
     "output_type": "execute_result"
    }
   ],
   "source": [
    "def small_in_list(Number_list=list()):\n",
    "    temp= Number_list[0]\n",
    "    for i in Number_list:\n",
    "        if i<temp:\n",
    "            temp=i\n",
    "    return temp\n",
    "small_in_list(Number_list)"
   ]
  },
  {
   "cell_type": "markdown",
   "id": "d28422e8-03a4-4772-b77b-9a786823af63",
   "metadata": {},
   "source": [
    "4. Write a Python program to find largest number in a list?\n",
    "\n",
    "\n",
    "\n",
    "\n",
    "\n",
    "\n"
   ]
  },
  {
   "cell_type": "code",
   "execution_count": 5,
   "id": "8eb90010-b58e-4fc7-9e0c-ed16033832fa",
   "metadata": {},
   "outputs": [
    {
     "data": {
      "text/plain": [
       "56"
      ]
     },
     "execution_count": 5,
     "metadata": {},
     "output_type": "execute_result"
    }
   ],
   "source": [
    "def large_in_list(Number_list=list()):\n",
    "    temp= Number_list[0]\n",
    "    for i in Number_list:\n",
    "        if i>temp:\n",
    "            temp=i\n",
    "    return temp\n",
    "large_in_list(Number_list)"
   ]
  },
  {
   "cell_type": "markdown",
   "id": "1574dadf-a41c-4833-996a-969947be5083",
   "metadata": {},
   "source": [
    "5. Write a Python program to find second largest number in a list?"
   ]
  },
  {
   "cell_type": "code",
   "execution_count": 6,
   "id": "6435d08f-d784-4af9-b880-73b271ab85d0",
   "metadata": {},
   "outputs": [
    {
     "data": {
      "text/plain": [
       "9"
      ]
     },
     "execution_count": 6,
     "metadata": {},
     "output_type": "execute_result"
    }
   ],
   "source": [
    "def nth_largest(Number_list,nth_number):\n",
    "    Number_list.sort()\n",
    "    the_number= Number_list[-nth_number]\n",
    "    return the_number\n",
    "nth_largest(Number_list,2)"
   ]
  },
  {
   "cell_type": "markdown",
   "id": "623b828f-75ce-465c-a54e-394e04ea63ae",
   "metadata": {},
   "source": [
    "6. Write a Python program to find N largest elements from a list?"
   ]
  },
  {
   "cell_type": "code",
   "execution_count": 7,
   "id": "0b263bea-f4d7-44a5-842d-59f275ef1d93",
   "metadata": {},
   "outputs": [
    {
     "data": {
      "text/plain": [
       "[9, 56]"
      ]
     },
     "execution_count": 7,
     "metadata": {},
     "output_type": "execute_result"
    }
   ],
   "source": [
    "def nth_largest_elements(Number_list,nth_number):\n",
    "    Number_list.sort()\n",
    "    the_number= Number_list[-nth_number:]\n",
    "    return the_number\n",
    "nth_largest_elements(Number_list,2)"
   ]
  },
  {
   "cell_type": "markdown",
   "id": "91c031b8-dbc1-4bfc-88d8-43bd576ee1ac",
   "metadata": {},
   "source": [
    "7. Write a Python program to print even numbers in a list?"
   ]
  },
  {
   "cell_type": "code",
   "execution_count": 8,
   "id": "9187c591-611f-4ba8-beb2-3f6cf8a12f88",
   "metadata": {},
   "outputs": [
    {
     "name": "stdout",
     "output_type": "stream",
     "text": [
      "2\n",
      "4\n",
      "6\n",
      "8\n",
      "8\n",
      "56\n"
     ]
    }
   ],
   "source": [
    "def Even_Number(Number_list=list()):\n",
    "    for i in Number_list:\n",
    "        if i%2==0 and i >0:\n",
    "            print(i)\n",
    "Even_Number(Number_list)"
   ]
  },
  {
   "cell_type": "markdown",
   "id": "ce4690c4-2d5f-457a-be2b-88058a561243",
   "metadata": {},
   "source": [
    "8. Write a Python program to print odd numbers in a List?"
   ]
  },
  {
   "cell_type": "code",
   "execution_count": 9,
   "id": "1c9932b4-3a88-4b1c-8468-1dba2af42649",
   "metadata": {},
   "outputs": [
    {
     "name": "stdout",
     "output_type": "stream",
     "text": [
      "1\n",
      "3\n",
      "7\n",
      "9\n"
     ]
    }
   ],
   "source": [
    "def odd_Number(Number_list=list()):\n",
    "    for i in Number_list:\n",
    "        if i%2!=0  and i >0:\n",
    "            print(i)\n",
    "odd_Number(Number_list)"
   ]
  },
  {
   "cell_type": "markdown",
   "id": "0bbd6ea8-5990-4db6-ae76-925e944e0b5c",
   "metadata": {},
   "source": [
    "9. Write a Python program to Remove empty List from List?"
   ]
  },
  {
   "cell_type": "code",
   "execution_count": 10,
   "id": "4a20c847-da62-4d1e-bfde-533d6247cded",
   "metadata": {},
   "outputs": [
    {
     "data": {
      "text/plain": [
       "[1, 2, 3, 4, 5, 4, [232], 44]"
      ]
     },
     "execution_count": 10,
     "metadata": {},
     "output_type": "execute_result"
    }
   ],
   "source": [
    "def remove_empty_list(nested_List=list()):\n",
    "    while [] in nested_List:\n",
    "        nested_List.remove([])\n",
    "    return nested_List\n",
    "remove_empty_list([1,2,3,4,5,[],4,[232],44])"
   ]
  },
  {
   "cell_type": "markdown",
   "id": "e3bea78c-052f-4df0-b35b-c3a2528e7af1",
   "metadata": {},
   "source": [
    "10. Write a Python program to Cloning or Copying a list?"
   ]
  },
  {
   "cell_type": "code",
   "execution_count": 11,
   "id": "4ec17720-3def-4597-8a88-80fa753990e0",
   "metadata": {},
   "outputs": [],
   "source": [
    "def copy_list(List=list()):\n",
    "    list_new= List\n",
    "    return list_new\n",
    "    "
   ]
  },
  {
   "cell_type": "markdown",
   "id": "280c1057-43ea-48ac-8ea7-f3b061f8f66a",
   "metadata": {},
   "source": [
    "11. Write a Python program to Count occurrences of an element in a list?"
   ]
  },
  {
   "cell_type": "code",
   "execution_count": 12,
   "id": "7fd78424-3b31-4144-ac0e-55d6ff70469e",
   "metadata": {},
   "outputs": [
    {
     "data": {
      "text/plain": [
       "2"
      ]
     },
     "execution_count": 12,
     "metadata": {},
     "output_type": "execute_result"
    }
   ],
   "source": [
    "def Count_occurance(List,Element):\n",
    "    counter=0\n",
    "    if Element in List:\n",
    "        for i in List:\n",
    "            if i == Element:\n",
    "                counter+=1\n",
    "        return counter\n",
    "    else:\n",
    "        return \"Enter valid Element\"\n",
    "Count_occurance(Number_list,8)"
   ]
  },
  {
   "cell_type": "code",
   "execution_count": null,
   "id": "a284e602-7152-4fe0-92f0-0844b650597a",
   "metadata": {},
   "outputs": [],
   "source": []
  }
 ],
 "metadata": {
  "kernelspec": {
   "display_name": "Python 3 (ipykernel)",
   "language": "python",
   "name": "python3"
  },
  "language_info": {
   "codemirror_mode": {
    "name": "ipython",
    "version": 3
   },
   "file_extension": ".py",
   "mimetype": "text/x-python",
   "name": "python",
   "nbconvert_exporter": "python",
   "pygments_lexer": "ipython3",
   "version": "3.10.6"
  }
 },
 "nbformat": 4,
 "nbformat_minor": 5
}
