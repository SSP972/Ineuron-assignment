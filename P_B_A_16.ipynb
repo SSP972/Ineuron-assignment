{
 "cells": [
  {
   "cell_type": "markdown",
   "id": "02587665-a0ee-4214-866d-0569f545638c",
   "metadata": {},
   "source": [
    "1. Create a list called years_list, starting with the year of your birth, and each year thereafter until the year of your fifth birthday. For example, if you were born in 1980. the list would be years_list = [1980, 1981, 1982, 1983, 1984, 1985]."
   ]
  },
  {
   "cell_type": "code",
   "execution_count": 1,
   "id": "1ad34665-d465-4ebb-9240-285c022f6982",
   "metadata": {},
   "outputs": [
    {
     "name": "stdin",
     "output_type": "stream",
     "text": [
      "Enter the year you born:  1980\n"
     ]
    },
    {
     "name": "stdout",
     "output_type": "stream",
     "text": [
      "[1980, 1981, 1982, 1983, 1984, 1985]\n"
     ]
    }
   ],
   "source": [
    "year_list=list()\n",
    "Year_born=int(input(\"Enter the year you born: \"))\n",
    "for i in range(1,7):\n",
    "    year_list.append(Year_born)\n",
    "    Year_born+=1\n",
    "print(year_list)\n",
    "    "
   ]
  },
  {
   "cell_type": "markdown",
   "id": "0dc8d913-2990-43d3-b457-5f2bfe234314",
   "metadata": {},
   "source": [
    "2. In which year in years_list was your third birthday? Remember, you were 0 years of age for your first year"
   ]
  },
  {
   "cell_type": "code",
   "execution_count": 2,
   "id": "60bf5d9b-37ca-4c99-8be5-7839cf5ff67f",
   "metadata": {},
   "outputs": [
    {
     "data": {
      "text/plain": [
       "1983"
      ]
     },
     "execution_count": 2,
     "metadata": {},
     "output_type": "execute_result"
    }
   ],
   "source": [
    "1983"
   ]
  },
  {
   "cell_type": "markdown",
   "id": "a0785e92-823d-4276-8a75-a7f256d9be7e",
   "metadata": {},
   "source": [
    "3. In the years list, which year were you the oldest?"
   ]
  },
  {
   "cell_type": "code",
   "execution_count": 3,
   "id": "4dbf7e3d-32d5-49c1-88a7-41b52df66b22",
   "metadata": {},
   "outputs": [
    {
     "data": {
      "text/plain": [
       "1985"
      ]
     },
     "execution_count": 3,
     "metadata": {},
     "output_type": "execute_result"
    }
   ],
   "source": [
    "1985"
   ]
  },
  {
   "cell_type": "markdown",
   "id": "10c7b48e-665c-4272-a6bd-27de256749d8",
   "metadata": {},
   "source": [
    "4. Make a list called things with these three strings as elements: \"mozzarella\", \"cinderella\", \"salmonella\"."
   ]
  },
  {
   "cell_type": "code",
   "execution_count": 4,
   "id": "c090defb-c622-46da-8b37-3cd4fc3de1cb",
   "metadata": {},
   "outputs": [],
   "source": [
    "things =[\"mozzarella\", \"cinderella\", \"salmonella\"]"
   ]
  },
  {
   "cell_type": "markdown",
   "id": "5f3643ab-f68e-4816-bdac-6db5b1d4343b",
   "metadata": {},
   "source": [
    "5. Capitalize the element in things that refers to a person and then print the list. Did it change the element in the list?"
   ]
  },
  {
   "cell_type": "code",
   "execution_count": 5,
   "id": "7cbb534a-fbf0-4ff6-9ccd-f8b67a2df2a3",
   "metadata": {},
   "outputs": [
    {
     "name": "stdout",
     "output_type": "stream",
     "text": [
      "['mozzarella', 'Cinderella', 'Salmonella']\n"
     ]
    },
    {
     "data": {
      "text/plain": [
       "'yes'"
      ]
     },
     "execution_count": 5,
     "metadata": {},
     "output_type": "execute_result"
    }
   ],
   "source": [
    "things[1]=things[1].capitalize()\n",
    "things[2]=things[2].capitalize()\n",
    "print(things)\n",
    "\n",
    "\"yes\""
   ]
  },
  {
   "cell_type": "markdown",
   "id": "7417db32-678c-4840-b550-bef992893112",
   "metadata": {},
   "source": [
    "6. Make a surprise list with the elements \"Groucho,\" \"Chico,\" and \"Harpo.\""
   ]
  },
  {
   "cell_type": "code",
   "execution_count": 6,
   "id": "27ec70b1-f5dc-40b2-96e3-e0ec3086dc66",
   "metadata": {},
   "outputs": [],
   "source": [
    " surprise=[\"Groucho,\" \"Chico,\" , \"Harpo.\"]"
   ]
  },
  {
   "cell_type": "markdown",
   "id": "1f28581d-7b2a-411c-8aae-4162b21f37a4",
   "metadata": {},
   "source": [
    "7. Lowercase the last element of the surprise list, reverse it, and then capitalize it."
   ]
  },
  {
   "cell_type": "code",
   "execution_count": 7,
   "id": "3f1cd87f-e91b-4405-9868-ca48afe9778f",
   "metadata": {},
   "outputs": [],
   "source": [
    "surprise[-1]=surprise[-1].lower()\n",
    "surprise[-1]=surprise[-1][::-1]\n",
    "surprise[-1]=surprise[-1].capitalize()"
   ]
  },
  {
   "cell_type": "code",
   "execution_count": 8,
   "id": "5e8891ba-c8e5-4db7-9086-58f68979ad3a",
   "metadata": {},
   "outputs": [
    {
     "name": "stdout",
     "output_type": "stream",
     "text": [
      ".oprah\n"
     ]
    }
   ],
   "source": [
    "print(surprise[-1])"
   ]
  },
  {
   "cell_type": "markdown",
   "id": "e927a192-bb31-4f5d-b1cf-b1e9e529f5d1",
   "metadata": {},
   "source": [
    "8. Make an English-to-French dictionary called e2f and print it. Here are your starter words: dog is chien, cat is chat, and walrus is morse.\n"
   ]
  },
  {
   "cell_type": "code",
   "execution_count": 11,
   "id": "525c7895-bf72-46af-a329-8c0bd6d5eb91",
   "metadata": {},
   "outputs": [
    {
     "name": "stdin",
     "output_type": "stream",
     "text": [
      "number_of_inputs:  3\n",
      "enter Englis word and french meaning:  dog chien\n",
      "enter Englis word and french meaning:  cat chat\n",
      "enter Englis word and french meaning:  walrus morse\n"
     ]
    },
    {
     "name": "stdout",
     "output_type": "stream",
     "text": [
      "{'dog': 'chien', 'cat': 'chat', 'walrus': 'morse'}\n"
     ]
    }
   ],
   "source": [
    "e2f={}\n",
    "number_of_inputs=int(input(\"number_of_inputs: \"))\n",
    "List=[]\n",
    "for _ in range(number_of_inputs):\n",
    "    key,value=input(\"enter Englis word and french meaning: \").split()\n",
    "    List.append((key,value))\n",
    "e2f.update(List)\n",
    "print(e2f)\n",
    "e2f={'dog': 'chien', 'cat': 'chat', 'walrus': 'morse'}"
   ]
  },
  {
   "cell_type": "markdown",
   "id": "2c5577c3-daf0-4d74-aa61-98cc95dfbbbf",
   "metadata": {},
   "source": [
    "9. Write the French word for walrus in your three-word dictionary e2f.\n"
   ]
  },
  {
   "cell_type": "code",
   "execution_count": null,
   "id": "4224ca65-8296-49fc-92fe-30bc2c772bdb",
   "metadata": {},
   "outputs": [],
   "source": [
    "sear_dic=input(\"Enter the word: \")\n",
    "print(e2f[sear_dic])"
   ]
  },
  {
   "cell_type": "markdown",
   "id": "4608ffb5-def2-4fd3-91f2-1cb574ac5665",
   "metadata": {},
   "source": [
    "10. Make a French-to-English dictionary called f2e from e2f. Use the items method.\n"
   ]
  },
  {
   "cell_type": "code",
   "execution_count": null,
   "id": "1be5cdd1-4798-481b-ac77-83ba49e113a0",
   "metadata": {},
   "outputs": [],
   "source": [
    "f2e={}\n",
    "for key,val in e2f.items():\n",
    "    f2e[val]=key\n",
    "print(f2e)"
   ]
  },
  {
   "cell_type": "markdown",
   "id": "0e2d85c2-9984-49c8-b311-dd5c9136f858",
   "metadata": {},
   "source": [
    "11. Print the English version of the French word chien using f2e.\n"
   ]
  },
  {
   "cell_type": "code",
   "execution_count": null,
   "id": "fb2a1dea-3c8c-42dc-b81a-9718f38c231c",
   "metadata": {},
   "outputs": [],
   "source": [
    "sear_dic=input(\"Enter the word: \")\n",
    "print(f2e[sear_dic])"
   ]
  },
  {
   "cell_type": "markdown",
   "id": "6638781b-46d9-4078-a961-fa5b0833d420",
   "metadata": {},
   "source": [
    "12. Make and print a set of English words from the keys in e2f.\n"
   ]
  },
  {
   "cell_type": "code",
   "execution_count": null,
   "id": "f2d03823-0bee-43ed-b3b7-857fc2c27ea6",
   "metadata": {},
   "outputs": [],
   "source": [
    "print(set(e2f.keys()))"
   ]
  },
  {
   "cell_type": "markdown",
   "id": "30f3d7a3-b148-461d-bed8-15ea172c9319",
   "metadata": {},
   "source": [
    "13. Make a multilevel dictionary called life. Use these strings for the topmost keys: 'animals', 'plants', and 'other'. Make the 'animals' key refer to another dictionary with the keys 'cats', 'octopi', and 'emus'. Make the 'cats' key refer to a list of strings with the values 'Henri', 'Grumpy', and 'Lucy'. Make all the other keys refer to empty dictionaries.\n"
   ]
  },
  {
   "cell_type": "code",
   "execution_count": null,
   "id": "dfec5598-39a9-4424-baa0-261376431beb",
   "metadata": {},
   "outputs": [],
   "source": [
    "life={'animals':{'cats':['Henri', 'Grumpy', 'Lucy'], 'octopi':{}, 'emus':{}}, 'plants':{},  'other':{}}"
   ]
  },
  {
   "cell_type": "markdown",
   "id": "eb56074b-3e01-4e8e-acf4-39fa89a813d3",
   "metadata": {},
   "source": [
    "14. Print the top-level keys of life.\n"
   ]
  },
  {
   "cell_type": "code",
   "execution_count": null,
   "id": "81fa58c6-3b24-4d1b-b266-a6bfdaea6528",
   "metadata": {},
   "outputs": [],
   "source": [
    "print(life.keys())"
   ]
  },
  {
   "cell_type": "markdown",
   "id": "e5c5871f-748b-4ee9-85bc-93faee7ec459",
   "metadata": {},
   "source": [
    "15. Print the keys for life['animals'].\n"
   ]
  },
  {
   "cell_type": "code",
   "execution_count": null,
   "id": "2da587bc-15aa-455d-9ecf-4e0ca6d6f737",
   "metadata": {},
   "outputs": [],
   "source": [
    "print(life['animals'].keys())"
   ]
  },
  {
   "cell_type": "markdown",
   "id": "ce67fd11-135f-4aa5-85c6-2879203642d0",
   "metadata": {},
   "source": [
    "16. Print the values for life['animals']['cats']"
   ]
  },
  {
   "cell_type": "code",
   "execution_count": null,
   "id": "526da2e4-0bee-4116-8233-73739dc93a51",
   "metadata": {},
   "outputs": [],
   "source": [
    "print(life['animals']['cats'].values())"
   ]
  },
  {
   "cell_type": "code",
   "execution_count": null,
   "id": "ef46efc1-73e2-4344-85ac-2caaecf9b3c6",
   "metadata": {},
   "outputs": [],
   "source": []
  },
  {
   "cell_type": "code",
   "execution_count": null,
   "id": "d8c78478-0666-4310-bcf8-44e17ac808d2",
   "metadata": {},
   "outputs": [],
   "source": []
  }
 ],
 "metadata": {
  "kernelspec": {
   "display_name": "Python 3 (ipykernel)",
   "language": "python",
   "name": "python3"
  },
  "language_info": {
   "codemirror_mode": {
    "name": "ipython",
    "version": 3
   },
   "file_extension": ".py",
   "mimetype": "text/x-python",
   "name": "python",
   "nbconvert_exporter": "python",
   "pygments_lexer": "ipython3",
   "version": "3.10.6"
  }
 },
 "nbformat": 4,
 "nbformat_minor": 5
}
