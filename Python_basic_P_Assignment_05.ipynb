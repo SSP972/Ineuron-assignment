{
  "nbformat": 4,
  "nbformat_minor": 0,
  "metadata": {
    "colab": {
      "provenance": []
    },
    "kernelspec": {
      "name": "python3",
      "display_name": "Python 3"
    },
    "language_info": {
      "name": "python"
    }
  },
  "cells": [
    {
      "cell_type": "code",
      "execution_count": null,
      "metadata": {
        "id": "rCaF7Y0yOvIy"
      },
      "outputs": [],
      "source": [
        "# 1. Write a Python Program to Display Fibonacci Sequence Using Recursion?\n",
        "# 2. Write a Python Program to Find Factorial of Number Using Recursion?\n",
        "# 3. Write a Python Program to calculate your Body Mass Index?\n",
        "# 4. Write a Python Program to calculate the natural logarithm of any number?\n",
        "# 5. Write a Python Program for cube sum of first n natural numbers?"
      ]
    },
    {
      "cell_type": "code",
      "source": [
        "def fib(l,a=0,b=1):\n",
        "  '''fib (length of the fibonacci input as any possitive interger, starts from 0 , second digit set to 1 )\n",
        "  example:\n",
        "      input: fib(10)\n",
        "      output: 0 1 1 2 3 5 8 13 21 54  '''\n",
        "  if l==1:\n",
        "    return 0 \n",
        "  print(a,end=\" \")\n",
        "  return a + (fib(l-1,b,a+b))"
      ],
      "metadata": {
        "id": "VESoF0OtrFfn"
      },
      "execution_count": 8,
      "outputs": []
    },
    {
      "cell_type": "code",
      "source": [
        "fib(10)"
      ],
      "metadata": {
        "colab": {
          "base_uri": "https://localhost:8080/"
        },
        "id": "fl14nmcsrMSe",
        "outputId": "014c4966-0dae-468e-ad9d-acd9418f8e56"
      },
      "execution_count": 9,
      "outputs": [
        {
          "output_type": "stream",
          "name": "stdout",
          "text": [
            "0 1 1 2 3 5 8 13 21 "
          ]
        },
        {
          "output_type": "execute_result",
          "data": {
            "text/plain": [
              "54"
            ]
          },
          "metadata": {},
          "execution_count": 9
        }
      ]
    },
    {
      "cell_type": "code",
      "source": [
        "def fact(n):\n",
        "  if n==1:\n",
        "    return n\n",
        "  else:\n",
        "    return n*(fact(n-1))"
      ],
      "metadata": {
        "id": "qsbFO3WJrFuk"
      },
      "execution_count": 10,
      "outputs": []
    },
    {
      "cell_type": "code",
      "source": [
        "fact(15)"
      ],
      "metadata": {
        "colab": {
          "base_uri": "https://localhost:8080/"
        },
        "id": "_MOMfPT4rFz_",
        "outputId": "f021a411-675b-4f6f-a382-22d0e485f630"
      },
      "execution_count": 11,
      "outputs": [
        {
          "output_type": "execute_result",
          "data": {
            "text/plain": [
              "1307674368000"
            ]
          },
          "metadata": {},
          "execution_count": 11
        }
      ]
    },
    {
      "cell_type": "code",
      "source": [
        "def BMI(height=float(),weight=float()):\n",
        "  \"\"\" BMI (enter height in meters , weight in kilogram)\"\"\"\n",
        "  return f\"your Body Mass index is: {weight/(height**2)}\"\n",
        "BMI(1.3,100)\n"
      ],
      "metadata": {
        "colab": {
          "base_uri": "https://localhost:8080/",
          "height": 35
        },
        "id": "T4e_w46irq80",
        "outputId": "2b0556be-cd20-4358-abe8-d7938767b005"
      },
      "execution_count": 12,
      "outputs": [
        {
          "output_type": "execute_result",
          "data": {
            "text/plain": [
              "'your Body Mass index is: 59.17159763313609'"
            ],
            "application/vnd.google.colaboratory.intrinsic+json": {
              "type": "string"
            }
          },
          "metadata": {},
          "execution_count": 12
        }
      ]
    },
    {
      "cell_type": "code",
      "source": [
        "import math\n",
        "a = int(input(\"Enter the number for it's natural log value: \"))\n",
        "print(round(math.log(a), ndigits=3))"
      ],
      "metadata": {
        "colab": {
          "base_uri": "https://localhost:8080/"
        },
        "id": "VT7Lr0ILgiy4",
        "outputId": "82b3173c-a996-47ba-f3ef-498b204367cc"
      },
      "execution_count": 4,
      "outputs": [
        {
          "output_type": "stream",
          "name": "stdout",
          "text": [
            "Enter the number for it's natural log value: 200\n",
            "5.298\n"
          ]
        }
      ]
    },
    {
      "cell_type": "code",
      "source": [
        "def sum_natural_num(n):\n",
        "  \"\"\"enter any positive number to get sum of all natural number till given number\n",
        "  input: sum_natural_num(4)\n",
        "  output: 10\"\"\" \n",
        "  if n < 0:\n",
        "     return \"Enter a positive number\"\n",
        "  else:\n",
        "    sum = 0\n",
        "    while(n > 0):\n",
        "        sum +=n**3\n",
        "        n-=1\n",
        "    \n",
        "  return sum"
      ],
      "metadata": {
        "id": "Fe53gqItrF6-"
      },
      "execution_count": 5,
      "outputs": []
    },
    {
      "cell_type": "code",
      "source": [
        "sum_natural_num(4)"
      ],
      "metadata": {
        "colab": {
          "base_uri": "https://localhost:8080/"
        },
        "id": "WQd_fzqIgdRB",
        "outputId": "27d0fdde-e7e3-49ed-e086-c5295edfe653"
      },
      "execution_count": 7,
      "outputs": [
        {
          "output_type": "execute_result",
          "data": {
            "text/plain": [
              "100"
            ]
          },
          "metadata": {},
          "execution_count": 7
        }
      ]
    }
  ]
}