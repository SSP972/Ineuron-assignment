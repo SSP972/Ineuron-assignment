{
  "nbformat": 4,
  "nbformat_minor": 0,
  "metadata": {
    "colab": {
      "provenance": []
    },
    "kernelspec": {
      "name": "python3",
      "display_name": "Python 3"
    },
    "language_info": {
      "name": "python"
    }
  },
  "cells": [
    {
      "cell_type": "code",
      "execution_count": null,
      "metadata": {
        "id": "2GhUBiUR5tMH"
      },
      "outputs": [],
      "source": [
        "1. Write a Python program to convert kilometers to miles?\n",
        "2. Write a Python program to convert Celsius to Fahrenheit?\n",
        "3. Write a Python program to display calendar?\n",
        "4. Write a Python program to solve quadratic equation?\n",
        "5. Write a Python program to swap two variables without temp variable?"
      ]
    },
    {
      "cell_type": "code",
      "source": [
        "a= input(\"Enter the value in Km: \")\n",
        "print(f\"Convertion of {a}Km = {float(a)*0.621371}miles \")"
      ],
      "metadata": {
        "colab": {
          "base_uri": "https://localhost:8080/"
        },
        "id": "ao7edevv6BrP",
        "outputId": "935d50f7-6b90-44d4-d24b-470df11414ed"
      },
      "execution_count": 5,
      "outputs": [
        {
          "output_type": "stream",
          "name": "stdout",
          "text": [
            "Enter the value in Km: 5\n",
            "Convertion of 5Km = 3.106855miles \n"
          ]
        }
      ]
    },
    {
      "cell_type": "code",
      "source": [
        "a= input(\"Enter the temperature in celsius: \")\n",
        "print(f\"Convertion of {a}°C = {float(a)*32}°F \")"
      ],
      "metadata": {
        "colab": {
          "base_uri": "https://localhost:8080/"
        },
        "id": "GwPhCm0L6Bt2",
        "outputId": "210f414b-acbb-4a25-8ddb-5bfec4f1d17a"
      },
      "execution_count": 6,
      "outputs": [
        {
          "output_type": "stream",
          "name": "stdout",
          "text": [
            "Enter the temperature in celsius: 100\n",
            "Convertion of 100°C = 3200.0°F \n"
          ]
        }
      ]
    },
    {
      "cell_type": "code",
      "source": [
        "import calendar\n",
        "y = int(input(\"Enter year: \"))\n",
        "m = int(input(\"Enter month(example 03 for march): \"))\n",
        "print(calendar.month(y,m))"
      ],
      "metadata": {
        "colab": {
          "base_uri": "https://localhost:8080/"
        },
        "id": "P4dvJTKz6Bwz",
        "outputId": "39192fa6-30a1-42aa-af21-ce51fe976bb1"
      },
      "execution_count": 4,
      "outputs": [
        {
          "output_type": "stream",
          "name": "stdout",
          "text": [
            "Enter year: 2022\n",
            "Enter month(example 03 for march): 10\n",
            "    October 2022\n",
            "Mo Tu We Th Fr Sa Su\n",
            "                1  2\n",
            " 3  4  5  6  7  8  9\n",
            "10 11 12 13 14 15 16\n",
            "17 18 19 20 21 22 23\n",
            "24 25 26 27 28 29 30\n",
            "31\n",
            "\n"
          ]
        }
      ]
    },
    {
      "cell_type": "code",
      "source": [
        "A= int(input(\"To solve Ax^2+Bx+C Enter the value of A:\"))\n",
        "B= int(input(\"To solve Ax^2+Bx+C Enter the value of B:\"))\n",
        "C= int(input(\"To solve Ax^2+Bx+C Enter the value of C:\"))\n",
        "x= int(input(\"To solve Ax^2+Bx+C Enter the value of x:\"))\n",
        "d= A*x**2+B*x+C\n",
        "print(f\"{A}x^2+{B}x+{C} for x={x} is {d}\")"
      ],
      "metadata": {
        "colab": {
          "base_uri": "https://localhost:8080/"
        },
        "id": "2_WVHPGv6BzE",
        "outputId": "d486b9d5-a904-431c-df80-0b06d8bcb791"
      },
      "execution_count": 3,
      "outputs": [
        {
          "output_type": "stream",
          "name": "stdout",
          "text": [
            "To solve Ax^2+Bx+C Enter the value of A:3\n",
            "To solve Ax^2+Bx+C Enter the value of B:5\n",
            "To solve Ax^2+Bx+C Enter the value of C:6\n",
            "To solve Ax^2+Bx+C Enter the value of x:2\n",
            "3x^2+5x+6 for x=2 is 28\n"
          ]
        }
      ]
    },
    {
      "cell_type": "code",
      "source": [
        "a= 19 \n",
        "b =10\n",
        "a,b=b,a\n",
        "print(a,b)"
      ],
      "metadata": {
        "colab": {
          "base_uri": "https://localhost:8080/"
        },
        "id": "jKx_D3ZC6B4G",
        "outputId": "9c37a288-c425-4ac9-a1bb-05b26f076153"
      },
      "execution_count": 7,
      "outputs": [
        {
          "output_type": "stream",
          "name": "stdout",
          "text": [
            "10 19\n"
          ]
        }
      ]
    }
  ]
}