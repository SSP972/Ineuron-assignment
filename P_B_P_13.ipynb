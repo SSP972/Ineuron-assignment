{
 "cells": [
  {
   "cell_type": "markdown",
   "id": "e59e5162-1017-4749-bb80-5e563433e871",
   "metadata": {},
   "source": [
    "# Question 1:"
   ]
  },
  {
   "cell_type": "raw",
   "id": "55486049-4fa1-4de3-9ee9-e7b3169cde4d",
   "metadata": {},
   "source": [
    "\n",
    "Write a program that calculates and prints the value according to the given formula:\n",
    "Q = Square root of [(2 * C * D)/H]\n",
    "Following are the fixed values of C and H:\n",
    "C is 50. H is 30.\n",
    "D is the variable whose values should be input to your program in a comma-separated\n",
    "sequence.\n",
    "Example\n",
    "Let us assume the following comma separated input sequence is given to the program:\n",
    "100,150,180\n",
    "The output of the program should be:\n",
    "18,22,24\n",
    "\n"
   ]
  },
  {
   "cell_type": "code",
   "execution_count": 1,
   "id": "b56abf51-f2d7-4e3a-a910-d19a1081b23e",
   "metadata": {},
   "outputs": [
    {
     "data": {
      "text/plain": [
       "[18, 22, 24]"
      ]
     },
     "execution_count": 1,
     "metadata": {},
     "output_type": "execute_result"
    }
   ],
   "source": [
    "import math \n",
    "def formala_cal(*D):\n",
    "    \"\"\"Q = Square root of [(2 * C * D)/H]\n",
    "Following are the fixed values of C and H:\n",
    "C is 50. H is 30.\n",
    "D is the variable whose values should be input to your program in a comma-separated\n",
    "sequence.\"\"\"\n",
    "    C=50\n",
    "    H=30\n",
    "    List_Q=[ round(math.sqrt((2 * C * i)/H)) for i in D if isinstance(i,int)]\n",
    "    return List_Q\n",
    "formala_cal(100,150,180,'abcd')"
   ]
  },
  {
   "cell_type": "markdown",
   "id": "b8182c62-bcf3-4bf8-9cdc-0ccdf6dfb169",
   "metadata": {},
   "source": [
    "# Question 2:"
   ]
  },
  {
   "cell_type": "raw",
   "id": "ca98fe38-cbf8-413a-9bc1-2e4411fe501e",
   "metadata": {},
   "source": [
    "\n",
    "Write a program which takes 2 digits, X,Y as input and generates a 2-dimensional array. The\n",
    "element value in the i-th row and j-th column of the array should be i*j.\n",
    "Note: i=0,1.., X-1; j=0,1,¡Y-1.\n",
    "Example\n",
    "Suppose the following inputs are given to the program:\n",
    "3,5\n",
    "Then, the output of the program should be:\n",
    "[[0, 0, 0, 0, 0], [0, 1, 2, 3, 4], [0, 2, 4, 6, 8]]"
   ]
  },
  {
   "cell_type": "code",
   "execution_count": 6,
   "id": "38cd5443-62ba-4bd0-ae4a-7480072a2f11",
   "metadata": {},
   "outputs": [
    {
     "data": {
      "text/plain": [
       "array([[ 0.,  0.,  0.,  0.,  0.],\n",
       "       [ 0.,  1.,  2.,  3.,  4.],\n",
       "       [ 0.,  2.,  4.,  6.,  8.],\n",
       "       [ 0.,  3.,  6.,  9., 12.],\n",
       "       [ 0.,  4.,  8., 12., 16.]])"
      ]
     },
     "execution_count": 6,
     "metadata": {},
     "output_type": "execute_result"
    }
   ],
   "source": [
    "import numpy as np\n",
    "def required_array(X,Y):\n",
    "    arr=np.ones((X,Y))\n",
    "    for i,r in enumerate(arr):\n",
    "        for j,ele in enumerate(r):\n",
    "            arr[i][j]=i*j\n",
    "    return arr\n",
    "required_array(5,5)    "
   ]
  },
  {
   "cell_type": "markdown",
   "id": "b07d62c0-480f-40c1-857d-aea2f7757e2b",
   "metadata": {},
   "source": [
    "# Question 3:"
   ]
  },
  {
   "cell_type": "raw",
   "id": "d61028fe-4a3d-4f98-8d9e-08ddcc6d5df4",
   "metadata": {},
   "source": [
    "\n",
    "Write a program that accepts a comma separated sequence of words as input and prints the\n",
    "words in a comma-separated sequence after sorting them alphabetically.\n",
    "Suppose the following input is supplied to the program:\n",
    "without,hello,bag,world\n",
    "Then, the output should be:\n",
    "bag,hello,without,world\n",
    "\n",
    "\n",
    "\n"
   ]
  },
  {
   "cell_type": "code",
   "execution_count": 18,
   "id": "7390e589-1b3e-4ff0-95d9-4dc4df9e98fd",
   "metadata": {},
   "outputs": [
    {
     "name": "stdout",
     "output_type": "stream",
     "text": [
      "Input ('without', 'hello', 'bag', 'world')\n"
     ]
    },
    {
     "data": {
      "text/plain": [
       "\"output: ['bag', 'hello', 'without', 'world']\""
      ]
     },
     "execution_count": 18,
     "metadata": {},
     "output_type": "execute_result"
    }
   ],
   "source": [
    "def sort_list(*words):\n",
    "    print(\"Input\", words)\n",
    "    words=list(words)\n",
    "    words.sort()\n",
    "    return f\"output: {words}\"\n",
    "sort_list('without','hello','bag','world')"
   ]
  },
  {
   "cell_type": "markdown",
   "id": "cd0efaf0-70fa-43b2-8e9a-bf4edccd5aab",
   "metadata": {},
   "source": [
    "# Question 4:"
   ]
  },
  {
   "cell_type": "raw",
   "id": "a41ab438-cb23-4ebd-85ad-a9e2ef6d7a89",
   "metadata": {},
   "source": [
    "Write a program that accepts a sequence of whitespace separated words as input and prints\n",
    "the words after removing all duplicate words and sorting them alphanumerically.\n",
    "Suppose the following input is supplied to the program:\n",
    "hello world and practice makes perfect and hello world again\n",
    "Then, the output should be:\n",
    "again and hello makes perfect practice world"
   ]
  },
  {
   "cell_type": "code",
   "execution_count": 22,
   "id": "abdc99b7-7f2b-42b1-8c8f-f2609e56e08d",
   "metadata": {},
   "outputs": [
    {
     "name": "stdout",
     "output_type": "stream",
     "text": [
      "{'practice', 'perfect', 'hello', 'and', 'again', 'makes', 'world'}\n",
      "again and hello makes perfect practice world\n"
     ]
    }
   ],
   "source": [
    "sentence= \"hello world and practice makes perfect and hello world again\"\n",
    "sentence_list = sentence.split()\n",
    "sen_set=set(sentence_list)\n",
    "sentence_list=list(sen_set)\n",
    "sentence_list.sort()\n",
    "sentence= \" \".join(sentence_list)\n",
    "print(sentence)"
   ]
  },
  {
   "cell_type": "markdown",
   "id": "310884cb-8e2f-4035-84e8-437cbbff2198",
   "metadata": {},
   "source": [
    "# Question 5:"
   ]
  },
  {
   "cell_type": "raw",
   "id": "c0c50776-98f8-4794-98ea-be85ede3b47e",
   "metadata": {},
   "source": [
    "\n",
    "Write a program that accepts a sentence and calculate the number of letters and digits.\n",
    "Suppose the following input is supplied to the program:\n",
    "hello world! 123\n",
    "Then, the output should be:\n",
    "LETTERS 10\n",
    "\n",
    "DIGITS 3\n",
    "\n"
   ]
  },
  {
   "cell_type": "code",
   "execution_count": 24,
   "id": "96584ad8-94d7-4ba1-902b-6e508a244f28",
   "metadata": {},
   "outputs": [
    {
     "name": "stdin",
     "output_type": "stream",
     "text": [
      "Enter sentence with alpha numeric values:  \"hello world! 123\"\n"
     ]
    },
    {
     "name": "stdout",
     "output_type": "stream",
     "text": [
      "\n",
      "LETTERS 10\n",
      "\n",
      "DIGITS 3\n",
      "\n",
      "\n"
     ]
    }
   ],
   "source": [
    "Input=input(\"Enter sentence with alpha numeric values: \")\n",
    "count_let,count_dig=0,0\n",
    "for i in Input:\n",
    "    if i.isalpha():\n",
    "        count_let+=1\n",
    "    if i.isnumeric():\n",
    "        count_dig+=1\n",
    "print(f\"\"\"\n",
    "LETTERS {count_let}\n",
    "\n",
    "DIGITS {count_dig}\n",
    "\n",
    "\"\"\")"
   ]
  },
  {
   "cell_type": "markdown",
   "id": "518867fb-8006-4b02-bec0-acebfe95b270",
   "metadata": {},
   "source": [
    "# Question 6:"
   ]
  },
  {
   "cell_type": "raw",
   "id": "84dc7c54-38bf-45db-b1da-095cd8455400",
   "metadata": {},
   "source": [
    "\n",
    "A website requires the users to input username and password to register. Write a program to\n",
    "check the validity of password input by users.\n",
    "Following are the criteria for checking the password:\n",
    "1. At least 1 letter between [a-z]\n",
    "2. At least 1 number between [0-9]\n",
    "1. At least 1 letter between [A-Z]\n",
    "3. At least 1 character from [$#@]\n",
    "4. Minimum length of transaction password: 6\n",
    "5. Maximum length of transaction password: 12\n",
    "Your program should accept a sequence of comma separated passwords and will check them\n",
    "according to the above criteria. Passwords that match the criteria are to be printed, each\n",
    "separated by a comma.\n",
    "Example\n",
    "If the following passwords are given as input to the program:\n",
    "ABd1234@1,a F1#,2w3E*,2We3345\n",
    "Then, the output of the program should be:\n",
    "ABd1234@1"
   ]
  },
  {
   "cell_type": "code",
   "execution_count": 1,
   "id": "e496d1c9-4632-4175-87eb-aace7b8e9f4c",
   "metadata": {},
   "outputs": [
    {
     "data": {
      "text/plain": [
       "'ABd1234@1'"
      ]
     },
     "execution_count": 1,
     "metadata": {},
     "output_type": "execute_result"
    }
   ],
   "source": [
    "import re\n",
    "def check_passowrd(*pas):\n",
    "    for i in pas:\n",
    "        \n",
    "        pattern = \"^.*(?=.{6,12})(?=.*\\d)(?=.*[a-z])(?=.*[A-Z])(?=.*[@#$%^&+=]).*$\"\n",
    "        password = i\n",
    "        result = re.findall(pattern, password)\n",
    "        if (result):\n",
    "            return password\n",
    "    else:\n",
    "        return \"null\"\n",
    "check_passowrd(\"ABd1234@1\",\"a F1#,2w3E*\",\"2We3345\")"
   ]
  },
  {
   "cell_type": "code",
   "execution_count": 2,
   "id": "e869eedd-0b5b-415c-aa28-8079e37cad0e",
   "metadata": {},
   "outputs": [
    {
     "name": "stdout",
     "output_type": "stream",
     "text": [
      "None\n"
     ]
    }
   ],
   "source": [
    "a='ABd1234@1'\n",
    "print(re.fullmatch(r'[a-z 0-9 A-Z ]{6-12}',a))"
   ]
  },
  {
   "cell_type": "code",
   "execution_count": 3,
   "id": "adea002a-ce04-4ddb-af2f-d5e9f53ea8a2",
   "metadata": {},
   "outputs": [
    {
     "name": "stdout",
     "output_type": "stream",
     "text": [
      "True\n"
     ]
    }
   ],
   "source": [
    "if re.fullmatch(r'[A-Za-z0-9@#$%^&+=]{8,}', a):\n",
    "     print(True)\n",
    "else:\n",
    "    print(False)"
   ]
  },
  {
   "cell_type": "code",
   "execution_count": 4,
   "id": "39db3100-607a-4eae-adc6-49b5e8a2778f",
   "metadata": {},
   "outputs": [
    {
     "name": "stdout",
     "output_type": "stream",
     "text": [
      "True\n"
     ]
    }
   ],
   "source": [
    "p=\"^.*(?=.{6,12})(?=.*\\d)(?=.*[a-z])(?=.*[A-Z])(?=.*[$#@]).*$\"\n",
    "if re.fullmatch(p, a):\n",
    "     print(True)\n",
    "else:\n",
    "    print(False)"
   ]
  },
  {
   "cell_type": "code",
   "execution_count": null,
   "id": "8f28264c-f7a6-40f2-a44d-ad0717eeb0f8",
   "metadata": {},
   "outputs": [],
   "source": []
  }
 ],
 "metadata": {
  "kernelspec": {
   "display_name": "Python 3 (ipykernel)",
   "language": "python",
   "name": "python3"
  },
  "language_info": {
   "codemirror_mode": {
    "name": "ipython",
    "version": 3
   },
   "file_extension": ".py",
   "mimetype": "text/x-python",
   "name": "python",
   "nbconvert_exporter": "python",
   "pygments_lexer": "ipython3",
   "version": "3.10.6"
  }
 },
 "nbformat": 4,
 "nbformat_minor": 5
}
