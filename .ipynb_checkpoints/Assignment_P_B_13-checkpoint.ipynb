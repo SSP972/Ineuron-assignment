{
 "cells": [
  {
   "cell_type": "markdown",
   "id": "9861813c-e396-4c35-b03a-840ea8667c8f",
   "metadata": {},
   "source": [
    "1. What advantages do Excel spreadsheets have over CSV spreadsheets?"
   ]
  },
  {
   "cell_type": "code",
   "execution_count": null,
   "id": "ec1f5e9c-daaa-4548-a910-8a80d6c684f5",
   "metadata": {},
   "outputs": [],
   "source": [
    "xls file data is stored in the form of birnary file format which can hold the style of the data, multiple worksheets , etc. \n",
    "while in csv data is stored in plain text format"
   ]
  },
  {
   "cell_type": "markdown",
   "id": "5d475d09-0f78-43f6-b920-24f0c64b1b4f",
   "metadata": {},
   "source": [
    "2. What do you pass to csv.reader() and csv.writer() to create reader and writer objects?"
   ]
  },
  {
   "cell_type": "code",
   "execution_count": null,
   "id": "bf4d357f-1285-43a8-ab05-586691d564a6",
   "metadata": {},
   "outputs": [],
   "source": [
    "by calling open() function then we will call csv.reader()or csv.writer()"
   ]
  },
  {
   "cell_type": "markdown",
   "id": "befea05e-e43f-4ac2-8b7c-6e79db3d3f36",
   "metadata": {},
   "source": [
    "3. What modes do File objects for reader and writer objects need to be opened in?"
   ]
  },
  {
   "cell_type": "code",
   "execution_count": null,
   "id": "dda4ddfd-41bc-4d1d-92b4-fb098189da2b",
   "metadata": {},
   "outputs": [],
   "source": [
    "mode=\"r\" for read\n",
    "mode=\"w\" for write"
   ]
  },
  {
   "cell_type": "markdown",
   "id": "8d11c904-801d-4d6d-934c-dd126cce9b8b",
   "metadata": {},
   "source": [
    "4. What method takes a list argument and writes it to a CSV file?"
   ]
  },
  {
   "cell_type": "code",
   "execution_count": 4,
   "id": "37d5bb57-1071-4151-ae0e-22037320ca64",
   "metadata": {},
   "outputs": [
    {
     "name": "stdout",
     "output_type": "stream",
     "text": [
      "[['a', '1', '2', '3', '4', '56', '78', '9', '324']]\n"
     ]
    }
   ],
   "source": [
    "import csv\n",
    "a = open(\"a.csv\",\"w\")\n",
    "a_writer = csv.writer(a)\n",
    "a_writer.writerow([\"a\",1,2,3,4,56,78,9,324])\n",
    "a.close()\n",
    "a_read= open(\"a.csv\",\"r\")\n",
    "a_reader= csv.reader(a_read)\n",
    "print(list(a_reader))"
   ]
  },
  {
   "cell_type": "markdown",
   "id": "1507135f-f24a-4a40-81b6-214156ccad5c",
   "metadata": {},
   "source": [
    "5. What do the keyword arguments delimiter and line terminator do?"
   ]
  },
  {
   "cell_type": "code",
   "execution_count": null,
   "id": "6bb966f4-8397-4189-ab00-1be2b805515b",
   "metadata": {},
   "outputs": [],
   "source": [
    "with  the help of delimiter we can change the default seperator \n",
    "and with terminator we can change the default terminator to our own specific term"
   ]
  },
  {
   "cell_type": "markdown",
   "id": "a3f2e6ef-9eb5-42ca-993b-9855bd3038a9",
   "metadata": {},
   "source": [
    "6. What function takes a string of JSON data and returns a Python data structure?"
   ]
  },
  {
   "cell_type": "code",
   "execution_count": null,
   "id": "d09123ef-fef4-4550-8f97-0a161099771d",
   "metadata": {},
   "outputs": [],
   "source": [
    "json.load() will take the json file and give the dictionary as output"
   ]
  },
  {
   "cell_type": "markdown",
   "id": "4a201b5f-ae40-47ea-9b15-10f4550bbc81",
   "metadata": {},
   "source": [
    "\n",
    "7. What function takes a Python data structure and returns a string of JSON data?"
   ]
  },
  {
   "cell_type": "code",
   "execution_count": null,
   "id": "b71738b2-59a2-48c8-b862-207689c137e3",
   "metadata": {},
   "outputs": [],
   "source": [
    "json.dump(\"here input must be in format of dictionary\")"
   ]
  }
 ],
 "metadata": {
  "kernelspec": {
   "display_name": "Python 3 (ipykernel)",
   "language": "python",
   "name": "python3"
  },
  "language_info": {
   "codemirror_mode": {
    "name": "ipython",
    "version": 3
   },
   "file_extension": ".py",
   "mimetype": "text/x-python",
   "name": "python",
   "nbconvert_exporter": "python",
   "pygments_lexer": "ipython3",
   "version": "3.10.6"
  }
 },
 "nbformat": 4,
 "nbformat_minor": 5
}
