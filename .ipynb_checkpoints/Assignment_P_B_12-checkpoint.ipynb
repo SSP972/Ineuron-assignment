{
 "cells": [
  {
   "cell_type": "markdown",
   "id": "220fbea8-8826-4c9c-a514-5637906400f5",
   "metadata": {},
   "source": [
    "1. In what modes should the PdfFileReader() and PdfFileWriter() File objects will be opened?"
   ]
  },
  {
   "cell_type": "code",
   "execution_count": null,
   "id": "db2493b6-789d-4899-a9b7-ad3b0408ff78",
   "metadata": {},
   "outputs": [],
   "source": [
    "open(\"xyz.pdf\",\"rb\") for read pdf\n",
    "open(\"xyz.pdf\",\"wb\") for write pdf"
   ]
  },
  {
   "cell_type": "markdown",
   "id": "939603e2-3c98-40b0-a3e0-39e3d3fc04c5",
   "metadata": {},
   "source": [
    "2. From a PdfFileReader object, how do you get a Page object for page 5?"
   ]
  },
  {
   "cell_type": "code",
   "execution_count": 1,
   "id": "b90a53be-a94e-4734-92b8-9603b5e8ff97",
   "metadata": {},
   "outputs": [
    {
     "name": "stdout",
     "output_type": "stream",
     "text": [
      "Collecting pyPDF2\n",
      "  Downloading pypdf2-2.12.1-py3-none-any.whl (222 kB)\n",
      "\u001b[2K     \u001b[90m━━━━━━━━━━━━━━━━━━━━━━━━━━━━━━━━━━━━━━\u001b[0m \u001b[32m222.8/222.8 kB\u001b[0m \u001b[31m18.4 MB/s\u001b[0m eta \u001b[36m0:00:00\u001b[0m\n",
      "\u001b[?25hInstalling collected packages: pyPDF2\n",
      "Successfully installed pyPDF2-2.12.1\n",
      "SNAP\n",
      "6 Actual Paper-SNAP-2010-expansin 06 º 9.5 cr.\n",
      "\\ Percentage increase = 2.5\n",
      "7 × 100 » 36%\n",
      "For Dolonex\n",
      "in 05 º 6 cr.\n",
      "in 06 º 10 cr.\n",
      "\\ Percentage increase º 4\n",
      "6 × 100 = 67%\n",
      "For Sumo\n",
      "in 05 º 5 cr.\n",
      "in 06 º 7.5 cr.\n",
      "\\ Percentage increase = 2.5\n",
      "5 × 100 » 50%\n",
      "Percentage rise for Dolonex is highests.\n",
      "Hence, [c].\n",
      "23. For Voverem\n",
      "in 05 º 16 cr.\n",
      "in 06 º 23 cr.\n",
      "\\ Percentage increase = 7\n",
      "16 × 100 » 44%\n",
      "For Volini\n",
      "in 05 º 7 cr.\n",
      "in 06 º 9.5 cr.\n",
      "\\ Percentage increase = 1.5\n",
      "7 × 100 = 36%\n",
      "For Moov\n",
      "in 05 º 4 cr.\n",
      "in 06 º 5 cr.\n",
      "\\ Percentage increase = 1\n",
      "5 × 100 = 20%\n",
      "For Nice\n",
      "in 05 º 15 cr.\n",
      "in 06 º 17.5 cr.\n",
      "\\ Percentage increase = 2.5\n",
      "15 × 100 = 17%\n",
      "Percentage increase of nice is lowest.\n",
      "Hence, [c].\n",
      "24. From above percentage increase in sales of Voveron is 44% closest option is 45%. Hence, [c].\n",
      "25. From the given options, (a) is the best possible answer. Hence, [a].\n",
      "26. Number = 1\n",
      "2 × 1\n",
      "4 × 1\n",
      "10 × 400\n",
      "= 5\n",
      "Hence, [b].\n"
     ]
    }
   ],
   "source": [
    "!pip install pyPDF2\n",
    "import PyPDF2 as pdf\n",
    "a= open(\"a.pdf\",\"rb\")\n",
    "print(pdf.PdfFileReader(a).getPage(5).extractText())\n",
    "a.close()"
   ]
  },
  {
   "cell_type": "markdown",
   "id": "fca3ff3f-640e-49d5-9bbe-5a99fbe5b0df",
   "metadata": {},
   "source": [
    "3. What PdfFileReader variable stores the number of pages in the PDF document?"
   ]
  },
  {
   "cell_type": "code",
   "execution_count": null,
   "id": "d5590fc1-99ed-4912-a553-efb8d4612cf3",
   "metadata": {},
   "outputs": [],
   "source": [
    "pdf.PdfFileReader.numPages()\n",
    "\"numPages store the number of pages in pdf \"\n"
   ]
  },
  {
   "cell_type": "markdown",
   "id": "a251b7ad-bc11-4120-99a3-319ff56448b7",
   "metadata": {},
   "source": [
    "4. If a PdfFileReader object’s PDF is encrypted with the password swordfish, what must you do\n",
    "    before you can obtain Page objects from it?"
   ]
  },
  {
   "cell_type": "code",
   "execution_count": null,
   "id": "bee9aa3c-1780-4de8-8f75-2c067e291fdf",
   "metadata": {},
   "outputs": [],
   "source": [
    "pdf.PdfFileReader().decrypt(\"swordfish\") #decrypting pdf file with password \n",
    "pdf.PdfFileReader.numPages()"
   ]
  },
  {
   "cell_type": "markdown",
   "id": "c4da3831-ac21-455d-b6c4-ca741625d7c4",
   "metadata": {},
   "source": [
    "5. What methods do you use to rotate a page?"
   ]
  },
  {
   "cell_type": "code",
   "execution_count": null,
   "id": "e5442942-db1f-475a-8a15-190d94446f39",
   "metadata": {},
   "outputs": [],
   "source": [
    "pdf.PdfFileReader().getPage().rotate_clockwise()\n",
    "pdf.PdfFileReader().getPage().rotateCounterClockwise()"
   ]
  },
  {
   "cell_type": "markdown",
   "id": "8883d1a5-43d2-4ce3-bd5b-fe2ac0f25f63",
   "metadata": {},
   "source": [
    "6. What is the difference between a Run object and a Paragraph object?"
   ]
  },
  {
   "cell_type": "code",
   "execution_count": null,
   "id": "c34526f2-1a01-4e34-b53e-221aef4e4464",
   "metadata": {},
   "outputs": [],
   "source": [
    "run object can be added only to the end of paragraph\n",
    "while paragraph can be added only to the end of document"
   ]
  },
  {
   "cell_type": "markdown",
   "id": "f73c532d-bedd-4d54-b378-f5674af13890",
   "metadata": {},
   "source": [
    "7. How do you obtain a list of Paragraph objects for a Document object that’s stored in a variable\n",
    "    named doc?"
   ]
  },
  {
   "cell_type": "code",
   "execution_count": 19,
   "id": "6c6d6207-db7f-4027-94e2-d5f6fb1667e3",
   "metadata": {
    "tags": []
   },
   "outputs": [
    {
     "name": "stdout",
     "output_type": "stream",
     "text": [
      "Requirement already satisfied: python-docx in /opt/conda/lib/python3.10/site-packages (0.8.11)\n",
      "Requirement already satisfied: lxml>=2.3.2 in /opt/conda/lib/python3.10/site-packages (from python-docx) (4.9.2)\n",
      "Practical Assignment\n",
      "\n",
      "Objective: - Image Super-Resolution\n",
      "Image Super Resolution refers to the task of enhancing the resolution of an image from low-resolution (LR) to high (HR).\n",
      "Deep learning techniques have been fairly successful in solving the problem of image and video super-resolution\n",
      "\n",
      "Dataset Link: - \n",
      "Use anyone of your choice.\n",
      "Task: - Create a Web Application using FASTAPI. Use the end user should be able to upload an image and get results with the prediction.\n",
      "Deployment: - Any Free Platform(Try to look out for free options.)\n",
      "\n",
      "Assignment Submission: - Only submit the hosted app link. OR GitHub Link\n",
      "\n",
      "\n",
      "\n",
      "\n",
      "\n",
      "\n"
     ]
    }
   ],
   "source": [
    "!pip install  python-docx \n",
    "import docx\n",
    "doc=docx.Document(\"a.docx\")\n",
    "for i in range(len(doc.paragraphs)):\n",
    "    print(doc.paragraphs[i].text)"
   ]
  },
  {
   "cell_type": "markdown",
   "id": "09eda077-5c9b-4913-adf3-e7e3ac411e37",
   "metadata": {},
   "source": [
    "8. What type of object has bold, underline, italic, strike, and outline variables?"
   ]
  },
  {
   "cell_type": "code",
   "execution_count": null,
   "id": "8966bdfd-502a-490f-91a0-8e04d8d937e9",
   "metadata": {},
   "outputs": [],
   "source": [
    "run obkect has  bold, underline, italic, strike, and outline variables"
   ]
  },
  {
   "cell_type": "markdown",
   "id": "a578a6ac-b784-48e2-8755-a733d93ceca1",
   "metadata": {},
   "source": [
    "9. What is the difference between False, True, and None for the bold variable?"
   ]
  },
  {
   "cell_type": "code",
   "execution_count": null,
   "id": "6db31b0d-2cd9-4532-83f4-c8c9f7543a93",
   "metadata": {},
   "outputs": [],
   "source": [
    "true = on it will bold the text\n",
    "false = off  it will remove bold from text \n",
    "none = inherit  it will inherit from previous"
   ]
  },
  {
   "cell_type": "markdown",
   "id": "091584e1-ed0e-4934-837a-e613759dd33d",
   "metadata": {},
   "source": [
    "10. How do you create a Document object for a new Word document?"
   ]
  },
  {
   "cell_type": "code",
   "execution_count": null,
   "id": "1788c4ad-d0e7-4fad-bbbb-2011023d6831",
   "metadata": {},
   "outputs": [],
   "source": [
    "doc=docx.Document()\n",
    "doc.save(\"a1.docx\")"
   ]
  },
  {
   "cell_type": "markdown",
   "id": "32b0c898-de16-4c19-895d-db3aeca01f44",
   "metadata": {},
   "source": [
    "11. How do you add a paragraph with the text 'Hello, there!' to a Document object stored in a variable named doc?"
   ]
  },
  {
   "cell_type": "code",
   "execution_count": 30,
   "id": "fa67e983-5189-4b9a-975c-1ae8fe12ff7f",
   "metadata": {},
   "outputs": [
    {
     "data": {
      "text/plain": [
       "'Hello, there!'"
      ]
     },
     "execution_count": 30,
     "metadata": {},
     "output_type": "execute_result"
    }
   ],
   "source": [
    "doc=docx.Document()\n",
    "doc.add_paragraph( 'Hello, there!')\n",
    "doc.save(\"a1.docx\")\n",
    "doc.paragraphs[0].text"
   ]
  },
  {
   "cell_type": "markdown",
   "id": "c789217f-6ac3-4eee-880e-0e20c3dad47b",
   "metadata": {},
   "source": [
    "12. What integers represent the levels of headings available in Word documents?"
   ]
  },
  {
   "cell_type": "code",
   "execution_count": null,
   "id": "231d1292-11e0-4add-bd83-3d7bc945bbe3",
   "metadata": {},
   "outputs": [],
   "source": [
    "from 1 to 4 it represent the heading text as going from 1 to 4 it get lower to the subheading"
   ]
  }
 ],
 "metadata": {
  "kernelspec": {
   "display_name": "Python 3 (ipykernel)",
   "language": "python",
   "name": "python3"
  },
  "language_info": {
   "codemirror_mode": {
    "name": "ipython",
    "version": 3
   },
   "file_extension": ".py",
   "mimetype": "text/x-python",
   "name": "python",
   "nbconvert_exporter": "python",
   "pygments_lexer": "ipython3",
   "version": "3.10.6"
  },
  "toc-autonumbering": true,
  "toc-showcode": false,
  "toc-showmarkdowntxt": false
 },
 "nbformat": 4,
 "nbformat_minor": 5
}
