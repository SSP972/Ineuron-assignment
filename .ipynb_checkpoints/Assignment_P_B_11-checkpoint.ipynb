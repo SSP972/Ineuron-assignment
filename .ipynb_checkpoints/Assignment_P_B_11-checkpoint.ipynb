{
 "cells": [
  {
   "cell_type": "markdown",
   "id": "dd9e0e48-6a5e-4fd3-bd68-308aace8553b",
   "metadata": {},
   "source": [
    "1. Create an assert statement that throws an AssertionError if the variable spam is a negative"
   ]
  },
  {
   "cell_type": "code",
   "execution_count": 4,
   "id": "2c573e79-f2c0-4899-8ee4-cba7d08969bc",
   "metadata": {},
   "outputs": [
    {
     "ename": "AssertionError",
     "evalue": "variable is -ve",
     "output_type": "error",
     "traceback": [
      "\u001b[0;31m---------------------------------------------------------------------------\u001b[0m",
      "\u001b[0;31mAssertionError\u001b[0m                            Traceback (most recent call last)",
      "Cell \u001b[0;32mIn [4], line 2\u001b[0m\n\u001b[1;32m      1\u001b[0m a\u001b[38;5;241m=\u001b[39m\u001b[38;5;241m-\u001b[39m\u001b[38;5;241m10\u001b[39m\n\u001b[0;32m----> 2\u001b[0m \u001b[38;5;28;01massert\u001b[39;00m a\u001b[38;5;241m>\u001b[39m\u001b[38;5;241m0\u001b[39m, \u001b[38;5;124m\"\u001b[39m\u001b[38;5;124mvariable is -ve\u001b[39m\u001b[38;5;124m\"\u001b[39m\n",
      "\u001b[0;31mAssertionError\u001b[0m: variable is -ve"
     ]
    }
   ],
   "source": [
    "a=-10\n",
    "assert a>0, \"variable is -ve\""
   ]
  },
  {
   "cell_type": "markdown",
   "id": "7e675c0a-6757-4aa5-8875-d5bc895094ac",
   "metadata": {},
   "source": [
    "2. Write an assert statement that triggers an AssertionError if the variables eggs and bacon contain strings that are the same as each other, even if their cases are different (that is, 'hello' and 'hello' are considered the same, and 'goodbye' and 'GOODbye' are also considered the same)."
   ]
  },
  {
   "cell_type": "code",
   "execution_count": 7,
   "id": "adde844f-57f0-423e-abbe-401f99ffa7f3",
   "metadata": {},
   "outputs": [
    {
     "ename": "AssertionError",
     "evalue": "Create error",
     "output_type": "error",
     "traceback": [
      "\u001b[0;31m---------------------------------------------------------------------------\u001b[0m",
      "\u001b[0;31mAssertionError\u001b[0m                            Traceback (most recent call last)",
      "Cell \u001b[0;32mIn [7], line 3\u001b[0m\n\u001b[1;32m      1\u001b[0m eggs\u001b[38;5;241m=\u001b[39m\u001b[38;5;124m\"\u001b[39m\u001b[38;5;124mHEllo\u001b[39m\u001b[38;5;124m\"\u001b[39m\n\u001b[1;32m      2\u001b[0m bacon\u001b[38;5;241m=\u001b[39m \u001b[38;5;124m\"\u001b[39m\u001b[38;5;124mhello\u001b[39m\u001b[38;5;124m\"\u001b[39m\n\u001b[0;32m----> 3\u001b[0m \u001b[38;5;28;01massert\u001b[39;00m eggs\u001b[38;5;241m.\u001b[39mlower()\u001b[38;5;241m!=\u001b[39mbacon\u001b[38;5;241m.\u001b[39mlower(), \u001b[38;5;124m\"\u001b[39m\u001b[38;5;124mCreate error\u001b[39m\u001b[38;5;124m\"\u001b[39m\n",
      "\u001b[0;31mAssertionError\u001b[0m: Create error"
     ]
    }
   ],
   "source": [
    "eggs=\"HEllo\"\n",
    "bacon= \"hello\"\n",
    "assert eggs.lower()!=bacon.lower(), \"Create error\""
   ]
  },
  {
   "cell_type": "markdown",
   "id": "eb610ea3-8a6e-4a89-a51d-45d8558f548a",
   "metadata": {},
   "source": [
    "3. Create an assert statement that throws an AssertionError every time."
   ]
  },
  {
   "cell_type": "code",
   "execution_count": 9,
   "id": "fecd3081-c7a8-4603-9f62-51af8a60ca2b",
   "metadata": {},
   "outputs": [
    {
     "ename": "AssertionError",
     "evalue": "Evertime same",
     "output_type": "error",
     "traceback": [
      "\u001b[0;31m---------------------------------------------------------------------------\u001b[0m",
      "\u001b[0;31mAssertionError\u001b[0m                            Traceback (most recent call last)",
      "Cell \u001b[0;32mIn [9], line 1\u001b[0m\n\u001b[0;32m----> 1\u001b[0m \u001b[38;5;28;01massert\u001b[39;00m \u001b[38;5;28;01mFalse\u001b[39;00m, \u001b[38;5;124m\"\u001b[39m\u001b[38;5;124mEvertime same\u001b[39m\u001b[38;5;124m\"\u001b[39m\n",
      "\u001b[0;31mAssertionError\u001b[0m: Evertime same"
     ]
    }
   ],
   "source": [
    "assert False, \"Everytime same\""
   ]
  },
  {
   "cell_type": "markdown",
   "id": "e72ff027-4ce7-49a7-a5d8-c6fa46319bfd",
   "metadata": {},
   "source": [
    "4. What are the two lines that must be present in your software in order to call logging.debug()?"
   ]
  },
  {
   "cell_type": "code",
   "execution_count": 1,
   "id": "78f8f8b3-27e9-4fd3-9674-3919d8f44e58",
   "metadata": {},
   "outputs": [],
   "source": [
    "import logging\n",
    "logging.basicConfig(filename=\"trail.log\",level=logging.DEBUG) #these lines are required\n",
    "logging.debug(\"Debug state\")"
   ]
  },
  {
   "cell_type": "markdown",
   "id": "98c88a97-ae14-455e-95a4-e8f1cfef7c43",
   "metadata": {},
   "source": [
    "5. What are the two lines that your program must have in order to have logging.debug() send a logging message to a file named programLog.txt?"
   ]
  },
  {
   "cell_type": "code",
   "execution_count": 1,
   "id": "82312130-8781-4504-bdc7-96f51d316232",
   "metadata": {},
   "outputs": [],
   "source": [
    "import logging\n",
    "logging.basicConfig(filename=\"programLog.txt\",level=logging.DEBUG)\n"
   ]
  },
  {
   "cell_type": "markdown",
   "id": "9ce86210-db0d-406c-b024-4af5d96a9bd3",
   "metadata": {},
   "source": [
    "6. What are the five levels of logging?"
   ]
  },
  {
   "cell_type": "code",
   "execution_count": null,
   "id": "8a5858cf-0b3c-45bc-afe3-349e3d201b3e",
   "metadata": {},
   "outputs": [],
   "source": [
    "DEBUG--->INFO--->WARNING--->ERROR--->CRITICAL"
   ]
  },
  {
   "cell_type": "markdown",
   "id": "fba46ceb-b5d8-41b3-b61c-4e88225bf956",
   "metadata": {},
   "source": [
    "7. What line of code would you add to your software to disable all logging messages?"
   ]
  },
  {
   "cell_type": "code",
   "execution_count": null,
   "id": "f0bfd150-63aa-43d8-83e0-8774fa732dce",
   "metadata": {},
   "outputs": [],
   "source": [
    "logging.disable() #Default is set at critical"
   ]
  },
  {
   "cell_type": "markdown",
   "id": "6cb06e3b-050e-4de6-9520-53c0ca52a067",
   "metadata": {},
   "source": [
    "8.Why is using logging messages better than using print() to display the same message?"
   ]
  },
  {
   "cell_type": "code",
   "execution_count": null,
   "id": "b8eb76d8-0f9d-4622-a418-1429654613e4",
   "metadata": {},
   "outputs": [],
   "source": [
    "To get ease of access to every level and maintain the code  "
   ]
  },
  {
   "cell_type": "markdown",
   "id": "3a20a327-0abd-4f5e-b97c-29e3d4b29e82",
   "metadata": {},
   "source": [
    "9. What are the differences between the Step Over, Step In, and Step Out buttons in the debugger?"
   ]
  },
  {
   "cell_type": "code",
   "execution_count": null,
   "id": "b6616e0f-c3ba-4250-be90-3f296284cb50",
   "metadata": {},
   "outputs": [],
   "source": [
    "step over cursor doesn't get into procedure it execute the whole test in single line \n",
    "step into is debug line by line when cursor get inside the procedure \n",
    "step out is called when cursor get inside the procedure to debug the code line by line"
   ]
  },
  {
   "cell_type": "markdown",
   "id": "83255b62-801b-4906-ae2f-aea90edce605",
   "metadata": {},
   "source": [
    "10.After you click Continue, when will the debugger stop ?"
   ]
  },
  {
   "cell_type": "code",
   "execution_count": null,
   "id": "c934677d-b21b-4188-9fc7-c0b4bfbc57ec",
   "metadata": {},
   "outputs": [],
   "source": [
    "After you click Go, the debugger will stop when it has reached the end of the program or a line with a breakpoint."
   ]
  },
  {
   "cell_type": "markdown",
   "id": "60bbc171-b74e-4464-9fa8-7038d1806856",
   "metadata": {},
   "source": [
    "11. What is the concept of a breakpoint?"
   ]
  },
  {
   "cell_type": "code",
   "execution_count": null,
   "id": "2f3cae69-6f8e-4f94-bf93-fb35003b112a",
   "metadata": {},
   "outputs": [],
   "source": [
    "A breakpoint is a setting on a line of code that causes the debugger to pause when the program execution reaches the line."
   ]
  }
 ],
 "metadata": {
  "kernelspec": {
   "display_name": "Python 3 (ipykernel)",
   "language": "python",
   "name": "python3"
  },
  "language_info": {
   "codemirror_mode": {
    "name": "ipython",
    "version": 3
   },
   "file_extension": ".py",
   "mimetype": "text/x-python",
   "name": "python",
   "nbconvert_exporter": "python",
   "pygments_lexer": "ipython3",
   "version": "3.10.6"
  }
 },
 "nbformat": 4,
 "nbformat_minor": 5
}
