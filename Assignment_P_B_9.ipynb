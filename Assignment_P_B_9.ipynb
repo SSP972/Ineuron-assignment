{
 "cells": [
  {
   "cell_type": "markdown",
   "id": "15fcfa9f-1fd0-4af1-bf05-25aa0d28f155",
   "metadata": {},
   "source": [
    "1. To what does a relative path refer?\n"
   ]
  },
  {
   "cell_type": "raw",
   "id": "b126c819-805d-4af0-b02c-f409cae78822",
   "metadata": {},
   "source": [
    "relative paths are refer to get to the target within common directory here we use ../ to navigate on previous directory \n",
    "this paths are used where we want to navigate in between same directory to avoid repeating whole absolute path"
   ]
  },
  {
   "cell_type": "markdown",
   "id": "9f45e69a-3ae1-4c89-9657-ab17ba44f385",
   "metadata": {},
   "source": [
    "2. What does an absolute path start with your operating system?"
   ]
  },
  {
   "cell_type": "raw",
   "id": "61efca90-3dcb-47bc-b8d0-b5073a568d64",
   "metadata": {},
   "source": [
    "absolute path starts with the initial directory in my case as I have 2 splits in my hard drive C: and D: it will start from them w.r.t. file location "
   ]
  },
  {
   "cell_type": "markdown",
   "id": "723c30ee-7dba-41e2-bcf7-0562fde21f52",
   "metadata": {},
   "source": [
    "3. What do the functions os.getcwd() and os.chdir() do?"
   ]
  },
  {
   "cell_type": "raw",
   "id": "158e7ccb-31cc-4871-9149-4c1923a0fbef",
   "metadata": {},
   "source": [
    "os.getcwd() is to get current working directory \n",
    "os.chdir() is used to change in directory by giving specific "
   ]
  },
  {
   "cell_type": "markdown",
   "id": "7fcdd1e3-0c82-43e9-b5e6-f1013fdb5735",
   "metadata": {},
   "source": [
    "4. What are the . and .. folders?\n"
   ]
  },
  {
   "cell_type": "code",
   "execution_count": null,
   "id": "b48c1677-f6c1-41c9-88f7-536e58228681",
   "metadata": {},
   "outputs": [],
   "source": [
    ". is use for the current directory \n",
    ".. is used for the parent directory "
   ]
  },
  {
   "cell_type": "markdown",
   "id": "20e60503-c41a-46b2-aa30-ddc3f2a35baa",
   "metadata": {},
   "source": [
    "5. In C:\\bacon\\eggs\\spam.txt, which part is the dir name, and which part is the base name?\n"
   ]
  },
  {
   "cell_type": "code",
   "execution_count": null,
   "id": "676c9f80-b3f5-4ee5-bdc7-10babf65f715",
   "metadata": {},
   "outputs": [],
   "source": [
    "C:\\bacon\\eggs.    is dir name \n",
    "spam.txt is base "
   ]
  },
  {
   "cell_type": "markdown",
   "id": "51f8aa75-7a37-40df-9e4d-ea64180511e6",
   "metadata": {},
   "source": [
    "6. What are the three “mode” arguments that can be passed to the open() function?\n"
   ]
  },
  {
   "cell_type": "code",
   "execution_count": null,
   "id": "4102258d-333d-4861-8ae9-7dc40b632f7e",
   "metadata": {},
   "outputs": [],
   "source": [
    "Three mode arguments are \n",
    "r for read\n",
    "w for write and create \n",
    "X for exclusive creation "
   ]
  },
  {
   "cell_type": "markdown",
   "id": "1d4d1f92-e20c-435e-981a-2686153e91db",
   "metadata": {},
   "source": [
    "7. What happens if an existing file is opened in write mode?\n"
   ]
  },
  {
   "cell_type": "code",
   "execution_count": null,
   "id": "38051f23-0298-46f8-baae-01f5ebc2570f",
   "metadata": {},
   "outputs": [],
   "source": [
    "it will overwrite on that file"
   ]
  },
  {
   "cell_type": "markdown",
   "id": "c48c979b-2c03-4d40-b9ef-13c56e1db7ec",
   "metadata": {},
   "source": [
    "8. How do you tell the difference between read() and readlines()?\n"
   ]
  },
  {
   "cell_type": "raw",
   "id": "605ae82b-00cf-4762-840b-8c52970820ab",
   "metadata": {},
   "source": [
    "read() give whole content in the file while readline () will give line by line content from the file"
   ]
  },
  {
   "cell_type": "markdown",
   "id": "8c427398-0ad3-4c5f-a9d9-d01908a81779",
   "metadata": {},
   "source": [
    "What data structure does a shelf value resemble"
   ]
  },
  {
   "cell_type": "raw",
   "id": "0fd860c5-8efd-4a7c-9102-8cfad0584aad",
   "metadata": {},
   "source": [
    "dictionary resembles the shelf value as it has key and value "
   ]
  }
 ],
 "metadata": {
  "kernelspec": {
   "display_name": "Python 3 (ipykernel)",
   "language": "python",
   "name": "python3"
  },
  "language_info": {
   "codemirror_mode": {
    "name": "ipython",
    "version": 3
   },
   "file_extension": ".py",
   "mimetype": "text/x-python",
   "name": "python",
   "nbconvert_exporter": "python",
   "pygments_lexer": "ipython3",
   "version": "3.10.6"
  }
 },
 "nbformat": 4,
 "nbformat_minor": 5
}
