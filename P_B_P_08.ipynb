{
 "cells": [
  {
   "cell_type": "markdown",
   "id": "7095b597-80ff-41b2-a6b5-1dc49bf13567",
   "metadata": {},
   "source": [
    "Write a Python Program to Add Two Matrices?"
   ]
  },
  {
   "cell_type": "code",
   "execution_count": 4,
   "id": "aec6525f-ab88-4360-88be-2ae27bb63357",
   "metadata": {},
   "outputs": [
    {
     "name": "stdout",
     "output_type": "stream",
     "text": [
      "[[0.5256957  0.59461321 0.21323555]\n",
      " [0.89189212 0.10784103 0.30887283]\n",
      " [0.36208129 0.14531431 0.9690151 ]]\n",
      "\n",
      "[[0.12837206 0.85188216 0.48955532]\n",
      " [0.91572832 0.71294885 0.33909681]\n",
      " [0.48757328 0.03969203 0.04033127]]\n",
      "\n",
      "[[0.65406775 1.44649537 0.70279087]\n",
      " [1.80762043 0.82078988 0.64796964]\n",
      " [0.84965457 0.18500634 1.00934637]]\n"
     ]
    }
   ],
   "source": [
    "import numpy as np\n",
    "arr1=np.random.rand(3,3)\n",
    "arr2=np.random.rand(3,3)\n",
    "print(f\"\"\"{arr1}\n",
    "\n",
    "{arr2}\n",
    "\n",
    "{np.add(arr1,arr2)}\"\"\")"
   ]
  },
  {
   "cell_type": "markdown",
   "id": "c6020abc-3bf3-4cbb-be7a-a1d141b4b4e2",
   "metadata": {},
   "source": [
    "Write a Python Program to Multiply Two Matrices?"
   ]
  },
  {
   "cell_type": "code",
   "execution_count": 10,
   "id": "5e3b3dea-9b65-47cb-91b0-b8e619d0a99b",
   "metadata": {},
   "outputs": [
    {
     "name": "stdout",
     "output_type": "stream",
     "text": [
      "\n",
      "array 1:\n",
      "[[0.46227934 0.97394948 0.06627979]\n",
      " [0.3339945  0.75422335 0.32806797]\n",
      " [0.41870124 0.18549526 0.29710089]]\n",
      "\n",
      "array 2\n",
      "[[0.39881916 0.27726591 0.97819873]\n",
      " [0.56075562 0.59454739 0.25680209]\n",
      " [0.67399758 0.92503494 0.87167673]]\n",
      "\n",
      "dot product\n",
      "[[0.77518592 0.76854454 0.76008788]\n",
      " [0.77725541 0.84450115 0.80636835]\n",
      " [0.47124887 0.501206   0.71618452]]\n",
      "\n",
      "cross product\n",
      "[[ 0.93433903 -0.42576741 -0.26025542]\n",
      " [-0.00136582  0.09819547 -0.22435942]\n",
      " [-0.1131368  -0.16472685  0.26228992]]\n"
     ]
    }
   ],
   "source": [
    "import numpy as np\n",
    "arr1=np.random.rand(3,3)\n",
    "arr2=np.random.rand(3,3)\n",
    "print(f\"\"\"\n",
    "array 1:\n",
    "{arr1}\n",
    "\n",
    "array 2\n",
    "{arr2}\n",
    "\n",
    "dot product\n",
    "{np.dot(arr1,arr2)}\n",
    "\n",
    "cross product\n",
    "{np.cross(arr1,arr2)}\"\"\")"
   ]
  },
  {
   "cell_type": "markdown",
   "id": "e105307b-7f68-4480-adce-da481cbc7941",
   "metadata": {},
   "source": [
    "Write a Python Program to Transpose a Matrix?"
   ]
  },
  {
   "cell_type": "code",
   "execution_count": 11,
   "id": "536ff3b9-1fab-48dc-824b-07e3ff077e2f",
   "metadata": {},
   "outputs": [
    {
     "name": "stdout",
     "output_type": "stream",
     "text": [
      "\n",
      "array1:\n",
      "[[0.18228346 0.48435463 0.71052067]\n",
      " [0.96721838 0.08565827 0.32290115]\n",
      " [0.4558567  0.20084879 0.33865538]]\n",
      "\n",
      "transpose matrix:\n",
      "[[0.18228346 0.96721838 0.4558567 ]\n",
      " [0.48435463 0.08565827 0.20084879]\n",
      " [0.71052067 0.32290115 0.33865538]]\n",
      "\n"
     ]
    }
   ],
   "source": [
    "import numpy as np\n",
    "arr1=np.random.rand(3,3)\n",
    "print(f\"\"\"\n",
    "array1:\n",
    "{arr1}\n",
    "\n",
    "transpose matrix:\n",
    "{np.transpose(arr1)}\n",
    "\"\"\")\n",
    "for i in arr1:\n",
    "    for j in arr1[i]:\n",
    "        arr1[i][j]"
   ]
  },
  {
   "cell_type": "markdown",
   "id": "27402868-b474-4054-9cc0-f480928dbacf",
   "metadata": {},
   "source": [
    "Write a Python Program to Sort Words in Alphabetic Order?"
   ]
  },
  {
   "cell_type": "code",
   "execution_count": 20,
   "id": "204da83a-d1f5-4fd1-b116-fadf17cf2f0b",
   "metadata": {},
   "outputs": [
    {
     "name": "stdin",
     "output_type": "stream",
     "text": [
      "Enter the statement u like to sort alphabetically:  Enter the statement u like to sort alphabetically:\n"
     ]
    },
    {
     "name": "stdout",
     "output_type": "stream",
     "text": [
      "['alphabetically:', 'enter', 'like', 'sort', 'statement', 'the', 'to', 'u']\n"
     ]
    }
   ],
   "source": [
    "Input_statement=input(\"Enter the statement u like to sort alphabetically: \")\n",
    "Unsorted_list=[Get_words for Get_words in Input_statement.lower().split()]\n",
    "Unsorted_list.sort()\n",
    "print(Unsorted_list)"
   ]
  },
  {
   "cell_type": "markdown",
   "id": "bb6d6ada-dc08-423c-92e1-b423c761a9ff",
   "metadata": {},
   "source": [
    "Write a Python Program to Remove Punctuation From a String?"
   ]
  },
  {
   "cell_type": "code",
   "execution_count": null,
   "id": "436589fe-4a8b-4be0-bd0d-65c116817d2c",
   "metadata": {},
   "outputs": [
    {
     "name": "stdout",
     "output_type": "stream",
     "text": [
      "Enter the statement u like to sort alphabetically \n"
     ]
    }
   ],
   "source": [
    "Input_statement=\"Enter (the {statement}), u like, to sort alphabetically. :\"\n",
    "punctuations_string='''!()-[]{};:'\"\\,<>./?@#$%^&*_~'''\n",
    "punctutation_free_string=str()\n",
    "for letter in Input_statement:\n",
    "    if letter not in punctuations_string:\n",
    "        punctutation_free_string+=letter\n",
    "print(punctutation_free_string)\n"
   ]
  }
 ],
 "metadata": {
  "kernelspec": {
   "display_name": "Python 3 (ipykernel)",
   "language": "python",
   "name": "python3"
  },
  "language_info": {
   "codemirror_mode": {
    "name": "ipython",
    "version": 3
   },
   "file_extension": ".py",
   "mimetype": "text/x-python",
   "name": "python",
   "nbconvert_exporter": "python",
   "pygments_lexer": "ipython3",
   "version": "3.10.6"
  }
 },
 "nbformat": 4,
 "nbformat_minor": 5
}
