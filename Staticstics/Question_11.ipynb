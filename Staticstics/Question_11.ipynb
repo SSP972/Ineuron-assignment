{
 "cells": [
  {
   "cell_type": "code",
   "execution_count": null,
   "metadata": {},
   "outputs": [],
   "source": [
    "# Q-11. Given the data of a feature contributing to different classes\n",
    "\n",
    "# https://drive.google.com/file/d/1mCjtYHiX--mMUjicuaP2gH3k-SnFxt8Y/view?usp=share_\n",
    "\n",
    "# a. Check whether the distribution of all the classes are the same or not.\n",
    "# b. Check for the equality of variance/\n",
    "# c. Which amount LDA and QDA would perform better on this data for classification and why.\n",
    "# d. Check the equality of mean for between all the classes."
   ]
  },
  {
   "cell_type": "code",
   "execution_count": 4,
   "metadata": {},
   "outputs": [],
   "source": [
    "import  pandas as pd \n",
    "import numpy as np \n",
    "import requests\n",
    "from scipy.stats import levene\n",
    "from scipy.stats import f_oneway\n",
    "from scipy.stats import shapiro"
   ]
  },
  {
   "cell_type": "code",
   "execution_count": 8,
   "metadata": {},
   "outputs": [
    {
     "data": {
      "text/html": [
       "<div>\n",
       "<style scoped>\n",
       "    .dataframe tbody tr th:only-of-type {\n",
       "        vertical-align: middle;\n",
       "    }\n",
       "\n",
       "    .dataframe tbody tr th {\n",
       "        vertical-align: top;\n",
       "    }\n",
       "\n",
       "    .dataframe thead th {\n",
       "        text-align: right;\n",
       "    }\n",
       "</style>\n",
       "<table border=\"1\" class=\"dataframe\">\n",
       "  <thead>\n",
       "    <tr style=\"text-align: right;\">\n",
       "      <th></th>\n",
       "      <th>Patient ID</th>\n",
       "      <th>Blood Pressure Before (mmHg)</th>\n",
       "      <th>Blood Pressure After (mmHg)</th>\n",
       "    </tr>\n",
       "  </thead>\n",
       "  <tbody>\n",
       "    <tr>\n",
       "      <th>0</th>\n",
       "      <td>1</td>\n",
       "      <td>130</td>\n",
       "      <td>120</td>\n",
       "    </tr>\n",
       "    <tr>\n",
       "      <th>1</th>\n",
       "      <td>2</td>\n",
       "      <td>142</td>\n",
       "      <td>135</td>\n",
       "    </tr>\n",
       "    <tr>\n",
       "      <th>2</th>\n",
       "      <td>3</td>\n",
       "      <td>120</td>\n",
       "      <td>118</td>\n",
       "    </tr>\n",
       "    <tr>\n",
       "      <th>3</th>\n",
       "      <td>4</td>\n",
       "      <td>135</td>\n",
       "      <td>127</td>\n",
       "    </tr>\n",
       "    <tr>\n",
       "      <th>4</th>\n",
       "      <td>5</td>\n",
       "      <td>148</td>\n",
       "      <td>140</td>\n",
       "    </tr>\n",
       "    <tr>\n",
       "      <th>...</th>\n",
       "      <td>...</td>\n",
       "      <td>...</td>\n",
       "      <td>...</td>\n",
       "    </tr>\n",
       "    <tr>\n",
       "      <th>95</th>\n",
       "      <td>96</td>\n",
       "      <td>136</td>\n",
       "      <td>129</td>\n",
       "    </tr>\n",
       "    <tr>\n",
       "      <th>96</th>\n",
       "      <td>97</td>\n",
       "      <td>143</td>\n",
       "      <td>137</td>\n",
       "    </tr>\n",
       "    <tr>\n",
       "      <th>97</th>\n",
       "      <td>98</td>\n",
       "      <td>127</td>\n",
       "      <td>123</td>\n",
       "    </tr>\n",
       "    <tr>\n",
       "      <th>98</th>\n",
       "      <td>99</td>\n",
       "      <td>139</td>\n",
       "      <td>135</td>\n",
       "    </tr>\n",
       "    <tr>\n",
       "      <th>99</th>\n",
       "      <td>100</td>\n",
       "      <td>135</td>\n",
       "      <td>130</td>\n",
       "    </tr>\n",
       "  </tbody>\n",
       "</table>\n",
       "<p>100 rows × 3 columns</p>\n",
       "</div>"
      ],
      "text/plain": [
       "    Patient ID   Blood Pressure Before (mmHg)   Blood Pressure After (mmHg)\n",
       "0            1                            130                           120\n",
       "1            2                            142                           135\n",
       "2            3                            120                           118\n",
       "3            4                            135                           127\n",
       "4            5                            148                           140\n",
       "..         ...                            ...                           ...\n",
       "95          96                            136                           129\n",
       "96          97                            143                           137\n",
       "97          98                            127                           123\n",
       "98          99                            139                           135\n",
       "99         100                            135                           130\n",
       "\n",
       "[100 rows x 3 columns]"
      ]
     },
     "execution_count": 8,
     "metadata": {},
     "output_type": "execute_result"
    }
   ],
   "source": [
    "\n",
    "df = pd.read_csv('https://drive.google.com/uc?id=1mCjtYHiX--mMUjicuaP2gH3k-SnFxt8Y')\n",
    "df"
   ]
  },
  {
   "cell_type": "code",
   "execution_count": 10,
   "metadata": {},
   "outputs": [
    {
     "name": "stdout",
     "output_type": "stream",
     "text": [
      "The distribution of at least one class is not approximately normal.\n"
     ]
    }
   ],
   "source": [
    "# a. Check whether the distribution of all the classes are the same or not.\n",
    "\n",
    "_,p_before= shapiro(df[' Blood Pressure Before (mmHg)'])\n",
    "_,p_after = shapiro(df[' Blood Pressure After (mmHg)'])\n",
    "# Compare p-values with a significance level (e.g., 0.05)\n",
    "if p_before > 0.05 and p_after > 0.05:\n",
    "    print(\"The distribution of both classes is approximately normal.\")\n",
    "else:\n",
    "    print(\"The distribution of at least one class is not approximately normal.\")"
   ]
  },
  {
   "cell_type": "code",
   "execution_count": 15,
   "metadata": {},
   "outputs": [
    {
     "name": "stdout",
     "output_type": "stream",
     "text": [
      "The variance of the two classes is approximately equal.\n"
     ]
    }
   ],
   "source": [
    "\n",
    "# b. Check for the equality of variance\n",
    "\n",
    "\n",
    "# Perform Levene's test for equality of variance\n",
    "_, p_variance = levene(df[' Blood Pressure Before (mmHg)'], df[' Blood Pressure After (mmHg)'])\n",
    "\n",
    "# Compare p-value with a significance level (e.g., 0.05)\n",
    "if p_variance > 0.05:\n",
    "    print(\"The variance of the two classes is approximately equal.\")\n",
    "else:\n",
    "    print(\"The variance of the two classes is not equal.\")\n"
   ]
  },
  {
   "cell_type": "markdown",
   "metadata": {},
   "source": [
    "### c. Which amount LDA and QDA would perform better on this data for classification and why."
   ]
  },
  {
   "cell_type": "markdown",
   "metadata": {},
   "source": [
    "Linear Discriminant Analysis (LDA) would generally perform better than Quadratic Discriminant Analysis (QDA) for classification."
   ]
  },
  {
   "cell_type": "markdown",
   "metadata": {},
   "source": [
    "LDA assumes that the data within each class follows a multivariate normal distribution with equal covariance matrices. However, it also assumes that the means of the classes are different. LDA finds a linear discriminant function that maximizes the separation between the classes while minimizing the within-class variance.\n",
    "\n",
    "On the other hand, QDA relaxes the assumption of equal covariance matrices and allows each class to have its own covariance matrix. QDA finds a quadratic discriminant function that separates the classes. However, QDA requires estimating more parameters than LDA, which can lead to overfitting when the sample size is small or when the number of features is large."
   ]
  },
  {
   "cell_type": "markdown",
   "metadata": {},
   "source": []
  },
  {
   "cell_type": "code",
   "execution_count": 18,
   "metadata": {},
   "outputs": [
    {
     "name": "stdout",
     "output_type": "stream",
     "text": [
      "There is a significant difference in means between the two classes.\n"
     ]
    }
   ],
   "source": [
    "# d. Check the equality of mean for between all the classes.\n",
    "\n",
    "# Perform one-way ANOVA\n",
    "_, p_mean = f_oneway(df[' Blood Pressure Before (mmHg)'], df[' Blood Pressure After (mmHg)'])\n",
    "\n",
    "# Compare p-value with a significance level (e.g., 0.05)\n",
    "if p_mean > 0.05:\n",
    "    print(\"There is no significant difference in means between the two classes.\")\n",
    "else:\n",
    "    print(\"There is a significant difference in means between the two classes.\")\n"
   ]
  }
 ],
 "metadata": {
  "kernelspec": {
   "display_name": "Python 3.8.10 64-bit",
   "language": "python",
   "name": "python3"
  },
  "language_info": {
   "codemirror_mode": {
    "name": "ipython",
    "version": 3
   },
   "file_extension": ".py",
   "mimetype": "text/x-python",
   "name": "python",
   "nbconvert_exporter": "python",
   "pygments_lexer": "ipython3",
   "version": "3.8.10"
  },
  "orig_nbformat": 4,
  "vscode": {
   "interpreter": {
    "hash": "e7370f93d1d0cde622a1f8e1c04877d8463912d04d973331ad4851f04de6915a"
   }
  }
 },
 "nbformat": 4,
 "nbformat_minor": 2
}
