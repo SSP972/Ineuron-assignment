{
 "cells": [
  {
   "cell_type": "markdown",
   "metadata": {},
   "source": [
    "Q-3. Consider the ‘Blood Pressure Before’ and ‘Blood Pressure After’ columns from the data and calculate the following \n",
    "\n",
    "\n",
    "\n",
    "https://drive.google.com/file/d/1mCjtYHiX--mMUjicuaP2gH3k-SnFxt8Y/view?usp=share_ \n"
   ]
  },
  {
   "cell_type": "markdown",
   "metadata": {},
   "source": [
    "a. Measure the dispersion in both and interpret the results. \n",
    "\n",
    "b. Calculate mean and 5% confidence interval and plot it in a graph \n",
    "\n",
    "c. Calculate the Mean absolute deviation and Standard deviation and interpret the results. \n",
    "\n",
    "d. Calculate the correlation coefficient and check the significance of it at 1% level of significance. "
   ]
  },
  {
   "cell_type": "code",
   "execution_count": 15,
   "metadata": {},
   "outputs": [],
   "source": [
    "import numpy as np\n",
    "import  pandas as pd \n",
    "import seaborn as sns\n",
    "import matplotlib.pyplot as plt\n",
    "from scipy import stats\n",
    "from scipy.stats import pearsonr"
   ]
  },
  {
   "cell_type": "code",
   "execution_count": 6,
   "metadata": {},
   "outputs": [
    {
     "data": {
      "text/html": [
       "<div>\n",
       "<style scoped>\n",
       "    .dataframe tbody tr th:only-of-type {\n",
       "        vertical-align: middle;\n",
       "    }\n",
       "\n",
       "    .dataframe tbody tr th {\n",
       "        vertical-align: top;\n",
       "    }\n",
       "\n",
       "    .dataframe thead th {\n",
       "        text-align: right;\n",
       "    }\n",
       "</style>\n",
       "<table border=\"1\" class=\"dataframe\">\n",
       "  <thead>\n",
       "    <tr style=\"text-align: right;\">\n",
       "      <th></th>\n",
       "      <th>Patient ID</th>\n",
       "      <th>Blood Pressure Before (mmHg)</th>\n",
       "      <th>Blood Pressure After (mmHg)</th>\n",
       "    </tr>\n",
       "  </thead>\n",
       "  <tbody>\n",
       "    <tr>\n",
       "      <th>0</th>\n",
       "      <td>1</td>\n",
       "      <td>130</td>\n",
       "      <td>120</td>\n",
       "    </tr>\n",
       "    <tr>\n",
       "      <th>1</th>\n",
       "      <td>2</td>\n",
       "      <td>142</td>\n",
       "      <td>135</td>\n",
       "    </tr>\n",
       "    <tr>\n",
       "      <th>2</th>\n",
       "      <td>3</td>\n",
       "      <td>120</td>\n",
       "      <td>118</td>\n",
       "    </tr>\n",
       "    <tr>\n",
       "      <th>3</th>\n",
       "      <td>4</td>\n",
       "      <td>135</td>\n",
       "      <td>127</td>\n",
       "    </tr>\n",
       "    <tr>\n",
       "      <th>4</th>\n",
       "      <td>5</td>\n",
       "      <td>148</td>\n",
       "      <td>140</td>\n",
       "    </tr>\n",
       "    <tr>\n",
       "      <th>...</th>\n",
       "      <td>...</td>\n",
       "      <td>...</td>\n",
       "      <td>...</td>\n",
       "    </tr>\n",
       "    <tr>\n",
       "      <th>95</th>\n",
       "      <td>96</td>\n",
       "      <td>136</td>\n",
       "      <td>129</td>\n",
       "    </tr>\n",
       "    <tr>\n",
       "      <th>96</th>\n",
       "      <td>97</td>\n",
       "      <td>143</td>\n",
       "      <td>137</td>\n",
       "    </tr>\n",
       "    <tr>\n",
       "      <th>97</th>\n",
       "      <td>98</td>\n",
       "      <td>127</td>\n",
       "      <td>123</td>\n",
       "    </tr>\n",
       "    <tr>\n",
       "      <th>98</th>\n",
       "      <td>99</td>\n",
       "      <td>139</td>\n",
       "      <td>135</td>\n",
       "    </tr>\n",
       "    <tr>\n",
       "      <th>99</th>\n",
       "      <td>100</td>\n",
       "      <td>135</td>\n",
       "      <td>130</td>\n",
       "    </tr>\n",
       "  </tbody>\n",
       "</table>\n",
       "<p>100 rows × 3 columns</p>\n",
       "</div>"
      ],
      "text/plain": [
       "    Patient ID   Blood Pressure Before (mmHg)   Blood Pressure After (mmHg)\n",
       "0            1                            130                           120\n",
       "1            2                            142                           135\n",
       "2            3                            120                           118\n",
       "3            4                            135                           127\n",
       "4            5                            148                           140\n",
       "..         ...                            ...                           ...\n",
       "95          96                            136                           129\n",
       "96          97                            143                           137\n",
       "97          98                            127                           123\n",
       "98          99                            139                           135\n",
       "99         100                            135                           130\n",
       "\n",
       "[100 rows x 3 columns]"
      ]
     },
     "execution_count": 6,
     "metadata": {},
     "output_type": "execute_result"
    }
   ],
   "source": [
    "df = pd.read_csv('https://drive.google.com/uc?id=1mCjtYHiX--mMUjicuaP2gH3k-SnFxt8Y')\n",
    "df"
   ]
  },
  {
   "cell_type": "code",
   "execution_count": 14,
   "metadata": {},
   "outputs": [
    {
     "name": "stdout",
     "output_type": "stream",
     "text": [
      "Dispersion in Blood Pressure Before (mmHg):\n",
      "Range: 28\n",
      "IQR: 11.25\n",
      "\n",
      "Dispersion in Blood Pressure After (mmHg):\n",
      "Range: 23\n",
      "IQR: 12.0\n"
     ]
    }
   ],
   "source": [
    "\n",
    "\n",
    "# Calculate range\n",
    "range_before = np.max(df[ ' Blood Pressure Before (mmHg)']) - np.min(df[' Blood Pressure Before (mmHg)'])\n",
    "range_after = np.max(df[' Blood Pressure After (mmHg)']) - np.min(df[' Blood Pressure After (mmHg)'])\n",
    "\n",
    "# Calculate interquartile range\n",
    "iqr_before = np.percentile(df[' Blood Pressure Before (mmHg)'], 75) - np.percentile(df[' Blood Pressure Before (mmHg)'], 25)\n",
    "iqr_after = np.percentile(df[' Blood Pressure After (mmHg)'], 75) - np.percentile(df[' Blood Pressure After (mmHg)'], 25)\n",
    "\n",
    "print(\"Dispersion in Blood Pressure Before (mmHg):\")\n",
    "print(\"Range:\", range_before)\n",
    "print(\"IQR:\", iqr_before)\n",
    "\n",
    "print(\"\\nDispersion in Blood Pressure After (mmHg):\")\n",
    "print(\"Range:\", range_after)\n",
    "print(\"IQR:\", iqr_after)\n"
   ]
  },
  {
   "cell_type": "code",
   "execution_count": 12,
   "metadata": {},
   "outputs": [
    {
     "data": {
      "text/plain": [
       "120"
      ]
     },
     "execution_count": 12,
     "metadata": {},
     "output_type": "execute_result"
    }
   ],
   "source": [
    "np.min(df[' Blood Pressure Before (mmHg)'])"
   ]
  },
  {
   "cell_type": "code",
   "execution_count": 16,
   "metadata": {},
   "outputs": [
    {
     "data": {
      "image/png": "[encoded data removed]",
      "text/plain": [
       "<Figure size 640x480 with 1 Axes>"
      ]
     },
     "metadata": {},
     "output_type": "display_data"
    }
   ],
   "source": [
    "sns.boxplot(df[' Blood Pressure After (mmHg)'])\n",
    "plt.title('Blood Pressure After (mmHg)')\n",
    "plt.show()"
   ]
  },
  {
   "cell_type": "code",
   "execution_count": 21,
   "metadata": {},
   "outputs": [
    {
     "data": {
      "image/png": "[encoded data removed]",
      "text/plain": [
       "<Figure size 640x480 with 1 Axes>"
      ]
     },
     "metadata": {},
     "output_type": "display_data"
    }
   ],
   "source": [
    "sns.boxplot(df[' Blood Pressure Before (mmHg)'])\n",
    "plt.title(' Blood Pressure Before (mmHg)')\n",
    "plt.show()"
   ]
  },
  {
   "cell_type": "markdown",
   "metadata": {},
   "source": [
    "b. To calculate the mean and 5% confidence interval and plot it in a graph, you can use the mean and t.interval() function from the scipy.stats module."
   ]
  },
  {
   "cell_type": "code",
   "execution_count": 32,
   "metadata": {},
   "outputs": [
    {
     "data": {
      "image/png": "[encoded data removed]",
      "text/plain": [
       "<Figure size 640x480 with 1 Axes>"
      ]
     },
     "metadata": {},
     "output_type": "display_data"
    }
   ],
   "source": [
    "\n",
    "\n",
    "# Calculate mean and confidence interval\n",
    "mean_before = np.mean(df[' Blood Pressure Before (mmHg)'])\n",
    "ci_before = stats.t.interval(0.95, len(df[' Blood Pressure Before (mmHg)']) - 1, loc=mean_before, scale=stats.sem(df[' Blood Pressure Before (mmHg)']))\n",
    "\n",
    "mean_after = np.mean(df[' Blood Pressure After (mmHg)'])\n",
    "ci_after = stats.t.interval(0.95, len(df[' Blood Pressure After (mmHg)']) - 1, loc=mean_after, scale=stats.sem(df[' Blood Pressure After (mmHg)']))\n",
    "\n",
    "# Plot mean and confidence interval\n",
    "x = ['Before', 'After']\n",
    "y = [mean_before, mean_after]\n",
    "y_err = [(mean_before - ci_before[0]), (mean_after - ci_after[0])]\n",
    "\n",
    "plt.bar(x, y, yerr=y_err, capsize=5)\n",
    "plt.xlabel('Blood Pressure')\n",
    "plt.ylabel('Mean')\n",
    "plt.title('Mean and 5% Confidence Interval of Blood Pressure')\n",
    "plt.show()"
   ]
  },
  {
   "cell_type": "markdown",
   "metadata": {},
   "source": [
    "c. To calculate the Mean Absolute Deviation (MAD) and Standard Deviation (SD) and interpret the results:\n"
   ]
  },
  {
   "cell_type": "code",
   "execution_count": 36,
   "metadata": {},
   "outputs": [
    {
     "name": "stdout",
     "output_type": "stream",
     "text": [
      "Mean Absolute Deviation:\n",
      "Before: 5.7118\n",
      "After: 5.9\n",
      "\n",
      "Standard Deviation:\n",
      "Before: 6.56520372875054\n",
      "After: 6.853495458523336\n"
     ]
    }
   ],
   "source": [
    "# Calculate Mean Absolute Deviation\n",
    "mad_before = np.mean(np.abs(df[' Blood Pressure Before (mmHg)'] - np.mean(df[' Blood Pressure Before (mmHg)'])))\n",
    "mad_after = np.mean(np.abs(df[' Blood Pressure After (mmHg)'] - np.mean(df[' Blood Pressure After (mmHg)'])))\n",
    "\n",
    "# Calculate Standard Deviation\n",
    "sd_before = np.std(df[' Blood Pressure Before (mmHg)'])\n",
    "sd_after = np.std(df[' Blood Pressure After (mmHg)'])\n",
    "\n",
    "print(\"Mean Absolute Deviation:\")\n",
    "print(\"Before:\", mad_before)\n",
    "print(\"After:\", mad_after)\n",
    "\n",
    "print(\"\\nStandard Deviation:\")\n",
    "print(\"Before:\", sd_before)\n",
    "print(\"After:\", sd_after)"
   ]
  },
  {
   "cell_type": "markdown",
   "metadata": {},
   "source": [
    "The Mean Absolute Deviation measures the average distance between each data point and the mean, providing a measure of the spread around the mean. \n",
    "\n",
    "The Standard Deviation measures the dispersion of the data points from the mean, \n",
    "indicating the average deviation of data points from the mean. Higher values of MAD and SD indicate greater variability or dispersion in the data."
   ]
  },
  {
   "cell_type": "code",
   "execution_count": null,
   "metadata": {},
   "outputs": [],
   "source": []
  },
  {
   "cell_type": "markdown",
   "metadata": {},
   "source": [
    "d. To calculate the correlation coefficient and check its significance at a 1% level of significance, you can use the pearsonr() function from the scipy.stats module.\n"
   ]
  },
  {
   "cell_type": "code",
   "execution_count": 39,
   "metadata": {},
   "outputs": [
    {
     "name": "stdout",
     "output_type": "stream",
     "text": [
      "Correlation is significant at the 1% level.\n",
      "Correlation Coefficient: 0.9779485966556017\n"
     ]
    }
   ],
   "source": [
    "# Calculate correlation coefficient and p-value\n",
    "corr_coef, p_value = pearsonr(df[' Blood Pressure Before (mmHg)'], df[' Blood Pressure After (mmHg)'])\n",
    "\n",
    "# Check significance at 1% level\n",
    "if p_value < 0.01:\n",
    "    print(\"Correlation is significant at the 1% level.\")\n",
    "else:\n",
    "    print(\"Correlation is not significant at the 1% level.\")\n",
    "\n",
    "print(\"Correlation Coefficient:\", corr_coef)"
   ]
  },
  {
   "cell_type": "markdown",
   "metadata": {},
   "source": [
    "\n",
    "Interpretation: The correlation coefficient measures the strength and direction of the linear relationship between the blood pressure before and after taking the drug. The p-value indicates the significance of the correlation coefficient. If the p-value is less than the chosen significance level (in this case, 0.01), it suggests a significant correlation."
   ]
  },
  {
   "cell_type": "markdown",
   "metadata": {},
   "source": []
  }
 ],
 "metadata": {
  "kernelspec": {
   "display_name": "Python 3.8.10 64-bit",
   "language": "python",
   "name": "python3"
  },
  "language_info": {
   "name": "python",
   "version": "3.8.10"
  },
  "orig_nbformat": 4,
  "vscode": {
   "interpreter": {
    "hash": "e7370f93d1d0cde622a1f8e1c04877d8463912d04d973331ad4851f04de6915a"
   }
  }
 },
 "nbformat": 4,
 "nbformat_minor": 2
}
