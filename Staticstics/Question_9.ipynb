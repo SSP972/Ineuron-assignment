{
 "cells": [
  {
   "cell_type": "code",
   "execution_count": 3,
   "metadata": {},
   "outputs": [
    {
     "name": "stdout",
     "output_type": "stream",
     "text": [
      "Fail to reject the null hypothesis\n",
      "Student with the highest final score: Jeevan\n"
     ]
    }
   ],
   "source": [
    "import pandas as pd\n",
    "from scipy.stats import f_oneway\n",
    "\n",
    "# Create a DataFrame with the exam scores\n",
    "data = [\n",
    "    {\"Name\": \"Karan\", \"Exam 1\": 85, \"Exam 2\": 92, \"Final Exam\": 92},\n",
    "    {\"Name\": \"Deepa\", \"Exam 1\": 70, \"Exam 2\": 80, \"Final Exam\": 85},\n",
    "    {\"Name\": \"Karthik\", \"Exam 1\": 90, \"Exam 2\": 85, \"Final Exam\": 88},\n",
    "    {\"Name\": \"Chandan\", \"Exam 1\": 70, \"Exam 2\": 75, \"Final Exam\": 75},\n",
    "    {\"Name\": \"Jeevan\", \"Exam 1\": 92, \"Exam 2\": 96, \"Final Exam\": 96}\n",
    "]\n",
    "df = pd.DataFrame(data)\n",
    "\n",
    "# Perform the ANOVA test\n",
    "f_statistic, p_value = f_oneway(df['Exam 1'], df['Exam 2'], df['Final Exam'])\n",
    "\n",
    "# Check the p-value\n",
    "alpha = 0.05\n",
    "if p_value < alpha:\n",
    "    print(\"Reject the null hypothesis\")\n",
    "else:\n",
    "    print(\"Fail to reject the null hypothesis\")\n",
    "\n",
    "# Get the student with the highest final score\n",
    "student_with_highest_final_score = df.loc[df['Final Exam'].idxmax(), 'Name']\n",
    "print(\"Student with the highest final score:\", student_with_highest_final_score)\n"
   ]
  },
  {
   "cell_type": "code",
   "execution_count": null,
   "metadata": {},
   "outputs": [],
   "source": []
  }
 ],
 "metadata": {
  "kernelspec": {
   "display_name": "Python 3.8.10 64-bit",
   "language": "python",
   "name": "python3"
  },
  "language_info": {
   "codemirror_mode": {
    "name": "ipython",
    "version": 3
   },
   "file_extension": ".py",
   "mimetype": "text/x-python",
   "name": "python",
   "nbconvert_exporter": "python",
   "pygments_lexer": "ipython3",
   "version": "3.8.10"
  },
  "orig_nbformat": 4,
  "vscode": {
   "interpreter": {
    "hash": "e7370f93d1d0cde622a1f8e1c04877d8463912d04d973331ad4851f04de6915a"
   }
  }
 },
 "nbformat": 4,
 "nbformat_minor": 2
}
