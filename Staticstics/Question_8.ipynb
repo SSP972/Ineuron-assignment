{
 "cells": [
  {
   "cell_type": "code",
   "execution_count": null,
   "metadata": {},
   "outputs": [],
   "source": [
    "data = {\n",
    "    'Participant': [1, 2, 3, 4, 5, 6, 7, 8, 9, 10],\n",
    "    'Before therapy': [10, 8, 12, 15, 6, 9, 11, 7, 14, 10],\n",
    "    'After therapy': [7, 6, 10, 12, 5, 8, 9, 6, 12, 8],\n",
    "    'Difference': [-3, -2, -2, -3, -1, -1, -2, -1, -2, -2]\n",
    "}"
   ]
  },
  {
   "cell_type": "code",
   "execution_count": null,
   "metadata": {},
   "outputs": [],
   "source": []
  },
  {
   "cell_type": "code",
   "execution_count": null,
   "metadata": {},
   "outputs": [],
   "source": []
  },
  {
   "cell_type": "code",
   "execution_count": null,
   "metadata": {},
   "outputs": [],
   "source": []
  }
 ],
 "metadata": {
  "language_info": {
   "name": "python"
  },
  "orig_nbformat": 4
 },
 "nbformat": 4,
 "nbformat_minor": 2
}
