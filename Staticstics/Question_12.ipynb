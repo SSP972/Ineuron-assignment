{
 "cells": [
  {
   "cell_type": "code",
   "execution_count": null,
   "metadata": {},
   "outputs": [],
   "source": [
    "# Q-12. A pharmaceutical company develops a new drug and wants to compare its\n",
    "# effectiveness against a standard drug for treating a particular condition. They conduct a\n",
    "# study with two groups: Group A receives the new drug, and Group B receives the standard\n",
    "# drug. The company measures the improvement in a specific symptom for both groups after\n",
    "# a 4-week treatment period.\n",
    "\n",
    "# a. The company collects data from 30 patients in each group and calculates the\n",
    "# mean improvement score and the standard deviation of improvement for each\n",
    "# group. The mean improvement score for Group A is 2.5 with a standard\n",
    "# deviation of 0.8, while the mean improvement score for Group B is 2.2 with a\n",
    "# standard deviation of 0.6. Conduct a t-test to determine if there is a significant\n",
    "# difference in the mean improvement scores between the two groups. Use a\n",
    "# significance level of 0.05.\n",
    "\n",
    "# b. Based on the t-test results, state whether the null hypothesis should be\n",
    "# rejected or not. Provide a conclusion in the context of the study."
   ]
  },
  {
   "cell_type": "code",
   "execution_count": 19,
   "metadata": {},
   "outputs": [],
   "source": [
    "import scipy.stats as stats\n",
    "from math import sqrt\n",
    "# Data for Group A\n",
    "mean_A = 2.5\n",
    "std_A = 0.8\n",
    "n_A = 30\n",
    "\n",
    "# Data for Group B\n",
    "mean_B = 2.2\n",
    "std_B = 0.6\n",
    "n_B = 30\n",
    "\n",
    "\n"
   ]
  },
  {
   "cell_type": "code",
   "execution_count": 20,
   "metadata": {},
   "outputs": [
    {
     "data": {
      "text/plain": [
       "0.7071067811865476"
      ]
     },
     "execution_count": 20,
     "metadata": {},
     "output_type": "execute_result"
    }
   ],
   "source": [
    "# Calculate the pooled standard deviation\n",
    "pooled_std = sqrt(((n_A - 1) * std_A**2 + (n_B - 1) * std_B**2) / (n_A + n_B - 2))\n",
    "pooled_std"
   ]
  },
  {
   "cell_type": "code",
   "execution_count": 21,
   "metadata": {},
   "outputs": [
    {
     "data": {
      "text/plain": [
       "1.6431676725154976"
      ]
     },
     "execution_count": 21,
     "metadata": {},
     "output_type": "execute_result"
    }
   ],
   "source": [
    "\n",
    "# Calculate the t-statistic\n",
    "t_stat = (mean_A - mean_B) / (pooled_std * (1 / n_A + 1 / n_B)**0.5)\n",
    "t_stat"
   ]
  },
  {
   "cell_type": "code",
   "execution_count": 22,
   "metadata": {},
   "outputs": [
    {
     "data": {
      "text/plain": [
       "58"
      ]
     },
     "execution_count": 22,
     "metadata": {},
     "output_type": "execute_result"
    }
   ],
   "source": [
    "\n",
    "# Define the degrees of freedom\n",
    "dof = n_A + n_B - 2\n",
    "dof"
   ]
  },
  {
   "cell_type": "code",
   "execution_count": 23,
   "metadata": {},
   "outputs": [],
   "source": [
    "\n",
    "# Define the significance level\n",
    "alpha = 0.05\n",
    "\n"
   ]
  },
  {
   "cell_type": "code",
   "execution_count": 24,
   "metadata": {},
   "outputs": [
    {
     "data": {
      "text/plain": [
       "0.10575916705583666"
      ]
     },
     "execution_count": 24,
     "metadata": {},
     "output_type": "execute_result"
    }
   ],
   "source": [
    "\n",
    "# Calculate the p-value\n",
    "p_value = 2 * (1 - stats.t.cdf(abs(t_stat), df))\n",
    "p_value"
   ]
  },
  {
   "cell_type": "code",
   "execution_count": 25,
   "metadata": {},
   "outputs": [
    {
     "name": "stdout",
     "output_type": "stream",
     "text": [
      "There is no significant difference in mean improvement scores between the two groups.\n"
     ]
    }
   ],
   "source": [
    "\n",
    "# Compare the p-value with the significance level\n",
    "if p_value < alpha:\n",
    "    # Null hypothesis rejected, there is a significant difference in mean improvement scores\n",
    "    print(\"There is a significant difference in mean improvement scores between the two groups.\")\n",
    "else:\n",
    "    # Null hypothesis not rejected, there is no significant \n",
    "    # difference in mean improvement scores\n",
    "    print(\"There is no significant difference in mean improvement scores between the two groups.\")"
   ]
  }
 ],
 "metadata": {
  "kernelspec": {
   "display_name": "Python 3.8.10 64-bit",
   "language": "python",
   "name": "python3"
  },
  "language_info": {
   "codemirror_mode": {
    "name": "ipython",
    "version": 3
   },
   "file_extension": ".py",
   "mimetype": "text/x-python",
   "name": "python",
   "nbconvert_exporter": "python",
   "pygments_lexer": "ipython3",
   "version": "3.8.10"
  },
  "orig_nbformat": 4,
  "vscode": {
   "interpreter": {
    "hash": "e7370f93d1d0cde622a1f8e1c04877d8463912d04d973331ad4851f04de6915a"
   }
  }
 },
 "nbformat": 4,
 "nbformat_minor": 2
}
