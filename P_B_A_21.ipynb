{
 "cells": [
  {
   "cell_type": "markdown",
   "id": "08b43153",
   "metadata": {},
   "source": [
    "1.  Add the current date to the text file today.txt as a string."
   ]
  },
  {
   "cell_type": "code",
   "execution_count": 1,
   "id": "a3de1183",
   "metadata": {},
   "outputs": [],
   "source": [
    "from datetime import date\n",
    "today = date.today()\n",
    " \n",
    "with open('today.txt','a') as file:\n",
    "    file.write(str(today))"
   ]
  },
  {
   "cell_type": "markdown",
   "id": "93633aa3",
   "metadata": {},
   "source": [
    "2. Read the text file today.txt into the string today_string"
   ]
  },
  {
   "cell_type": "code",
   "execution_count": 2,
   "id": "72efbae3",
   "metadata": {},
   "outputs": [
    {
     "name": "stdout",
     "output_type": "stream",
     "text": [
      "This is assignment_21.2022-02-212022-03-04\n"
     ]
    }
   ],
   "source": [
    "with open('today.txt','r') as file:\n",
    "    today_string = file.read()\n",
    "print(today_string)"
   ]
  },
  {
   "cell_type": "markdown",
   "id": "2e12ec98",
   "metadata": {},
   "source": [
    "3. Parse the date from today_string."
   ]
  },
  {
   "cell_type": "code",
   "execution_count": 3,
   "id": "8f007a82",
   "metadata": {},
   "outputs": [
    {
     "name": "stdout",
     "output_type": "stream",
     "text": [
      "['2022-02-21', '2022-03-04']\n"
     ]
    }
   ],
   "source": [
    "import re\n",
    "matches = re.findall(r'(\\d{4}-\\d{2}-\\d{2})',today_string)\n",
    "\n",
    "print(matches)\n"
   ]
  },
  {
   "cell_type": "markdown",
   "id": "d3af051b",
   "metadata": {},
   "source": [
    "4. List the files in your current directory."
   ]
  },
  {
   "cell_type": "code",
   "execution_count": 4,
   "id": "645e6496",
   "metadata": {},
   "outputs": [
    {
     "data": {
      "text/plain": [
       "['.ipynb_checkpoints',\n",
       " 'Assignment_10.ipynb',\n",
       " 'Assignment_11.ipynb',\n",
       " 'Assignment_12.ipynb',\n",
       " 'Assignment_13.ipynb',\n",
       " 'Assignment_14.ipynb',\n",
       " 'Assignment_15.ipynb',\n",
       " 'Assignment_16.ipynb',\n",
       " 'Assignment_17.ipynb',\n",
       " 'Assignment_18.ipynb',\n",
       " 'Assignment_19.ipynb',\n",
       " 'Assignment_20.ipynb',\n",
       " 'Assignment_21.ipynb',\n",
       " 'Assignment_22.ipynb',\n",
       " 'Assignment_23.ipynb',\n",
       " 'Assignment_24.ipynb',\n",
       " 'Assignment_25.ipynb',\n",
       " 'Assignment_4.ipynb',\n",
       " 'Assignment_5.ipynb',\n",
       " 'Assignment_6.ipynb',\n",
       " 'Assignment_7.ipynb',\n",
       " 'Assignment_8.ipynb',\n",
       " 'Assignment_9.ipynb',\n",
       " 'books.csv',\n",
       " 'books.db',\n",
       " 'file.zip',\n",
       " 'filename.csv',\n",
       " 'flower.jfif',\n",
       " 'hellothere.docx',\n",
       " 'multiprog.py',\n",
       " 'test.txt',\n",
       " 'today.txt',\n",
       " 'Untitled.ipynb',\n",
       " 'zoo.ipynb']"
      ]
     },
     "execution_count": 4,
     "metadata": {},
     "output_type": "execute_result"
    }
   ],
   "source": [
    "import os\n",
    "os.listdir(\".\")"
   ]
  },
  {
   "cell_type": "markdown",
   "id": "de5109cf",
   "metadata": {},
   "source": [
    "5. Create a list of all of the files in your parent directory (minimum five files should be available)."
   ]
  },
  {
   "cell_type": "code",
   "execution_count": 5,
   "id": "f10d758b",
   "metadata": {},
   "outputs": [
    {
     "data": {
      "text/plain": [
       "['.astropy',\n",
       " '.cufflinks',\n",
       " '.dbshell',\n",
       " '.ipynb_checkpoints',\n",
       " '.ipython',\n",
       " '.jupyter',\n",
       " '.kivy',\n",
       " '.matplotlib',\n",
       " '.mongorc.js',\n",
       " '.python_history',\n",
       " '.vscode',\n",
       " '3D Objects',\n",
       " 'anaconda3',\n",
       " 'AppData',\n",
       " 'Application Data',\n",
       " 'Assignments',\n",
       " 'Assignments.ipynb',\n",
       " 'Assignment_1.docx',\n",
       " 'Assignment_2.ipynb',\n",
       " 'Assignment_3.ipynb',\n",
       " 'BasicProgramming',\n",
       " 'Basic_Assignment_1.ipynb',\n",
       " 'Basic_Programming_Assignment_1.ipynb',\n",
       " 'Basic_programming_Assignment_2.ipynb',\n",
       " 'car.data',\n",
       " 'CASSANDRA.ipynb',\n",
       " 'classes.ipynb',\n",
       " 'Contacts',\n",
       " 'Cookies',\n",
       " 'dailyActivity_merged.csv',\n",
       " 'Desktop',\n",
       " 'destination',\n",
       " 'Documents',\n",
       " 'Downloads',\n",
       " 'eda1.ipynb',\n",
       " 'ex1.csv',\n",
       " 'example',\n",
       " 'example2',\n",
       " 'farheen',\n",
       " 'Favorites',\n",
       " 'file.zip',\n",
       " 'file_handling.ipynb',\n",
       " 'final.pdf',\n",
       " 'flower.jfif',\n",
       " 'glass.data',\n",
       " 'homework_20Feb22',\n",
       " 'homework_23Dec21.ipynb',\n",
       " 'image.jfif',\n",
       " 'ineuron.db',\n",
       " 'IntelGraphicsProfiles',\n",
       " 'jobdb.db',\n",
       " 'Links',\n",
       " 'list_basic_program.ipynb',\n",
       " 'Local Settings',\n",
       " 'mondodb.ipynb',\n",
       " 'mongodb_2_Atlas.ipynb',\n",
       " 'Music',\n",
       " 'My Documents',\n",
       " 'mysql.log',\n",
       " 'MYSQL_HOMEWORK_06FEB22.ipynb',\n",
       " 'mysql_practice.ipynb',\n",
       " 'mysql_practice2.ipynb',\n",
       " 'my_pickle',\n",
       " 'NetHood',\n",
       " 'new',\n",
       " 'NTUSER.DAT',\n",
       " 'ntuser.dat.LOG1',\n",
       " 'ntuser.dat.LOG2',\n",
       " 'NTUSER.DAT{b6b91b15-ce16-11eb-835a-4c796e50ddbc}.TM.blf',\n",
       " 'NTUSER.DAT{b6b91b15-ce16-11eb-835a-4c796e50ddbc}.TMContainer00000000000000000001.regtrans-ms',\n",
       " 'NTUSER.DAT{b6b91b15-ce16-11eb-835a-4c796e50ddbc}.TMContainer00000000000000000002.regtrans-ms',\n",
       " 'ntuser.ini',\n",
       " 'numpy_practice.ipynb',\n",
       " 'OneDrive',\n",
       " 'pandas_profiling_visualization.ipynb',\n",
       " 'pandas_tut.ipynb',\n",
       " 'pd.csv',\n",
       " 'person.db',\n",
       " 'Pictures',\n",
       " 'player.csv',\n",
       " 'Postman',\n",
       " 'PrintHood',\n",
       " 'python basic.ipynb',\n",
       " 'python_string_programs.ipynb',\n",
       " 'Recent',\n",
       " 'result.pdf',\n",
       " 'Sales_April_2019.csv.xlsx',\n",
       " 'sample.pdf',\n",
       " 'sample2.pdf',\n",
       " 'sample_excel.xlsx',\n",
       " 'Saved Games',\n",
       " 'seaborn-data',\n",
       " 'seaborn_visualization.ipynb',\n",
       " 'Searches',\n",
       " 'SendTo',\n",
       " 'SQLLITE.ipynb',\n",
       " 'Start Menu',\n",
       " 'stats.ipynb',\n",
       " 'Templates',\n",
       " 'test.csv',\n",
       " 'test.H5',\n",
       " 'test1.py',\n",
       " 'test1.txt',\n",
       " 'titanic_pandas.ipynb',\n",
       " 'train.csv',\n",
       " 'tree.mp4',\n",
       " 'Untitled Folder',\n",
       " 'Untitled Folder 1',\n",
       " 'Untitled.ipynb',\n",
       " 'Untitled1.ipynb',\n",
       " 'Videos',\n",
       " 'Visualization.ipynb',\n",
       " '__pycache__']"
      ]
     },
     "execution_count": 5,
     "metadata": {},
     "output_type": "execute_result"
    }
   ],
   "source": [
    "os.listdir('..')"
   ]
  },
  {
   "cell_type": "markdown",
   "id": "695e3207",
   "metadata": {},
   "source": [
    "6. Use multiprocessing to create three separate processes. Make each one wait a random number of seconds between one and five, print the current time, and then exit."
   ]
  },
  {
   "cell_type": "code",
   "execution_count": 6,
   "id": "57c3416b",
   "metadata": {},
   "outputs": [],
   "source": [
    "import multiprocessing\n",
    "from datetime import datetime\n",
    "from time import sleep\n",
    "\n",
    "def printsec(seconds):\n",
    "    sleep(seconds)\n",
    "    print('wait', seconds, 'seconds, time is', datetime.utcnow())\n",
    "    \n",
    "if __name__ == '__main__':\n",
    "    import random    \n",
    "    for n in range(3):\n",
    "        seconds = random.random()\n",
    "        proc = multiprocessing.Process(target=printsec, args=(seconds,))\n",
    "        proc.start()"
   ]
  },
  {
   "cell_type": "code",
   "execution_count": 7,
   "id": "9ac03eff",
   "metadata": {},
   "outputs": [
    {
     "name": "stdout",
     "output_type": "stream",
     "text": [
      "wait 0.008892455567619528 seconds, time is 2022-03-04 16:02:08.030301\n",
      "wait 0.1930917148291732 seconds, time is 2022-03-04 16:02:08.233329\n",
      "wait 0.5781362684224332 seconds, time is 2022-03-04 16:02:08.605051\n"
     ]
    }
   ],
   "source": [
    "!python multiprog.py"
   ]
  },
  {
   "cell_type": "markdown",
   "id": "f65b8948",
   "metadata": {},
   "source": [
    "7. Create a date object of your day of birth."
   ]
  },
  {
   "cell_type": "code",
   "execution_count": 2,
   "id": "356f8f00",
   "metadata": {},
   "outputs": [
    {
     "data": {
      "text/plain": [
       "datetime.date(1994, 8, 30)"
      ]
     },
     "execution_count": 2,
     "metadata": {},
     "output_type": "execute_result"
    }
   ],
   "source": [
    "import datetime\n",
    "my_date = datetime.date(1994,8,30)\n",
    "my_date"
   ]
  },
  {
   "cell_type": "markdown",
   "id": "989cd0cc",
   "metadata": {},
   "source": [
    "8. What day of the week was your day of birth?"
   ]
  },
  {
   "cell_type": "code",
   "execution_count": 3,
   "id": "b4bd55a1",
   "metadata": {},
   "outputs": [
    {
     "data": {
      "text/plain": [
       "1"
      ]
     },
     "execution_count": 3,
     "metadata": {},
     "output_type": "execute_result"
    }
   ],
   "source": [
    "my_date.weekday()"
   ]
  },
  {
   "cell_type": "markdown",
   "id": "df9e39c3",
   "metadata": {},
   "source": [
    "9. When will you be (or when were you) 10,000 days old?"
   ]
  },
  {
   "cell_type": "code",
   "execution_count": 4,
   "id": "ece7c33e",
   "metadata": {},
   "outputs": [
    {
     "data": {
      "text/plain": [
       "datetime.date(2022, 1, 15)"
      ]
     },
     "execution_count": 4,
     "metadata": {},
     "output_type": "execute_result"
    }
   ],
   "source": [
    "from datetime import timedelta\n",
    "day10000 = my_date + timedelta(days=10000)\n",
    "day10000"
   ]
  }
 ],
 "metadata": {
  "kernelspec": {
   "display_name": "Python 3 (ipykernel)",
   "language": "python",
   "name": "python3"
  },
  "language_info": {
   "codemirror_mode": {
    "name": "ipython",
    "version": 3
   },
   "file_extension": ".py",
   "mimetype": "text/x-python",
   "name": "python",
   "nbconvert_exporter": "python",
   "pygments_lexer": "ipython3",
   "version": "3.10.6"
  }
 },
 "nbformat": 4,
 "nbformat_minor": 5
}
