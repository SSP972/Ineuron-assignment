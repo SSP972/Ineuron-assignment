{
 "cells": [
  {
   "cell_type": "markdown",
   "id": "7ab1977b-d06f-4693-98e4-7c53b427e61e",
   "metadata": {},
   "source": [
    "1. What are escape characters, and how do you use them?\n",
    "\n",
    "        \\n       for new line\n",
    "\n",
    "        \\\\       to include backlash\n",
    "\n",
    "        \\xhh    for hexadecimal inputs to get the string\n",
    "\n",
    "        \\ooo    for octadecimal inputs to get the string\n",
    "\n",
    "        \\b      for the backspace inbetween the string\n",
    "\n",
    "        \\r      for new row\n",
    "\n",
    "        \\’      to include the quotation"
   ]
  },
  {
   "cell_type": "markdown",
   "id": "b992514d-3562-4449-ba04-f4e60f0918da",
   "metadata": {},
   "source": [
    "2. What do the escape characters n and t stand for?\n",
    "\n",
    "            \"\\n\" is standas for newline\n",
    "            t stands for tab"
   ]
  },
  {
   "cell_type": "markdown",
   "id": "bd05f449-b018-41d1-9a5a-c6901891bd71",
   "metadata": {},
   "source": [
    "3. What is the way to include backslash characters in a string?\n",
    "\n",
    "        by using \\ infront of the backslash charater\n",
    "\n",
    "        for example as below"
   ]
  },
  {
   "cell_type": "code",
   "execution_count": 7,
   "id": "3f0a9f1c-c1b8-4d43-850a-bc2030cc4af4",
   "metadata": {},
   "outputs": [
    {
     "name": "stdout",
     "output_type": "stream",
     "text": [
      "abcddrr\\n ada\n"
     ]
    }
   ],
   "source": [
    "print(\"abcddrr\\\\n ada\")"
   ]
  },
  {
   "cell_type": "markdown",
   "id": "b82e911f-aff4-428d-b7a9-bddd8ffbc5dd",
   "metadata": {},
   "source": [
    "4. The string \"Howl's Moving Castle\" is a correct value. Why isn't the single quote character in the word Howl's not escaped a problem?\n",
    "\n",
    "            here we have started the string with double quote\n"
   ]
  },
  {
   "cell_type": "markdown",
   "id": "89010743-03e4-4697-b9d8-791a3e0aeece",
   "metadata": {},
   "source": [
    "5. How do you write a string of newlines if you don't want to use the n character?\n",
    "\n",
    "        by using triple quote as shown below"
   ]
  },
  {
   "cell_type": "code",
   "execution_count": 12,
   "id": "67ed05ed-5223-49e1-9800-17e890ece19a",
   "metadata": {},
   "outputs": [
    {
     "name": "stdout",
     "output_type": "stream",
     "text": [
      "the pie is \n",
      "here\n"
     ]
    }
   ],
   "source": [
    "print(\"\"\"the pie is \n",
    "here\"\"\")"
   ]
  },
  {
   "cell_type": "markdown",
   "id": "6eab100d-ed77-42fd-bf8b-9049425d33c3",
   "metadata": {},
   "source": [
    "6. What are the values of the given expressions?\n",
    "            \n",
    "        'Hello, world!'[1]       =====> \"e\"\n",
    "        'Hello, world!'[0:5]       =====>\"Hello\"\n",
    "        'Hello, world!'[:5]       =====>\"Hello\"\n",
    "        'Hello, world!'[3:]       =====>\"lo, world!'\"\n"
   ]
  },
  {
   "cell_type": "markdown",
   "id": "ac2cfdff-96aa-4fcc-9c39-d54aab1cb556",
   "metadata": {},
   "source": [
    "7. What are the values of the following expressions?\n",
    "\n",
    "\n",
    "        'Hello'.upper() =======> HELLO\n",
    "        'Hello'.upper().isupper()  =====> True\n",
    "        'Hello'.upper().lower()  =======> hello"
   ]
  },
  {
   "cell_type": "markdown",
   "id": "d5bc0609-fb5a-46be-8c6d-21185e906991",
   "metadata": {},
   "source": [
    "8. What are the values of the following expressions?\n",
    "\n",
    "        'Remember, remember, the fifth of July.'.split() =====> it will give list with by default seperator \"one blank space\"\n",
    "        '-'.join('There can only one.'.split()) =======> it will first split by default seperator then it will join the all item seperated with - sign"
   ]
  },
  {
   "cell_type": "markdown",
   "id": "dcaddc51-1065-47a5-98df-78511805f637",
   "metadata": {},
   "source": [
    "9. What are the methods for right-justifying, left-justifying, and centering a string?\n",
    "\n",
    "        y using ljust() for left justification \n",
    "        rjust() for right justification\n",
    "        center() for center justification"
   ]
  },
  {
   "cell_type": "code",
   "execution_count": 8,
   "id": "b6e8b998-ed1f-41fb-93b1-b676b3d63f1a",
   "metadata": {},
   "outputs": [
    {
     "name": "stdout",
     "output_type": "stream",
     "text": [
      "................................... abc \n",
      "................. abc ..................\n",
      " abc ...................................\n"
     ]
    }
   ],
   "source": [
    "a= \" abc \"\n",
    "print(a.rjust(40, \".\"))    #right justification\n",
    "print(a.center(40, \".\"))    #center justification\n",
    "print(a.ljust(40, \".\"))    # left justification "
   ]
  },
  {
   "cell_type": "markdown",
   "id": "1263405d-bdd1-435f-8349-625046b26cf9",
   "metadata": {},
   "source": [
    "10. What is the best way to remove whitespace characters from the start or end?\n",
    "        \n",
    "        by using strip function for example\n",
    "        \"\"\"\n",
    "        a= \" abc \"\n",
    "        print(a.rstrip())\n",
    "        print(a.lstrip())\n",
    "        \"\"\""
   ]
  },
  {
   "cell_type": "code",
   "execution_count": 3,
   "id": "498095e8-e18b-4dbe-97a1-ad98907722e7",
   "metadata": {},
   "outputs": [
    {
     "name": "stdout",
     "output_type": "stream",
     "text": [
      " abc\n",
      "abc \n"
     ]
    }
   ],
   "source": [
    "a= \" abc \"\n",
    "print(a.rstrip())\n",
    "print(a.lstrip())\n"
   ]
  }
 ],
 "metadata": {
  "kernelspec": {
   "display_name": "Python 3 (ipykernel)",
   "language": "python",
   "name": "python3"
  },
  "language_info": {
   "codemirror_mode": {
    "name": "ipython",
    "version": 3
   },
   "file_extension": ".py",
   "mimetype": "text/x-python",
   "name": "python",
   "nbconvert_exporter": "python",
   "pygments_lexer": "ipython3",
   "version": "3.10.6"
  }
 },
 "nbformat": 4,
 "nbformat_minor": 5
}
