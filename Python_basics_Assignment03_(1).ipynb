{
  "nbformat": 4,
  "nbformat_minor": 0,
  "metadata": {
    "colab": {
      "provenance": []
    },
    "kernelspec": {
      "name": "python3",
      "display_name": "Python 3"
    },
    "language_info": {
      "name": "python"
    },
    "accelerator": "TPU"
  },
  "cells": [
    {
      "cell_type": "code",
      "execution_count": null,
      "metadata": {
        "id": "s1qTWEfEr7tD"
      },
      "outputs": [],
      "source": [
        "# 1. Why are functions advantageous to have in your programs?"
      ]
    },
    {
      "cell_type": "code",
      "source": [
        "# the specific block of code which is used repeatedly that code can be written in with funtion so we can just call it in the program for ease of access "
      ],
      "metadata": {
        "id": "i0uhDgo4ysgX"
      },
      "execution_count": null,
      "outputs": []
    },
    {
      "cell_type": "code",
      "source": [
        "# 2. When does the code in a function run: when it's specified or when it's called?"
      ],
      "metadata": {
        "id": "9I0Cp8j2sYW2"
      },
      "execution_count": null,
      "outputs": []
    },
    {
      "cell_type": "code",
      "source": [
        "#When its is called"
      ],
      "metadata": {
        "id": "ptqiCEByytAp"
      },
      "execution_count": null,
      "outputs": []
    },
    {
      "cell_type": "code",
      "source": [
        "def b(a):\n",
        "  a= a**3\n",
        "  return(a)"
      ],
      "metadata": {
        "id": "Ezz-AwXeS4xS"
      },
      "execution_count": 2,
      "outputs": []
    },
    {
      "cell_type": "code",
      "source": [
        "b(50)"
      ],
      "metadata": {
        "colab": {
          "base_uri": "https://localhost:8080/"
        },
        "id": "bWObfNy7THtH",
        "outputId": "61190ae9-34a9-41b6-fdd5-0b2ce9b5b266"
      },
      "execution_count": 3,
      "outputs": [
        {
          "output_type": "execute_result",
          "data": {
            "text/plain": [
              "125000"
            ]
          },
          "metadata": {},
          "execution_count": 3
        }
      ]
    },
    {
      "cell_type": "code",
      "source": [
        "# 3. What statement creates a function?"
      ],
      "metadata": {
        "id": "mIno5IzFvAyv"
      },
      "execution_count": null,
      "outputs": []
    },
    {
      "cell_type": "code",
      "source": [
        "def b(a):           #def variable():  create the funtion\n",
        "  a= a**3\n",
        "  return(a)"
      ],
      "metadata": {
        "id": "RzJj4Am_TmgD"
      },
      "execution_count": null,
      "outputs": []
    },
    {
      "cell_type": "code",
      "source": [
        "# 4. What is the difference between a function and a function call?"
      ],
      "metadata": {
        "id": "nce2YH2fvPZd"
      },
      "execution_count": null,
      "outputs": []
    },
    {
      "cell_type": "code",
      "source": [
        "#this is funtion \n",
        "def b(a):                                     #in funtion there is specific code is wrriten\n",
        "  a= a**3\n",
        "  return(a)"
      ],
      "metadata": {
        "id": "yin2e57lyttp"
      },
      "execution_count": null,
      "outputs": []
    },
    {
      "cell_type": "code",
      "source": [
        "#this is funtion call\n",
        "b(30)       # in function call it is used to perform the specific funtion in this case cube of any number"
      ],
      "metadata": {
        "colab": {
          "base_uri": "https://localhost:8080/"
        },
        "id": "rxUW0ETnT5B8",
        "outputId": "a2fee903-2d18-4d2a-f5f6-7de0a43d268a"
      },
      "execution_count": 4,
      "outputs": [
        {
          "output_type": "execute_result",
          "data": {
            "text/plain": [
              "27000"
            ]
          },
          "metadata": {},
          "execution_count": 4
        }
      ]
    },
    {
      "cell_type": "code",
      "source": [
        "# 5. How many global scopes are there in a Python program? How many local scopes?"
      ],
      "metadata": {
        "id": "wk5e7QX6vR24"
      },
      "execution_count": null,
      "outputs": []
    },
    {
      "cell_type": "code",
      "source": [
        "one global scope per execution \n",
        "\n",
        "local scope as many as funtions we are using in the code for every funtion there is one local scope"
      ],
      "metadata": {
        "id": "vWuCySAKyt-3"
      },
      "execution_count": null,
      "outputs": []
    },
    {
      "cell_type": "code",
      "source": [],
      "metadata": {
        "id": "JKMqgqDAyunr"
      },
      "execution_count": null,
      "outputs": []
    },
    {
      "cell_type": "code",
      "source": [
        "# 6. What happens to variables in a local scope when the function call returns?"
      ],
      "metadata": {
        "id": "E3fASgngvWXi"
      },
      "execution_count": null,
      "outputs": []
    },
    {
      "cell_type": "code",
      "source": [
        "when the funtion return the value then it deallocate local variable and free that memory block "
      ],
      "metadata": {
        "id": "ZioSkbaMyu9R"
      },
      "execution_count": null,
      "outputs": []
    },
    {
      "cell_type": "code",
      "source": [
        "# 7. What is the concept of a return value? Is it possible to have a return value in an expression?"
      ],
      "metadata": {
        "id": "g6ET4H3GvY-f"
      },
      "execution_count": null,
      "outputs": []
    },
    {
      "cell_type": "code",
      "source": [
        "def b(a):  \n",
        "  a= a**3\n",
        "  return(a%3)            #return value provide the result for the funtion so we can get as it is datatype for the funtion output "
      ],
      "metadata": {
        "id": "gKBR6x1CyvQj"
      },
      "execution_count": 9,
      "outputs": []
    },
    {
      "cell_type": "code",
      "source": [
        "b(20)"
      ],
      "metadata": {
        "id": "UgmUAfAJywHh",
        "colab": {
          "base_uri": "https://localhost:8080/"
        },
        "outputId": "1eb809d3-17f3-4d9e-e549-d52c52b64683"
      },
      "execution_count": 10,
      "outputs": [
        {
          "output_type": "execute_result",
          "data": {
            "text/plain": [
              "2"
            ]
          },
          "metadata": {},
          "execution_count": 10
        }
      ]
    },
    {
      "cell_type": "code",
      "source": [
        "type(b(20))"
      ],
      "metadata": {
        "colab": {
          "base_uri": "https://localhost:8080/"
        },
        "id": "2-mLgaSScBE_",
        "outputId": "c03ee01e-cd00-48ee-dc5d-833e4d1805f4"
      },
      "execution_count": 11,
      "outputs": [
        {
          "output_type": "execute_result",
          "data": {
            "text/plain": [
              "int"
            ]
          },
          "metadata": {},
          "execution_count": 11
        }
      ]
    },
    {
      "cell_type": "code",
      "source": [
        "def b(a):  \n",
        "  a= a**3\n",
        "  print(a)\n",
        "  \n",
        "\n",
        "type(b(20))"
      ],
      "metadata": {
        "colab": {
          "base_uri": "https://localhost:8080/"
        },
        "id": "VymwrdTXdziH",
        "outputId": "3ad9dbb1-43b4-4026-e735-5cbf6a85fd08"
      },
      "execution_count": 13,
      "outputs": [
        {
          "output_type": "stream",
          "name": "stdout",
          "text": [
            "8000\n"
          ]
        },
        {
          "output_type": "execute_result",
          "data": {
            "text/plain": [
              "NoneType"
            ]
          },
          "metadata": {},
          "execution_count": 13
        }
      ]
    },
    {
      "cell_type": "code",
      "source": [
        "# 8. If a function does not have a return statement, what is the return value of a call to that function?"
      ],
      "metadata": {
        "id": "2Pay_uenvZle"
      },
      "execution_count": null,
      "outputs": []
    },
    {
      "cell_type": "code",
      "source": [
        "def b(a):  \n",
        "  a= a**3\n",
        "  print(a)        # if there is no return statement assigned then it will give the output only if there is assign something for the output(in this case print(a)) as nonetype\n",
        "\n",
        "type(b(20))"
      ],
      "metadata": {
        "id": "zZICRp5Xywnm",
        "colab": {
          "base_uri": "https://localhost:8080/"
        },
        "outputId": "c4dc4b07-57b9-4802-dac1-e8046dfdec24"
      },
      "execution_count": 17,
      "outputs": [
        {
          "output_type": "stream",
          "name": "stdout",
          "text": [
            "8000\n"
          ]
        },
        {
          "output_type": "execute_result",
          "data": {
            "text/plain": [
              "NoneType"
            ]
          },
          "metadata": {},
          "execution_count": 17
        }
      ]
    },
    {
      "cell_type": "code",
      "source": [
        "# 9. How do you make a function variable refer to the global variable?"
      ],
      "metadata": {
        "id": "NoXw-C1NvZuP"
      },
      "execution_count": null,
      "outputs": []
    },
    {
      "cell_type": "code",
      "source": [
        "#by using keyword global \n",
        "def d():\n",
        "  global x\n",
        "  x = \"the global variable\"\n"
      ],
      "metadata": {
        "id": "Tf0jEMUyyxgX"
      },
      "execution_count": 22,
      "outputs": []
    },
    {
      "cell_type": "code",
      "source": [
        "d()\n",
        "print(x)"
      ],
      "metadata": {
        "colab": {
          "base_uri": "https://localhost:8080/"
        },
        "id": "UgVfJlj2gyrj",
        "outputId": "964e6fa9-d3f3-4689-e430-79a6e52acb5d"
      },
      "execution_count": 23,
      "outputs": [
        {
          "output_type": "stream",
          "name": "stdout",
          "text": [
            "the global variable\n"
          ]
        }
      ]
    },
    {
      "cell_type": "code",
      "source": [
        "# 10. What is the data type of None?\n",
        "NoneType"
      ],
      "metadata": {
        "id": "e6aqrIpMvbII"
      },
      "execution_count": null,
      "outputs": []
    },
    {
      "cell_type": "code",
      "source": [
        "# 11. What does the sentence import areallyourpetsnamederic do?"
      ],
      "metadata": {
        "id": "FYc2S3yUvbQo"
      },
      "execution_count": null,
      "outputs": []
    },
    {
      "cell_type": "code",
      "source": [
        "\n",
        "# import the module name areallyourpetsnamederic"
      ],
      "metadata": {
        "id": "Fla1jYJpyyNZ"
      },
      "execution_count": null,
      "outputs": []
    },
    {
      "cell_type": "code",
      "source": [
        "# 12. If you had a bacon() feature in a spam module, what would you call it after importing spam?"
      ],
      "metadata": {
        "id": "7ZTSdz0Uvbd3"
      },
      "execution_count": null,
      "outputs": []
    },
    {
      "cell_type": "code",
      "source": [
        "spam.bacon()"
      ],
      "metadata": {
        "id": "2O7MwH_syyi-"
      },
      "execution_count": null,
      "outputs": []
    },
    {
      "cell_type": "code",
      "source": [
        "# 13. What can you do to save a programme from crashing if it encounters an error?"
      ],
      "metadata": {
        "id": "pFa-DyeTvbnh"
      },
      "execution_count": null,
      "outputs": []
    },
    {
      "cell_type": "code",
      "source": [
        "# use exception handling to avoid the crash"
      ],
      "metadata": {
        "id": "W-rMhVw5yy8L"
      },
      "execution_count": null,
      "outputs": []
    },
    {
      "cell_type": "code",
      "source": [
        "# 14. What is the purpose of the try clause? What is the purpose of the except clause?"
      ],
      "metadata": {
        "id": "PM3E1ysCvbwD"
      },
      "execution_count": null,
      "outputs": []
    },
    {
      "cell_type": "code",
      "source": [
        "# in try we write the code to be check for any error\n",
        "# where in except we give resolution to avoid that error accordongly to the user"
      ],
      "metadata": {
        "id": "NLUBMN5oy1-B"
      },
      "execution_count": null,
      "outputs": []
    }
  ]
}