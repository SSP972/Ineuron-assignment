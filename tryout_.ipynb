{
 "cells": [
  {
   "cell_type": "code",
   "execution_count": 1,
   "metadata": {},
   "outputs": [],
   "source": [
    "# imports\n",
    "import pandas as pd \n",
    "from urllib3 import request as uReq\n",
    "import json\n",
    "\n",
    "#Requsting content from open url with GET method\n",
    "get_json=uReq('GET','https://data.nasa.gov/resource/y77d-th95.json')\n",
    "json_data= get_json.json()      \n",
    "\n",
    "# with open('json_data.json',\"w+\")as json_file:\n",
    "    # json.dump(json_data, json_file)                             # Creating json file and dumpingconte extracted content from it\n",
    "\n",
    "structured_dataset=pd.json_normalize(json_data)    # structured_dataset.to_excel('structured_dataset.xlsx')          \n",
    "# structured_dataset.to_excel(\"structured_dataset.xlsx\")  # saving structured format data into excel file  this might require to install 'openpyxl' library"
   ]
  },
  {
   "cell_type": "code",
   "execution_count": 34,
   "metadata": {},
   "outputs": [
    {
     "data": {
      "text/html": [
       "<div>\n",
       "<style scoped>\n",
       "    .dataframe tbody tr th:only-of-type {\n",
       "        vertical-align: middle;\n",
       "    }\n",
       "\n",
       "    .dataframe tbody tr th {\n",
       "        vertical-align: top;\n",
       "    }\n",
       "\n",
       "    .dataframe thead th {\n",
       "        text-align: right;\n",
       "    }\n",
       "</style>\n",
       "<table border=\"1\" class=\"dataframe\">\n",
       "  <thead>\n",
       "    <tr style=\"text-align: right;\">\n",
       "      <th></th>\n",
       "      <th>name</th>\n",
       "      <th>id</th>\n",
       "      <th>nametype</th>\n",
       "      <th>recclass</th>\n",
       "      <th>mass</th>\n",
       "      <th>fall</th>\n",
       "      <th>year</th>\n",
       "      <th>reclat</th>\n",
       "      <th>reclong</th>\n",
       "      <th>geolocation.type</th>\n",
       "      <th>geolocation.coordinates</th>\n",
       "      <th>:@computed_region_cbhk_fwbd</th>\n",
       "      <th>:@computed_region_nnqa_25f4</th>\n",
       "    </tr>\n",
       "  </thead>\n",
       "  <tbody>\n",
       "    <tr>\n",
       "      <th>0</th>\n",
       "      <td>Aachen</td>\n",
       "      <td>1</td>\n",
       "      <td>Valid</td>\n",
       "      <td>L5</td>\n",
       "      <td>21</td>\n",
       "      <td>Fell</td>\n",
       "      <td>1880-01-01T00:00:00.000</td>\n",
       "      <td>50.775000</td>\n",
       "      <td>6.083330</td>\n",
       "      <td>Point</td>\n",
       "      <td>[6.08333, 50.775]</td>\n",
       "      <td>NaN</td>\n",
       "      <td>NaN</td>\n",
       "    </tr>\n",
       "    <tr>\n",
       "      <th>1</th>\n",
       "      <td>Aarhus</td>\n",
       "      <td>2</td>\n",
       "      <td>Valid</td>\n",
       "      <td>H6</td>\n",
       "      <td>720</td>\n",
       "      <td>Fell</td>\n",
       "      <td>1951-01-01T00:00:00.000</td>\n",
       "      <td>56.183330</td>\n",
       "      <td>10.233330</td>\n",
       "      <td>Point</td>\n",
       "      <td>[10.23333, 56.18333]</td>\n",
       "      <td>NaN</td>\n",
       "      <td>NaN</td>\n",
       "    </tr>\n",
       "    <tr>\n",
       "      <th>2</th>\n",
       "      <td>Abee</td>\n",
       "      <td>6</td>\n",
       "      <td>Valid</td>\n",
       "      <td>EH4</td>\n",
       "      <td>107000</td>\n",
       "      <td>Fell</td>\n",
       "      <td>1952-01-01T00:00:00.000</td>\n",
       "      <td>54.216670</td>\n",
       "      <td>-113.000000</td>\n",
       "      <td>Point</td>\n",
       "      <td>[-113, 54.21667]</td>\n",
       "      <td>NaN</td>\n",
       "      <td>NaN</td>\n",
       "    </tr>\n",
       "    <tr>\n",
       "      <th>3</th>\n",
       "      <td>Acapulco</td>\n",
       "      <td>10</td>\n",
       "      <td>Valid</td>\n",
       "      <td>Acapulcoite</td>\n",
       "      <td>1914</td>\n",
       "      <td>Fell</td>\n",
       "      <td>1976-01-01T00:00:00.000</td>\n",
       "      <td>16.883330</td>\n",
       "      <td>-99.900000</td>\n",
       "      <td>Point</td>\n",
       "      <td>[-99.9, 16.88333]</td>\n",
       "      <td>NaN</td>\n",
       "      <td>NaN</td>\n",
       "    </tr>\n",
       "    <tr>\n",
       "      <th>4</th>\n",
       "      <td>Achiras</td>\n",
       "      <td>370</td>\n",
       "      <td>Valid</td>\n",
       "      <td>L6</td>\n",
       "      <td>780</td>\n",
       "      <td>Fell</td>\n",
       "      <td>1902-01-01T00:00:00.000</td>\n",
       "      <td>-33.166670</td>\n",
       "      <td>-64.950000</td>\n",
       "      <td>Point</td>\n",
       "      <td>[-64.95, -33.16667]</td>\n",
       "      <td>NaN</td>\n",
       "      <td>NaN</td>\n",
       "    </tr>\n",
       "  </tbody>\n",
       "</table>\n",
       "</div>"
      ],
      "text/plain": [
       "       name   id nametype     recclass    mass  fall                     year  \\\n",
       "0    Aachen    1    Valid           L5      21  Fell  1880-01-01T00:00:00.000   \n",
       "1    Aarhus    2    Valid           H6     720  Fell  1951-01-01T00:00:00.000   \n",
       "2      Abee    6    Valid          EH4  107000  Fell  1952-01-01T00:00:00.000   \n",
       "3  Acapulco   10    Valid  Acapulcoite    1914  Fell  1976-01-01T00:00:00.000   \n",
       "4   Achiras  370    Valid           L6     780  Fell  1902-01-01T00:00:00.000   \n",
       "\n",
       "       reclat      reclong geolocation.type geolocation.coordinates  \\\n",
       "0   50.775000     6.083330            Point       [6.08333, 50.775]   \n",
       "1   56.183330    10.233330            Point    [10.23333, 56.18333]   \n",
       "2   54.216670  -113.000000            Point        [-113, 54.21667]   \n",
       "3   16.883330   -99.900000            Point       [-99.9, 16.88333]   \n",
       "4  -33.166670   -64.950000            Point     [-64.95, -33.16667]   \n",
       "\n",
       "  :@computed_region_cbhk_fwbd :@computed_region_nnqa_25f4  \n",
       "0                         NaN                         NaN  \n",
       "1                         NaN                         NaN  \n",
       "2                         NaN                         NaN  \n",
       "3                         NaN                         NaN  \n",
       "4                         NaN                         NaN  "
      ]
     },
     "execution_count": 34,
     "metadata": {},
     "output_type": "execute_result"
    }
   ],
   "source": [
    "structured_dataset.head()\n",
    "\n"
   ]
  },
  {
   "cell_type": "code",
   "execution_count": 32,
   "metadata": {},
   "outputs": [
    {
     "name": "stdout",
     "output_type": "stream",
     "text": [
      "len(s) 6\n",
      "start\n",
      "S AeI123\n",
      "A\n",
      "s[ 2 : ]  I123\n",
      "len(s) 4\n",
      "start\n",
      "S I123\n",
      "I\n",
      "s[ 2 : ]  23\n",
      "len(s) 2\n",
      "start\n",
      "S 23\n",
      "2\n",
      "s[ 2 : ]  \n",
      "len(s) 0\n",
      "func(s[ 2 : ]) \n",
      "++++++++++\n",
      "len(s) 0\n",
      "func(s[ 2 : ]) 2\n",
      "++++++++++\n",
      "len(s) 2\n",
      "start\n",
      "S 23\n",
      "2\n",
      "s[ 2 : ]  \n",
      "len(s) 0\n",
      "func(s[ 2 : ]) \n",
      "++++++++++\n",
      "len(s) 0\n",
      "func(s[ 2 : ]) 2I\n",
      "++++++++++\n",
      "len(s) 4\n",
      "start\n",
      "S I123\n",
      "I\n",
      "s[ 2 : ]  23\n",
      "len(s) 2\n",
      "start\n",
      "S 23\n",
      "2\n",
      "s[ 2 : ]  \n",
      "len(s) 0\n",
      "func(s[ 2 : ]) \n",
      "++++++++++\n",
      "len(s) 0\n",
      "func(s[ 2 : ]) 2\n",
      "++++++++++\n",
      "len(s) 2\n",
      "start\n",
      "S 23\n",
      "2\n",
      "s[ 2 : ]  \n",
      "len(s) 0\n",
      "func(s[ 2 : ]) \n",
      "++++++++++\n",
      "len(s) 0\n",
      "2IA\n"
     ]
    }
   ],
   "source": [
    " count=0\n",
    " def func(s):\n",
    "        print('len(s)',len(s))\n",
    "        if len(s) <= 1:\n",
    "            return s\n",
    "        print('start')\n",
    "        print('S',s)\n",
    "        print(s[0])\n",
    "        print('s[ 2 : ] ',s[ 2 : ])\n",
    "        print('func(s[ 2 : ])',func(s[ 2 : ]))\n",
    "        print('+'*10)\n",
    "        # count+=1\n",
    "        # print('execution number ',count)\n",
    "        return func(s[ 2 : ]) + s[0]\n",
    " print( func( \"\"\"AeI123\"\"\" ) )   "
   ]
  },
  {
   "cell_type": "code",
   "execution_count": 35,
   "metadata": {},
   "outputs": [],
   "source": [
    "def non_rep(s):\n",
    "    for ind in range(len(s)):\n",
    "        if s.count(s[ind])==1:\n",
    "            return ind\n",
    "        \n",
    "    return -1"
   ]
  },
  {
   "cell_type": "code",
   "execution_count": 37,
   "metadata": {},
   "outputs": [
    {
     "data": {
      "text/plain": [
       "'q'"
      ]
     },
     "execution_count": 37,
     "metadata": {},
     "output_type": "execute_result"
    }
   ],
   "source": [
    "s='asdasdasdadafqwerfaeage'\n",
    "s[13]"
   ]
  },
  {
   "cell_type": "code",
   "execution_count": 40,
   "metadata": {},
   "outputs": [
    {
     "ename": "TypeError",
     "evalue": "unsupported operand type(s) for -: 'list' and 'list'",
     "output_type": "error",
     "traceback": [
      "\u001b[0;31m---------------------------------------------------------------------------\u001b[0m",
      "\u001b[0;31mTypeError\u001b[0m                                 Traceback (most recent call last)",
      "Cell \u001b[0;32mIn[40], line 4\u001b[0m\n\u001b[1;32m      2\u001b[0m ds\u001b[38;5;241m=\u001b[39m[\u001b[38;5;241m5\u001b[39m,\u001b[38;5;241m4\u001b[39m,\u001b[38;5;241m3\u001b[39m,\u001b[38;5;241m2\u001b[39m,\u001b[38;5;241m1\u001b[39m]\n\u001b[1;32m      3\u001b[0m df\u001b[38;5;241m=\u001b[39msd\u001b[38;5;241m+\u001b[39mds\n\u001b[0;32m----> 4\u001b[0m dw\u001b[38;5;241m=\u001b[39m \u001b[43msd\u001b[49m\u001b[38;5;241;43m-\u001b[39;49m\u001b[43mds\u001b[49m\n\u001b[1;32m      5\u001b[0m \u001b[38;5;28mprint\u001b[39m(dw)\n",
      "\u001b[0;31mTypeError\u001b[0m: unsupported operand type(s) for -: 'list' and 'list'"
     ]
    }
   ],
   "source": [
    "sd=[1,2,3,4,5]\n",
    "ds=[5,4,3,2,1]\n",
    "df=sd+ds\n",
    "dw= sd-ds\n",
    "print(dw)"
   ]
  },
  {
   "cell_type": "code",
   "execution_count": null,
   "metadata": {},
   "outputs": [],
   "source": []
  }
 ],
 "metadata": {
  "kernelspec": {
   "display_name": "Python 3.8.10 64-bit",
   "language": "python",
   "name": "python3"
  },
  "language_info": {
   "codemirror_mode": {
    "name": "ipython",
    "version": 3
   },
   "file_extension": ".py",
   "mimetype": "text/x-python",
   "name": "python",
   "nbconvert_exporter": "python",
   "pygments_lexer": "ipython3",
   "version": "3.8.10"
  },
  "orig_nbformat": 4,
  "vscode": {
   "interpreter": {
    "hash": "e7370f93d1d0cde622a1f8e1c04877d8463912d04d973331ad4851f04de6915a"
   }
  }
 },
 "nbformat": 4,
 "nbformat_minor": 2
}
