{
 "cells": [
  {
   "cell_type": "markdown",
   "metadata": {},
   "source": [
    "HLD\n",
    "\n",
    "https://github.com/SSP972/Investment_analysis/blob/main/High_level_Document.docx\n",
    "\n",
    "\n",
    "LLD\n",
    "\n",
    "https://github.com/SSP972/Investment_analysis/blob/main/Low_Level_Design.docx\n"
   ]
  },
  {
   "cell_type": "markdown",
   "metadata": {},
   "source": []
  }
 ],
 "metadata": {
  "language_info": {
   "name": "python"
  },
  "orig_nbformat": 4
 },
 "nbformat": 4,
 "nbformat_minor": 2
}
