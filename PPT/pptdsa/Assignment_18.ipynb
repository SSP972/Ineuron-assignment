{
  "nbformat": 4,
  "nbformat_minor": 0,
  "metadata": {
    "colab": {
      "provenance": []
    },
    "kernelspec": {
      "name": "python3",
      "display_name": "Python 3"
    },
    "language_info": {
      "name": "python"
    }
  },
  "cells": [
    {
      "cell_type": "markdown",
      "source": [
        "**bold text**#Assignment 18\n",
        "\n",
        "\n"
      ],
      "metadata": {
        "id": "DiLkgZz8aTSP"
      }
    },
    {
      "cell_type": "code",
      "source": [
        "# Problem 1: Merge Intervals\n",
        "\n",
        "# To merge overlapping intervals, we can start by sorting the intervals based on their start times. Then, we iterate through the sorted intervals and merge overlapping intervals when necessary.\n",
        "\n",
        "def merge(intervals):\n",
        "    intervals.sort(key=lambda x: x[0])  # Sort intervals based on start times\n",
        "    merged = []\n",
        "    for interval in intervals:\n",
        "        if not merged or merged[-1][1] < interval[0]:\n",
        "            merged.append(interval)\n",
        "        else:\n",
        "            merged[-1][1] = max(merged[-1][1], interval[1])\n",
        "    return merged\n",
        "\n",
        "merge([[1,3],[2,6],[8,10],[15,18]])"
      ],
      "metadata": {
        "id": "B173VDPRMqDC",
        "colab": {
          "base_uri": "https://localhost:8080/"
        },
        "outputId": "a8177cd9-ee6f-4895-a905-993c47ce148c"
      },
      "execution_count": null,
      "outputs": [
        {
          "output_type": "execute_result",
          "data": {
            "text/plain": [
              "[[1, 6], [8, 10], [15, 18]]"
            ]
          },
          "metadata": {},
          "execution_count": 14
        }
      ]
    },
    {
      "cell_type": "code",
      "source": [
        "#Problem 3: First Bad Version\n",
        "\n",
        "#To find the first bad version, we can use a binary search approach. We maintain two pointers, left and right, representing the start and end of the search range. We keep updating these pointers based on the result of the isBadVersion function.\n",
        "def isBadVersion(version):\n",
        "    # Example implementation: Assume all versions greater than or equal to 4 are bad\n",
        "    if version >= 4:\n",
        "        return True\n",
        "    else:\n",
        "        return False\n",
        "def firstBadVersion( n: int) :\n",
        "      left = 1\n",
        "      right = n\n",
        "      result = 1\n",
        "\n",
        "      while left<=right:\n",
        "          mid = (left+right)//2\n",
        "          if isBadVersion(mid) == False:\n",
        "              left = mid+1\n",
        "          else:\n",
        "              right = mid-1\n",
        "              result = mid\n",
        "\n",
        "      return result\n",
        "firstBadVersion(5)"
      ],
      "metadata": {
        "id": "R_MhRXqqMvsM",
        "colab": {
          "base_uri": "https://localhost:8080/"
        },
        "outputId": "7d51bdd1-370d-4b94-a264-5b3d51de7f7e"
      },
      "execution_count": null,
      "outputs": [
        {
          "output_type": "execute_result",
          "data": {
            "text/plain": [
              "4"
            ]
          },
          "metadata": {},
          "execution_count": 20
        }
      ]
    },
    {
      "cell_type": "code",
      "source": [
        "# Problem 4: Maximum Gap\n",
        "\n",
        "# To find the maximum gap between successive elements, we can use the \"bucket sort\" approach. First, we find the minimum and maximum elements in the array. Then, we divide the range between the minimum and maximum into n-1 equally spaced intervals (buckets). Finally, we iterate through the array, assign each element to the appropriate bucket, and compute the maximum gap between adjacent non-empty buckets.\n",
        "\n",
        "def maximumGap(nums):\n",
        "    if len(nums) < 2:\n",
        "        return 0\n",
        "    min_num = min(nums)\n",
        "    max_num = max(nums)\n",
        "    if min_num == max_num:\n",
        "        return 0\n",
        "    bucket_size = max(1, (max_num - min_num) // (len(nums) - 1))\n",
        "    num_buckets = (max_num - min_num) // bucket_size + 1\n",
        "\n",
        "    min_buckets = [float('inf')] * num_buckets\n",
        "    max_buckets = [float('-inf')] * num_buckets\n",
        "\n",
        "    for num in nums:\n",
        "        index = (num - min_num) // bucket_size\n",
        "        min_buckets[index] = min(min_buckets[index], num)\n",
        "        max_buckets[index] = max(max_buckets[index], num)\n",
        "\n",
        "    max_gap = 0\n",
        "    prev_max = min_num\n",
        "    for i in range(num_buckets):\n",
        "        if min_buckets[i] != float('inf'):\n",
        "            max_gap = max(max_gap, min_buckets[i] - prev_max)\n",
        "\n",
        "\n",
        "    prev_max = max_buckets[i]\n",
        "\n",
        "    return max(max_gap, max_num - prev_max)\n",
        "\n",
        "\n",
        "maximumGap([3,6,9,1])"
      ],
      "metadata": {
        "id": "e8IQu6cuM1Al",
        "colab": {
          "base_uri": "https://localhost:8080/"
        },
        "outputId": "962ae53e-9e4d-4afe-c419-8943fcbbf3ff"
      },
      "execution_count": null,
      "outputs": [
        {
          "output_type": "execute_result",
          "data": {
            "text/plain": [
              "8"
            ]
          },
          "metadata": {},
          "execution_count": 21
        }
      ]
    },
    {
      "cell_type": "code",
      "source": [
        "# Problem 5: Contains Duplicate\n",
        "\n",
        "# To check if any value appears at least twice in the array, we can use a set to keep track of unique elements seen so far. If we encounter an element that is already in the set, we return True. If we iterate through the entire array without finding any duplicates, we return False.\n",
        "\n",
        "def containsDuplicate(nums):\n",
        "    seen = set()\n",
        "    for num in nums:\n",
        "        if num in seen:\n",
        "            return True\n",
        "        seen.add(num)\n",
        "    return False\n",
        "\n",
        "containsDuplicate()"
      ],
      "metadata": {
        "id": "JrGojTNwM4xj"
      },
      "execution_count": null,
      "outputs": []
    },
    {
      "cell_type": "code",
      "source": [
        "# Problem 6: Minimum Number of Arrows to Burst Balloons\n",
        "\n",
        "# To find the minimum number of arrows to burst all balloons, we sort the balloons based on their end positions.\n",
        "#  Then, we iterate through the sorted balloons and count the number of times the arrow needs to be shot to burst all the remaining balloons.\n",
        "\n",
        "def findMinArrowShots(points):\n",
        "    if not points:\n",
        "        return 0\n",
        "    points.sort(key=lambda x: x[1])  # Sort balloons based on end positions\n",
        "    arrows = 1\n",
        "    end = points[0][1]\n",
        "    for i in range(1, len(points)):\n",
        "        if points[i][0] > end:\n",
        "            arrows += 1\n",
        "            end = points[i][1]\n",
        "    return arrows"
      ],
      "metadata": {
        "id": "QPAfV71qM4uS"
      },
      "execution_count": null,
      "outputs": []
    },
    {
      "cell_type": "code",
      "source": [
        "# Problem 7: Longest Increasing Subsequence\n",
        "\n",
        "# To find the length of the longest strictly increasing subsequence, we can use dynamic programming.\n",
        "# We maintain an array dp of the same length as the input array nums, where dp[i] represents the length of the longest increasing subsequence ending at nums[i].\n",
        "# We update dp[i] by finding the maximum dp[j] + 1 for all j such that nums[j] < nums[i].\n",
        "\n",
        "def lengthOfLIS(nums):\n",
        "    if not nums:\n",
        "        return 0\n",
        "    dp = [1] * len(nums)\n",
        "    for i in range(1, len(nums)):\n",
        "        for j in range(i):\n",
        "            if nums[i] > nums[j]:\n",
        "                dp[i] = max(dp[i], dp[j] + 1)\n",
        "    return max(dp)\n",
        "\n",
        "lengthOfLIS()"
      ],
      "metadata": {
        "id": "l6vxjgu1NA3t"
      },
      "execution_count": null,
      "outputs": []
    },
    {
      "cell_type": "code",
      "source": [
        "\n",
        "\n",
        "\n",
        "# Problem 8: 132 Pattern\n",
        "\n",
        "# To check if there is a 132 pattern in the array, we can use a stack. We iterate through the array from right to left and maintain a stack to keep track of potential 3 values. We also keep track of the maximum value (2) seen so far. If we encounter a value (1) that is smaller than the maximum value, we have found a 132 pattern.\n",
        "\n",
        "def find132pattern(nums):\n",
        "    stack = []\n",
        "    s3 = float('-inf')\n",
        "    for i in range(len(nums) - 1, -1, -1):\n",
        "        if nums[i] < s3:\n",
        "            return True\n",
        "        while stack and nums[i] > stack[-1]:\n",
        "            s3 = stack.pop()\n",
        "        stack.append(nums[i])\n",
        "    return False\n",
        "\n",
        "find132pattern([123548784232323214548])"
      ],
      "metadata": {
        "id": "SkQrMJGNM4ro",
        "colab": {
          "base_uri": "https://localhost:8080/"
        },
        "outputId": "5f3fa0f4-a338-4d46-f1a1-ead18633f5f4"
      },
      "execution_count": null,
      "outputs": [
        {
          "output_type": "execute_result",
          "data": {
            "text/plain": [
              "False"
            ]
          },
          "metadata": {},
          "execution_count": 13
        }
      ]
    },
    {
      "cell_type": "code",
      "source": [],
      "metadata": {
        "id": "zBLByakU_eRv"
      },
      "execution_count": null,
      "outputs": []
    }
  ]
}