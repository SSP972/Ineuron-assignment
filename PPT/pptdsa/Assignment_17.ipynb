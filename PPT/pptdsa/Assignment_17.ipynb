{
  "nbformat": 4,
  "nbformat_minor": 0,
  "metadata": {
    "colab": {
      "provenance": []
    },
    "kernelspec": {
      "name": "python3",
      "display_name": "Python 3"
    },
    "language_info": {
      "name": "python"
    }
  },
  "cells": [
    {
      "cell_type": "code",
      "source": [
        "# Program for Question 1\n",
        "\n",
        "def find_first_non_repeating(s):\n",
        "    char_count = {}\n",
        "    for char in s:\n",
        "        char_count[char] = char_count.get(char, 0) + 1\n",
        "\n",
        "    for i, char in enumerate(s):\n",
        "        if char_count[char] == 1:\n",
        "            return i\n",
        "\n",
        "    return -1\n",
        "\n",
        "# Implementation of the program\n",
        "s = \"Implementation of the program\"\n",
        "result = find_first_non_repeating(s)\n",
        "print(result)\n",
        "\n",
        "# Time complexity: O(n), where n is the length of the string\n",
        "# Space complexity: O(1) since the character count dictionary will not exceed the number of unique characters in the string\n"
      ],
      "metadata": {
        "colab": {
          "base_uri": "https://localhost:8080/"
        },
        "id": "OfTSBVTfJaCH",
        "outputId": "f35cf73a-ec9f-4960-d524-1d2cf42172b0"
      },
      "execution_count": null,
      "outputs": [
        {
          "output_type": "stream",
          "name": "stdout",
          "text": [
            "0\n"
          ]
        }
      ]
    },
    {
      "cell_type": "code",
      "execution_count": null,
      "metadata": {
        "colab": {
          "base_uri": "https://localhost:8080/"
        },
        "id": "4obRAcSpHVnz",
        "outputId": "96fbafdf-fb17-4d84-dca2-b7337b995872"
      },
      "outputs": [
        {
          "output_type": "stream",
          "name": "stdout",
          "text": [
            "3\n"
          ]
        }
      ],
      "source": [
        "# Program for Question 2\n",
        "\"\"\"Given a **circular integer array** `nums` of length `n`, return *the maximum possible sum of a non-empty **subarray** of* `nums`.\n",
        "\n",
        "A **circular array** means the end of the array connects to the beginning of the array. Formally, the next element of `nums[i]` is `nums[(i + 1) % n]` and the previous element of `nums[i]` is `nums[(i - 1 + n) % n]`.\n",
        "\n",
        "A **subarray** may only include each element of the fixed buffer `nums` at most once. Formally, for a subarray `nums[i], nums[i + 1], ..., nums[j]`, there does not exist `i <= k1`, `k2 <= j` with `k1 % n == k2 % n\"\"\"\n",
        "def max_subarray_sum_circular(nums):\n",
        "  # Kadane's algorithm for finding maximum subarray sum\n",
        "  def kadane(nums):\n",
        "    max_sum = float('-inf')\n",
        "    current_sum = 0\n",
        "\n",
        "\n",
        "    for num in nums:\n",
        "        current_sum = max(num, current_sum + num)\n",
        "        max_sum = max(max_sum, current_sum)\n",
        "\n",
        "    return max_sum\n",
        "\n",
        "  n = len(nums)\n",
        "\n",
        "  # Case 1: Maximum subarray sum without wrapping\n",
        "  max_sum_without_wrap = kadane(nums)\n",
        "\n",
        "  # Case 2: Maximum subarray sum with wrapping\n",
        "  total_sum = sum(nums)\n",
        "  # Invert the signs of the elements in nums and find the minimum subarray sum\n",
        "  inverted_nums = [-num for num in nums]\n",
        "  max_sum_with_wrap = total_sum + kadane(inverted_nums)\n",
        "  # Return the maximum of the two cases\n",
        "  return max(max_sum_without_wrap, max_sum_with_wrap) if max_sum_without_wrap > 0 else max_sum_without_wrap\n",
        "# Implementation of the program\n",
        "nums = [1, -2, 3, -2]\n",
        "result = max_subarray_sum_circular(nums)\n",
        "print(result)\n",
        "\n",
        "# Time complexity: O(n), where n is the length of the input array\n",
        "# Space complexity: O(1)"
      ]
    },
    {
      "cell_type": "code",
      "source": [
        "# Program for Question 3\n",
        "\n",
        "def count_students_unable_to_eat(students, sandwiches):\n",
        "    count = 0\n",
        "\n",
        "    while len(students) > 0:\n",
        "        if students[0] == sandwiches[0]:\n",
        "            students.pop(0)\n",
        "            sandwiches.pop(0)\n",
        "            count = 0\n",
        "        else:\n",
        "            students.append(students.pop(0))\n",
        "            count += 1\n",
        "\n",
        "        # If all students have been cycled through and no one can eat, return the count\n",
        "        if count == len(students):\n",
        "            return count\n",
        "\n",
        "    return 0\n",
        "\n",
        "# Implementation of the program\n",
        "students = [1, 1, 0, 0]\n",
        "sandwiches = [0, 1, 0, 1]\n",
        "result = count_students_unable_to_eat(students, sandwiches)\n",
        "print(result)\n",
        "\n",
        "# Time complexity: O(n^2), where n is the number of students (in the worst case scenario, each student needs to be cycled through)\n",
        "# Space complexity: O(1)\n"
      ],
      "metadata": {
        "colab": {
          "base_uri": "https://localhost:8080/"
        },
        "id": "by-wmfP4JYyz",
        "outputId": "286f312d-a827-4e64-b06d-10c41979f101"
      },
      "execution_count": null,
      "outputs": [
        {
          "output_type": "stream",
          "name": "stdout",
          "text": [
            "0\n"
          ]
        }
      ]
    },
    {
      "cell_type": "code",
      "source": [
        "# Program for Question 3\n",
        "\n",
        "def count_students_unable_to_eat(students, sandwiches):\n",
        "    count = 0\n",
        "\n",
        "    while len(students) > 0:\n",
        "        if students[0] == sandwiches[0]:\n",
        "            students.pop(0)\n",
        "            sandwiches.pop(0)\n",
        "            count = 0\n",
        "        else:\n",
        "            students.append(students.pop(0))\n",
        "            count += 1\n",
        "\n",
        "        # If all students have been cycled through and no one can eat, return the count\n",
        "        if count == len(students):\n",
        "            return count\n",
        "\n",
        "    return 0\n",
        "\n",
        "# Implementation of the program\n",
        "students = [1, 1, 0, 0]\n",
        "sandwiches = [0, 1, 0, 1]\n",
        "result = count_students_unable_to_eat(students, sandwiches)\n",
        "print(result)\n",
        "\n",
        "# Time complexity: O(n^2), where n is the number of students (in the worst case scenario, each student needs to be cycled through)\n",
        "# Space complexity: O(1)\n",
        "\n"
      ],
      "metadata": {
        "colab": {
          "base_uri": "https://localhost:8080/"
        },
        "id": "QIaWB3rEJYqI",
        "outputId": "b7b619a3-24c6-4a3b-a27f-2ae9d897d9f9"
      },
      "execution_count": null,
      "outputs": [
        {
          "output_type": "stream",
          "name": "stdout",
          "text": [
            "0\n"
          ]
        }
      ]
    },
    {
      "cell_type": "code",
      "source": [
        "# Program for Question 4\n",
        "\"\"\"<aside>\n",
        "💡 **Question 4**\n",
        "\n",
        "You have a `RecentCounter` class which counts the number of recent requests within a certain time frame.\n",
        "\n",
        "Implement the `RecentCounter` class:\n",
        "\n",
        "- `RecentCounter()` Initializes the counter with zero recent requests.\n",
        "- `int ping(int t)` Adds a new request at time `t`, where `t` represents some time in milliseconds, and returns the number of requests that has happened in the past `3000` milliseconds (including the new request). Specifically, return the number of requests that have happened in the inclusive range `[t - 3000, t]`.\n",
        "\n",
        "It is **guaranteed** that every call to `ping` uses a strictly larger value of `t` than the previous call.\n",
        "\n",
        "**Example 1:**\n",
        "\n",
        "</aside>\n",
        "\"\"\"\n",
        "\n",
        "class RecentCounter:\n",
        "    def __init__(self):\n",
        "        self.requests = []\n",
        "\n",
        "    def ping(self, t):\n",
        "        self.requests.append(t)\n",
        "        start_time = t - 3000\n",
        "        count = 0\n",
        "\n",
        "        for request in self.requests:\n",
        "            if request >= start_time:\n",
        "                count += 1\n",
        "\n",
        "        return count\n",
        "\n",
        "# Implementation of the program\n",
        "counter = RecentCounter()\n",
        "result1 = counter.ping(1)\n",
        "result2 = counter.ping(100)\n",
        "result3 = counter.ping(3001)\n",
        "result4 = counter.ping(3002)\n",
        "print(result1)\n",
        "print(result2)\n",
        "print(result3)\n",
        "print(result4)\n",
        "\n",
        "# Time complexity: O(n), where n is the total number of requests made\n",
        "# Space complexity: O(1)\n"
      ],
      "metadata": {
        "colab": {
          "base_uri": "https://localhost:8080/"
        },
        "id": "a8fjT0TwJYhV",
        "outputId": "ada78823-feda-4e51-9814-5b50f77a6f00"
      },
      "execution_count": null,
      "outputs": [
        {
          "output_type": "stream",
          "name": "stdout",
          "text": [
            "1\n",
            "2\n",
            "3\n",
            "3\n"
          ]
        }
      ]
    },
    {
      "cell_type": "code",
      "source": [
        "\"\"\"<aside>\n",
        "💡 **Question 5**\n",
        "\n",
        "There are `n` friends that are playing a game. The friends are sitting in a circle and are numbered from `1` to `n` in **clockwise order**. More formally, moving clockwise from the `ith` friend brings you to the `(i+1)th` friend for `1 <= i < n`, and moving clockwise from the `nth` friend brings you to the `1st` friend.\n",
        "\n",
        "The rules of the game are as follows:\n",
        "\n",
        "1. **Start** at the `1st` friend.\n",
        "2. Count the next `k` friends in the clockwise direction **including** the friend you started at. The counting wraps around the circle and may count some friends more than once.\n",
        "3. The last friend you counted leaves the circle and loses the game.\n",
        "4. If there is still more than one friend in the circle, go back to step `2` **starting** from the friend **immediately clockwise** of the friend who just lost and repeat.\n",
        "5. Else, the last friend in the circle wins the game.\n",
        "\n",
        "Given the number of friends, `n`, and an integer `k`, return *the winner of the game*.\n",
        "\n",
        "**Example 1:**\n",
        "\n",
        "!https://assets.leetcode.com/uploads/2021/03/25/ic234-q2-ex11.png\n",
        "\n",
        "```\n",
        "Input: n = 5, k = 2\n",
        "Output: 3\n",
        "Explanation: Here are the steps of the game:\n",
        "1) Start at friend 1.\n",
        "2) Count 2 friends clockwise, which are friends 1 and 2.\n",
        "3) Friend 2 leaves the circle. Next start is friend 3.\n",
        "4) Count 2 friends clockwise, which are friends 3 and 4.\n",
        "5) Friend 4 leaves the circle. Next start is friend 5.\n",
        "6) Count 2 friends clockwise, which are friends 5 and 1.\n",
        "7) Friend 1 leaves the circle. Next start is friend 3.\n",
        "8) Count 2 friends clockwise, which are friends 3 and 5.\n",
        "9) Friend 5 leaves the circle. Only friend 3 is left, so they are the winner.\n",
        "```\n",
        "\n",
        "**Example 2:**\n",
        "\n",
        "</aside>\"\"\"\n",
        "\n",
        "\n",
        "# Program for Question 5\n",
        "\n",
        "def find_winner(n, k):\n",
        "    winner = 0\n",
        "\n",
        "    for i in range(1, n + 1):\n",
        "        winner = (winner + k) % i\n",
        "\n",
        "    return winner + 1\n",
        "\n",
        "# Implementation of the program\n",
        "n = 5\n",
        "k = 2\n",
        "result = find_winner(n, k)\n",
        "print(result)\n",
        "\n",
        "# Time complexity: O(n), where n is the number of friends\n",
        "# Space complexity: O(1)"
      ],
      "metadata": {
        "colab": {
          "base_uri": "https://localhost:8080/"
        },
        "id": "YQAtpRKdJYfC",
        "outputId": "8ac1e8c5-d5ad-416b-9832-e96d307ecd6e"
      },
      "execution_count": null,
      "outputs": [
        {
          "output_type": "stream",
          "name": "stdout",
          "text": [
            "3\n"
          ]
        }
      ]
    },
    {
      "cell_type": "code",
      "source": [
        "\"\"\"\n",
        "<aside>\n",
        "💡 **Question 6**\n",
        "\n",
        "You are given an integer array `deck`. There is a deck of cards where every card has a unique integer. The integer on the `ith` card is `deck[i]`.\n",
        "\n",
        "You can order the deck in any order you want. Initially, all the cards start face down (unrevealed) in one deck.\n",
        "\n",
        "You will do the following steps repeatedly until all cards are revealed:\n",
        "\n",
        "1. Take the top card of the deck, reveal it, and take it out of the deck.\n",
        "2. If there are still cards in the deck then put the next top card of the deck at the bottom of the deck.\n",
        "3. If there are still unrevealed cards, go back to step 1. Otherwise, stop.\n",
        "\n",
        "Return *an ordering of the deck that would reveal the cards in increasing order*.\n",
        "\n",
        "**Note** that the first entry in the answer is considered to be the top of the deck.\n",
        "\n",
        "**Example 1:**\n",
        "\n",
        "```\n",
        "Input: deck = [17,13,11,2,3,5,7]\n",
        "Output: [2,13,3,11,5,17,7]\n",
        "Explanation:\n",
        "We get the deck in the order [17,13,11,2,3,5,7] (this order does not matter), and reorder it.\n",
        "After reordering, the deck starts as [2,13,3,11,5,17,7], where 2 is the top of the deck.\n",
        "We reveal 2, and move 13 to the bottom.  The deck is now [3,11,5,17,7,13].\n",
        "We reveal 3, and move 11 to the bottom.  The deck is now [5,17,7,13,11].\n",
        "We reveal 5, and move 17 to the bottom.  The deck is now [7,13,11,17].\n",
        "We reveal 7, and move 13 to the bottom.  The deck is now [11,17,13].\n",
        "We reveal 11, and move 17 to the bottom.  The deck is now [13,17].\n",
        "We reveal 13, and move 17 to the bottom.  The deck is now [17].\n",
        "We reveal 17.\n",
        "Since all the cards revealed are in increasing order, the answer is correct.\n",
        "\n",
        "```\n",
        "\n",
        "**Example 2:**\n",
        "\n",
        "</aside>\n",
        "\"\"\"\n",
        "\n",
        "\n",
        "\n",
        "# Program for Question 6\n",
        "\n",
        "from collections import deque\n",
        "\n",
        "def reveal_cards_increasing_order(deck):\n",
        "    n = len(deck)\n",
        "    indices = deque(range(n))\n",
        "    result = [0] * n\n",
        "\n",
        "    deck.sort()\n",
        "\n",
        "    for card in deck:\n",
        "        index = indices.popleft()\n",
        "        result[index] = card\n",
        "\n",
        "        if indices:\n",
        "            indices.append(indices.popleft())\n",
        "\n",
        "    return result\n",
        "\n",
        "# Implementation of the program\n",
        "deck = [17, 13, 11, 2, 3, 5, 7]\n",
        "result = reveal_cards_increasing_order(deck)\n",
        "print(result)\n",
        "\n",
        "# Time complexity: O(n log n), where n is the number of cards in the deck\n",
        "# Space complexity: O(n)"
      ],
      "metadata": {
        "colab": {
          "base_uri": "https://localhost:8080/"
        },
        "id": "uFEjtBm2JYaR",
        "outputId": "67121667-e41b-49b3-e08a-f438a04e4c56"
      },
      "execution_count": null,
      "outputs": [
        {
          "output_type": "stream",
          "name": "stdout",
          "text": [
            "[2, 13, 3, 11, 5, 17, 7]\n"
          ]
        }
      ]
    },
    {
      "cell_type": "code",
      "source": [
        "\"\"\"\n",
        "<aside>\n",
        "💡 **Question 7**\n",
        "\n",
        "Design a queue that supports `push` and `pop` operations in the front, middle, and back.\n",
        "\n",
        "Implement the `FrontMiddleBack` class:\n",
        "\n",
        "- `FrontMiddleBack()` Initializes the queue.\n",
        "- `void pushFront(int val)` Adds `val` to the **front** of the queue.\n",
        "- `void pushMiddle(int val)` Adds `val` to the **middle** of the queue.\n",
        "- `void pushBack(int val)` Adds `val` to the **back** of the queue.\n",
        "- `int popFront()` Removes the **front** element of the queue and returns it. If the queue is empty, return `1`.\n",
        "- `int popMiddle()` Removes the **middle** element of the queue and returns it. If the queue is empty, return `1`.\n",
        "- `int popBack()` Removes the **back** element of the queue and returns it. If the queue is empty, return `1`.\n",
        "\n",
        "**Notice** that when there are **two** middle position choices, the operation is performed on the **frontmost** middle position choice. For example:\n",
        "\n",
        "- Pushing `6` into the middle of `[1, 2, 3, 4, 5]` results in `[1, 2, 6, 3, 4, 5]`.\n",
        "- Popping the middle from `[1, 2, 3, 4, 5, 6]` returns `3` and results in `[1, 2, 4, 5, 6]`.\n",
        "\n",
        "**Example 1:**\n",
        "\n",
        "</aside>\n",
        "\"\"\"\n",
        "\n",
        "\n",
        "\n",
        "# Program for Question 7\n",
        "\n",
        "class FrontMiddleBack:\n",
        "    def __init__(self):\n",
        "        self.queue = deque()\n",
        "\n",
        "    def pushFront(self, val):\n",
        "        self.queue.appendleft(val)\n",
        "\n",
        "    def pushMiddle(self, val):\n",
        "        mid = len(self.queue) // 2\n",
        "        self.queue.insert(mid, val)\n",
        "\n",
        "    def pushBack(self, val):\n",
        "        self.queue.append(val)\n",
        "\n",
        "    def popFront(self):\n",
        "        if not self.queue:\n",
        "            return -1\n",
        "        return self.queue.popleft()\n",
        "\n",
        "    def popMiddle(self) -> int:\n",
        "        if len(self.queue) > 0 and len(self.queue) % 2 != 0:\n",
        "            mid = (len(self.queue) // 2)\n",
        "            elements = []\n",
        "            for _ in range(mid):\n",
        "                elements.append(self.queue.popleft())\n",
        "            middle = self.queue.popleft()\n",
        "            self.queue.extendleft(elements[::-1])\n",
        "            return middle\n",
        "        elif len(self.queue) > 0 and len(self.queue) % 2 == 0:\n",
        "            mid = (len(self.queue) // 2) - 1\n",
        "            elements = []\n",
        "            for _ in range(mid):\n",
        "                elements.append(self.queue.popleft())\n",
        "            middle = self.queue.popleft()\n",
        "            self.queue.extendleft(elements[::-1])\n",
        "            return middle\n",
        "\n",
        "        return -1\n",
        "\n",
        "    def popBack(self):\n",
        "        if not self.queue:\n",
        "            return -1\n",
        "        return self.queue.pop()\n",
        "\n",
        "# Implementation of the program\n",
        "queue = FrontMiddleBack()\n",
        "queue.pushFront(1)\n",
        "queue.pushBack(2)\n",
        "queue.pushMiddle(3)\n",
        "result1 = queue.popFront()\n",
        "result2 = queue.popMiddle()\n",
        "result3 = queue.popBack()\n",
        "print(result1)\n",
        "print(result2)\n",
        "print(result3)\n",
        "\n",
        "\n",
        "\n",
        "# Time complexity:\n",
        "# pushFront: O(1)\n",
        "# pushMiddle: O(n)\n",
        "# pushBack: O(1)\n",
        "# popFront: O(1)\n",
        "# popMiddle: O(n)\n",
        "# popBack: O(1)\n",
        "\n",
        "# Space complexity: O(n)"
      ],
      "metadata": {
        "colab": {
          "base_uri": "https://localhost:8080/"
        },
        "id": "LfZIR1uIJYXs",
        "outputId": "63207d21-6696-4e0d-8748-6d84a77e400a"
      },
      "execution_count": null,
      "outputs": [
        {
          "output_type": "stream",
          "name": "stdout",
          "text": [
            "1\n",
            "3\n",
            "2\n"
          ]
        }
      ]
    },
    {
      "cell_type": "code",
      "source": [
        "\"\"\"<aside>\n",
        "💡 **Question 8**\n",
        "\n",
        "For a stream of integers, implement a data structure that checks if the last `k` integers parsed in the stream are **equal** to `value`.\n",
        "\n",
        "Implement the **DataStream** class:\n",
        "\n",
        "- `DataStream(int value, int k)` Initializes the object with an empty integer stream and the two integers `value` and `k`.\n",
        "- `boolean consec(int num)` Adds `num` to the stream of integers. Returns `true` if the last `k` integers are equal to `value`, and `false` otherwise. If there are less than `k` integers, the condition does not hold true, so returns `false`.\n",
        "\n",
        "**Example 1:**\n",
        "\n",
        "```\n",
        "Input\n",
        "[\"DataStream\", \"consec\", \"consec\", \"consec\", \"consec\"]\n",
        "[[4, 3], [4], [4], [4], [3]]\n",
        "Output\n",
        "[null, false, false, true, false]\n",
        "\n",
        "Explanation\n",
        "DataStream dataStream = new DataStream(4, 3); //value = 4, k = 3\n",
        "dataStream.consec(4); // Only 1 integer is parsed, so returns False.\n",
        "dataStream.consec(4); // Only 2 integers are parsed.\n",
        "                      // Since 2 is less than k, returns False.\n",
        "dataStream.consec(4); // The 3 integers parsed are all equal to value, so returns True.\n",
        "dataStream.consec(3); // The last k integers parsed in the stream are [4,4,3].\n",
        "                      // Since 3 is not equal to value, it returns False.\n",
        "```\n",
        "\n",
        "</aside>\"\"\"\n",
        "\n",
        "\n",
        "# Program for Question 8\n",
        "\n",
        "class DataStream:\n",
        "    def __init__(self, value, k):\n",
        "        self.stream = []\n",
        "        self.value = value\n",
        "        self.k = k\n",
        "\n",
        "    def consec(self, num):\n",
        "        self.stream.append(num)\n",
        "\n",
        "        if len(self.stream) < self.k:\n",
        "            return False\n",
        "\n",
        "        last_k = self.stream[-self.k:]\n",
        "        return all(elem == self.value for elem in last_k)\n",
        "\n",
        "# Implementation of the program\n",
        "data_stream = DataStream(4, 3)\n",
        "result1 = data_stream.consec(4)\n",
        "result2 = data_stream.consec(4)\n",
        "result3 = data_stream.consec(4)\n",
        "result4 = data_stream.consec(3)\n",
        "print(result1)\n",
        "print(result2)\n",
        "print(result3)\n",
        "print(result4)\n",
        "\n",
        "# Time complexity: O(k), where k is the specified value for the last k integers\n",
        "# Space complexity: O(k), since we store the last k integers in a list"
      ],
      "metadata": {
        "colab": {
          "base_uri": "https://localhost:8080/"
        },
        "id": "puYKF4pLJYWI",
        "outputId": "756e7986-550b-4473-b514-22e852d5ea64"
      },
      "execution_count": null,
      "outputs": [
        {
          "output_type": "stream",
          "name": "stdout",
          "text": [
            "False\n",
            "False\n",
            "True\n",
            "False\n"
          ]
        }
      ]
    },
    {
      "cell_type": "code",
      "source": [],
      "metadata": {
        "id": "-bP5r9UBMT5d"
      },
      "execution_count": null,
      "outputs": []
    }
  ]
}