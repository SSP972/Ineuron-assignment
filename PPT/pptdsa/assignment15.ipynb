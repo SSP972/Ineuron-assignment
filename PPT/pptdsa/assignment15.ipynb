{
  "nbformat": 4,
  "nbformat_minor": 0,
  "metadata": {
    "colab": {
      "provenance": []
    },
    "kernelspec": {
      "name": "python3",
      "display_name": "Python 3"
    },
    "language_info": {
      "name": "python"
    }
  },
  "cells": [
    {
      "cell_type": "markdown",
      "source": [
        "<aside>\n",
        "💡 **Question 1**\n",
        "\n",
        "Given an array **arr[ ]** of size **N** having elements, the task is to find the next greater element for each element of the array in order of their appearance in the array.Next greater element of an element in the array is the nearest element on the right which is greater than the current element.If there does not exist next greater of current element, then next greater element for current element is -1. For example, next greater of the last element is always -1.\n",
        "\n",
        "**Example 1:**\n",
        "\n",
        "```\n",
        "Input:\n",
        "N = 4, arr[] = [1 3 2 4]\n",
        "Output:\n",
        "3 4 4 -1\n",
        "Explanation:\n",
        "In the array, the next larger element\n",
        "to 1 is 3 , 3 is 4 , 2 is 4 and for 4 ?\n",
        "since it doesn't exist, it is -1.\n",
        "\n",
        "```\n",
        "\n",
        "**Example 2:**\n",
        "\n",
        "```\n",
        "Input:\n",
        "N = 5, arr[] [6 8 0 1 3]\n",
        "Output:\n",
        "8 -1 1 3 -1\n",
        "Explanation:\n",
        "In the array, the next larger element to\n",
        "6 is 8, for 8 there is no larger elements\n",
        "hence it is -1, for 0 it is 1 , for 1 it\n",
        "is 3 and then for 3 there is no larger\n",
        "element on right and hence -1.\n",
        "```\n",
        "\n",
        "</aside>\n"
      ],
      "metadata": {
        "id": "VwyoS3h2t7dY"
      }
    },
    {
      "cell_type": "code",
      "execution_count": null,
      "metadata": {
        "id": "yqo2enN4IwK7",
        "colab": {
          "base_uri": "https://localhost:8080/"
        },
        "outputId": "3458dfd7-80ac-4117-9179-8d8a3e9aadee"
      },
      "outputs": [
        {
          "output_type": "stream",
          "name": "stdout",
          "text": [
            "[3, 4, 4, -1]\n",
            "[8, -1, 1, 3, -1]\n"
          ]
        }
      ],
      "source": [
        "def nextGreaterElements(N, arr):\n",
        "    stack = []\n",
        "    nextGreater = [-1] * N\n",
        "\n",
        "    for i in range(N - 1, -1, -1):\n",
        "        while stack and stack[-1] <= arr[i]:\n",
        "            stack.pop()\n",
        "\n",
        "        if stack:\n",
        "            nextGreater[i] = stack[-1]\n",
        "\n",
        "        stack.append(arr[i])\n",
        "\n",
        "    return nextGreater\n",
        "arr1 = [1, 3, 2, 4]\n",
        "N1 = len(arr1)\n",
        "print(nextGreaterElements(N1, arr1))  # Output: [3, 4, 4, -1]\n",
        "\n",
        "arr2 = [6, 8, 0, 1, 3]\n",
        "N2 = len(arr2)\n",
        "print(nextGreaterElements(N2, arr2))  # Output: [8, -1, 1, 3, -1]\n"
      ]
    },
    {
      "cell_type": "markdown",
      "source": [
        "\n",
        "<aside>\n",
        "💡 **Question 2**\n",
        "\n",
        "Given an array **a** of integers of length **n**, find the nearest smaller number for every element such that the smaller element is on left side.If no small element present on the left print -1.\n",
        "\n",
        "**Example 1:**\n",
        "\n",
        "```\n",
        "Input: n = 3\n",
        "a = {1, 6, 2}\n",
        "Output: -1 1 1\n",
        "Explaination: There is no number at the\n",
        "left of 1. Smaller number than 6 and 2 is 1.\n",
        "```\n",
        "\n",
        "**Example 2:**\n",
        "\n",
        "```\n",
        "Input: n = 6\n",
        "a = {1, 5, 0, 3, 4, 5}\n",
        "Output: -1 1 -1 0 3 4\n",
        "Explaination: Upto 3 it is easy to see\n",
        "the smaller numbers. But for 4 the smaller\n",
        "numbers are 1, 0 and 3. But among them 3\n",
        "is closest. Similary for 5 it is 4.\n",
        "```\n",
        "\n",
        "</aside>\n"
      ],
      "metadata": {
        "id": "ca0apo8PwiQj"
      }
    },
    {
      "cell_type": "code",
      "source": [
        "def nearestSmallerElements(n, a):\n",
        "    stack = []\n",
        "    nearestSmaller = [-1] * n\n",
        "\n",
        "    for i in range(n):\n",
        "        while stack and stack[-1] >= a[i]:\n",
        "            stack.pop()\n",
        "\n",
        "        if stack:\n",
        "            nearestSmaller[i] = stack[-1]\n",
        "\n",
        "        stack.append(a[i])\n",
        "\n",
        "    return nearestSmaller\n",
        "a1 = [1, 6, 2]\n",
        "n1 = len(a1)\n",
        "print(nearestSmallerElements(n1, a1))  # Output: [-1, 1, 1]\n",
        "\n",
        "a2 = [1, 5, 0, 3, 4, 5]\n",
        "n2 = len(a2)\n",
        "print(nearestSmallerElements(n2, a2))  # Output: [-1, 1, -1, 0, 3, 4]\n"
      ],
      "metadata": {
        "colab": {
          "base_uri": "https://localhost:8080/"
        },
        "id": "-chtC7Kowijb",
        "outputId": "1e0752f9-4f53-4b6e-c417-38d7d8e37a8a"
      },
      "execution_count": null,
      "outputs": [
        {
          "output_type": "stream",
          "name": "stdout",
          "text": [
            "[-1, 1, 1]\n",
            "[-1, 1, -1, 0, 3, 4]\n"
          ]
        }
      ]
    },
    {
      "cell_type": "markdown",
      "source": [
        "\n",
        "<aside>\n",
        "💡 **Question 3**\n",
        "\n",
        "Implement a Stack using two queues **q1** and **q2**.\n",
        "\n",
        "**Example 1:**\n",
        "\n",
        "```\n",
        "Input:\n",
        "push(2)\n",
        "push(3)\n",
        "pop()\n",
        "push(4)\n",
        "pop()\n",
        "Output:3 4\n",
        "Explanation:\n",
        "push(2) the stack will be {2}\n",
        "push(3) the stack will be {2 3}\n",
        "pop()   poped element will be 3 the\n",
        "        stack will be {2}\n",
        "push(4) the stack will be {2 4}\n",
        "pop()   poped element will be 4\n",
        "\n",
        "```\n",
        "\n",
        "**Example 2:**\n",
        "\n",
        "```\n",
        "Input:\n",
        "push(2)\n",
        "pop()\n",
        "pop()\n",
        "push(3)\n",
        "Output:2 -1\n",
        "```\n",
        "\n",
        "</aside>\n"
      ],
      "metadata": {
        "id": "8_WR-cSiwo3p"
      }
    },
    {
      "cell_type": "code",
      "source": [
        "from collections import deque\n",
        "\n",
        "class Stack:\n",
        "    def __init__(self):\n",
        "        self.q1 = deque()\n",
        "        self.q2 = deque()\n",
        "\n",
        "    def push(self, val):\n",
        "        self.q1.append(val)\n",
        "\n",
        "    def pop(self):\n",
        "        if not self.q1 and not self.q2:\n",
        "            return -1\n",
        "\n",
        "        while len(self.q1) > 1:\n",
        "            self.q2.append(self.q1.popleft())\n",
        "\n",
        "        return self.q1.popleft() if self.q1 else self.q2.popleft()\n",
        "\n",
        "    def top(self):\n",
        "        if not self.q1 and not self.q2:\n",
        "            return -1\n",
        "\n",
        "        while len(self.q1) > 1:\n",
        "            self.q2.append(self.q1.popleft())\n",
        "\n",
        "        top_val = self.q1[0] if self.q1 else self.q2[0]\n",
        "        self.q2.append(self.q1.popleft())\n",
        "\n",
        "        return top_val\n",
        "\n",
        "    def empty(self):\n",
        "        return not self.q1 and not self.q2\n",
        "stack = Stack()\n",
        "stack.push(2)\n",
        "stack.push(3)\n",
        "print(stack.pop())  # Output: 3\n",
        "stack.push(4)\n",
        "print(stack.pop())  # Output: 4\n",
        "\n",
        "stack = Stack()\n",
        "stack.push(2)\n",
        "print(stack.pop())  # Output: 2\n",
        "print(stack.pop())  # Output: -1\n",
        "stack.push(3)\n",
        "print(stack.top())  # Output: 3\n"
      ],
      "metadata": {
        "colab": {
          "base_uri": "https://localhost:8080/"
        },
        "id": "RCEdEOVWwpLL",
        "outputId": "b3e42f1d-23d4-4173-d550-6bf85b440d52"
      },
      "execution_count": null,
      "outputs": [
        {
          "output_type": "stream",
          "name": "stdout",
          "text": [
            "3\n",
            "4\n",
            "2\n",
            "-1\n",
            "3\n"
          ]
        }
      ]
    },
    {
      "cell_type": "markdown",
      "source": [
        "\n",
        "<aside>\n",
        "💡 **Question 4**\n",
        "\n",
        "You are given a stack **St**. You have to reverse the stack using recursion.\n",
        "\n",
        "**Example 1:**\n",
        "\n",
        "```\n",
        "Input:St = {3,2,1,7,6}\n",
        "Output:{6,7,1,2,3}\n",
        "```\n",
        "\n",
        "**Example 2:**\n",
        "\n",
        "```\n",
        "Input:St = {4,3,9,6}\n",
        "Output:{6,9,3,4}\n",
        "```\n",
        "\n",
        "</aside>\n"
      ],
      "metadata": {
        "id": "vD-YBdm4wwr1"
      }
    },
    {
      "cell_type": "code",
      "source": [
        "def reverseStack(St):\n",
        "    if len(St) <= 1:\n",
        "        return\n",
        "\n",
        "    top = St.pop()\n",
        "    reverseStack(St)\n",
        "    insertAtBottom(St, top)\n",
        "\n",
        "\n",
        "def insertAtBottom(St, item):\n",
        "    if len(St) == 0:\n",
        "        St.append(item)\n",
        "    else:\n",
        "        top = St.pop()\n",
        "        insertAtBottom(St, item)\n",
        "        St.append(top)\n",
        "\n",
        "\n",
        "# Testing the function\n",
        "St = [3, 2, 1, 7, 6]\n",
        "reverseStack(St)\n",
        "print(St)  # Output: [6, 7, 1, 2, 3]\n",
        "\n",
        "St = [4, 3, 9, 6]\n",
        "reverseStack(St)\n",
        "print(St)  # Output: [6, 9, 3, 4]\n"
      ],
      "metadata": {
        "colab": {
          "base_uri": "https://localhost:8080/"
        },
        "id": "VVqfqjI8w1qX",
        "outputId": "68020661-403b-4174-a567-36762f644d31"
      },
      "execution_count": null,
      "outputs": [
        {
          "output_type": "stream",
          "name": "stdout",
          "text": [
            "[6, 7, 1, 2, 3]\n",
            "[6, 9, 3, 4]\n"
          ]
        }
      ]
    },
    {
      "cell_type": "markdown",
      "source": [
        "\n",
        "<aside>\n",
        "💡 **Question 5**\n",
        "\n",
        "You are given a string **S**, the task is to reverse the string using stack.\n",
        "\n",
        "**Example 1:**\n",
        "\n",
        "```\n",
        "Input: S=\"GeeksforGeeks\"\n",
        "Output: skeeGrofskeeG\n",
        "```\n",
        "\n",
        "</aside>\n"
      ],
      "metadata": {
        "id": "bvmGNxijw2Bb"
      }
    },
    {
      "cell_type": "code",
      "source": [
        "def reverseString(S):\n",
        "    stack = []\n",
        "\n",
        "    # Push each character onto the stack\n",
        "    for ch in S:\n",
        "        stack.append(ch)\n",
        "\n",
        "    reversed_string = \"\"\n",
        "\n",
        "    # Pop each character from the stack\n",
        "    while stack:\n",
        "        reversed_string += stack.pop()\n",
        "\n",
        "    return reversed_string\n",
        "S = \"GeeksforGeeks\"\n",
        "print(reverseString(S))  # Output: skeeGrofskeeG\n"
      ],
      "metadata": {
        "colab": {
          "base_uri": "https://localhost:8080/"
        },
        "id": "ia5Sv2I0w5-j",
        "outputId": "52717db7-2694-4aa0-cdb1-d0a8ab044ada"
      },
      "execution_count": null,
      "outputs": [
        {
          "output_type": "stream",
          "name": "stdout",
          "text": [
            "skeeGrofskeeG\n"
          ]
        }
      ]
    },
    {
      "cell_type": "markdown",
      "source": [
        "\n",
        "<aside>\n",
        "💡 **Question 6**\n",
        "\n",
        "Given string **S** representing a postfix expression, the task is to evaluate the expression and find the final value. Operators will only include the basic arithmetic operators like ***, /, + and -**.\n",
        "\n",
        "**Example 1:**\n",
        "\n",
        "```\n",
        "Input: S = \"231*+9-\"\n",
        "Output: -4\n",
        "Explanation:\n",
        "After solving the given expression,\n",
        "we have -4 as result.\n",
        "\n",
        "```\n",
        "\n",
        "**Example 2:**\n",
        "\n",
        "```\n",
        "Input: S = \"123+*8-\"\n",
        "Output: -3\n",
        "Explanation:\n",
        "After solving the given postfix\n",
        "expression, we have -3 as result.\n",
        "```\n",
        "\n",
        "</aside>\n"
      ],
      "metadata": {
        "id": "HWW9PK1Qw6WE"
      }
    },
    {
      "cell_type": "code",
      "source": [
        "def evaluatePostfix(S):\n",
        "    stack = []\n",
        "\n",
        "    for ch in S:\n",
        "        if ch.isdigit():\n",
        "            stack.append(int(ch))\n",
        "        else:\n",
        "            operand2 = stack.pop()\n",
        "            operand1 = stack.pop()\n",
        "\n",
        "            if ch == '+':\n",
        "                result = operand1 + operand2\n",
        "            elif ch == '-':\n",
        "                result = operand1 - operand2\n",
        "            elif ch == '*':\n",
        "                result = operand1 * operand2\n",
        "            elif ch == '/':\n",
        "                result = operand1 / operand2\n",
        "\n",
        "            stack.append(result)\n",
        "\n",
        "    return stack.pop()\n",
        "\n",
        "S1 = \"231*+9-\"\n",
        "print(evaluatePostfix(S1))  # Output: -4\n",
        "\n",
        "S2 = \"123+*8-\"\n",
        "print(evaluatePostfix(S2))  # Output: -3\n"
      ],
      "metadata": {
        "colab": {
          "base_uri": "https://localhost:8080/"
        },
        "id": "2bDwNFETw9ib",
        "outputId": "7ec13a07-2248-4b5b-eaf2-bc089b09325a"
      },
      "execution_count": null,
      "outputs": [
        {
          "output_type": "stream",
          "name": "stdout",
          "text": [
            "-4\n",
            "-3\n"
          ]
        }
      ]
    },
    {
      "cell_type": "markdown",
      "source": [
        "\n",
        "<aside>\n",
        "💡 **Question 7**\n",
        "\n",
        "Design a stack that supports push, pop, top, and retrieving the minimum element in constant time.\n",
        "\n",
        "Implement the `MinStack` class:\n",
        "\n",
        "- `MinStack()` initializes the stack object.\n",
        "- `void push(int val)` pushes the element `val` onto the stack.\n",
        "- `void pop()` removes the element on the top of the stack.\n",
        "- `int top()` gets the top element of the stack.\n",
        "- `int getMin()` retrieves the minimum element in the stack.\n",
        "\n",
        "You must implement a solution with `O(1)` time complexity for each function.\n",
        "\n",
        "**Example 1:**\n",
        "\n",
        "```\n",
        "Input\n",
        "[\"MinStack\",\"push\",\"push\",\"push\",\"getMin\",\"pop\",\"top\",\"getMin\"]\n",
        "[[],[-2],[0],[-3],[],[],[],[]]\n",
        "\n",
        "Output\n",
        "[null,null,null,null,-3,null,0,-2]\n",
        "\n",
        "Explanation\n",
        "MinStack minStack = new MinStack();\n",
        "minStack.push(-2);\n",
        "minStack.push(0);\n",
        "minStack.push(-3);\n",
        "minStack.getMin(); // return -3\n",
        "minStack.pop();\n",
        "minStack.top();    // return 0\n",
        "minStack.getMin(); // return -2\n",
        "```\n",
        "\n",
        "</aside>\n"
      ],
      "metadata": {
        "id": "jBOBUikXw97t"
      }
    },
    {
      "cell_type": "code",
      "source": [
        "class MinStack:\n",
        "    def __init__(self):\n",
        "        self.stack = []\n",
        "        self.min_stack = []\n",
        "\n",
        "    def push(self, val):\n",
        "        self.stack.append(val)\n",
        "        if not self.min_stack or val <= self.min_stack[-1]:\n",
        "            self.min_stack.append(val)\n",
        "\n",
        "    def pop(self):\n",
        "        if self.stack.pop() == self.min_stack[-1]:\n",
        "            self.min_stack.pop()\n",
        "\n",
        "    def top(self):\n",
        "        return self.stack[-1]\n",
        "\n",
        "    def getMin(self):\n",
        "        return self.min_stack[-1]\n",
        "minStack = MinStack()\n",
        "minStack.push(-2)\n",
        "minStack.push(0)\n",
        "minStack.push(-3)\n",
        "print(minStack.getMin())  # Output: -3\n",
        "minStack.pop()\n",
        "print(minStack.top())     # Output: 0\n",
        "print(minStack.getMin())  # Output: -2\n"
      ],
      "metadata": {
        "colab": {
          "base_uri": "https://localhost:8080/"
        },
        "id": "ZU9wdjbkw-We",
        "outputId": "7648dd7a-5e67-422c-bad2-2a91ec20fd21"
      },
      "execution_count": null,
      "outputs": [
        {
          "output_type": "stream",
          "name": "stdout",
          "text": [
            "-3\n",
            "0\n",
            "-2\n"
          ]
        }
      ]
    },
    {
      "cell_type": "markdown",
      "source": [
        "\n",
        "<aside>\n",
        "💡 **Question 8**\n",
        "\n",
        "Given `n` non-negative integers representing an elevation map where the width of each bar is `1`, compute how much water it can trap after raining.\n",
        "\n",
        "**Example 1:**\n",
        "\n",
        "!https://assets.leetcode.com/uploads/2018/10/22/rainwatertrap.png\n",
        "\n",
        "```\n",
        "Input: height = [0,1,0,2,1,0,1,3,2,1,2,1]\n",
        "Output: 6\n",
        "Explanation: The above elevation map (black section) is represented by array [0,1,0,2,1,0,1,3,2,1,2,1]. In this case, 6 units of rain water (blue section) are being trapped.\n",
        "\n",
        "```\n",
        "\n",
        "**Example 2:**\n",
        "\n",
        "</aside>"
      ],
      "metadata": {
        "id": "sKLFoLziw-pJ"
      }
    },
    {
      "cell_type": "code",
      "source": [
        "def trap(height):\n",
        "    left = 0\n",
        "    right = len(height) - 1\n",
        "    leftMax = rightMax = water = 0\n",
        "\n",
        "    while left <= right:\n",
        "        if height[left] <= height[right]:\n",
        "            if height[left] > leftMax:\n",
        "                leftMax = height[left]\n",
        "            else:\n",
        "                water += leftMax - height[left]\n",
        "            left += 1\n",
        "        else:\n",
        "            if height[right] > rightMax:\n",
        "                rightMax = height[right]\n",
        "            else:\n",
        "                water += rightMax - height[right]\n",
        "            right -= 1\n",
        "\n",
        "    return water\n",
        "\n",
        "\n",
        "\n",
        "height1 = [0, 1, 0, 2, 1, 0, 1, 3, 2, 1, 2, 1]\n",
        "print(trap(height1))  # Output: 6\n",
        "\n",
        "height2 = [4, 2, 0, 3, 2, 5]\n",
        "print(trap(height2))  # Output: 9\n"
      ],
      "metadata": {
        "colab": {
          "base_uri": "https://localhost:8080/"
        },
        "id": "BxadpvC2w--Q",
        "outputId": "734e47b3-7ec2-4050-8cd9-3a02c782d62b"
      },
      "execution_count": null,
      "outputs": [
        {
          "output_type": "stream",
          "name": "stdout",
          "text": [
            "6\n",
            "9\n"
          ]
        }
      ]
    },
    {
      "cell_type": "code",
      "source": [],
      "metadata": {
        "id": "33wwFZLpyBBi"
      },
      "execution_count": null,
      "outputs": []
    }
  ]
}