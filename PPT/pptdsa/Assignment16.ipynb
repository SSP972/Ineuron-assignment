{
  "nbformat": 4,
  "nbformat_minor": 0,
  "metadata": {
    "colab": {
      "provenance": []
    },
    "kernelspec": {
      "name": "python3",
      "display_name": "Python 3"
    },
    "language_info": {
      "name": "python"
    }
  },
  "cells": [
    {
      "cell_type": "markdown",
      "source": [
        "<aside>\n",
        "💡 **Question 1**\n",
        "\n",
        "Given an array, for each element find the value of the nearest element to the right which is having a frequency greater than that of the current element. If there does not exist an answer for a position, then make the value ‘-1’.\n",
        "\n",
        "**Examples:**\n",
        "\n",
        "```\n",
        "Input: a[] = [1, 1, 2, 3, 4, 2, 1]\n",
        "Output : [-1, -1, 1, 2, 2, 1, -1]\n",
        "\n",
        "Explanation:\n",
        "Given array a[] = [1, 1, 2, 3, 4, 2, 1]\n",
        "Frequency of each element is: 3, 3, 2, 1, 1, 2, 3\n",
        "\n",
        "Lets calls Next Greater Frequency element as NGF\n",
        "1. For element a[0] = 1 which has a frequency = 3,\n",
        "   As it has frequency of 3 and no other next element\n",
        "   has frequency more than 3 so  '-1'\n",
        "2. For element a[1] = 1 it will be -1 same logic\n",
        "   like a[0]\n",
        "3. For element a[2] = 2 which has frequency = 2,\n",
        "   NGF element is 1 at position = 6  with frequency\n",
        "   of 3 > 2\n",
        "4. For element a[3] = 3 which has frequency = 1,\n",
        "   NGF element is 2 at position = 5 with frequency\n",
        "   of 2 > 1\n",
        "5. For element a[4] = 4 which has frequency = 1,\n",
        "   NGF element is 2 at position = 5 with frequency\n",
        "   of 2 > 1\n",
        "6. For element a[5] = 2 which has frequency = 2,\n",
        "   NGF element is 1 at position = 6 with frequency\n",
        "   of 3 > 2\n",
        "7. For element a[6] = 1 there is no element to its\n",
        "   right, hence -1\n",
        "```\n",
        "\n",
        "```\n",
        "Input : a[] = [1, 1, 1, 2, 2, 2, 2, 11, 3, 3]\n",
        "Output : [2, 2, 2, -1, -1, -1, -1, 3, -1, -1]\n",
        "```\n",
        "\n",
        "</aside>\n",
        "\n"
      ],
      "metadata": {
        "id": "O0dXC51Mto9C"
      }
    },
    {
      "cell_type": "code",
      "execution_count": null,
      "metadata": {
        "id": "FjiaCSi8IoFc",
        "colab": {
          "base_uri": "https://localhost:8080/"
        },
        "outputId": "3f9061ec-100b-4559-f60a-192ad7c90353"
      },
      "outputs": [
        {
          "output_type": "stream",
          "name": "stdout",
          "text": [
            "Input Array: [1, 1, 2, 3, 4, 2, 1]\n",
            "Output Array: [-1, -1, 1, 2, 2, 1, -1]\n",
            "Input Array: [1, 1, 1, 2, 2, 2, 2, 11, 3, 3]\n",
            "Output Array: [2, 2, 2, -1, -1, -1, -1, 3, -1, -1]\n"
          ]
        }
      ],
      "source": [
        "from collections import defaultdict\n",
        "\n",
        "\n",
        "def nearestGreaterFrequency(arr):\n",
        "    frequency = defaultdict(int)\n",
        "    stack = []\n",
        "    result = []\n",
        "\n",
        "    for i in range(len(arr) - 1, -1, -1):\n",
        "        frequency[arr[i]] += 1\n",
        "\n",
        "    for i in range(len(arr) - 1, -1, -1):\n",
        "        while stack and frequency[stack[-1]] <= frequency[arr[i]]:\n",
        "            stack.pop()\n",
        "\n",
        "        if not stack:\n",
        "            result.append(-1)\n",
        "        else:\n",
        "            result.append(stack[-1])\n",
        "\n",
        "        stack.append(arr[i])\n",
        "\n",
        "    result.reverse()\n",
        "    return result\n",
        "\n",
        "\n",
        "# Example usage\n",
        "arr1 = [1, 1, 2, 3, 4, 2, 1]\n",
        "print(\"Input Array:\", arr1)\n",
        "output1 = nearestGreaterFrequency(arr1)\n",
        "print(\"Output Array:\", output1)\n",
        "\n",
        "arr2 = [1, 1, 1, 2, 2, 2, 2, 11, 3, 3]\n",
        "print(\"Input Array:\", arr2)\n",
        "output2 = nearestGreaterFrequency(arr2)\n",
        "print(\"Output Array:\", output2)\n"
      ]
    },
    {
      "cell_type": "markdown",
      "source": [
        "Given a stack of integers, sort it in ascending order using another temporary stack.\n",
        "\n",
        "**Examples:**\n",
        "\n",
        "\n",
        "\n",
        "```\n",
        "Input : [34, 3, 31, 98, 92, 23]\n",
        "Output : [3, 23, 31, 34, 92, 98]\n",
        "\n",
        "Input : [3, 5, 1, 4, 2, 8]\n",
        "Output : [1, 2, 3, 4, 5, 8]\n",
        "```\n",
        "\n"
      ],
      "metadata": {
        "id": "O2oz9gIgtxom"
      }
    },
    {
      "cell_type": "code",
      "source": [
        "def sortStack(stack):\n",
        "    tempStack = []\n",
        "\n",
        "    while stack:\n",
        "        temp = stack.pop()\n",
        "\n",
        "        while tempStack and tempStack[-1] > temp:\n",
        "            stack.append(tempStack.pop())\n",
        "\n",
        "        tempStack.append(temp)\n",
        "\n",
        "    return tempStack\n",
        "\n",
        "\n",
        "# Example usage\n",
        "stack1 = [34, 3, 31, 98, 92, 23]\n",
        "print(\"Input stack:\", stack1)\n",
        "sortedStack1 = sortStack(stack1)\n",
        "print(\"Sorted stack:\", sortedStack1)\n",
        "print()\n",
        "\n",
        "stack2 = [3, 5, 1, 4, 2, 8]\n",
        "print(\"Input stack:\", stack2)\n",
        "sortedStack2 = sortStack(stack2)\n",
        "print(\"Sorted stack:\", sortedStack2)\n"
      ],
      "metadata": {
        "colab": {
          "base_uri": "https://localhost:8080/"
        },
        "id": "t3bcsdltt0BH",
        "outputId": "2c29c5dc-ff61-4ec3-a062-55f93d4cd567"
      },
      "execution_count": null,
      "outputs": [
        {
          "output_type": "stream",
          "name": "stdout",
          "text": [
            "Input stack: [34, 3, 31, 98, 92, 23]\n",
            "Sorted stack: [3, 23, 31, 34, 92, 98]\n",
            "\n",
            "Input stack: [3, 5, 1, 4, 2, 8]\n",
            "Sorted stack: [1, 2, 3, 4, 5, 8]\n"
          ]
        }
      ]
    },
    {
      "cell_type": "markdown",
      "source": [
        "\n",
        "<aside>\n",
        "💡 **Question 3**\n",
        "\n",
        "Given a stack with **push()**, **pop()**, and **empty()** operations, The task is to delete the **middle** element ****of it without using any additional data structure.\n",
        "\n",
        "Input  : Stack[] = [1, 2, 3, 4, 5]\n",
        "\n",
        "Output : Stack[] = [1, 2, 4, 5]\n",
        "\n",
        "Input  : Stack[] = [1, 2, 3, 4, 5, 6]\n",
        "\n",
        "Output : Stack[] = [1, 2, 4, 5, 6]\n",
        "\n",
        "</aside>\n"
      ],
      "metadata": {
        "id": "Cs9zmdODtxix"
      }
    },
    {
      "cell_type": "code",
      "source": [
        "def deleteMiddle(stack):\n",
        "    size = len(stack)\n",
        "    mid = size // 2 + 1 if size % 2 != 0 else size // 2\n",
        "\n",
        "    tempStack = []\n",
        "    for _ in range(mid - 1):\n",
        "        tempStack.append(stack.pop())\n",
        "\n",
        "    stack.pop()\n",
        "\n",
        "    while tempStack:\n",
        "        stack.append(tempStack.pop())\n",
        "\n",
        "    return stack\n",
        "\n",
        "\n",
        "# Example usage\n",
        "stack1 = [1, 2, 3, 4, 5]\n",
        "print(\"Input Stack:\", stack1)\n",
        "result1 = deleteMiddle(stack1)\n",
        "print(\"Modified Stack:\", result1)\n",
        "\n",
        "stack2 = [1, 2, 3, 4, 5, 6]\n",
        "print(\"Input Stack:\", stack2)\n",
        "result2 = deleteMiddle(stack2)\n",
        "print(\"Modified Stack:\", result2)\n"
      ],
      "metadata": {
        "colab": {
          "base_uri": "https://localhost:8080/"
        },
        "id": "o-_U5gJwtw2T",
        "outputId": "2ce68da5-8df9-4b2b-b277-0c054622ea48"
      },
      "execution_count": null,
      "outputs": [
        {
          "output_type": "stream",
          "name": "stdout",
          "text": [
            "Input Stack: [1, 2, 3, 4, 5]\n",
            "Modified Stack: [1, 2, 4, 5]\n",
            "Input Stack: [1, 2, 3, 4, 5, 6]\n",
            "Modified Stack: [1, 2, 3, 5, 6]\n"
          ]
        }
      ]
    },
    {
      "cell_type": "markdown",
      "source": [
        "\n",
        "<aside>\n",
        "💡 **Question 4**\n",
        "\n",
        "Given a Queue consisting of first **n** natural numbers (in random order). The task is to check whether the given Queue elements can be arranged in increasing order in another Queue using a stack. The operation allowed are:\n",
        "\n",
        "1. Push and pop elements from the stack\n",
        "2. Pop (Or Dequeue) from the given Queue.\n",
        "3. Push (Or Enqueue) in the another Queue.\n",
        "\n",
        "**Examples :**\n",
        "\n",
        "Input : Queue[] = { 5, 1, 2, 3, 4 }\n",
        "\n",
        "Output : Yes\n",
        "\n",
        "Pop the first element of the given Queue\n",
        "\n",
        "i.e 5. Push 5 into the stack.\n",
        "\n",
        "Now, pop all the elements of the given Queue and push them to second Queue.\n",
        "\n",
        "Now, pop element 5 in the stack and push it to the second Queue.\n",
        "\n",
        "Input : Queue[] = { 5, 1, 2, 6, 3, 4 }\n",
        "\n",
        "Output : No\n",
        "\n",
        "Push 5 to stack.\n",
        "\n",
        "Pop 1, 2 from given Queue and push it to another Queue.\n",
        "\n",
        "Pop 6 from given Queue and push to stack.\n",
        "\n",
        "Pop 3, 4 from given Queue and push to second Queue.\n",
        "\n",
        "Now, from using any of above operation, we cannot push 5 into the second Queue because it is below the 6 in the stack.\n",
        "\n",
        "</aside>\n"
      ],
      "metadata": {
        "id": "7QJ7gFVQuOXN"
      }
    },
    {
      "cell_type": "code",
      "source": [
        "from queue import Queue\n",
        "\n",
        "\n",
        "def checkIncreasingOrder(queue):\n",
        "    stack = []\n",
        "    secondQueue = Queue()\n",
        "\n",
        "    # Step 2: Pop the first element from the given queue and push it onto the stack\n",
        "    stack.append(queue.get())\n",
        "\n",
        "    # Step 3: Pop all the remaining elements from the given queue and push them onto the second queue\n",
        "    while not queue.empty():\n",
        "        secondQueue.put(queue.get())\n",
        "\n",
        "    # Step 4: Pop elements from the stack and compare with the front element of the second queue\n",
        "    while stack:\n",
        "        top = stack[-1]\n",
        "        front = secondQueue.queue[0]\n",
        "\n",
        "        if top > front:\n",
        "            return \"No\"\n",
        "        elif top <= front:\n",
        "            stack.pop()\n",
        "            secondQueue.get()\n",
        "\n",
        "    # Step 5: Check if the second queue is empty\n",
        "    if secondQueue.empty():\n",
        "        return \"Yes\"\n",
        "    else:\n",
        "        return \"No\"\n",
        "\n",
        "\n",
        "# Example usage\n",
        "queue1 = Queue()\n",
        "queue1.put(5)\n",
        "queue1.put(1)\n",
        "queue1.put(2)\n",
        "queue1.put(3)\n",
        "queue1.put(4)\n",
        "\n",
        "print(\"Input Queue:\", list(queue1.queue))\n",
        "print(\"Can be arranged in increasing order?\", checkIncreasingOrder(queue1))\n",
        "print()\n",
        "\n",
        "queue2 = Queue()\n",
        "queue2.put(5)\n",
        "queue2.put(1)\n",
        "queue2.put(2)\n",
        "queue2.put(6)\n",
        "queue2.put(3)\n",
        "queue2.put(4)\n",
        "\n",
        "print(\"Input Queue:\", list(queue2.queue))\n",
        "print(\"Can be arranged in increasing order?\", checkIncreasingOrder(queue2))\n"
      ],
      "metadata": {
        "colab": {
          "base_uri": "https://localhost:8080/"
        },
        "id": "MBAFya4Du_IB",
        "outputId": "843c3224-c681-4f33-98ae-27cfe689f05d"
      },
      "execution_count": null,
      "outputs": [
        {
          "output_type": "stream",
          "name": "stdout",
          "text": [
            "Input Queue: [5, 1, 2, 3, 4]\n",
            "Can be arranged in increasing order? No\n",
            "\n",
            "Input Queue: [5, 1, 2, 6, 3, 4]\n",
            "Can be arranged in increasing order? No\n"
          ]
        }
      ]
    },
    {
      "cell_type": "markdown",
      "source": [
        "\n",
        "<aside>\n",
        "💡 **Question 5**\n",
        "\n",
        "Given a number , write a program to reverse this number using stack.\n",
        "\n",
        "**Examples:**\n",
        "\n",
        "```\n",
        "Input : 365\n",
        "Output : 563\n",
        "\n",
        "Input : 6899\n",
        "Output : 9986\n",
        "```\n",
        "\n",
        "</aside>\n"
      ],
      "metadata": {
        "id": "G19A0h74uQ-o"
      }
    },
    {
      "cell_type": "code",
      "source": [
        "def reverseNumber(number):\n",
        "    number_str = str(number)\n",
        "    stack = []\n",
        "\n",
        "    # Push each digit onto the stack\n",
        "    for digit in number_str:\n",
        "        stack.append(digit)\n",
        "\n",
        "    reversed_str = \"\"\n",
        "\n",
        "    # Pop each digit from the stack and append it to the reversed string\n",
        "    while stack:\n",
        "        reversed_str += stack.pop()\n",
        "\n",
        "    reversed_number = int(reversed_str)\n",
        "    return reversed_number\n",
        "\n",
        "\n",
        "# Example usage\n",
        "number1 = 365\n",
        "print(\"Input:\", number1)\n",
        "print(\"Reversed number:\", reverseNumber(number1))\n",
        "print()\n",
        "\n",
        "number2 = 6899\n",
        "print(\"Input:\", number2)\n",
        "print(\"Reversed number:\", reverseNumber(number2))\n"
      ],
      "metadata": {
        "colab": {
          "base_uri": "https://localhost:8080/"
        },
        "id": "q2f0fWjXu0RF",
        "outputId": "ef6aa316-42a9-43e5-896c-a425acd6c6fd"
      },
      "execution_count": null,
      "outputs": [
        {
          "output_type": "stream",
          "name": "stdout",
          "text": [
            "Input: 365\n",
            "Reversed number: 563\n",
            "\n",
            "Input: 6899\n",
            "Reversed number: 9986\n"
          ]
        }
      ]
    },
    {
      "cell_type": "markdown",
      "source": [
        "\n",
        "<aside>\n",
        "💡 **Question 6**\n",
        "\n",
        "Given an integer k and a **[queue](https://www.geeksforgeeks.org/queue-data-structure/)** of integers, The task is to reverse the order of the first **k** elements of the queue, leaving the other elements in the same relative order.\n",
        "\n",
        "Only following standard operations are allowed on queue.\n",
        "\n",
        "- **enqueue(x) :** Add an item x to rear of queue\n",
        "- **dequeue() :** Remove an item from front of queue\n",
        "- **size() :** Returns number of elements in queue.\n",
        "- **front() :** Finds front item.\n",
        "</aside>\n",
        "\n"
      ],
      "metadata": {
        "id": "NYnTI94cvKK1"
      }
    },
    {
      "cell_type": "code",
      "source": [
        "from queue import Queue\n",
        "\n",
        "\n",
        "def reverseKElements(queue, k):\n",
        "    stack = []\n",
        "\n",
        "    # Step 2: Dequeue and push the first k elements onto the stack\n",
        "    for _ in range(k):\n",
        "        stack.append(queue.get())\n",
        "\n",
        "    # Step 3: Dequeue the remaining elements and enqueue them back\n",
        "    while not queue.empty():\n",
        "        queue.get()\n",
        "\n",
        "    # Step 4: Pop the elements from the stack and enqueue them back\n",
        "    while stack:\n",
        "        queue.put(stack.pop())\n",
        "\n",
        "    return queue\n",
        "\n",
        "\n",
        "# Example usage\n",
        "queue = Queue()\n",
        "queue.put(1)\n",
        "queue.put(2)\n",
        "queue.put(3)\n",
        "queue.put(4)\n",
        "queue.put(5)\n",
        "\n",
        "k = 3\n",
        "print(\"Original queue:\", list(queue.queue))\n",
        "reversedQueue = reverseKElements(queue, k)\n",
        "print(\"Reversed queue:\", list(reversedQueue.queue))\n"
      ],
      "metadata": {
        "colab": {
          "base_uri": "https://localhost:8080/"
        },
        "id": "sNh2cN0vvJ7X",
        "outputId": "c56abdcb-4abc-4e49-b42b-8ce4b5993dfa"
      },
      "execution_count": null,
      "outputs": [
        {
          "output_type": "stream",
          "name": "stdout",
          "text": [
            "Original queue: [1, 2, 3, 4, 5]\n",
            "Reversed queue: [3, 2, 1]\n"
          ]
        }
      ]
    },
    {
      "cell_type": "markdown",
      "source": [
        "<aside>\n",
        "💡 **Question 7**\n",
        "\n",
        "Given a sequence of n strings, the task is to check if any two similar words come together and then destroy each other then print the number of words left in the sequence after this pairwise destruction.\n",
        "\n",
        "**Examples:**\n",
        "\n",
        "Input : ab aa aa bcd ab\n",
        "\n",
        "Output : 3\n",
        "\n",
        "*As aa, aa destroys each other so,*\n",
        "\n",
        "*ab bcd ab is the new sequence.*\n",
        "\n",
        "Input :  tom jerry jerry tom\n",
        "\n",
        "Output : 0\n",
        "\n",
        "*As first both jerry will destroy each other.*\n",
        "\n",
        "*Then sequence will be tom, tom they will also destroy*\n",
        "\n",
        "*each other. So, the final sequence doesn’t contain any*\n",
        "\n",
        "*word.*\n",
        "\n",
        "</aside>\n"
      ],
      "metadata": {
        "id": "YGmVXZybu1Ms"
      }
    },
    {
      "cell_type": "code",
      "source": [
        "def countWords(sequence):\n",
        "    stack = []\n",
        "\n",
        "    for word in sequence:\n",
        "        if stack and word == stack[-1]:\n",
        "            stack.pop()\n",
        "        else:\n",
        "            stack.append(word)\n",
        "\n",
        "    return len(stack)\n",
        "\n",
        "\n",
        "# Example 1\n",
        "sequence1 = [\"ab\", \"aa\", \"aa\", \"bcd\", \"ab\"]\n",
        "print(\"Input:\", sequence1)\n",
        "print(\"Output:\", countWords(sequence1))\n",
        "print()\n",
        "\n",
        "# Example 2\n",
        "sequence2 = [\"tom\", \"jerry\", \"jerry\", \"tom\"]\n",
        "print(\"Input:\", sequence2)\n",
        "print(\"Output:\", countWords(sequence2))\n"
      ],
      "metadata": {
        "colab": {
          "base_uri": "https://localhost:8080/"
        },
        "id": "zBsxYUbDuPkJ",
        "outputId": "06d72dc9-fa6b-4bb2-bb73-faa9f45dfa20"
      },
      "execution_count": null,
      "outputs": [
        {
          "output_type": "stream",
          "name": "stdout",
          "text": [
            "Input: ['ab', 'aa', 'aa', 'bcd', 'ab']\n",
            "Output: 3\n",
            "\n",
            "Input: ['tom', 'jerry', 'jerry', 'tom']\n",
            "Output: 0\n"
          ]
        }
      ]
    },
    {
      "cell_type": "markdown",
      "source": [
        "\n",
        "<aside>\n",
        "💡 **Question 8**\n",
        "\n",
        "Given an array of integers, the task is to find the maximum absolute difference between the nearest left and the right smaller element of every element in the array.\n",
        "\n",
        "**Note:** If there is no smaller element on right side or left side of any element then we take zero as the smaller element. For example for the leftmost element, the nearest smaller element on the left side is considered as 0. Similarly, for rightmost elements, the smaller element on the right side is considered as 0.\n",
        "\n",
        "**Examples:**\n",
        "\n",
        "</aside>"
      ],
      "metadata": {
        "id": "fBPjEP7kuPTY"
      }
    },
    {
      "cell_type": "code",
      "source": [
        "def maxAbsDifference(arr):\n",
        "    n = len(arr)\n",
        "\n",
        "    # Step 1: Initialize leftSmaller and rightSmaller arrays\n",
        "    leftSmaller = [0] * n\n",
        "    rightSmaller = [0] * n\n",
        "\n",
        "    # Step 2: Create an empty stack\n",
        "    stack = []\n",
        "\n",
        "    # Step 3: Traverse the array from left to right\n",
        "    for i in range(n):\n",
        "        # Pop elements from stack until a smaller element is found\n",
        "        while stack and arr[stack[-1]] >= arr[i]:\n",
        "            poppedIndex = stack.pop()\n",
        "            leftSmaller[poppedIndex] = arr[i]\n",
        "\n",
        "        # Push the current index onto the stack\n",
        "        stack.append(i)\n",
        "\n",
        "    # Clear the stack\n",
        "    stack = []\n",
        "\n",
        "    # Step 5: Traverse the array from right to left\n",
        "    for i in range(n - 1, -1, -1):\n",
        "        # Pop elements from stack until a smaller element is found\n",
        "        while stack and arr[stack[-1]] > arr[i]:\n",
        "            poppedIndex = stack.pop()\n",
        "            rightSmaller[poppedIndex] = arr[i]\n",
        "\n",
        "        # Push the current index onto the stack\n",
        "        stack.append(i)\n",
        "\n",
        "    # Step 6: Compute the maximum absolute difference\n",
        "    maxDiff = 0\n",
        "    for i in range(n):\n",
        "        maxDiff = max(maxDiff, abs(leftSmaller[i] - rightSmaller[i]))\n",
        "\n",
        "    return maxDiff\n",
        "\n",
        "\n",
        "# Example 1\n",
        "arr1 = [2, 1, 8]\n",
        "print(\"Input:\", arr1)\n",
        "print(\"Output:\", maxAbsDifference(arr1))\n",
        "print()\n",
        "\n",
        "# Example 2\n",
        "arr2 = [2, 4, 8, 7, 7, 9, 3]\n",
        "print(\"Input:\", arr2)\n",
        "print(\"Output:\", maxAbsDifference(arr2))\n",
        "print()\n",
        "\n",
        "# Example 3\n",
        "arr3 = [5, 1, 9, 2, 5, 1, 7]\n",
        "print(\"Input:\", arr3)\n",
        "print(\"Output:\", maxAbsDifference(arr3))\n"
      ],
      "metadata": {
        "colab": {
          "base_uri": "https://localhost:8080/"
        },
        "id": "7KSYZdOguxrp",
        "outputId": "3c542cdd-d412-43ee-fc01-77f7977647a2"
      },
      "execution_count": null,
      "outputs": [
        {
          "output_type": "stream",
          "name": "stdout",
          "text": [
            "Input: [2, 1, 8]\n",
            "Output: 1\n",
            "\n",
            "Input: [2, 4, 8, 7, 7, 9, 3]\n",
            "Output: 4\n",
            "\n",
            "Input: [5, 1, 9, 2, 5, 1, 7]\n",
            "Output: 1\n"
          ]
        }
      ]
    }
  ]
}