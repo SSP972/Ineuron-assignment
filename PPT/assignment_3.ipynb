{
  "nbformat": 4,
  "nbformat_minor": 0,
  "metadata": {
    "colab": {
      "provenance": []
    },
    "kernelspec": {
      "name": "python3",
      "display_name": "Python 3"
    },
    "language_info": {
      "name": "python"
    }
  },
  "cells": [
    {
      "cell_type": "markdown",
      "source": [
        "\n",
        "\n",
        "1. Scenario: A company wants to analyze the sales performance of its products in different regions. They have collected the following data:\n",
        "   Region A: [10, 15, 12, 8, 14]\n",
        "   Region B: [18, 20, 16, 22, 25]\n",
        "   Calculate the mean sales for each region.\n",
        "\n",
        "2. Scenario: A survey is conducted to measure customer satisfaction on a scale of 1 to 5. The data collected is as follows:\n",
        "   [4, 5, 2, 3, 5, 4, 3, 2, 4, 5]\n",
        "   Calculate the mode of the survey responses.\n",
        "\n",
        "3. Scenario: A company wants to compare the salaries of two departments. The salary data for Department A and Department B are as follows:\n",
        "   Department A: [5000, 6000, 5500, 7000]\n",
        "   Department B: [4500, 5500, 5800, 6000, 5200]\n",
        "   Calculate the median salary for each department.\n",
        "\n",
        "4. Scenario: A data analyst wants to determine the variability in the daily stock prices of a company. The data collected is as follows:\n",
        "   [25.5, 24.8, 26.1, 25.3, 24.9]\n",
        "   Calculate the range of the stock prices.\n",
        "\n",
        "5. Scenario: A study is conducted to compare the performance of two different teaching methods. The test scores of the students in each group are as follows:\n",
        "   Group A: [85, 90, 92, 88, 91]\n",
        "   Group B: [82, 88, 90, 86, 87]\n",
        "   Perform a t-test to determine if there is a significant difference in the mean scores between the two groups.\n",
        "\n",
        "6. Scenario: A company wants to analyze the relationship between advertising expenditure and sales. The data collected is as follows:\n",
        "   Advertising Expenditure (in thousands): [10, 15, 12, 8, 14]\n",
        "   Sales (in thousands): [25, 30, 28, 20, 26]\n",
        "   Calculate the correlation coefficient between advertising expenditure and sales.\n",
        "\n",
        "7. Scenario: A survey is conducted to measure the heights of a group of people. The data collected is as follows:\n",
        "   [160, 170, 165, 155, 175, 180, 170]\n",
        "   Calculate the standard deviation of the heights.\n",
        "\n",
        "8. Scenario: A company wants to analyze the relationship between employee tenure and job satisfaction. The data collected is as follows:\n",
        "   Employee Tenure (in years): [2, 3, 5, 4, 6, 2, 4]\n",
        "   Job Satisfaction (on a scale of 1 to 10): [7, 8, 6, 9, 5, 7, 6]\n",
        "   Perform a linear regression analysis to predict job satisfaction based on employee tenure.\n",
        "\n",
        "9. Scenario: A study is conducted to compare the effectiveness of two different medications. The recovery times of the patients in each group are as follows:\n",
        "   Medication A: [10, 12, 14, 11, 13]\n",
        "   Medication B: [15, 17, 16, 14, 18]\n",
        "   Perform an analysis of variance (ANOVA) to determine if there is a significant difference in the mean recovery times between the two medications.\n",
        "\n",
        "10. Scenario: A company wants to analyze customer feedback ratings on a scale of 1 to 10. The data collected is\n",
        "\n",
        " as follows:\n",
        "    [8, 9, 7, 6, 8, 10, 9, 8, 7, 8]\n",
        "    Calculate the 75th percentile of the feedback ratings.\n",
        "\n",
        "11. Scenario: A quality control department wants to test the weight consistency of a product. The weights of a sample of products are as follows:\n",
        "    [10.2, 9.8, 10.0, 10.5, 10.3, 10.1]\n",
        "    Perform a hypothesis test to determine if the mean weight differs significantly from 10 grams.\n",
        "\n",
        "12. Scenario: A company wants to analyze the click-through rates of two different website designs. The number of clicks for each design is as follows:\n",
        "    Design A: [100, 120, 110, 90, 95]\n",
        "    Design B: [80, 85, 90, 95, 100]\n",
        "    Perform a chi-square test to determine if there is a significant difference in the click-through rates between the two designs.\n",
        "\n",
        "13. Scenario: A survey is conducted to measure customer satisfaction with a product on a scale of 1 to 10. The data collected is as follows:\n",
        "    [7, 9, 6, 8, 10, 7, 8, 9, 7, 8]\n",
        "    Calculate the 95% confidence interval for the population mean satisfaction score.\n",
        "\n",
        "14. Scenario: A company wants to analyze the effect of temperature on product performance. The data collected is as follows:\n",
        "    Temperature (in degrees Celsius): [20, 22, 23, 19, 21]\n",
        "    Performance (on a scale of 1 to 10): [8, 7, 9, 6, 8]\n",
        "    Perform a simple linear regression to predict performance based on temperature.\n",
        "\n",
        "15. Scenario: A study is conducted to compare the preferences of two groups of participants. The preferences are measured on a Likert scale from 1 to 5. The data collected is as follows:\n",
        "    Group A: [4, 3, 5, 2, 4]\n",
        "    Group B: [3, 2, 4, 3, 3]\n",
        "    Perform a Mann-Whitney U test to determine if there is a significant difference in the median preferences between the two groups.\n",
        "\n",
        "16. Scenario: A company wants to analyze the distribution of customer ages. The data collected is as follows:\n",
        "    [25, 30, 35, 40, 45, 50, 55, 60, 65, 70]\n",
        "    Calculate the interquartile range (IQR) of the ages.\n",
        "\n",
        "17. Scenario: A study is conducted to compare the performance of three different machine learning algorithms. The accuracy scores for each algorithm are as follows:\n",
        "    Algorithm A: [0.85, 0.80, 0.82, 0.87, 0.83]\n",
        "    Algorithm B: [0.78, 0.82, 0.84, 0.80, 0.79]\n",
        "    Algorithm C: [0.90, 0.88, 0.89, 0.86, 0.87]\n",
        "    Perform a Kruskal-Wallis test to determine if there is a significant difference in the median accuracy scores between the algorithms.\n",
        "\n",
        "18. Scenario: A company wants to analyze the effect of price on sales. The data collected is as follows:\n",
        "    Price (in dollars): [10, 15, 12, 8, 14]\n",
        "    Sales: [100, 80, 90, 110, 95]\n",
        "    Perform a simple linear regression to predict\n",
        "\n",
        " sales based on price.\n",
        "\n",
        "19. Scenario: A survey is conducted to measure the satisfaction levels of customers with a new product. The data collected is as follows:\n",
        "    [7, 8, 9, 6, 8, 7, 9, 7, 8, 7]\n",
        "    Calculate the standard error of the mean satisfaction score.\n",
        "\n",
        "20. Scenario: A company wants to analyze the relationship between advertising expenditure and sales. The data collected is as follows:\n",
        "    Advertising Expenditure (in thousands): [10, 15, 12, 8, 14]\n",
        "    Sales (in thousands): [25, 30, 28, 20, 26]\n",
        "    Perform a multiple regression analysis to predict sales based on advertising expenditure.\n",
        "\n",
        "\n"
      ],
      "metadata": {
        "id": "tSYAcy4ZcQ0c"
      }
    },
    {
      "cell_type": "code",
      "source": [
        "# 1. To calculate the mean sales for each region, you can use the `mean()` function from the `statistics` module in Python.\n",
        "\n",
        "\n",
        "import statistics\n",
        "\n",
        "region_a = [10, 15, 12, 8, 14]\n",
        "region_b = [18, 20, 16, 22, 25]\n",
        "\n",
        "mean_a = statistics.mean(region_a)\n",
        "mean_b = statistics.mean(region_b)\n",
        "\n",
        "print(\"Mean sales for Region A:\", mean_a)\n",
        "print(\"Mean sales for Region B:\", mean_b)\n"
      ],
      "metadata": {
        "colab": {
          "base_uri": "https://localhost:8080/"
        },
        "id": "EORxP2ypd1De",
        "outputId": "24e0b78f-0b6c-427b-b732-c08d7a606be2"
      },
      "execution_count": null,
      "outputs": [
        {
          "output_type": "stream",
          "name": "stdout",
          "text": [
            "Mean sales for Region A: 11.8\n",
            "Mean sales for Region B: 20.2\n"
          ]
        }
      ]
    },
    {
      "cell_type": "code",
      "source": [
        "# 2. To calculate the mode of the survey responses, you can use the `mode()` function from the `statistics` module in Python.\n",
        "\n",
        "import statistics\n",
        "\n",
        "responses = [4, 5, 2, 3, 5, 4, 3, 2, 4, 5]\n",
        "\n",
        "mode = statistics.mode(responses)\n",
        "\n",
        "print(\"Mode of the survey responses:\", mode)"
      ],
      "metadata": {
        "colab": {
          "base_uri": "https://localhost:8080/"
        },
        "id": "h9WzWAxCd9Lq",
        "outputId": "99b3aea7-348b-45fd-9c1b-d6fc843f8ccd"
      },
      "execution_count": null,
      "outputs": [
        {
          "output_type": "stream",
          "name": "stdout",
          "text": [
            "Mode of the survey responses: 4\n"
          ]
        }
      ]
    },
    {
      "cell_type": "code",
      "source": [
        "\n",
        "# 3. To calculate the median salary for each department, you can use the `median()` function from the `statistics` module in Python.\n",
        "\n",
        "\n",
        "import statistics\n",
        "\n",
        "department_a = [5000, 6000, 5500, 7000]\n",
        "department_b = [4500, 5500, 5800, 6000, 5200]\n",
        "\n",
        "median_a = statistics.median(department_a)\n",
        "median_b = statistics.median(department_b)\n",
        "\n",
        "print(\"Median salary for Department A:\", median_a)\n",
        "print(\"Median salary for Department B:\", median_b)"
      ],
      "metadata": {
        "colab": {
          "base_uri": "https://localhost:8080/"
        },
        "id": "opnxLofYeDLP",
        "outputId": "c825f8dc-2059-48b6-8d9c-327475cae8a3"
      },
      "execution_count": null,
      "outputs": [
        {
          "output_type": "stream",
          "name": "stdout",
          "text": [
            "Median salary for Department A: 5750.0\n",
            "Median salary for Department B: 5500\n"
          ]
        }
      ]
    },
    {
      "cell_type": "code",
      "source": [
        "\n",
        "# 4. To calculate the range of the stock prices, you can subtract the minimum value from the maximum value of the data.\n",
        "\n",
        "stock_prices = [25.5, 24.8, 26.1, 25.3, 24.9]\n",
        "\n",
        "range_prices = max(stock_prices) - min(stock_prices)\n",
        "\n",
        "print(\"Range of the stock prices:\", range_prices)"
      ],
      "metadata": {
        "colab": {
          "base_uri": "https://localhost:8080/"
        },
        "id": "UxcrQioDeLfh",
        "outputId": "6cc7cd03-4563-46ae-efd2-c83dc84f22b4"
      },
      "execution_count": null,
      "outputs": [
        {
          "output_type": "stream",
          "name": "stdout",
          "text": [
            "Range of the stock prices: 1.3000000000000007\n"
          ]
        }
      ]
    },
    {
      "cell_type": "code",
      "source": [
        "# 5. To perform a t-test to determine if there is a significant difference in the mean scores between two groups, you can use the `ttest_ind()` function from the `scipy.stats` module in Python.\n",
        "\n",
        "\n",
        "from scipy import stats\n",
        "\n",
        "group_a = [85, 90, 92, 88, 91]\n",
        "group_b = [82, 88, 90, 86, 87]\n",
        "\n",
        "t_statistic, p_value = stats.ttest_ind(group_a, group_b)\n",
        "\n",
        "alpha = 0.05  # significance level\n",
        "\n",
        "if p_value < alpha:\n",
        "    print(\"There is a significant difference in the mean scores between the two groups.\")\n",
        "else:\n",
        "    print(\"There is no significant difference in the mean scores between the two groups.\")"
      ],
      "metadata": {
        "colab": {
          "base_uri": "https://localhost:8080/"
        },
        "id": "LW0mLFloeM8T",
        "outputId": "24a02d2d-d491-451d-bb12-90b8ed54cd09"
      },
      "execution_count": null,
      "outputs": [
        {
          "output_type": "stream",
          "name": "stdout",
          "text": [
            "There is no significant difference in the mean scores between the two groups.\n"
          ]
        }
      ]
    },
    {
      "cell_type": "code",
      "source": [
        "# 5. To perform a t-test to determine if there is a significant difference in the mean scores between two groups, you can use the `ttest_ind()` function from the `scipy.stats` module in Python.\n",
        "\n",
        "\n",
        "from scipy import stats\n",
        "\n",
        "group_a = [85, 90, 92, 88, 91]\n",
        "group_b = [82, 88, 90, 86, 87]\n",
        "\n",
        "t_statistic, p_value = stats.ttest_ind(group_a, group_b)\n",
        "\n",
        "alpha = 0.05  # significance level\n",
        "\n",
        "if p_value < alpha:\n",
        "    print(\"There is a significant difference in the mean scores between the two groups.\")\n",
        "else:\n",
        "    print(\"There is no significant difference in the mean scores between the two groups.\")"
      ],
      "metadata": {
        "colab": {
          "base_uri": "https://localhost:8080/"
        },
        "id": "Rw6QGZPKeXKs",
        "outputId": "3a14ae39-e264-41f8-9960-1f276d5e2148"
      },
      "execution_count": null,
      "outputs": [
        {
          "output_type": "stream",
          "name": "stdout",
          "text": [
            "There is no significant difference in the mean scores between the two groups.\n"
          ]
        }
      ]
    },
    {
      "cell_type": "code",
      "source": [
        "# 6. To calculate the correlation coefficient between two variables, you can use the `corrcoef()` function from the `numpy` module in Python.\n",
        "\n",
        "\n",
        "import numpy as np\n",
        "\n",
        "advertising_expenditure = [10, 15, 12, 8, 14]\n",
        "sales = [25, 30, 28, 20, 26]\n",
        "\n",
        "correlation_coefficient = np.corrcoef(advertising_expenditure, sales)[0, 1]\n",
        "\n",
        "print(\"Correlation coefficient between advertising expenditure and sales:\", correlation_coefficient)"
      ],
      "metadata": {
        "colab": {
          "base_uri": "https://localhost:8080/"
        },
        "id": "AA4eoEq3ecQl",
        "outputId": "3d634b22-7d56-4ee8-f021-002d70b223fc"
      },
      "execution_count": null,
      "outputs": [
        {
          "output_type": "stream",
          "name": "stdout",
          "text": [
            "Correlation coefficient between advertising expenditure and sales: 0.8757511375750132\n"
          ]
        }
      ]
    },
    {
      "cell_type": "code",
      "source": [
        "# 7. To calculate the standard deviation of a set of data, you can use the `stdev()` function from the `statistics` module in Python.\n",
        "\n",
        "\n",
        "import statistics\n",
        "\n",
        "heights = [160, 170, 165, 155, 175, 180, 170]\n",
        "\n",
        "std_deviation = statistics.stdev(heights)\n",
        "\n",
        "print(\"Standard deviation of the heights:\", std_deviation)"
      ],
      "metadata": {
        "colab": {
          "base_uri": "https://localhost:8080/"
        },
        "id": "ntJUTKEoedOa",
        "outputId": "6e076c66-bf8a-4031-aeae-3f612f96115c"
      },
      "execution_count": null,
      "outputs": [
        {
          "output_type": "stream",
          "name": "stdout",
          "text": [
            "Standard deviation of the heights: 8.591246929842246\n"
          ]
        }
      ]
    },
    {
      "cell_type": "code",
      "source": [
        "# 8. To perform a linear regression analysis to predict one variable based on another, you can use the `linregress()` function from the `scipy.stats` module in Python.\n",
        "\n",
        "from scipy import stats\n",
        "\n",
        "employee_tenure = [2, 3, 5, 4, 6, 2, 4]\n",
        "job_satisfaction = [7, 8, 6, 9, 5, 7, 6]\n",
        "\n",
        "slope, intercept, r_value, p_value, std_err = stats.linregress(employee_tenure, job_satisfaction)\n",
        "\n",
        "print(\"Slope:\", slope)\n",
        "print(\"Intercept:\", intercept)\n",
        "print(\"R-squared:\", r_value ** 2)\n",
        "print(\"P-value:\", p_value)\n",
        "print(\"Standard error:\", std_err)"
      ],
      "metadata": {
        "colab": {
          "base_uri": "https://localhost:8080/"
        },
        "id": "PefPu0U_egs7",
        "outputId": "22123ea1-19b9-427f-a23c-d62798b06e6f"
      },
      "execution_count": null,
      "outputs": [
        {
          "output_type": "stream",
          "name": "stdout",
          "text": [
            "Slope: -0.4680851063829787\n",
            "Intercept: 8.595744680851062\n",
            "R-squared: 0.27099664053751393\n",
            "P-value: 0.23095550952297988\n",
            "Standard error: 0.34333860006713723\n"
          ]
        }
      ]
    },
    {
      "cell_type": "code",
      "source": [
        "# 9. To perform an analysis of variance (ANOVA) to determine if there is a significant difference in the means of multiple groups, you can use the `f_oneway()` function from the `scipy.stats` module in Python.\n",
        "\n",
        "\n",
        "from scipy import stats\n",
        "\n",
        "medication_a = [10, 12, 14, 11, 13]\n",
        "medication_b = [15, 17, 16, 14, 18]\n",
        "\n",
        "f_value, p_value = stats.f_oneway(medication_a, medication_b)\n",
        "\n",
        "alpha = 0.05  # significance level\n",
        "\n",
        "if p_value < alpha:\n",
        "    print(\"There is a significant difference in the mean recovery times between the two medications.\")\n",
        "else:\n",
        "    print(\"There is no significant difference in the mean recovery times between the two medications.\")"
      ],
      "metadata": {
        "colab": {
          "base_uri": "https://localhost:8080/"
        },
        "id": "aPkLiv-ren-D",
        "outputId": "9e768004-d853-4fa6-dfcb-4e6373d6ced0"
      },
      "execution_count": null,
      "outputs": [
        {
          "output_type": "stream",
          "name": "stdout",
          "text": [
            "There is a significant difference in the mean recovery times between the two medications.\n"
          ]
        }
      ]
    },
    {
      "cell_type": "code",
      "source": [
        "# 10. To calculate the 75th percentile of a set of data, you can use the `percentile()` function from the `numpy` module in Python.\n",
        "\n",
        "import numpy as np\n",
        "\n",
        "feedback_ratings = [8, 9, 7, 6, 8, 10, 9, 8, 7, 8]\n",
        "\n",
        "percentile_75 = np.percentile(feedback_ratings, 75)\n",
        "\n",
        "print(\"75th percentile of the feedback ratings:\", percentile_75)"
      ],
      "metadata": {
        "colab": {
          "base_uri": "https://localhost:8080/"
        },
        "id": "FIuL28AhesVU",
        "outputId": "10f263c0-9f90-4113-9933-4e373dbcb2da"
      },
      "execution_count": null,
      "outputs": [
        {
          "output_type": "stream",
          "name": "stdout",
          "text": [
            "75th percentile of the feedback ratings: 8.75\n"
          ]
        }
      ]
    },
    {
      "cell_type": "code",
      "source": [
        "# 11. To perform a hypothesis test to determine if the mean of a sample differs significantly from a specific value, you can use the `ttest_1samp()` function from the `scipy.stats` module in Python.\n",
        "\n",
        "\n",
        "from scipy import stats\n",
        "\n",
        "weights = [10.2, 9.8, 10.0, 10.5, 10.3, 10.1\n",
        "\n",
        "]\n",
        "\n",
        "mean_weight = 10  # hypothesized mean weight\n",
        "\n",
        "t_statistic, p_value = stats.ttest_1samp(weights, mean_weight)\n",
        "\n",
        "alpha = 0.05  # significance level\n",
        "\n",
        "if p_value < alpha:\n",
        "    print(\"The mean weight differs significantly from 10 grams.\")\n",
        "else:\n",
        "    print(\"The mean weight does not differ significantly from 10 grams.\")"
      ],
      "metadata": {
        "colab": {
          "base_uri": "https://localhost:8080/"
        },
        "id": "tZp9w_z_esOk",
        "outputId": "a046dfec-bb93-4c37-cb64-288f46bd5bbc"
      },
      "execution_count": null,
      "outputs": [
        {
          "output_type": "stream",
          "name": "stdout",
          "text": [
            "The mean weight does not differ significantly from 10 grams.\n"
          ]
        }
      ]
    },
    {
      "cell_type": "code",
      "source": [
        "# 12. To perform a chi-square test to determine if there is a significant difference in the frequencies of categorical data, you can use the `chi2_contingency()` function from the `scipy.stats` module in Python.\n",
        "\n",
        "\n",
        "from scipy import stats\n",
        "\n",
        "design_a = [100, 120, 110, 90, 95]\n",
        "design_b = [80, 85, 90, 95, 100]\n",
        "\n",
        "observed = [design_a, design_b]\n",
        "\n",
        "chi2_statistic, p_value, _, _ = stats.chi2_contingency(observed)\n",
        "\n",
        "alpha = 0.05  # significance level\n",
        "\n",
        "if p_value < alpha:\n",
        "    print(\"There is a significant difference in the click-through rates between the two designs.\")\n",
        "else:\n",
        "    print(\"There is no significant difference in the click-through rates between the two designs.\")"
      ],
      "metadata": {
        "colab": {
          "base_uri": "https://localhost:8080/"
        },
        "id": "ldoxJlo9ezyL",
        "outputId": "c720103b-fcc3-49c7-b550-bdb25b2bb947"
      },
      "execution_count": null,
      "outputs": [
        {
          "output_type": "stream",
          "name": "stdout",
          "text": [
            "There is no significant difference in the click-through rates between the two designs.\n"
          ]
        }
      ]
    },
    {
      "cell_type": "code",
      "source": [
        "# 13. To calculate the 95% confidence interval for the population mean of a set of data, you can use the `t.interval()` function from the `scipy.stats` module in Python.\n",
        "\n",
        "from scipy import stats\n",
        "\n",
        "satisfaction_scores = [7, 9, 6, 8, 10, 7, 8, 9, 7, 8]\n",
        "\n",
        "confidence_interval = stats.t.interval(0.95, len(satisfaction_scores) - 1, loc=statistics.mean(satisfaction_scores), scale=statistics.stdev(satisfaction_scores))\n",
        "\n",
        "print(\"95% confidence interval for the population mean satisfaction score:\", confidence_interval)"
      ],
      "metadata": {
        "colab": {
          "base_uri": "https://localhost:8080/"
        },
        "id": "v6peKllse2r7",
        "outputId": "516b6eaf-0a7d-4537-db61-20aec1b510f7"
      },
      "execution_count": null,
      "outputs": [
        {
          "output_type": "stream",
          "name": "stdout",
          "text": [
            "95% confidence interval for the population mean satisfaction score: (5.191702464373384, 10.608297535626617)\n"
          ]
        }
      ]
    },
    {
      "cell_type": "code",
      "source": [
        "# 14. To perform a simple linear regression to predict one variable based on another, you can use the `linregress()` function from the `scipy.stats` module in Python.\n",
        "\n",
        "\n",
        "from scipy import stats\n",
        "\n",
        "temperature = [20, 22, 23, 19, 21]\n",
        "performance = [8, 7, 9, 6, 8]\n",
        "\n",
        "slope, intercept, r_value, p_value, std_err = stats.linregress(temperature, performance)\n",
        "\n",
        "print(\"Slope:\", slope)\n",
        "print(\"Intercept:\", intercept)\n",
        "print(\"R-squared:\", r_value ** 2)\n",
        "print(\"P-value:\", p_value)\n",
        "print(\"Standard error:\", std_err)"
      ],
      "metadata": {
        "colab": {
          "base_uri": "https://localhost:8080/"
        },
        "id": "8ZyCACjwe5kU",
        "outputId": "55cd9f08-e4c3-49ab-a7f8-13cdfb506a50"
      },
      "execution_count": null,
      "outputs": [
        {
          "output_type": "stream",
          "name": "stdout",
          "text": [
            "Slope: 0.5\n",
            "Intercept: -2.9000000000000004\n",
            "R-squared: 0.4807692307692307\n",
            "P-value: 0.19417134561205843\n",
            "Standard error: 0.30000000000000004\n"
          ]
        }
      ]
    },
    {
      "cell_type": "code",
      "source": [
        "# 15. To perform a Mann-Whitney U test to determine if there is a significant difference in the medians of two groups, you can use the `mannwhitneyu()` function from the `scipy.stats` module in Python.\n",
        "\n",
        "\n",
        "from scipy import stats\n",
        "\n",
        "group_a = [4, 3, 5, 2, 4]\n",
        "group_b = [3, 2, 4, 3, 3]\n",
        "\n",
        "U_statistic, p_value = stats.mannwhitneyu(group_a, group_b)\n",
        "\n",
        "alpha = 0.05  # significance level\n",
        "\n",
        "if p_value < alpha:\n",
        "    print(\"There is a significant difference in the median preferences between the two groups.\")\n",
        "else:\n",
        "    print(\"There is no significant difference in the median preferences between the two groups.\")"
      ],
      "metadata": {
        "colab": {
          "base_uri": "https://localhost:8080/"
        },
        "id": "RZwxdXwte8Ny",
        "outputId": "b2cc8992-2207-4011-9614-18b9f66879ad"
      },
      "execution_count": null,
      "outputs": [
        {
          "output_type": "stream",
          "name": "stdout",
          "text": [
            "There is no significant difference in the median preferences between the two groups.\n"
          ]
        }
      ]
    },
    {
      "cell_type": "code",
      "source": [
        "# 16. To calculate the interquartile range (IQR) of a set of data, you can use the `iqr()` function from the `numpy` module in Python.\n",
        "\n",
        "import numpy as np\n",
        "\n",
        "ages = [25, 30, 35, 40, 45, 50, 55, 60, 65, 70]\n",
        "\n",
        "iqr = np.percentile(ages, 75) - np.percentile(ages, 25)\n",
        "\n",
        "print(\"Interquartile range (IQR) of the ages:\", iqr)"
      ],
      "metadata": {
        "colab": {
          "base_uri": "https://localhost:8080/"
        },
        "id": "l50ofyRNe-m7",
        "outputId": "f89e2d6c-62c2-41cd-e4c1-154dd3418377"
      },
      "execution_count": null,
      "outputs": [
        {
          "output_type": "stream",
          "name": "stdout",
          "text": [
            "Interquartile range (IQR) of the ages: 22.5\n"
          ]
        }
      ]
    },
    {
      "cell_type": "code",
      "source": [
        "# 17. To perform a Kruskal-Wallis test to determine if there is a significant difference in the medians of multiple groups, you can use the `kruskal()` function from the `scipy.stats` module in Python.\n",
        "\n",
        "from scipy import stats\n",
        "\n",
        "algorithm_a = [0.85, 0.80, 0.82, 0.87, 0.83]\n",
        "algorithm_b = [0.78, 0.82, 0.84, 0.80, 0.79]\n",
        "algorithm_c = [0.90, 0.88, 0.89, 0.86, 0.87]\n",
        "\n",
        "h_statistic, p_value = stats.kruskal(algorithm_a, algorithm_b, algorithm_c)\n",
        "\n",
        "alpha = 0.05  # significance level\n",
        "\n",
        "if p_value < alpha:\n",
        "    print(\"There is a significant difference in the median accuracy scores between the algorithms.\")\n",
        "else:\n",
        "    print(\"There is no significant difference in the median accuracy scores between the algorithms.\")"
      ],
      "metadata": {
        "colab": {
          "base_uri": "https://localhost:8080/"
        },
        "id": "ODs8E5uCfDwV",
        "outputId": "975a6f8f-9c84-4e9e-c8ea-e74b219e718f"
      },
      "execution_count": null,
      "outputs": [
        {
          "output_type": "stream",
          "name": "stdout",
          "text": [
            "There is a significant difference in the median accuracy scores between the algorithms.\n"
          ]
        }
      ]
    },
    {
      "cell_type": "code",
      "source": [
        "# 18. To perform a simple linear regression to predict one variable based on another, you can use the `linregress()` function from the `scipy.stats` module in Python.\n",
        "\n",
        "from scipy import stats\n",
        "\n",
        "price = [10, 15, 12, 8, 14]\n",
        "sales = [100, 80, 90, 110, 95]\n",
        "\n",
        "slope, intercept, r_value, p_value, std_err = stats.linregress(price, sales)\n",
        "\n",
        "print(\"Slope:\", slope)\n",
        "print(\"Intercept:\", intercept)\n",
        "print(\"R-squared:\", r_value ** 2)\n",
        "print(\"P-value:\", p_value)\n",
        "print(\"Standard error:\", std_err)"
      ],
      "metadata": {
        "colab": {
          "base_uri": "https://localhost:8080/"
        },
        "id": "DbeebVlCfJBG",
        "outputId": "bd39ac42-f6ba-4b3f-fc9d-776c927e0b6e"
      },
      "execution_count": null,
      "outputs": [
        {
          "output_type": "stream",
          "name": "stdout",
          "text": [
            "Slope: -3.506097560975609\n",
            "Intercept: 136.3719512195122\n",
            "R-squared: 0.8064024390243901\n",
            "P-value: 0.03850178234753776\n",
            "Standard error: 0.9918303504036147\n"
          ]
        }
      ]
    },
    {
      "cell_type": "code",
      "source": [
        "# 19. To calculate the standard error of the mean for a set of data, you can divide the standard deviation by the square root of the sample size.\n",
        "\n",
        "\n",
        "import statistics\n",
        "\n",
        "satisfaction_scores = [7, 8, 9, 6, 8, 7, 9, 7, 8, 7]\n",
        "\n",
        "sample_size = len(satisfaction_scores)\n",
        "std_deviation = statistics.stdev(satisfaction_scores)\n",
        "\n",
        "\n",
        "\n",
        "std_error = std_deviation / (sample_size ** 0.5)\n",
        "\n",
        "print(\"Standard error of the mean satisfaction score:\", std_error)"
      ],
      "metadata": {
        "colab": {
          "base_uri": "https://localhost:8080/"
        },
        "id": "a_b-rLoHfNJG",
        "outputId": "f2108a67-c047-453a-d1a3-fe4418a19116"
      },
      "execution_count": null,
      "outputs": [
        {
          "output_type": "stream",
          "name": "stdout",
          "text": [
            "Standard error of the mean satisfaction score: 0.30550504633038933\n"
          ]
        }
      ]
    },
    {
      "cell_type": "code",
      "execution_count": null,
      "metadata": {
        "colab": {
          "base_uri": "https://localhost:8080/"
        },
        "id": "h-30FKyub_I6",
        "outputId": "70c1b5e5-1263-4ba5-ca00-e47ef177abb4"
      },
      "outputs": [
        {
          "output_type": "stream",
          "name": "stdout",
          "text": [
            "                            OLS Regression Results                            \n",
            "==============================================================================\n",
            "Dep. Variable:                      y   R-squared:                       0.767\n",
            "Model:                            OLS   Adj. R-squared:                  0.689\n",
            "Method:                 Least Squares   F-statistic:                     9.872\n",
            "Date:                Wed, 12 Jul 2023   Prob (F-statistic):             0.0516\n",
            "Time:                        00:27:36   Log-Likelihood:                -9.5288\n",
            "No. Observations:                   5   AIC:                             23.06\n",
            "Df Residuals:                       3   BIC:                             22.28\n",
            "Df Model:                           1                                         \n",
            "Covariance Type:            nonrobust                                         \n",
            "==============================================================================\n",
            "                 coef    std err          t      P>|t|      [0.025      0.975]\n",
            "------------------------------------------------------------------------------\n",
            "const         12.2012      4.429      2.755      0.070      -1.893      26.296\n",
            "x1             1.1524      0.367      3.142      0.052      -0.015       2.320\n",
            "==============================================================================\n",
            "Omnibus:                          nan   Durbin-Watson:                   1.136\n",
            "Prob(Omnibus):                    nan   Jarque-Bera (JB):                0.546\n",
            "Skew:                          -0.267   Prob(JB):                        0.761\n",
            "Kurtosis:                       1.471   Cond. No.                         57.3\n",
            "==============================================================================\n",
            "\n",
            "Notes:\n",
            "[1] Standard Errors assume that the covariance matrix of the errors is correctly specified.\n"
          ]
        },
        {
          "output_type": "stream",
          "name": "stderr",
          "text": [
            "/usr/local/lib/python3.10/dist-packages/statsmodels/stats/stattools.py:74: ValueWarning: omni_normtest is not valid with less than 8 observations; 5 samples were given.\n",
            "  warn(\"omni_normtest is not valid with less than 8 observations; %i \"\n"
          ]
        }
      ],
      "source": [
        "\n",
        "# 20. To perform a multiple regression analysis to predict one variable based on multiple independent variables, you can use the `OLS()` function from the `statsmodels.api` module in Python.\n",
        "\n",
        "\n",
        "import statsmodels.api as sm\n",
        "\n",
        "advertising_expenditure = [10, 15, 12, 8, 14]\n",
        "sales = [25, 30, 28, 20, 26]\n",
        "\n",
        "advertising_expenditure = sm.add_constant(advertising_expenditure)  # add a constant term for the intercept\n",
        "\n",
        "model = sm.OLS(sales, advertising_expenditure)\n",
        "results = model.fit()\n",
        "\n",
        "print(results.summary())"
      ]
    }
  ]
}