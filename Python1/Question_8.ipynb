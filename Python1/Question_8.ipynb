{
 "cells": [
  {
   "cell_type": "code",
   "execution_count": 70,
   "metadata": {},
   "outputs": [],
   "source": [
    " import pandas as pd\n",
    "import requests\n",
    "import json\n",
    "import logging\n",
    "\n",
    "# Configure logging\n",
    "logging.basicConfig(filename='Question_8_log.txt', level=logging.INFO, format='%(asctime)s - %(levelname)s - %(message)s')\n",
    "\n",
    "# Requesting content from the API\n",
    "response = requests.get('https://api.tvmaze.com/singlesearch/shows?q=westworld&embed=episodes')\n",
    "\n",
    "# Check if the request was successful\n",
    "if response.status_code == 200:\n",
    "    # Extract the JSON data\n",
    "    json_data = response.json()\n",
    "\n",
    "    # Save the JSON data to a file\n",
    "    with open('json_data.json', 'w') as json_file:\n",
    "        json.dump(json_data, json_file)\n",
    "        logging.info(\"JSON data has been saved successfully.\")\n",
    "else:\n",
    "    logging.error(\"Error occurred while requesting the data.\")\n",
    "\n",
    "# Load JSON data\n",
    "with open('json_data.json', 'r') as json_file:\n",
    "    data = json.load(json_file)\n",
    "\n",
    "# Extract relevant attributes and store in a list of dictionaries\n",
    "records = []\n",
    "for item in data[\"_embedded\"][\"episodes\"]:\n",
    "    record = {\n",
    "        'id': item['id'],\n",
    "        'url': item['url'],\n",
    "        'name': item['name'],\n",
    "        'season': item['season'],\n",
    "        'number': item['number'],\n",
    "        'type': item['type'],\n",
    "        'airdate': item['airdate'],\n",
    "        'airtime': item['airtime'],\n",
    "        'runtime': item['runtime'],\n",
    "        'average_rating': item['rating']['average'],\n",
    "        'summary': item['summary'].replace('<p>', '').replace('</p>', ''),\n",
    "        'medium_image_link': item['image']['medium'],\n",
    "        'original_image_link': item['image']['original']\n",
    "    }\n",
    "    records.append(record)\n",
    "\n",
    "# Convert the list of dictionaries to a DataFrame\n",
    "structured_dataset = pd.DataFrame(records)\n",
    "structured_dataset.airdate = structured_dataset.airdate.apply(pd.to_datetime)\n",
    "# Save the DataFrame as an Excel file\n",
    "structured_dataset.to_excel('structured_dataset.xlsx', index=False)\n"
   ]
  },
  {
   "cell_type": "code",
   "execution_count": 71,
   "metadata": {},
   "outputs": [],
   "source": [
    "df=structured_dataset.copy()"
   ]
  },
  {
   "cell_type": "code",
   "execution_count": 74,
   "metadata": {},
   "outputs": [
    {
     "name": "stdout",
     "output_type": "stream",
     "text": [
      "   Season  season_avg_rating\n",
      "0       1             8.0900\n",
      "1       2             8.0000\n",
      "2       3             7.7750\n",
      "3       4             7.5375\n"
     ]
    },
    {
     "data": {
      "text/plain": [
       "<Axes: xlabel='Season'>"
      ]
     },
     "execution_count": 74,
     "metadata": {},
     "output_type": "execute_result"
    },
    {
     "data": {
      "image/png": "[encoded data removed]",
      "text/plain": [
       "<Figure size 640x480 with 1 Axes>"
      ]
     },
     "metadata": {},
     "output_type": "display_data"
    }
   ],
   "source": [
    "#Get all the overall ratings for each season and using plots compare the ratings for all the\n",
    "#seasons, like season 1 ratings, season 2, and so on.\n",
    "\n",
    "season_avg_rating=[]\n",
    "for s_num in df.season.unique():\n",
    "    season_avg_rating.append(df[df['season']==s_num]['average_rating'].mean())\n",
    "\n",
    "season_rating_df=pd.DataFrame({'Season':df.season.unique(),\n",
    "                               'season_avg_rating':season_avg_rating})\n",
    "\n",
    "print(season_rating_df)\n",
    "season_rating_df.plot(kind='bar',x='Season')"
   ]
  },
  {
   "cell_type": "code",
   "execution_count": 64,
   "metadata": {},
   "outputs": [
    {
     "data": {
      "text/html": [
       "<div>\n",
       "<style scoped>\n",
       "    .dataframe tbody tr th:only-of-type {\n",
       "        vertical-align: middle;\n",
       "    }\n",
       "\n",
       "    .dataframe tbody tr th {\n",
       "        vertical-align: top;\n",
       "    }\n",
       "\n",
       "    .dataframe thead th {\n",
       "        text-align: right;\n",
       "    }\n",
       "</style>\n",
       "<table border=\"1\" class=\"dataframe\">\n",
       "  <thead>\n",
       "    <tr style=\"text-align: right;\">\n",
       "      <th></th>\n",
       "      <th>season</th>\n",
       "      <th>name</th>\n",
       "    </tr>\n",
       "  </thead>\n",
       "  <tbody>\n",
       "    <tr>\n",
       "      <th>6</th>\n",
       "      <td>1</td>\n",
       "      <td>Trompe L'Oeil</td>\n",
       "    </tr>\n",
       "    <tr>\n",
       "      <th>8</th>\n",
       "      <td>1</td>\n",
       "      <td>The Well-Tempered Clavier</td>\n",
       "    </tr>\n",
       "    <tr>\n",
       "      <th>9</th>\n",
       "      <td>1</td>\n",
       "      <td>The Bicameral Mind</td>\n",
       "    </tr>\n",
       "    <tr>\n",
       "      <th>17</th>\n",
       "      <td>2</td>\n",
       "      <td>Kiksuya</td>\n",
       "    </tr>\n",
       "    <tr>\n",
       "      <th>18</th>\n",
       "      <td>2</td>\n",
       "      <td>Vanishing Point</td>\n",
       "    </tr>\n",
       "    <tr>\n",
       "      <th>19</th>\n",
       "      <td>2</td>\n",
       "      <td>The Passenger</td>\n",
       "    </tr>\n",
       "  </tbody>\n",
       "</table>\n",
       "</div>"
      ],
      "text/plain": [
       "    season                       name\n",
       "6        1              Trompe L'Oeil\n",
       "8        1  The Well-Tempered Clavier\n",
       "9        1         The Bicameral Mind\n",
       "17       2                    Kiksuya\n",
       "18       2            Vanishing Point\n",
       "19       2              The Passenger"
      ]
     },
     "execution_count": 64,
     "metadata": {},
     "output_type": "execute_result"
    }
   ],
   "source": [
    "#Get all the episode names, whose average rating is more than 8 for every season\n",
    "df[df['average_rating']>8][['season','name']]"
   ]
  },
  {
   "cell_type": "code",
   "execution_count": 87,
   "metadata": {},
   "outputs": [
    {
     "data": {
      "text/plain": [
       "array(['The Original', 'Chestnut', 'The Stray', 'Dissonance Theory',\n",
       "       'Contrapasso', 'The Adversary', \"Trompe L'Oeil\", 'Trace Decay',\n",
       "       'The Well-Tempered Clavier', 'The Bicameral Mind',\n",
       "       'Journey Into Night', 'Reunion', 'Virtù e Fortuna',\n",
       "       'The Riddle of the Sphinx', 'Akane No Mai', 'Phase Space',\n",
       "       'Les Écorchés', 'Kiksuya', 'Vanishing Point', 'The Passenger'],\n",
       "      dtype=object)"
      ]
     },
     "execution_count": 87,
     "metadata": {},
     "output_type": "execute_result"
    }
   ],
   "source": [
    "#Get all the episode names that aired before May 2019\n",
    "df[df.airdate<'2019-05-01 00:00:00']['name'].values"
   ]
  },
  {
   "cell_type": "code",
   "execution_count": 99,
   "metadata": {},
   "outputs": [],
   "source": [
    "#Get the episode name from each season with the highest and lowest rating\n",
    "data={}\n",
    "for s_num in df.season.unique():\n",
    "    extreme_episodes=[df[df['season']==s_num][['name','average_rating']].max()[0],\n",
    "                    df[df['season']==s_num][['name','average_rating']].min()[0]]\n",
    "    data[f'Season {s_num}']=extreme_episodes\n",
    "\n",
    "extreme_episodes_df=pd.DataFrame(data)\n",
    "extreme_episodes_df"
   ]
  },
  {
   "cell_type": "code",
   "execution_count": 115,
   "metadata": {},
   "outputs": [
    {
     "name": "stdout",
     "output_type": "stream",
     "text": [
      "\n",
      "    Season 1\n",
      "    \n",
      "    Episode name: Trompe L'Oeil\n",
      "    \n",
      "    Summary: \n",
      "    ['While William and Dolores travel to the unclaimed territories, Charlotte and Theresa make plans to force Robert out of the park using Clementine. Meanwhile, Maeve continues her plans to escape Westworld.']\n",
      "    \n",
      "\n",
      "    Season 2\n",
      "    \n",
      "    Episode name: Virtù e Fortuna\n",
      "    \n",
      "    Summary: \n",
      "    ['While Delores makes a deal with the Confederados, Maeve and her group find Felix and Sylvester. Meanwhile, a new Guest comes to Westworld, and Bernard has a meeting of minds with Peter.']\n",
      "    \n",
      "\n",
      "    Season 3\n",
      "    \n",
      "    Episode name: The Winter Line\n",
      "    \n",
      "    Summary: \n",
      "    ['People put up a lot of walls. Bring a sledgehammer to your life.']\n",
      "    \n",
      "\n",
      "    Season 4\n",
      "    \n",
      "    Episode name: Zhuangzi\n",
      "    \n",
      "    Summary: \n",
      "    ['God is bored.']\n",
      "    \n"
     ]
    }
   ],
   "source": [
    "#Get the summary for the most popular ( ratings ) episode in every season\n",
    "\n",
    "for s in extreme_episodes_df.columns:\n",
    "    ep_name= extreme_episodes_df[s][0]\n",
    "    ep_summary=df[df['name']==ep_name]['summary'].values\n",
    "    print(f'''\n",
    "    {s}\n",
    "    \n",
    "    Episode name: {ep_name}\n",
    "    \n",
    "    Summary: \n",
    "    {ep_summary}\n",
    "    ''')"
   ]
  },
  {
   "cell_type": "code",
   "execution_count": null,
   "metadata": {},
   "outputs": [],
   "source": []
  }
 ],
 "metadata": {
  "kernelspec": {
   "display_name": "Python 3.8.10 64-bit",
   "language": "python",
   "name": "python3"
  },
  "language_info": {
   "codemirror_mode": {
    "name": "ipython",
    "version": 3
   },
   "file_extension": ".py",
   "mimetype": "text/x-python",
   "name": "python",
   "nbconvert_exporter": "python",
   "pygments_lexer": "ipython3",
   "version": "3.8.10"
  },
  "orig_nbformat": 4,
  "vscode": {
   "interpreter": {
    "hash": "e7370f93d1d0cde622a1f8e1c04877d8463912d04d973331ad4851f04de6915a"
   }
  }
 },
 "nbformat": 4,
 "nbformat_minor": 2
}
