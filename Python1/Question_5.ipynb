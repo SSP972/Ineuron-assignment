{
 "cells": [
  {
   "cell_type": "code",
   "execution_count": 37,
   "metadata": {},
   "outputs": [],
   "source": [
    "import pandas as pd\n",
    "import requests\n",
    "import json\n",
    "import logging\n",
    "\n",
    "# Configure logging\n",
    "logging.basicConfig(filename='Question_5_log.txt', level=logging.INFO, format='%(asctime)s - %(levelname)s - %(message)s')\n",
    "\n",
    "# Requesting content from the API\n",
    "response = requests.get('https://api.tvmaze.com/singlesearch/shows?q=westworld&embed=episodes')\n",
    "\n",
    "# Check if the request was successful\n",
    "if response.status_code == 200:\n",
    "    # Extract the JSON data\n",
    "    json_data = response.json()\n",
    "\n",
    "    # Save the JSON data to a file\n",
    "    with open('json_data.json', 'w') as json_file:\n",
    "        json.dump(json_data, json_file)\n",
    "        logging.info(\"JSON data has been saved successfully.\")\n",
    "else:\n",
    "    logging.error(\"Error occurred while requesting the data.\")\n",
    "\n",
    "# Load JSON data\n",
    "with open('json_data.json', 'r') as json_file:\n",
    "    data = json.load(json_file)\n",
    "\n",
    "# Extract relevant attributes and store in a list of dictionaries\n",
    "records = []\n",
    "for item in data[\"_embedded\"][\"episodes\"]:\n",
    "    record = {\n",
    "        'id': item['id'],\n",
    "        'url': item['url'],\n",
    "        'name': item['name'],\n",
    "        'season': item['season'],\n",
    "        'number': item['number'],\n",
    "        'type': item['type'],\n",
    "        'airdate': item['airdate'],\n",
    "        'airtime': item['airtime'],\n",
    "        'runtime': item['runtime'],\n",
    "        'average_rating': item['rating']['average'],\n",
    "        'summary': item['summary'].replace('<p>', '').replace('</p>', ''),\n",
    "        'medium_image_link': item['image']['medium'],\n",
    "        'original_image_link': item['image']['original']\n",
    "    }\n",
    "    records.append(record)\n",
    "\n",
    "# Convert the list of dictionaries to a DataFrame\n",
    "structured_dataset = pd.DataFrame(records)\n",
    "\n",
    "# Save the DataFrame as an Excel file\n",
    "structured_dataset.to_excel('structured_dataset.xlsx', index=False)\n"
   ]
  },
  {
   "cell_type": "code",
   "execution_count": null,
   "metadata": {},
   "outputs": [],
   "source": []
  }
 ],
 "metadata": {
  "kernelspec": {
   "display_name": "Python 3.8.10 64-bit",
   "language": "python",
   "name": "python3"
  },
  "language_info": {
   "codemirror_mode": {
    "name": "ipython",
    "version": 3
   },
   "file_extension": ".py",
   "mimetype": "text/x-python",
   "name": "python",
   "nbconvert_exporter": "python",
   "pygments_lexer": "ipython3",
   "version": "3.8.10"
  },
  "orig_nbformat": 4,
  "vscode": {
   "interpreter": {
    "hash": "e7370f93d1d0cde622a1f8e1c04877d8463912d04d973331ad4851f04de6915a"
   }
  }
 },
 "nbformat": 4,
 "nbformat_minor": 2
}
