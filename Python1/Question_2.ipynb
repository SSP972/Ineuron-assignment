{
 "cells": [
  {
   "cell_type": "code",
   "execution_count": null,
   "metadata": {},
   "outputs": [],
   "source": [
    "from collections import Counter\n",
    "\n",
    "def is_valid_string(s):\n",
    "    freq = Counter(s)  # Count the frequency of each character in the string\n",
    "\n",
    "    # Count the frequency of frequencies\n",
    "    freq_count = Counter(freq.values())\n",
    "\n",
    "    if len(freq_count) == 1:\n",
    "        # If all characters have the same frequency, the string is valid\n",
    "        return \"YES\"\n",
    "    elif len(freq_count) == 2:\n",
    "        # If there are two different frequencies, check if removing one character can make the string valid\n",
    "        freq_values = list(freq_count.values())\n",
    "        freq_keys = list(freq_count.keys())\n",
    "        \n",
    "        if (freq_values[0] == 1 and freq_keys[0] == 1) or (freq_values[1] == 1 and freq_keys[1] == 1):\n",
    "            # If one of the frequencies is 1, removing one character can make the string valid\n",
    "            return \"YES\"\n",
    "\n",
    "    return \"NO\"  # If none of the conditions are met, the string is not valid\n",
    "\n",
    "\n",
    "\n",
    "\n",
    "\n",
    "# test case 1\n",
    "s = \"abc\"\n",
    "print('test case 1')\n",
    "print(is_valid_string(s))  # Output: YES\n",
    "\n",
    "# test case 2\n",
    "s = \"abcc\"\n",
    "print('test case 2')\n",
    "print(is_valid_string(s))  # Output: NO\n",
    "\n",
    "# test case 3\n",
    "s = \"aabbccdd\"\n",
    "print('test case 3')\n",
    "print(is_valid_string(s))  # Output: YES\n",
    "# Explanation: In this case, all characters have the same frequency (2), so the string is valid.\n",
    "\n",
    "# test case 4\n",
    "s = \"a\"*10**6\n",
    "print('test case 4')\n",
    "print(is_valid_string(s))  # Output: YES\n",
    "# Explanation: In this case, removing the character 'x' will make the remaining characters have the same frequency (2), so the string is valid.\n"
   ]
  }
 ],
 "metadata": {
  "kernelspec": {
   "display_name": "Python 3.8.10 64-bit",
   "language": "python",
   "name": "python3"
  },
  "language_info": {
   "name": "python",
   "version": "3.8.10"
  },
  "orig_nbformat": 4,
  "vscode": {
   "interpreter": {
    "hash": "e7370f93d1d0cde622a1f8e1c04877d8463912d04d973331ad4851f04de6915a"
   }
  }
 },
 "nbformat": 4,
 "nbformat_minor": 2
}
