{
 "cells": [
  {
   "cell_type": "code",
   "execution_count": 1,
   "metadata": {},
   "outputs": [],
   "source": [
    "def highest_frequency_word_length(string):\n",
    "    words = string.split()\n",
    "    word_counts = {}\n",
    "\n",
    "    for word in words:\n",
    "        if word in word_counts:\n",
    "            word_counts[word] += 1\n",
    "        else:\n",
    "            word_counts[word] = 1\n",
    "\n",
    "    max_frequency = max(word_counts.values())\n",
    "    max_length = 0\n",
    "\n",
    "    for word, frequency in word_counts.items():\n",
    "        if frequency == max_frequency and len(word) > max_length:\n",
    "            max_length = len(word)\n",
    "\n",
    "    return max_length\n",
    "\n",
    "\n",
    "\n"
   ]
  },
  {
   "cell_type": "code",
   "execution_count": 2,
   "metadata": {},
   "outputs": [
    {
     "name": "stdout",
     "output_type": "stream",
     "text": [
      "write write write all the number from from from 1 to 100\n",
      "1) 5\n",
      "a a a b b c c c c\n",
      "2) 1\n",
      "hello world hello world hello world hello\n",
      "3) 5\n"
     ]
    }
   ],
   "source": [
    "# test case1\n",
    "string = \"write write write all the number from from from 1 to 100\"\n",
    "print(string)\n",
    "print('1)',highest_frequency_word_length(string)) \n",
    "\n",
    "#  test case 2\n",
    "string = \"a a a b b c c c c\"\n",
    "print(string)\n",
    "print('2)',highest_frequency_word_length(string))   \n",
    "\n",
    "#test case 3\n",
    "string = \"hello world hello world hello world hello\"\n",
    "print(string)\n",
    "print('3)',highest_frequency_word_length(string)) \n"
   ]
  }
 ],
 "metadata": {
  "kernelspec": {
   "display_name": "Python 3.8.10 64-bit",
   "language": "python",
   "name": "python3"
  },
  "language_info": {
   "codemirror_mode": {
    "name": "ipython",
    "version": 3
   },
   "file_extension": ".py",
   "mimetype": "text/x-python",
   "name": "python",
   "nbconvert_exporter": "python",
   "pygments_lexer": "ipython3",
   "version": "3.8.10"
  },
  "orig_nbformat": 4,
  "vscode": {
   "interpreter": {
    "hash": "e7370f93d1d0cde622a1f8e1c04877d8463912d04d973331ad4851f04de6915a"
   }
  }
 },
 "nbformat": 4,
 "nbformat_minor": 2
}
