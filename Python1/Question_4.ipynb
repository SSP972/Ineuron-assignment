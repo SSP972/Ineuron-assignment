{
 "cells": [
  {
   "cell_type": "code",
   "execution_count": 3,
   "metadata": {},
   "outputs": [],
   "source": [
    "import pandas as pd\n",
    "import numpy as np\n",
    "import requests\n",
    "import json\n",
    "import logging\n",
    "\n",
    "# Configure logging\n",
    "logging.basicConfig(filename='question_4_log.txt', level=logging.INFO, format='%(asctime)s - %(levelname)s - %(message)s')\n",
    "\n",
    "# Requesting content from the URL with GET method\n",
    "response = requests.get('https://data.nasa.gov/resource/y77d-th95.json')\n",
    "\n",
    "# Check if the request was successful\n",
    "if response.status_code == 200:\n",
    "    # Extract the JSON data\n",
    "    json_data = response.json()\n",
    "\n",
    "    # Save the JSON data to a file\n",
    "    with open('json_data.json', 'w') as json_file:\n",
    "        json.dump(json_data, json_file)\n",
    "    logging.info(\"JSON data has been saved successfully.\")\n",
    "else:\n",
    "    logging.error(\"Error occurred while requesting the data.\")\n",
    "\n",
    "# Load JSON data\n",
    "with open('json_data.json') as json_file:\n",
    "    data = json.load(json_file)\n",
    "\n",
    "# Convert JSON data to a DataFrame\n",
    "structured_dataset = pd.json_normalize(data)\n",
    "\n",
    "# Rename columns\n",
    "old_columns = ['name', 'id', 'nametype', 'recclass', 'mass', 'year', 'reclat', 'reclong', 'geolocation.coordinates']\n",
    "new_columns = ['Name', 'Id', 'Nametype', 'Recclass', 'Mass', 'Year', 'Reclat', 'Reclong', 'Pointer Coordinates']\n",
    "structured_dataset.columns=structured_dataset.columns.map(dict(zip(old_columns,new_columns)))\n",
    "# Drop rows with NaN values\n",
    "structured_dataset.dropna(axis=0, inplace=True)\n",
    "\n",
    "# Convert data types\n",
    "structured_dataset['Mass'] = structured_dataset['Mass'].astype(float)\n",
    "structured_dataset['Id'] = structured_dataset['Id'].astype(int)\n",
    "structured_dataset['Year'] = structured_dataset['Year'].apply(lambda x: int(x[:4]) if isinstance(x, str) else 0)\n",
    "structured_dataset['Reclat'] = structured_dataset['Reclat'].astype(float)\n",
    "structured_dataset['Reclong'] = structured_dataset['Reclong'].astype(float)\n",
    "\n",
    "# Save the DataFrame as an Excel file\n",
    "structured_dataset.to_excel('structured_dataset.xlsx', index=False)\n",
    "logging.info(\"Structured dataset has been saved as structured_dataset.xlsx.\")\n"
   ]
  },
  {
   "cell_type": "code",
   "execution_count": null,
   "metadata": {},
   "outputs": [],
   "source": []
  }
 ],
 "metadata": {
  "kernelspec": {
   "display_name": "Python 3.8.10 64-bit",
   "language": "python",
   "name": "python3"
  },
  "language_info": {
   "codemirror_mode": {
    "name": "ipython",
    "version": 3
   },
   "file_extension": ".py",
   "mimetype": "text/x-python",
   "name": "python",
   "nbconvert_exporter": "python",
   "pygments_lexer": "ipython3",
   "version": "3.8.10"
  },
  "orig_nbformat": 4,
  "vscode": {
   "interpreter": {
    "hash": "e7370f93d1d0cde622a1f8e1c04877d8463912d04d973331ad4851f04de6915a"
   }
  }
 },
 "nbformat": 4,
 "nbformat_minor": 2
}
