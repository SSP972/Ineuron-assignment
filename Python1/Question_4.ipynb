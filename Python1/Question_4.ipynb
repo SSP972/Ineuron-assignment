{
 "cells": [
  {
   "cell_type": "code",
   "execution_count": 88,
   "metadata": {},
   "outputs": [],
   "source": [
    "# imports\n",
    "import pandas as pd \n",
    "import numpy as np\n",
    "from urllib3 import request as uReq\n",
    "import json\n",
    "\n",
    "#Requsting content from open url with GET method\n",
    "get_json=uReq('GET','https://data.nasa.gov/resource/y77d-th95.json')\n",
    "json_data= get_json.json()      \n",
    "\n",
    "with open('json_data.json',\"w+\")as json_file:\n",
    "    json.dump(json_data, json_file)                             # Creating json file and dumpingconte extracted content from it\n",
    "\n",
    "structured_dataset=pd.json_normalize(json_data)    # structured_dataset.to_excel('structured_dataset.xlsx')          \n",
    "\n",
    "old_column= ['name', 'id', 'nametype', 'recclass', 'mass', 'year', 'reclat',\n",
    "       'reclong', 'geolocation.coordinates']\n",
    "new_column= ['Name','Id','Nametype','Recclass','Mass','Year','Reclat','Reclong','Pointer Coordinates']\n",
    "structured_dataset.columns=structured_dataset.columns.map(dict(zip(old_column,new_column)))\n",
    "\n",
    "structured_dataset.drop(np.nan,axis=1,inplace=True)\n",
    "\n",
    "structured_dataset['Mass']= structured_dataset.Mass.astype(float)\n",
    "structured_dataset['Id']= structured_dataset.Id.astype(int)\n",
    "structured_dataset['Year']=structured_dataset['Year'].apply(lambda x: int(x[:4]) if isinstance(x, str) else 0)\n",
    "structured_dataset['Reclat']=structured_dataset['Reclat'].astype(float)\n",
    "structured_dataset['Reclong']=structured_dataset['Reclong'].astype(float) \n",
    "\n",
    "structured_dataset.to_excel(\"structured_dataset.xlsx\")  # saving structured format data into excel file  this might require to install 'openpyxl' library"
   ]
  },
  {
   "cell_type": "code",
   "execution_count": null,
   "metadata": {},
   "outputs": [],
   "source": []
  }
 ],
 "metadata": {
  "kernelspec": {
   "display_name": "Python 3.8.10 64-bit",
   "language": "python",
   "name": "python3"
  },
  "language_info": {
   "codemirror_mode": {
    "name": "ipython",
    "version": 3
   },
   "file_extension": ".py",
   "mimetype": "text/x-python",
   "name": "python",
   "nbconvert_exporter": "python",
   "pygments_lexer": "ipython3",
   "version": "3.8.10"
  },
  "orig_nbformat": 4,
  "vscode": {
   "interpreter": {
    "hash": "e7370f93d1d0cde622a1f8e1c04877d8463912d04d973331ad4851f04de6915a"
   }
  }
 },
 "nbformat": 4,
 "nbformat_minor": 2
}
