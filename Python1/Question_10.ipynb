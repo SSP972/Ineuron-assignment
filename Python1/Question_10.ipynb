{
 "cells": [
  {
   "cell_type": "code",
   "execution_count": null,
   "metadata": {},
   "outputs": [],
   "source": [
    "import nltk\n",
    "from nltk import pos_tag\n",
    "from nltk.tokenize import word_tokenize"
   ]
  },
  {
   "cell_type": "code",
   "execution_count": 7,
   "metadata": {},
   "outputs": [
    {
     "name": "stderr",
     "output_type": "stream",
     "text": [
      "[nltk_data] Downloading package averaged_perceptron_tagger to\n",
      "[nltk_data]     /config/nltk_data...\n",
      "[nltk_data]   Package averaged_perceptron_tagger is already up-to-\n",
      "[nltk_data]       date!\n"
     ]
    },
    {
     "data": {
      "text/plain": [
       "True"
      ]
     },
     "execution_count": 7,
     "metadata": {},
     "output_type": "execute_result"
    }
   ],
   "source": [
    "nltk.download('averaged_perceptron_tagger')"
   ]
  },
  {
   "cell_type": "code",
   "execution_count": 8,
   "metadata": {},
   "outputs": [
    {
     "name": "stdout",
     "output_type": "stream",
     "text": [
      "{'nouns': 3, 'pronouns': 0, 'verbs': 1, 'adjectives': 2}\n"
     ]
    }
   ],
   "source": [
    "\n",
    "\n",
    "def count_pos(text):\n",
    "    # Tokenize the text into words\n",
    "    words = word_tokenize(text)\n",
    "\n",
    "    # Perform Part-of-Speech (POS) tagging\n",
    "    tagged_words = pos_tag(words)\n",
    "\n",
    "    # Initialize counters for each POS category\n",
    "    counts = {\n",
    "        'nouns': 0,\n",
    "        'pronouns': 0,\n",
    "        'verbs': 0,\n",
    "        'adjectives': 0\n",
    "    }\n",
    "\n",
    "    # Count the occurrences of each POS category\n",
    "    for word, pos in tagged_words:\n",
    "        if pos.startswith('NN'):  # Noun\n",
    "            counts['nouns'] += 1\n",
    "        elif pos == 'PRP' or pos == 'PRP$':  # Pronoun\n",
    "            counts['pronouns'] += 1\n",
    "        elif pos.startswith('VB'):  # Verb\n",
    "            counts['verbs'] += 1\n",
    "        elif pos.startswith('JJ'):  # Adjective\n",
    "            counts['adjectives'] += 1\n",
    "\n",
    "    return counts\n",
    "\n",
    "\n",
    "text = \"The quick brown fox jumps over the lazy dog.\"\n",
    "result = count_pos(text)\n",
    "print(result)\n"
   ]
  },
  {
   "cell_type": "code",
   "execution_count": null,
   "metadata": {},
   "outputs": [],
   "source": []
  }
 ],
 "metadata": {
  "kernelspec": {
   "display_name": "Python 3.8.10 64-bit",
   "language": "python",
   "name": "python3"
  },
  "language_info": {
   "codemirror_mode": {
    "name": "ipython",
    "version": 3
   },
   "file_extension": ".py",
   "mimetype": "text/x-python",
   "name": "python",
   "nbconvert_exporter": "python",
   "pygments_lexer": "ipython3",
   "version": "3.8.10"
  },
  "orig_nbformat": 4,
  "vscode": {
   "interpreter": {
    "hash": "e7370f93d1d0cde622a1f8e1c04877d8463912d04d973331ad4851f04de6915a"
   }
  }
 },
 "nbformat": 4,
 "nbformat_minor": 2
}
