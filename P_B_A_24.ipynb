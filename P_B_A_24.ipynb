{
 "cells": [
  {
   "cell_type": "markdown",
   "id": "57ebfd9b",
   "metadata": {},
   "source": [
    "### 1. What is the relationship between def statements and lambda expressions ?"
   ]
  },
  {
   "cell_type": "markdown",
   "id": "b3e3323b",
   "metadata": {},
   "source": [
    "Ans. Both lambda and def create the same kind of function.\n",
    "\n",
    "     A lambda is an expression producing a function whereas a def is a statement producing a function.\n",
    "     \n",
    "     lambda creates an anonymous function whereas def statement marks the start of the function header.\n",
    "     \n",
    "     Lambdas differ from normal Python methods because they can have only one expression, can't contain any statements and their return type is a function object."
   ]
  },
  {
   "cell_type": "markdown",
   "id": "2ad9c5f9",
   "metadata": {},
   "source": [
    "### 2. What is the benefit of lambda?"
   ]
  },
  {
   "cell_type": "markdown",
   "id": "ed629067",
   "metadata": {},
   "source": [
    "Ans. Lambda functions are anonymous functions.\n",
    "\n",
    "Fewer Lines of Code.\n",
    "\n",
    "Lambda functions are inline functions and thus execute comparatively faster."
   ]
  },
  {
   "cell_type": "markdown",
   "id": "409b8a49",
   "metadata": {},
   "source": [
    "### 3. Compare and contrast map, filter, and reduce."
   ]
  },
  {
   "cell_type": "markdown",
   "id": "68d732a4",
   "metadata": {},
   "source": [
    "Ans. The map() function iterates through all items in the given iterable and executes the function we \n",
    "passed as an argument on each of them. Syntax : map(function, iterable(s))\n",
    "\n",
    "filter() forms a new list that contains only elements that satisfy a certain condition, i.e. the function we passed returns True. Syntax : filter(function, iterable(s))\n",
    "\n",
    "reduce() works by calling the function we passed for the first two items in the sequence. The result returned by \n",
    "the function is used in another call to function alongside with the next (third in this case), element. Syntax : reduce(function, sequence[, initial])"
   ]
  },
  {
   "cell_type": "code",
   "execution_count": 1,
   "id": "e0825894",
   "metadata": {},
   "outputs": [
    {
     "name": "stdout",
     "output_type": "stream",
     "text": [
      "[8, 9, 10, 11, 12, 13]\n"
     ]
    }
   ],
   "source": [
    "l= [1,2,3,4,5,6]\n",
    "res= map(lambda x:x+7,l )\n",
    "print(list(res))"
   ]
  },
  {
   "cell_type": "code",
   "execution_count": 2,
   "id": "9ec52540",
   "metadata": {},
   "outputs": [
    {
     "name": "stdout",
     "output_type": "stream",
     "text": [
      "[2, 4, 6]\n"
     ]
    }
   ],
   "source": [
    "res= filter(lambda x : x%2==0 ,l)\n",
    "print(list(res))"
   ]
  },
  {
   "cell_type": "code",
   "execution_count": 3,
   "id": "919237a9",
   "metadata": {},
   "outputs": [
    {
     "name": "stdout",
     "output_type": "stream",
     "text": [
      "720\n"
     ]
    }
   ],
   "source": [
    "from functools import reduce\n",
    "res= reduce(lambda x,y : x*y , l)\n",
    "print(res)"
   ]
  },
  {
   "cell_type": "markdown",
   "id": "0702fd93",
   "metadata": {},
   "source": [
    "### 4. What are function annotations, and how are they used?"
   ]
  },
  {
   "cell_type": "markdown",
   "id": "66e0c39c",
   "metadata": {},
   "source": [
    "Ans. Function annotation is the standard way to access the metadata with the arguments and the return value of the function.\n",
    "\n",
    "These are nothing but some random and optional Python expressions that get allied to different parts of the function.\n",
    "\n",
    "They get evaluated only during the compile-time and have no significance during the run-time of the code.\n",
    "\n",
    "They do not have any significance or meaning associated with them until accessed by some third-party libraries.\n",
    "\n",
    "They are used to type check the functions by declaring the type of the parameters and the return value for the functions.\n",
    "\n",
    "The string-based annotations help us to improve the help messages.\n",
    "\n",
    "Syntax :\n",
    "    def func(a: 'int') -> 'int':\n",
    "        pass\n",
    "\n",
    "Annotations for simple parameters:\n",
    "\n",
    "    def func(x: 'float'=10.8, y: 'argument2'):\n",
    "    \n",
    "        In the above code the argument, ‘x’ of the function func, \n",
    "        has been annotated to float data type and the argument ‘y’ \n",
    "        has a string-based annotation. The argument can also be \n",
    "        assigned to a default value using a ‘=’ symbol followed \n",
    "        by the default value. These default values are optional to the code.\n",
    "\n",
    "Annotations for return values:\n",
    "\n",
    "    def func(a: expression) -> 'int':\n",
    "    \n",
    "        The annotations for the return value is written after the ‘->’ symbol."
   ]
  },
  {
   "cell_type": "code",
   "execution_count": 4,
   "id": "69652721",
   "metadata": {},
   "outputs": [
    {
     "name": "stdout",
     "output_type": "stream",
     "text": [
      "{'string': <class 'str'>, 'start': <class 'int'>, 'end': <class 'int'>, 'return': <class 'str'>}\n"
     ]
    }
   ],
   "source": [
    "def slice(string:str, start: int, end: int) -> str:\n",
    "    return string[start:end]\n",
    "  \n",
    "print(slice.__annotations__)"
   ]
  },
  {
   "cell_type": "markdown",
   "id": "cb78df5d",
   "metadata": {},
   "source": [
    "### 5. What are recursive functions, and how are they used?"
   ]
  },
  {
   "cell_type": "markdown",
   "id": "9bcfb7b2",
   "metadata": {},
   "source": [
    "Ans. A recursive function is a function that calls itself during its execution. \n",
    "This means that the function will continue to call itself and repeat its behavior until some condition is met to return \n",
    "a result"
   ]
  },
  {
   "cell_type": "code",
   "execution_count": 5,
   "id": "02efec5e",
   "metadata": {},
   "outputs": [
    {
     "name": "stdout",
     "output_type": "stream",
     "text": [
      "34\n"
     ]
    }
   ],
   "source": [
    "def fib(n):\n",
    "    if n==0:\n",
    "        return 0\n",
    "    elif n==1 or n==2:\n",
    "        return 1\n",
    "    else:\n",
    "        return fib(n-1)+fib(n-2)\n",
    "\n",
    "print(fib(9))"
   ]
  },
  {
   "cell_type": "markdown",
   "id": "28c9da3c",
   "metadata": {},
   "source": [
    "### 6. What are some general design guidelines for coding functions?"
   ]
  },
  {
   "cell_type": "markdown",
   "id": "61840dde",
   "metadata": {},
   "source": [
    "Ans. 1. Use 4-space indentation and no tabs.\n",
    "\n",
    "2. Use docstrings.\n",
    "\n",
    "3. Wrap linethat they don’t exceed 79 characters.\n",
    "\n",
    "4. Use of regular and updated comments are valuable to both the coders and users.\n",
    "\n",
    "5. Use of trailing commas : in case of tuple -> ('good',).\n",
    "    \n",
    "6. Use Python’s default UTF-8 or ASCII encodings and not any fancy encodings.\n",
    "\n",
    "7. Naming Conventions.\n",
    "\n",
    "8.Characters that should not be used for identifiers :\n",
    "    ‘l’ (lowercase letter el), \n",
    "    \n",
    "    ‘O’ (uppercase letter oh), \n",
    "    \n",
    "    ‘I’ (uppercase letter eye) as single character variable names as these are similar to the numerals one and zero.\n",
    "    \n",
    "9. Don’t use non-ASCII characters in identifiers.\n",
    "\n",
    "10. Name your classes and functions consistently.\n",
    "\n",
    "11. While naming of function of methods always use self for the first argument."
   ]
  },
  {
   "cell_type": "markdown",
   "id": "9ad9d059",
   "metadata": {},
   "source": [
    "### 7. Name three or more ways that functions can communicate results to a caller.\n",
    "\n",
    "1. Function can return single value\n",
    "2. Can return multiple values, tuple\n",
    "3. can return list,dictionary\n",
    "4. can return function object\n",
    "5. can return class object"
   ]
  }
 ],
 "metadata": {
  "kernelspec": {
   "display_name": "Python 3",
   "language": "python",
   "name": "python3"
  },
  "language_info": {
   "codemirror_mode": {
    "name": "ipython",
    "version": 3
   },
   "file_extension": ".py",
   "mimetype": "text/x-python",
   "name": "python",
   "nbconvert_exporter": "python",
   "pygments_lexer": "ipython3",
   "version": "3.8.8"
  }
 },
 "nbformat": 4,
 "nbformat_minor": 5
}
