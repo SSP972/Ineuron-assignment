{
  "nbformat": 4,
  "nbformat_minor": 0,
  "metadata": {
    "colab": {
      "provenance": [],
      "collapsed_sections": []
    },
    "kernelspec": {
      "name": "python3",
      "display_name": "Python 3"
    },
    "language_info": {
      "name": "python"
    }
  },
  "cells": [
    {
      "cell_type": "code",
      "execution_count": null,
      "metadata": {
        "id": "6pEMQrVxOwfT"
      },
      "outputs": [],
      "source": [
        "# 1. Is the Python Standard Library included with PyInputPlus?\n",
        "# 2. Why is PyInputPlus commonly imported with import pyinputplus as pypi?\n",
        "# 3. How do you distinguish between inputInt() and inputFloat()?\n",
        "# 4. Using PyInputPlus, how do you ensure that the user enters a whole number between 0 and 99?\n",
        "# 5. What is transferred to the keyword arguments allowRegexes and blockRegexes?\n",
        "# 6. If a blank input is entered three times, what does inputStr(limit=3) do?\n",
        "# 7. If blank input is entered three times, what does inputStr(limit=3, default='hello') do?"
      ]
    },
    {
      "cell_type": "code",
      "source": [
        "# 1. Is the Python Standard Library included with PyInputPlus?\n",
        "Python doesn't include pyinputplus lib"
      ],
      "metadata": {
        "id": "uEwulcAV1oKW"
      },
      "execution_count": null,
      "outputs": []
    },
    {
      "cell_type": "code",
      "source": [
        "\n",
        "import pyinputplus as pyip"
      ],
      "metadata": {
        "id": "qI5sUnuyNGrU",
        "colab": {
          "base_uri": "https://localhost:8080/",
          "height": 305
        },
        "outputId": "72535edf-6579-4133-ce6a-d93f7a96cf1e"
      },
      "execution_count": null,
      "outputs": [
        {
          "output_type": "error",
          "ename": "ModuleNotFoundError",
          "evalue": "ignored",
          "traceback": [
            "\u001b[0;31m---------------------------------------------------------------------------\u001b[0m",
            "\u001b[0;31mModuleNotFoundError\u001b[0m                       Traceback (most recent call last)",
            "\u001b[0;32m<ipython-input-1-d9e93d31ad84>\u001b[0m in \u001b[0;36m<module>\u001b[0;34m\u001b[0m\n\u001b[0;32m----> 1\u001b[0;31m \u001b[0;32mimport\u001b[0m \u001b[0mpyinputplus\u001b[0m \u001b[0;32mas\u001b[0m \u001b[0mpyip\u001b[0m\u001b[0;34m\u001b[0m\u001b[0;34m\u001b[0m\u001b[0m\n\u001b[0m",
            "\u001b[0;31mModuleNotFoundError\u001b[0m: No module named 'pyinputplus'",
            "",
            "\u001b[0;31m---------------------------------------------------------------------------\u001b[0;32m\nNOTE: If your import is failing due to a missing package, you can\nmanually install dependencies using either !pip or !apt.\n\nTo view examples of installing some common dependencies, click the\n\"Open Examples\" button below.\n\u001b[0;31m---------------------------------------------------------------------------\u001b[0m\n"
          ],
          "errorDetails": {
            "actions": [
              {
                "action": "open_url",
                "actionText": "Open Examples",
                "url": "/notebooks/snippets/importing_libraries.ipynb"
              }
            ]
          }
        }
      ]
    },
    {
      "cell_type": "code",
      "source": [
        "!pip install pyinputplus"
      ],
      "metadata": {
        "id": "3PHvNwkyNQ0s",
        "colab": {
          "base_uri": "https://localhost:8080/"
        },
        "outputId": "3c65f778-41aa-4bd1-fe5e-a5cd04402518"
      },
      "execution_count": null,
      "outputs": [
        {
          "output_type": "stream",
          "name": "stdout",
          "text": [
            "Looking in indexes: https://pypi.org/simple, https://us-python.pkg.dev/colab-wheels/public/simple/\n",
            "Collecting pyinputplus\n",
            "  Downloading PyInputPlus-0.2.12.tar.gz (20 kB)\n",
            "  Installing build dependencies ... \u001b[?25l\u001b[?25hdone\n",
            "  Getting requirements to build wheel ... \u001b[?25l\u001b[?25hdone\n",
            "    Preparing wheel metadata ... \u001b[?25l\u001b[?25hdone\n",
            "Collecting pysimplevalidate>=0.2.7\n",
            "  Downloading PySimpleValidate-0.2.12.tar.gz (22 kB)\n",
            "  Installing build dependencies ... \u001b[?25l\u001b[?25hdone\n",
            "  Getting requirements to build wheel ... \u001b[?25l\u001b[?25hdone\n",
            "    Preparing wheel metadata ... \u001b[?25l\u001b[?25hdone\n",
            "Collecting stdiomask>=0.0.3\n",
            "  Downloading stdiomask-0.0.6.tar.gz (3.6 kB)\n",
            "  Installing build dependencies ... \u001b[?25l\u001b[?25hdone\n",
            "  Getting requirements to build wheel ... \u001b[?25l\u001b[?25hdone\n",
            "    Preparing wheel metadata ... \u001b[?25l\u001b[?25hdone\n",
            "Building wheels for collected packages: pyinputplus, pysimplevalidate, stdiomask\n",
            "  Building wheel for pyinputplus (PEP 517) ... \u001b[?25l\u001b[?25hdone\n",
            "  Created wheel for pyinputplus: filename=PyInputPlus-0.2.12-py3-none-any.whl size=11315 sha256=54878c16dee57faddc032b112bc6eacb70a01a9764676b96fbf94e033552d120\n",
            "  Stored in directory: /root/.cache/pip/wheels/e7/33/73/719f8f1bd984d39face880fd22f6c5ef1b85f726e84c687094\n",
            "  Building wheel for pysimplevalidate (PEP 517) ... \u001b[?25l\u001b[?25hdone\n",
            "  Created wheel for pysimplevalidate: filename=PySimpleValidate-0.2.12-py3-none-any.whl size=16191 sha256=ce68357e141396f4cca986775f9f4c03735a499ca6ce66bc5d000dd9da52389b\n",
            "  Stored in directory: /root/.cache/pip/wheels/5a/8b/6c/2925d22b93860bdc9b8ce02c3d2cf79336606f7469cef66065\n",
            "  Building wheel for stdiomask (PEP 517) ... \u001b[?25l\u001b[?25hdone\n",
            "  Created wheel for stdiomask: filename=stdiomask-0.0.6-py3-none-any.whl size=3322 sha256=60393159bc0849fedff058341de0e97dd8c767694072e4e4606102c495bbbe22\n",
            "  Stored in directory: /root/.cache/pip/wheels/cf/13/89/64d0d3b167759523f4c1e68f883bbc30e7bfa27050edeb418e\n",
            "Successfully built pyinputplus pysimplevalidate stdiomask\n",
            "Installing collected packages: stdiomask, pysimplevalidate, pyinputplus\n",
            "Successfully installed pyinputplus-0.2.12 pysimplevalidate-0.2.12 stdiomask-0.0.6\n"
          ]
        }
      ]
    },
    {
      "cell_type": "code",
      "source": [
        "import pyinputplus as pyip"
      ],
      "metadata": {
        "id": "T23eMGZHX1dy"
      },
      "execution_count": null,
      "outputs": []
    },
    {
      "cell_type": "code",
      "source": [
        "# 2. Why is PyInputPlus commonly imported with import pyinputplus as pypi?\n",
        "We can import pyinputplus as any short form in general perception whenever pyip is used most reader understand it easily as many of the programmers use this short form"
      ],
      "metadata": {
        "id": "BWYkuq10OjLa"
      },
      "execution_count": null,
      "outputs": []
    },
    {
      "cell_type": "code",
      "source": [
        "If we check the type of input in inputint this will give output as int class whether in inputfloat we will get  float class  shown below"
      ],
      "metadata": {
        "id": "0VcaenyqOjbb"
      },
      "execution_count": null,
      "outputs": []
    },
    {
      "cell_type": "code",
      "source": [
        "# 3. How do you distinguish between inputInt() and inputFloat()?\n",
        "A=pyip.inputInt(\"Enter the any  number. \")\n",
        "print (type(A))\n",
        "A1=pyip.inputFloat(\"Enter the any  number. \")\n",
        "print (type( A1))"
      ],
      "metadata": {
        "colab": {
          "base_uri": "https://localhost:8080/"
        },
        "id": "xIlquJnkOjet",
        "outputId": "f4c8cfff-a67e-43be-a11b-082157d3645f"
      },
      "execution_count": null,
      "outputs": [
        {
          "output_type": "stream",
          "name": "stdout",
          "text": [
            "Enter the any  number. 34.08\n",
            "'34.08' is not an integer.\n",
            "Enter the any  number. 34.05\n",
            "'34.05' is not an integer.\n",
            "Enter the any  number. 34\n",
            "<class 'int'>\n",
            "Enter the any  number. 34.08\n",
            "<class 'float'>\n"
          ]
        }
      ]
    },
    {
      "cell_type": "code",
      "source": [
        "# 4. Using PyInputPlus, how do you ensure that the user enters a whole number between 0 and 99?\n",
        "# By setting minimum and maximum arguments in inputInt\n",
        "pyip.inputInt(\"the number: \",greaterThan=0,lessThan=99)"
      ],
      "metadata": {
        "id": "jwAzIc9rRb0G",
        "colab": {
          "base_uri": "https://localhost:8080/"
        },
        "outputId": "d66b1abb-00fa-4b77-9ae1-586e8354f633"
      },
      "execution_count": null,
      "outputs": [
        {
          "name": "stdout",
          "output_type": "stream",
          "text": [
            "the number: 101\n",
            "Number must be less than 99.\n",
            "the number: 2\n"
          ]
        },
        {
          "output_type": "execute_result",
          "data": {
            "text/plain": [
              "2"
            ]
          },
          "metadata": {},
          "execution_count": 5
        }
      ]
    },
    {
      "cell_type": "code",
      "source": [
        "# 5. What is transferred to the keyword arguments allowRegexes and blockRegexes?\n",
        "allowRegexes: \n",
        "    we accept the exception from the blockregex for eg. if we have blocked some pattern but in special case senario we allow defined pattern\n",
        "blockRegexes:\n",
        "    we give some regex pattern which we want to validate"
      ],
      "metadata": {
        "id": "ZtyMd9a0ZbQC"
      },
      "execution_count": 22,
      "outputs": []
    },
    {
      "cell_type": "code",
      "source": [
        "# 6. If a blank input is entered three times, what does inputStr(limit=3) do?\n",
        "It will throw an error as limit exceed"
      ],
      "metadata": {
        "id": "4f03Ob5WY00K"
      },
      "execution_count": null,
      "outputs": []
    },
    {
      "cell_type": "code",
      "source": [
        "# 7. If blank input is entered three times, what does inputStr(limit=3, default='hello') do?\n",
        "It will take default value as its input"
      ],
      "metadata": {
        "id": "VMmgPBXoZpgT"
      },
      "execution_count": null,
      "outputs": []
    },
    {
      "cell_type": "code",
      "source": [],
      "metadata": {
        "id": "V2mQtx-3dVyh"
      },
      "execution_count": null,
      "outputs": []
    }
  ]
}