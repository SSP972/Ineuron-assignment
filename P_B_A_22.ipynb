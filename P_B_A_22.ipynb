{
 "cells": [
  {
   "cell_type": "markdown",
   "id": "de1dc3b7",
   "metadata": {},
   "source": [
    "# # 1. What is the result of the code, and explain?\n",
    "\n",
    "\n",
    ">>> X = 'iNeuron'\n",
    ">>> def func():\n",
    "print(X)\n",
    "\n",
    "\n",
    ">>> func()"
   ]
  },
  {
   "cell_type": "code",
   "execution_count": 1,
   "id": "e96fcbc3",
   "metadata": {},
   "outputs": [
    {
     "name": "stdout",
     "output_type": "stream",
     "text": [
      "iNeuron\n"
     ]
    }
   ],
   "source": [
    "X='iNeuron'\n",
    "def func():\n",
    "    print(X)\n",
    "func()"
   ]
  },
  {
   "cell_type": "markdown",
   "id": "b696ccad",
   "metadata": {},
   "source": [
    "### Answer :\n",
    "X is a global variable whose value is 'iNeuron' and that X variable is accessible throughout the whole program. So, inside func(),when print(X) statement is executed, value of X (iNeuron) will be printed."
   ]
  },
  {
   "cell_type": "markdown",
   "id": "4698e0a2",
   "metadata": {},
   "source": [
    "## 2. What is the result of the code, and explain?\n",
    "\n",
    "\n",
    ">>> X = 'iNeuron'\n",
    ">>> def func():\n",
    "X = 'NI!'\n",
    "\n",
    "\n",
    ">>> func()\n",
    ">>> print(X)"
   ]
  },
  {
   "cell_type": "code",
   "execution_count": 2,
   "id": "28dc1ff3",
   "metadata": {},
   "outputs": [
    {
     "name": "stdout",
     "output_type": "stream",
     "text": [
      "iNeuron\n"
     ]
    }
   ],
   "source": [
    "X='iNeuron'\n",
    "def func():\n",
    "    X='NI!'\n",
    "func()\n",
    "print(X)"
   ]
  },
  {
   "cell_type": "markdown",
   "id": "91111434",
   "metadata": {},
   "source": [
    "### Answer:\n",
    "X is a global variable whose value is 'iNeuron' and that X variable is accessible throughout the whole program.\n",
    "When func() is called,inside func(), a new local variale named as X whose value is 'NI!' will be created and that X variable is accessible only inside func() and after the execution of func(),this X variable will be destroyed. \n",
    "That's why when after func() , print(X) is executed then that global variable X whose value is 'iNeuron' will be printed."
   ]
  },
  {
   "cell_type": "markdown",
   "id": "c3eb2ca9",
   "metadata": {},
   "source": [
    "## 3. What does this code print, and why?\n",
    "\n",
    "\n",
    ">>> X = 'iNeuron'\n",
    ">>> def func():\n",
    "X = 'NI'\n",
    "print(X)\n",
    "\n",
    "\n",
    ">>> func()\n",
    ">>> print(X)"
   ]
  },
  {
   "cell_type": "code",
   "execution_count": 3,
   "id": "1df97dc7",
   "metadata": {},
   "outputs": [
    {
     "name": "stdout",
     "output_type": "stream",
     "text": [
      "NI\n",
      "iNeuron\n"
     ]
    }
   ],
   "source": [
    "X= 'iNeuron'\n",
    "def func():\n",
    "    X='NI'\n",
    "    print(X)\n",
    "\n",
    "func()\n",
    "print(X)"
   ]
  },
  {
   "cell_type": "markdown",
   "id": "1c7d9ec4",
   "metadata": {},
   "source": [
    "X is a global variable whose value is 'iNeuron' and that X variable is accessible throughout the whole program.\n",
    "When func() is called, a new local variable called X whose value is 'NI' is created and print(X) will print that X value i.e. 'NI'.After the execution of func(), that X variable whose value is 'NI' is destroyed.\n",
    "print(X) prints gloabl variable value i.e. 'iNeuron'."
   ]
  },
  {
   "cell_type": "markdown",
   "id": "cfc52b6d",
   "metadata": {},
   "source": [
    "## 4. What output does this code produce? Why?\n",
    "\n",
    "\n",
    ">>> X = 'iNeuron'\n",
    ">>> def func():\n",
    "global X\n",
    "X = 'NI'\n",
    "\n",
    "\n",
    ">>> func()\n",
    ">>> print(X)\n"
   ]
  },
  {
   "cell_type": "code",
   "execution_count": 4,
   "id": "8e0e01a9",
   "metadata": {},
   "outputs": [
    {
     "name": "stdout",
     "output_type": "stream",
     "text": [
      "NI\n"
     ]
    }
   ],
   "source": [
    "X='iNeuron'\n",
    "def func():\n",
    "    global X\n",
    "    X='NI'\n",
    "\n",
    "func()\n",
    "print(X)"
   ]
  },
  {
   "cell_type": "markdown",
   "id": "5f7f76a1",
   "metadata": {},
   "source": [
    "X is a global variable whose value is 'iNeuron' and that X variable is accessible throughout the whole program.\n",
    "When func() is called, global X statement tells that we are accessing global X and any changes inside func() to the global variable will be reflected in the global variable X. So, now gloabl variable X value becomes 'NI'.\n",
    "print(X) prints gloabl variable value i.e. 'NI'."
   ]
  },
  {
   "cell_type": "markdown",
   "id": "eef673f0",
   "metadata": {},
   "source": [
    "\n",
    "## 5. What about this code—what’s the output, and why?\n",
    "\n",
    "\n",
    ">>> X = 'iNeuron'\n",
    ">>> def func():\n",
    "X = 'NI'\n",
    "def nested():\n",
    "print(X)\n",
    "nested()\n",
    "\n",
    "\n",
    ">>> func()\n",
    ">>> X\n",
    "\n"
   ]
  },
  {
   "cell_type": "code",
   "execution_count": 5,
   "id": "5bf9826c",
   "metadata": {},
   "outputs": [
    {
     "name": "stdout",
     "output_type": "stream",
     "text": [
      "NI\n"
     ]
    },
    {
     "data": {
      "text/plain": [
       "'iNeuron'"
      ]
     },
     "execution_count": 5,
     "metadata": {},
     "output_type": "execute_result"
    }
   ],
   "source": [
    "X='iNeuron'\n",
    "def func():\n",
    "    X='NI'\n",
    "    def nested():\n",
    "        print(X)\n",
    "    nested()\n",
    "    \n",
    "func()\n",
    "X"
   ]
  },
  {
   "cell_type": "markdown",
   "id": "b1046317",
   "metadata": {},
   "source": [
    "### Answer:\n",
    "X is a global variable whose value is 'iNeuron' and that X variable is accessible throughout the whole program.\n",
    "When func() is called, inside func() local variable X whose value is 'NI' is created which is accessible only inside func(). When nested() is called, we will be able to access the X variable whose value is 'NI'. print(X) will print NI.\n",
    "After the execution of func(), that X variable whose value is 'NI' is destroyed.\n",
    "So, statement X will print global variable value 'iNeuron'."
   ]
  },
  {
   "cell_type": "markdown",
   "id": "9f13f648",
   "metadata": {},
   "source": [
    "## 6. How about this code: what is its output in Python 3, and explain?\n",
    "\n",
    "\n",
    ">>> def func():\n",
    "X = 'NI'\n",
    "def nested():\n",
    "nonlocal X\n",
    "X = 'Spam'\n",
    "nested()\n",
    "print(X)\n",
    "\n",
    "\n",
    ">>> func()\n"
   ]
  },
  {
   "cell_type": "code",
   "execution_count": 6,
   "id": "b533fb1a",
   "metadata": {},
   "outputs": [
    {
     "name": "stdout",
     "output_type": "stream",
     "text": [
      "Spam\n"
     ]
    }
   ],
   "source": [
    "def func():\n",
    "    X='NI'\n",
    "    def nested():\n",
    "        nonlocal X\n",
    "        X='Spam'\n",
    "    nested()\n",
    "    print(X)\n",
    "    \n",
    "func()"
   ]
  },
  {
   "cell_type": "markdown",
   "id": "6cd72d0d",
   "metadata": {},
   "source": [
    "When func() is called, inside func() local variable X whose value is 'NI' is created which is accessible only inside func(). When nested() is called, nonlocal X statement will tell that we are accessing local variable 'X' whose value is 'NI' and any changes done in this variable will be reflected inside the 'X' also. Now local variable 'X' becomes 'Spam'\n",
    "So, print(X) will print 'Spam'."
   ]
  }
 ],
 "metadata": {
  "kernelspec": {
   "display_name": "Python 3",
   "language": "python",
   "name": "python3"
  },
  "language_info": {
   "codemirror_mode": {
    "name": "ipython",
    "version": 3
   },
   "file_extension": ".py",
   "mimetype": "text/x-python",
   "name": "python",
   "nbconvert_exporter": "python",
   "pygments_lexer": "ipython3",
   "version": "3.8.8"
  }
 },
 "nbformat": 4,
 "nbformat_minor": 5
}
