{
 "cells": [
  {
   "cell_type": "markdown",
   "id": "e72c4cce-16dd-40d7-bb7b-7c24fc83c826",
   "metadata": {},
   "source": [
    "Write a Python program to check if the given number is a Disarium Number?"
   ]
  },
  {
   "cell_type": "code",
   "execution_count": 13,
   "id": "eded4a21-073f-40b4-9862-8f0f9b4a2e06",
   "metadata": {},
   "outputs": [],
   "source": [
    "def Dusariun(number=int()):\n",
    "    number_str=[*str(number)]\n",
    "    sumation=sum([pow((int(i)),(number_str.index(i)+1)) for i in number_str])\n",
    "    if number==sumation:\n",
    "        return \"This is Dusarium number \"\n",
    "    else:\n",
    "        return\"try another number\""
   ]
  },
  {
   "cell_type": "markdown",
   "id": "8c9add95-81fe-4e81-bbc9-feb70cb271d4",
   "metadata": {},
   "source": [
    "Write a Python program to print all disarium numbers between 1 to 100?"
   ]
  },
  {
   "cell_type": "code",
   "execution_count": 20,
   "id": "c3451fcd-4f03-455c-b235-ae1937d2bd4a",
   "metadata": {},
   "outputs": [
    {
     "name": "stdout",
     "output_type": "stream",
     "text": [
      "[1, 2, 3, 4, 5, 6, 7, 8, 9, 89]\n"
     ]
    }
   ],
   "source": [
    "def Dusariun(number=int()):\n",
    "    number_str=[*str(number)]\n",
    "    sumation=sum([pow((int(i)),(number_str.index(i)+1)) for i in number_str])\n",
    "    if number==sumation:\n",
    "        return number\n",
    "print([i for i in list(map(Dusariun,range(1,101))) if i!= None])"
   ]
  },
  {
   "cell_type": "markdown",
   "id": "67217585-771d-4e5c-9954-732e3b7d22f4",
   "metadata": {},
   "source": [
    "Write a Python program to check if the given number is Happy Number?"
   ]
  },
  {
   "cell_type": "code",
   "execution_count": 40,
   "id": "7c660d00-7da1-4ae9-b87c-5c0ce7206797",
   "metadata": {},
   "outputs": [],
   "source": [
    "def isHappy(n):    \n",
    "    r = s = 0;    \n",
    "    while(n > 0):    \n",
    "        r = n%10    \n",
    "        s += r**2  \n",
    "        n //= 10    \n",
    "    return s  \n",
    "        \n",
    "def Happynumber(n):\n",
    "\n",
    "    res = n   \n",
    "\n",
    "    while(res != 1 and res != 4):    \n",
    "        res = isHappy(res)    \n",
    "\n",
    "    if(res == 1):    \n",
    "        print(\"happy number\")\n",
    "    elif(res == 4):    \n",
    "        print(\"not a happy number\")  "
   ]
  },
  {
   "cell_type": "markdown",
   "id": "b93add68-f9cb-4491-b42e-b0646cfb3ed4",
   "metadata": {},
   "source": [
    "Write a Python program to print all happy numbers between 1 and 100?"
   ]
  },
  {
   "cell_type": "code",
   "execution_count": null,
   "id": "f088f484-61ca-42fb-bafc-a0323d7f8cf7",
   "metadata": {},
   "outputs": [],
   "source": [
    "def isHappy(n):    \n",
    "    r = s = 0;    \n",
    "    while(n > 0):    \n",
    "        r = n%10    \n",
    "        s += r**2  \n",
    "        n //= 10    \n",
    "    return s  \n",
    "        \n",
    "def Happynumber(n):\n",
    "\n",
    "    res = n   \n",
    "\n",
    "    while(res != 1 and res != 4):    \n",
    "        res = isHappy(res)    \n",
    "\n",
    "    if(res == 1):    \n",
    "        return n\n",
    "print([i for i in list(map(Happynumber,range(1,101))) if i!= None])"
   ]
  },
  {
   "cell_type": "markdown",
   "id": "74268366-39de-4d23-ac2f-428196f058ae",
   "metadata": {},
   "source": [
    "Write a Python program to determine whether the given number is a Harshad Number?\n"
   ]
  },
  {
   "cell_type": "code",
   "execution_count": null,
   "id": "13f6734e-defe-4acd-8d39-8945abc740d2",
   "metadata": {},
   "outputs": [],
   "source": [
    "def checkHarshad(n):\n",
    "    st = str(n)\n",
    "    sum = 0\n",
    "    length = len(st)\n",
    "    for i in st:\n",
    "        sum = sum + int(i)\n",
    "    if (n % sum == 0):\n",
    "        return \"Yes\"\n",
    "    else:\n",
    "        return \"No\"\n",
    " \n",
    " \n",
    "# Driver Code\n",
    "number = 18\n",
    "print(checkHarshad(number))\n",
    " "
   ]
  },
  {
   "cell_type": "markdown",
   "id": "7b9d3ab2-3db3-495c-aea4-f9edcf7aa27c",
   "metadata": {},
   "source": [
    "Write a Python program to print all pronic numbers between 1 and 100?"
   ]
  },
  {
   "cell_type": "code",
   "execution_count": null,
   "id": "2b6c5fde-1c47-4aaa-83d1-4a5e7fee10aa",
   "metadata": {},
   "outputs": [],
   "source": []
  }
 ],
 "metadata": {
  "kernelspec": {
   "display_name": "Python 3 (ipykernel)",
   "language": "python",
   "name": "python3"
  },
  "language_info": {
   "codemirror_mode": {
    "name": "ipython",
    "version": 3
   },
   "file_extension": ".py",
   "mimetype": "text/x-python",
   "name": "python",
   "nbconvert_exporter": "python",
   "pygments_lexer": "ipython3",
   "version": "3.10.6"
  }
 },
 "nbformat": 4,
 "nbformat_minor": 5
}
