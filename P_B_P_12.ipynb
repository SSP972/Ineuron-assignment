{
 "cells": [
  {
   "cell_type": "markdown",
   "id": "583af229-f5a4-484b-a065-73c55b87d931",
   "metadata": {},
   "source": [
    "1. Write a Python program to Extract Unique values dictionary values?"
   ]
  },
  {
   "cell_type": "code",
   "execution_count": 1,
   "id": "796e4807-8f7f-440a-b785-376e65d676bf",
   "metadata": {},
   "outputs": [
    {
     "name": "stdout",
     "output_type": "stream",
     "text": [
      "All unique values in dictionary [1, 2, 5, 6, 7, 8, 10, 11, 12]\n"
     ]
    }
   ],
   "source": [
    "check_dict = {'gfg': [5, 6, 7, 8],\n",
    "             'is': [10, 11, 7, 5],\n",
    "             'best': [6, 12, 10, 8],\n",
    "             'for': [1, 2, 5]}\n",
    "print(\"All unique values in dictionary\" ,(sorted({j for i in check_dict.values() for j in i})))\n"
   ]
  },
  {
   "cell_type": "markdown",
   "id": "3890b60e-b66a-4204-b0f1-1ef80503b91b",
   "metadata": {},
   "source": [
    "\n",
    "2. Write a Python program to find the sum of all items in a dictionary?\n"
   ]
  },
  {
   "cell_type": "code",
   "execution_count": 2,
   "id": "fa2f57cc-329f-4770-8290-544900c72a11",
   "metadata": {},
   "outputs": [
    {
     "data": {
      "text/plain": [
       "103"
      ]
     },
     "execution_count": 2,
     "metadata": {},
     "output_type": "execute_result"
    }
   ],
   "source": [
    "check_dict_1 = {'gfg1': [5, 6, 7, 8],\n",
    "             'is1': [10, 11, 7, 5],\n",
    "             'best1': [6,\"a\", 12, 10, 8],\n",
    "             'for1': [1, 2, 5]}\n",
    "\n",
    "sum([j for i in check_dict_1.values() for j in i if isinstance(j,int or float)])"
   ]
  },
  {
   "cell_type": "markdown",
   "id": "a02aebeb-d7cb-4632-a841-16623867daa1",
   "metadata": {},
   "source": [
    "3. Write a Python program to Merging two Dictionaries?"
   ]
  },
  {
   "cell_type": "code",
   "execution_count": 3,
   "id": "2426fb0f-1f4d-4a61-89ff-842e55406510",
   "metadata": {},
   "outputs": [
    {
     "data": {
      "text/plain": [
       "{'gfg': [5, 6, 7, 8],\n",
       " 'is': [10, 11, 7, 5],\n",
       " 'best': [6, 12, 10, 8],\n",
       " 'for': [1, 2, 5],\n",
       " 'gfg1': [5, 6, 7, 8],\n",
       " 'is1': [10, 11, 7, 5],\n",
       " 'best1': [6, 'a', 12, 10, 8],\n",
       " 'for1': [1, 2, 5]}"
      ]
     },
     "execution_count": 3,
     "metadata": {},
     "output_type": "execute_result"
    }
   ],
   "source": [
    "def Merge(dict1, dict2):\n",
    "    mrg = dict1 | dict2\n",
    "    return mrg\n",
    "Merge(check_dict,check_dict_1)"
   ]
  },
  {
   "cell_type": "markdown",
   "id": "040a2457-9377-405d-af79-9704a8c4dba1",
   "metadata": {},
   "source": [
    "4. Write a Python program to convert key-values list to flat dictionary?"
   ]
  },
  {
   "cell_type": "code",
   "execution_count": 4,
   "id": "9c453bdf-190a-495f-8101-b2d2c2d534f2",
   "metadata": {},
   "outputs": [
    {
     "name": "stdout",
     "output_type": "stream",
     "text": [
      "Select any two keys to flatten them in one single dictionary:  ['language', 'year', 'month', 'name of month']\n"
     ]
    },
    {
     "name": "stdin",
     "output_type": "stream",
     "text": [
      "Enter key1:  language\n",
      "Enter Key2:  month\n"
     ]
    },
    {
     "name": "stdout",
     "output_type": "stream",
     "text": [
      "{'python': 1, 'java': 2, 'c/c++': 3}\n"
     ]
    }
   ],
   "source": [
    "The_dict = {'language' : ['python', 'java', 'c/c++', 'javascript'], 'year' : [1991, 1995, 1980, 1995],'month' : [1, 2, 3],\n",
    "             'name of month' : ['Jan', 'Feb', 'March']}\n",
    "print(\"Select any two keys to flatten them in one single dictionary: \", list(The_dict.keys()))\n",
    "Key_1=input(\"Enter key1: \" )\n",
    "Key_2=input(\"Enter Key2: \" )\n",
    "the_resultant_dict=dict(zip(The_dict[Key_1],The_dict[Key_2]))\n",
    "print(the_resultant_dict)\n"
   ]
  },
  {
   "cell_type": "markdown",
   "id": "e861974f-1525-4cfd-b47e-5c2d89309f1a",
   "metadata": {},
   "source": [
    "5. Write a Python program to insertion at the beginning in OrderedDict?"
   ]
  },
  {
   "cell_type": "code",
   "execution_count": 5,
   "id": "bda1b54a-a7b2-44ea-9614-96ee4f8e98ea",
   "metadata": {},
   "outputs": [
    {
     "name": "stdout",
     "output_type": "stream",
     "text": [
      "Resultant Dictionary:  OrderedDict([('manjeet', '3'), ('akshat', '1'), ('nikhil', '2')])\n"
     ]
    }
   ],
   "source": [
    "from collections import OrderedDict\n",
    "iniordered_dict = OrderedDict([('akshat', '1'), ('nikhil', '2')])\n",
    "iniordered_dict.update({'manjeet':'3'})\n",
    "iniordered_dict.move_to_end('manjeet', last = False)\n",
    "print (\"Resultant Dictionary: \",str(iniordered_dict))"
   ]
  },
  {
   "cell_type": "markdown",
   "id": "90cc3d75-48aa-42fc-b8ea-fd22140c07c4",
   "metadata": {},
   "source": [
    "6. Write a Python program to check order of character in string using OrderedDict()"
   ]
  },
  {
   "cell_type": "code",
   "execution_count": 6,
   "id": "b43078b8-ece7-4878-92a3-5f05f4ad9912",
   "metadata": {},
   "outputs": [
    {
     "data": {
      "text/plain": [
       "'True'"
      ]
     },
     "execution_count": 6,
     "metadata": {},
     "output_type": "execute_result"
    }
   ],
   "source": [
    "from collections import OrderedDict\n",
    "def check_order(Input,pattern):\n",
    "        Dict= OrderedDict.fromkeys(Input)\n",
    "        check_pattern=0\n",
    "        for key,value in Dict.items():\n",
    "            if key==pattern[check_pattern]:\n",
    "                check_pattern+=1\n",
    "            if check_pattern==len(pattern):\n",
    "                return \"True\"\n",
    "        return\"false\"\n",
    "check_order(\"Hi this is checking\",\"isc\")\n"
   ]
  },
  {
   "cell_type": "code",
   "execution_count": 7,
   "id": "16b55d13-23af-4123-b01d-9ab81b853096",
   "metadata": {},
   "outputs": [
    {
     "data": {
      "text/plain": [
       "'false'"
      ]
     },
     "execution_count": 7,
     "metadata": {},
     "output_type": "execute_result"
    }
   ],
   "source": [
    " check_order(\"Hi this is checking\",\"csi\")"
   ]
  },
  {
   "cell_type": "markdown",
   "id": "a36f826b-c719-4102-aab8-8d024a7930ad",
   "metadata": {},
   "source": [
    "7. Write a Python program to sort Python Dictionaries by Key or Value?"
   ]
  },
  {
   "cell_type": "code",
   "execution_count": 8,
   "id": "ebd6bd12-b785-4479-b27d-cc52354a8806",
   "metadata": {},
   "outputs": [
    {
     "data": {
      "text/plain": [
       "{'yash': 2, 'rajnish': 9, 'ravi': 10, 'sanjeev': 15, 'suraj': 32}"
      ]
     },
     "execution_count": 8,
     "metadata": {},
     "output_type": "execute_result"
    }
   ],
   "source": [
    "from collections import OrderedDict\n",
    "import numpy as np\n",
    "def sort_dict(Dict,key=True,value=False):\n",
    "    Dictionary={}\n",
    "    if key:      \n",
    "            Dictionary=OrderedDict(sorted(Dict.items()))\n",
    "    elif value:\n",
    "        d_key=list(Dict.keys())\n",
    "        d_value=list(Dict.values())\n",
    "        Sorted_index_of_value=np.argsort(d_value)\n",
    "        Dictionary={d_key[i]:d_value[i] for i in Sorted_index_of_value}\n",
    "    return Dictionary\n",
    "sort_dict(Dict={'ravi': 10, 'rajnish': 9, 'sanjeev': 15, 'yash': 2, 'suraj': 32},key=False,value=True)"
   ]
  },
  {
   "cell_type": "code",
   "execution_count": 9,
   "id": "0fbcef7e-52a9-4a7a-8456-7b5f1e13ef1a",
   "metadata": {},
   "outputs": [
    {
     "data": {
      "text/plain": [
       "OrderedDict([('rajnish', 9),\n",
       "             ('ravi', 10),\n",
       "             ('sanjeev', 15),\n",
       "             ('suraj', 32),\n",
       "             ('yash', 2)])"
      ]
     },
     "execution_count": 9,
     "metadata": {},
     "output_type": "execute_result"
    }
   ],
   "source": [
    "sort_dict({'ravi': 10, 'rajnish': 9, 'sanjeev': 15, 'yash': 2, 'suraj': 32})"
   ]
  }
 ],
 "metadata": {
  "kernelspec": {
   "display_name": "Python 3 (ipykernel)",
   "language": "python",
   "name": "python3"
  },
  "language_info": {
   "codemirror_mode": {
    "name": "ipython",
    "version": 3
   },
   "file_extension": ".py",
   "mimetype": "text/x-python",
   "name": "python",
   "nbconvert_exporter": "python",
   "pygments_lexer": "ipython3",
   "version": "3.10.6"
  }
 },
 "nbformat": 4,
 "nbformat_minor": 5
}
