{
 "cells": [
  {
   "cell_type": "markdown",
   "id": "0bfadcc7-88e3-4808-a6c0-d79d9b170a40",
   "metadata": {},
   "source": [
    "Question 1: Define a class with a generator which can iterate the numbers, which are divisible by 7, between a given range 0 and n."
   ]
  },
  {
   "cell_type": "code",
   "execution_count": 23,
   "id": "5cc46f34-d9eb-4cb7-a3c4-3fc1809e6faf",
   "metadata": {},
   "outputs": [],
   "source": [
    "class generate():\n",
    "    @staticmethod\n",
    "    def putNumbers(n):\n",
    "        i = 0\n",
    "        while i<n:\n",
    "            j=i\n",
    "            i=i+1\n",
    "            if j%7==0:\n",
    "                yield j"
   ]
  },
  {
   "cell_type": "code",
   "execution_count": 37,
   "id": "47bc8337-7fcb-4c7b-b413-b692f37bede9",
   "metadata": {},
   "outputs": [
    {
     "name": "stdout",
     "output_type": "stream",
     "text": [
      "[0, 7, 14, 21, 28, 35, 42, 49, 56, 63, 70, 77, 84, 91, 98, 105, 112, 119, 126, 133, 140, 147, 154, 161, 168, 175, 182, 189, 196]\n"
     ]
    }
   ],
   "source": [
    "print([_ for _ in generate().putNumbers(200)])"
   ]
  },
  {
   "cell_type": "code",
   "execution_count": null,
   "id": "aef4f1d6-250b-4969-adbd-5bed47041957",
   "metadata": {},
   "outputs": [],
   "source": []
  },
  {
   "cell_type": "markdown",
   "id": "867ce3ca-7332-48e7-9b50-fdb551bc724a",
   "metadata": {},
   "source": [
    "Question 2:\n",
    "Write a program to compute the frequency of the words from the input. The output should output after sorting the key alphanumerically. \n",
    "\n",
    "\n",
    "\n",
    "\n",
    "Suppose the following input is supplied to the program:\n",
    "\n",
    "\n",
    "\n",
    "\n",
    "New to Python or choosing between Python 2 and Python 3? Read Python 2 or Python 3.\n",
    "\n",
    "\n",
    "\n",
    "\n",
    "Then, the output should be:\n",
    "\n",
    "\n",
    "\n",
    "\n",
    "2:2\n",
    "\n",
    "\n",
    "\n",
    "\n",
    "3.:1\n",
    "\n",
    "\n",
    "\n",
    "\n",
    "3?:1\n",
    "\n",
    "\n",
    "\n",
    "\n",
    "New:1\n",
    "\n",
    "\n",
    "\n",
    "\n",
    "Python:5\n",
    "\n",
    "\n",
    "\n",
    "\n",
    "Read:1\n",
    "\n",
    "\n",
    "\n",
    "\n",
    "and:1\n",
    "\n",
    "\n",
    "\n",
    "\n",
    "between:1\n",
    "\n",
    "\n",
    "\n",
    "\n",
    "choosing:1\n",
    "\n",
    "\n",
    "\n",
    "\n",
    "or:2\n",
    "\n",
    "\n",
    "\n",
    "to:1\n"
   ]
  },
  {
   "cell_type": "code",
   "execution_count": 55,
   "id": "cea56a3d-00c5-48d8-b284-fadcb66badb2",
   "metadata": {},
   "outputs": [
    {
     "name": "stdin",
     "output_type": "stream",
     "text": [
      "Enter Text: New to Python or choosing between Python 2 and Python 3? Read Python 2 or Python 3.\n"
     ]
    },
    {
     "name": "stdout",
     "output_type": "stream",
     "text": [
      "Frequency chart\n",
      "2:2\n",
      "\n",
      "\n",
      "\n",
      "\n",
      "3.:1\n",
      "\n",
      "\n",
      "\n",
      "\n",
      "3?:1\n",
      "\n",
      "\n",
      "\n",
      "\n",
      "New:1\n",
      "\n",
      "\n",
      "\n",
      "\n",
      "Python:5\n",
      "\n",
      "\n",
      "\n",
      "\n",
      "Read:1\n",
      "\n",
      "\n",
      "\n",
      "\n",
      "and:1\n",
      "\n",
      "\n",
      "\n",
      "\n",
      "between:1\n",
      "\n",
      "\n",
      "\n",
      "\n",
      "choosing:1\n",
      "\n",
      "\n",
      "\n",
      "\n",
      "or:2\n",
      "\n",
      "\n",
      "\n",
      "\n",
      "to:1\n",
      "\n",
      "\n",
      "\n",
      "\n"
     ]
    }
   ],
   "source": [
    "line = input(\"Enter Text:\")\n",
    "freq={}\n",
    "for word in line.split():\n",
    "    freq[word] = freq.get(word,0)+1\n",
    "\n",
    "words = list(freq.keys())\n",
    "words.sort()\n",
    " \n",
    "print (\"Frequency chart\")\n",
    "for w in words:\n",
    "    print (\"%s:%d\\n\\n\\n\\n\" % (w,freq[w]))"
   ]
  },
  {
   "cell_type": "markdown",
   "id": "ed47fee8-8f57-419c-8827-e58864831d06",
   "metadata": {},
   "source": [
    "Question 3:\n",
    "\n",
    "\n",
    "\n",
    "\n",
    "\n",
    "\n",
    "\n",
    "\n",
    "\n",
    "Define a class Person and its two child classes: Male and Female. All classes have a method \"getGender\" which can print \"Male\" for Male class and \"Female\" for Female class."
   ]
  },
  {
   "cell_type": "code",
   "execution_count": 58,
   "id": "c8f6fbd5-e599-4db9-a98a-2391e80edc42",
   "metadata": {},
   "outputs": [
    {
     "name": "stdout",
     "output_type": "stream",
     "text": [
      "Female\n",
      "Male\n"
     ]
    }
   ],
   "source": [
    "class Person(object):\n",
    "    def __init__(self):\n",
    "        self.gender = \"unknown\"\n",
    "\n",
    "    def getGender(self):\n",
    "        print(self.gender)\n",
    "\n",
    "class Male(Person):\n",
    "    def __init__(self):\n",
    "        self.gender = \"Male\"\n",
    "\n",
    "class Female(Person):\n",
    "    def __init__(self):\n",
    "        self.gender = \"Female\"\n",
    "\n",
    "sharon = Female()\n",
    "doug = Male()\n",
    "sharon.getGender()\n",
    "doug.getGender()"
   ]
  },
  {
   "cell_type": "markdown",
   "id": "bae5960a-5078-4f86-bbb1-ad224d4de29a",
   "metadata": {},
   "source": [
    "Question 4:\n",
    "Please write a program to generate all sentences where subject is in [\"I\", \"You\"] and verb is in [\"Play\", \"Love\"] and the object is in [\"Hockey\",\"Football\"].\n"
   ]
  },
  {
   "cell_type": "code",
   "execution_count": 60,
   "id": "96d3541d-49b8-481c-b7ff-a93bd8623e26",
   "metadata": {},
   "outputs": [
    {
     "name": "stdout",
     "output_type": "stream",
     "text": [
      "('I', 'Play', 'Hockey')\n",
      "('I', 'Play', 'Football')\n",
      "('I', 'Love', 'Hockey')\n",
      "('I', 'Love', 'Football')\n",
      "('You', 'Play', 'Hockey')\n",
      "('You', 'Play', 'Football')\n",
      "('You', 'Love', 'Hockey')\n",
      "('You', 'Love', 'Football')\n"
     ]
    }
   ],
   "source": [
    "import itertools\n",
    "subject = [\"I\", \"You\"]\n",
    "verb = [\"Play\", \"Love\"]\n",
    "objects = [\"Hockey\",\"Football\"]\n",
    "\n",
    "sentence = [subject, verb, objects]\n",
    "n = list(itertools.product(*sentence))\n",
    "for i in n: \n",
    "    print(i)"
   ]
  },
  {
   "cell_type": "markdown",
   "id": "135531e4-c02d-48e1-8ca2-256ff1540393",
   "metadata": {},
   "source": [
    "Question 5:\n",
    "Please write a program to compress and decompress the string \"hello world!hello world!hello world!hello world!\".\n",
    "\n",
    "\n"
   ]
  },
  {
   "cell_type": "code",
   "execution_count": 67,
   "id": "5b4d2841-43fd-4454-a0f9-2de040b84c84",
   "metadata": {},
   "outputs": [
    {
     "name": "stdout",
     "output_type": "stream",
     "text": [
      "b'x\\x9c\\xcbH\\xcd\\xc9\\xc9W(\\xcf/\\xcaIQ\\xcc \\x82\\r\\x00\\xbd[\\x11\\xf5'\n",
      "b'hello world!hello world!hello world!hello world!'\n"
     ]
    }
   ],
   "source": [
    "import zlib \n",
    "s = 'hello world!hello world!hello world!hello world!'\n",
    "y = bytes(s, 'utf-8')\n",
    "x = zlib.compress(y)\n",
    "print(x)\n",
    "print(zlib.decompress(x))"
   ]
  },
  {
   "cell_type": "code",
   "execution_count": null,
   "id": "e42bf608-ffc2-4d3e-b3f3-bbe6ca3da818",
   "metadata": {},
   "outputs": [],
   "source": []
  },
  {
   "cell_type": "markdown",
   "id": "ef330c50-ec82-42d9-b7cd-249efccae07c",
   "metadata": {},
   "source": [
    "Question 6:\n",
    "Please write a binary search function which searches an item in a sorted list. The function should return the index of element to be searched in the list."
   ]
  },
  {
   "cell_type": "code",
   "execution_count": 68,
   "id": "f4e9460c-0a6f-4907-822a-f5d0edcafb47",
   "metadata": {},
   "outputs": [
    {
     "name": "stdout",
     "output_type": "stream",
     "text": [
      "None\n"
     ]
    }
   ],
   "source": [
    "def binary_search(lst, item):\n",
    "    low = 0\n",
    "    high = len(lst) - 1\n",
    "    \n",
    "    while low <= high:\n",
    "        mid = round((low + high) / 2)\n",
    "        \n",
    "        if lst[mid] == item:\n",
    "            return mid\n",
    "        elif lst[mid] > item:\n",
    "            high = mid - 1\n",
    "        else:\n",
    "            low = mid + 1\n",
    "    return None\n",
    "    \n",
    "lst = [1,3,5,7,]\n",
    "print(binary_search(lst, 9))  "
   ]
  },
  {
   "cell_type": "code",
   "execution_count": null,
   "id": "89313a70-2ebc-4e40-b2c4-a4890c6e3be0",
   "metadata": {},
   "outputs": [],
   "source": []
  }
 ],
 "metadata": {
  "kernelspec": {
   "display_name": "Python 3 (ipykernel)",
   "language": "python",
   "name": "python3"
  },
  "language_info": {
   "codemirror_mode": {
    "name": "ipython",
    "version": 3
   },
   "file_extension": ".py",
   "mimetype": "text/x-python",
   "name": "python",
   "nbconvert_exporter": "python",
   "pygments_lexer": "ipython3",
   "version": "3.10.6"
  }
 },
 "nbformat": 4,
 "nbformat_minor": 5
}
