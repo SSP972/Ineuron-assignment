{
 "cells": [
  {
   "cell_type": "markdown",
   "metadata": {
    "id": "1K0AIM6xyxMd"
   },
   "source": [
    "1. What is the name of the feature responsible for generating Regex objects?\n",
    "\n",
    "2. Why do raw strings often appear in Regex objects?\n",
    "\n",
    "3. What is the return value of the search() method?\n",
    "\n",
    "4. From a Match item, how do you get the actual strings that match the pattern?\n",
    "\n",
    "5. In the regex which created from the r'(\\d\\d\\d)-(\\d\\d\\d-\\d\\d\\d\\d)', what does group zero cover? Group 2? Group 1?\n",
    "\n",
    "6. In standard expression syntax, parentheses and intervals have distinct meanings. How can you tell a regex that you want it to fit real parentheses and periods?\n",
    "\n",
    "7. The findall() method returns a string list or a list of string tuples. What causes it to return one of the two options?\n",
    "\n",
    "8. In standard expressions, what does the | character mean?\n",
    "\n",
    "9.In regular expressions, what does the character stand for? \n",
    "\n",
    "10.In regular expressions, what is the difference between the + and * characters?\n",
    "\n",
    "11. What is the difference between {4} and {4,5} in regular expression?\n",
    "\n",
    "12. What do you mean by the \\d, \\w, and \\s shorthand character classes signify in regular expressions?\n",
    "\n",
    "13. What do means by \\D, \\W, and \\S shorthand character classes signify in regular expressions?\n",
    "14. What is the difference between .*? and .*?\n",
    "15. What is the syntax for matching both numbers and lowercase letters with a character class?\n",
    "16. What is the procedure for making a normal expression in regax case insensitive?\n",
    "17. What does the . character normally match? What does it match if re.DOTALL is passed as 2nd argument in re.compile()?\n",
    "18. If numReg = re.compile(r'\\d+'), what will numRegex.sub('X', '11 drummers, 10 pipers, five rings, 4 hen') return?\n",
    "19. What does passing re.VERBOSE as the 2nd argument to re.compile() allow to do?\n",
    "20. How would you write a regex that match a number with comma for every three digits? It must match the given following:\n",
    "'42'\n",
    "'1,234'\n",
    "'6,368,745'\n",
    "but not the following:\n",
    "'12,34,567' (which has only two digits between the commas)\n",
    "'1234' (which lacks commas)\n",
    "21. How would you write a regex that matches the full name of someone whose last name is Watanabe? You can assume that the first name that comes before it will always be one word that begins with a capital letter. The regex must match the following:\n",
    "\n",
    "'Haruto Watanabe'\n",
    "\n",
    "'Alice Watanabe'\n",
    "'RoboCop Watanabe'\n",
    "but not the following:\n",
    "'haruto Watanabe' (where the first name is not capitalized)\n",
    "'Mr. Watanabe' (where the preceding word has a nonletter character)\n",
    "'Watanabe' (which has no first name)\n",
    "'Haruto watanabe' (where Watanabe is not capitalized)\n",
    "22. How would you write a regex that matches a sentence where the first word is either Alice, Bob, or Carol; the second word is either eats, pets, or throws; the third word is apples, cats, or baseballs; and the sentence ends with a period? This regex should be case-insensitive. It must match the following:\n",
    "'Alice eats apples.'\n",
    "'Bob pets cats.'\n",
    "'Carol throws baseballs.'\n",
    "'Alice throws Apples.'\n",
    "'BOB EATS CATS.'\n",
    "but not the following:\n",
    "'RoboCop eats apples.'\n",
    "'ALICE THROWS FOOTBALLS.'\n",
    "'Carol eats 7 cats.'"
   ]
  },
  {
   "cell_type": "markdown",
   "metadata": {
    "id": "JvjjwlH3pLqL"
   },
   "source": [
    "1. What is the name of the feature responsible for generating Regex objects?\n"
   ]
  },
  {
   "cell_type": "code",
   "execution_count": null,
   "metadata": {
    "id": "GupKf-Luo_Q_"
   },
   "outputs": [],
   "source": [
    "# re is responsible for generating the regex objects"
   ]
  },
  {
   "cell_type": "markdown",
   "metadata": {
    "id": "3qfmJ71EqrJI"
   },
   "source": [
    "2. Why do raw strings often appear in Regex objects?"
   ]
  },
  {
   "cell_type": "code",
   "execution_count": null,
   "metadata": {
    "id": "axNkoU67qkpq"
   },
   "outputs": [],
   "source": [
    "# we often use the raw string so that we can bypass all special charaters used by python complier and directly use the regex compiler."
   ]
  },
  {
   "cell_type": "markdown",
   "metadata": {
    "id": "LJCNHaHQr1lt"
   },
   "source": [
    "3. What is the return value of the search() method\n"
   ]
  },
  {
   "cell_type": "code",
   "execution_count": null,
   "metadata": {
    "id": "DdSXz1O5r9kG"
   },
   "outputs": [],
   "source": [
    "# it generate the match object"
   ]
  },
  {
   "cell_type": "markdown",
   "metadata": {
    "id": "biHcAgsUtuh6"
   },
   "source": [
    "\n",
    "From a Match item, how do you get the actual strings that match the pattern?\n"
   ]
  },
  {
   "cell_type": "code",
   "execution_count": null,
   "metadata": {
    "id": "OvHhhtQesRnq"
   },
   "outputs": [],
   "source": [
    "# by using the group function"
   ]
  },
  {
   "cell_type": "markdown",
   "metadata": {
    "id": "L2XPQP4Owiys"
   },
   "source": [
    "In the regex which created from the r'(\\d\\d\\d)-(\\d\\d\\d-\\d\\d\\d\\d)', what does group zero cover? Group 2? Group 1?"
   ]
  },
  {
   "cell_type": "code",
   "execution_count": null,
   "metadata": {
    "id": "x2C1cBETwoFZ"
   },
   "outputs": [],
   "source": [
    "# group zero will cover \\d\\d\\d-\\d\\d\\d-\\d\\d\\d\\d\n",
    "# group one will cover (\\d\\d\\d)\n",
    "# group two will cover (\\d\\d\\d-\\d\\d\\d\\d)"
   ]
  },
  {
   "cell_type": "code",
   "execution_count": null,
   "metadata": {
    "colab": {
     "base_uri": "https://localhost:8080/",
     "height": 35
    },
    "id": "DaEpgVIcsYX2",
    "outputId": "245788f6-3a15-4ef9-9216-aa5237c51edb"
   },
   "outputs": [
    {
     "data": {
      "application/vnd.google.colaboratory.intrinsic+json": {
       "type": "string"
      },
      "text/plain": [
       "'123-123-1234'"
      ]
     },
     "execution_count": 26,
     "metadata": {},
     "output_type": "execute_result"
    }
   ],
   "source": [
    "import regex as re\n",
    "\n",
    "a= \"123-123-1234\"\n",
    "search1 = re.search( r'(\\d\\d\\d)-(\\d\\d\\d-\\d\\d\\d\\d)',a)\n",
    "search1.group(0)"
   ]
  },
  {
   "cell_type": "markdown",
   "metadata": {
    "id": "M7xQYOfq3UYl"
   },
   "source": [
    "6. In standard expression syntax, parentheses and intervals have distinct meanings. How can you tell a regex that you want it to fit real parentheses and periods?"
   ]
  },
  {
   "cell_type": "code",
   "execution_count": null,
   "metadata": {
    "id": "V0cAJp2-3Weg"
   },
   "outputs": [],
   "source": [
    "# we can use raw string also we can escape the parentheses by using the backslashes "
   ]
  },
  {
   "cell_type": "markdown",
   "metadata": {
    "id": "4Q_h3luu_34I"
   },
   "source": [
    "7. The findall() method returns a string list or a list of string tuples. What causes it to return one of the two options?\n"
   ]
  },
  {
   "cell_type": "code",
   "execution_count": null,
   "metadata": {
    "id": "FVqJRg_h_41-"
   },
   "outputs": [],
   "source": [
    "it return the list of string elements when it  has single elements when there is a group element it will give list of tuples"
   ]
  },
  {
   "cell_type": "markdown",
   "metadata": {
    "id": "UQU_LWryZDRE"
   },
   "source": [
    "In standard expressions, what does the | character mean?"
   ]
  },
  {
   "cell_type": "code",
   "execution_count": null,
   "metadata": {
    "id": "IUHDrUpsZKTz"
   },
   "outputs": [],
   "source": [
    "| symbol is use to check multiple strings in the given example for example if we want to check if there are two or more words then we use r\"someword|anotherword\""
   ]
  },
  {
   "cell_type": "markdown",
   "metadata": {
    "id": "CiBJ5_fdbJOX"
   },
   "source": [
    "In regular expressions, what does the character stand for?"
   ]
  },
  {
   "cell_type": "code",
   "execution_count": null,
   "metadata": {
    "id": "nbkq9hfkdfLP"
   },
   "outputs": [],
   "source": [
    "Here the question might have some missing values...... So giving out generally used charater information"
   ]
  },
  {
   "cell_type": "code",
   "execution_count": null,
   "metadata": {
    "id": "5Uuw8Zdbff3u"
   },
   "outputs": [],
   "source": [
    "\\number         Matches the contents of the group of the same number if\n",
    "                        number is no more than 2 digits, otherwise the character\n",
    "                        with the 3-digit octal code.\n",
    "        \\a              Matches the bell character.\n",
    "        \\A              Matches only at the start of the string.\n",
    "        \\b              Matches the empty string, but only at the start or end of a\n",
    "                        word.\n",
    "        \\B              Matches the empty string, but not at the start or end of a\n",
    "                        word.\n",
    "        \\d              Matches any decimal digit; equivalent to the set [0-9] when\n",
    "                        matching a bytestring or a Unicode string with the ASCII\n",
    "                        flag, or the whole range of Unicode digits when matching a\n",
    "                        Unicode string.\n",
    "        \\D              Matches any non-digit character; equivalent to [^\\d].\n",
    "        \\f              Matches the formfeed character.\n",
    "        \\g<name>        Matches the text matched by the group named name.\n",
    "        \\G              Matches the empty string, but only at the position where\n",
    "                        the search started.\n",
    "        \\h              Matches horizontal whitespace.\n",
    "        \\K              Keeps only what follows for the entire match.\n",
    "        \\L<name>        Named list. The list is provided as a keyword argument.\n",
    "        \\m              Matches the empty string, but only at the start of a word.\n",
    "        \\M              Matches the empty string, but only at the end of a word.\n",
    "        \\n              Matches the newline character.\n",
    "        \\N{name}        Matches the named character.\n",
    "        \\p{name=value}  Matches the character if its property has the specified\n",
    "                        value.\n",
    " \\P{name=value}  Matches the character if its property hasn't the specified\n",
    "                        value.\n",
    "        \\r              Matches the carriage-return character.\n",
    "        \\s              Matches any whitespace character; equivalent to\n",
    "                        [ \\t\\n\\r\\f\\v].\n",
    "        \\S              Matches any non-whitespace character; equivalent to [^\\s].\n",
    "        \\t              Matches the tab character.\n",
    "        \\uXXXX          Matches the Unicode codepoint with 4-digit hex code XXXX.\n",
    "        \\UXXXXXXXX      Matches the Unicode codepoint with 8-digit hex code\n",
    "                        XXXXXXXX.\n",
    "        \\v              Matches the vertical tab character.\n",
    "        \\w              Matches any alphanumeric character; equivalent to\n",
    "                        [a-zA-Z0-9_] when matching a bytestring or a Unicode string\n",
    "                        with the ASCII flag, or the whole range of Unicode\n",
    "                        alphanumeric characters (letters plus digits plus\n",
    "                        underscore) when matching a Unicode string. With LOCALE, it\n",
    "                        will match the set [0-9_] plus characters defined as\n",
    "                        letters for the current locale.\n",
    "        \\W              Matches the complement of \\w; equivalent to [^\\w].\n",
    "        \\xXX            Matches the character with 2-digit hex code XX.\n",
    "        \\X              Matches a grapheme.\n",
    "        \\Z              Matches only at the end of the string.\n",
    "        \\\\              Matches a literal backslash."
   ]
  },
  {
   "cell_type": "markdown",
   "metadata": {
    "id": "70YBPYtof6VM"
   },
   "source": [
    "10.In regular expressions, what is the difference between the + and * characters?"
   ]
  },
  {
   "cell_type": "code",
   "execution_count": null,
   "metadata": {
    "id": "CESPpHsZgCif"
   },
   "outputs": [],
   "source": [
    "+ sign matches one or more while * matches zero or more"
   ]
  },
  {
   "cell_type": "markdown",
   "metadata": {
    "id": "nzGlipUNgThe"
   },
   "source": [
    "What is the difference between {4} and {4,5} in regular expression?"
   ]
  },
  {
   "cell_type": "code",
   "execution_count": null,
   "metadata": {
    "id": "lw0GIbSjgO38"
   },
   "outputs": [],
   "source": [
    "While {4} is specified to 4 character allowed  while in {4,5} specified the 4 to 5 character are allowed"
   ]
  },
  {
   "cell_type": "markdown",
   "metadata": {
    "id": "tlJShyz6gxCd"
   },
   "source": [
    "What do you mean by the \\d, \\w, and \\s shorthand character classes signify in regular expressions?"
   ]
  },
  {
   "cell_type": "code",
   "execution_count": null,
   "metadata": {
    "id": "xwcCEn2Eg_kC"
   },
   "outputs": [],
   "source": [
    "Here \\d represent the numerical character \n",
    "\\w represent the any alphabetical character\n",
    "\\s represent any space"
   ]
  },
  {
   "cell_type": "markdown",
   "metadata": {
    "id": "E_S7JchBhlpG"
   },
   "source": [
    "What do means by \\D, \\W, and \\S shorthand character classes signify in regular expressions?"
   ]
  },
  {
   "cell_type": "code",
   "execution_count": null,
   "metadata": {
    "id": "33wZGTK3hl_O"
   },
   "outputs": [],
   "source": [
    "Here \\D represent the not numerical character \n",
    "\\W represent the no alphabetical character\n",
    "\\S represent no space"
   ]
  },
  {
   "cell_type": "raw",
   "metadata": {
    "id": "unztxowtjqYS"
   },
   "source": [
    "\"\"\"What is the difference between .*? and .*?\"\"\""
   ]
  },
  {
   "cell_type": "code",
   "execution_count": null,
   "metadata": {
    "id": "0eFKwjWiiciu"
   },
   "outputs": [],
   "source": [
    "While .*? Is use to stop after a single match while .* Will be greedy match"
   ]
  },
  {
   "cell_type": "raw",
   "metadata": {
    "id": "SqU2rtyEgEuG"
   },
   "source": [
    "\"\"\"What is the syntax for matching both numbers and lowercase letters with a character class?\"\"\""
   ]
  },
  {
   "cell_type": "code",
   "execution_count": 27,
   "metadata": {
    "colab": {
     "base_uri": "https://localhost:8080/"
    },
    "id": "1pfj-cAOgGLu",
    "outputId": "24c4ef06-85bf-4d4a-8976-2fb4c57a5424"
   },
   "outputs": [
    {
     "data": {
      "text/plain": [
       "['s', 'c', 'd', 'f', 'r', '4', '3', '5', '3', 'a']"
      ]
     },
     "execution_count": 27,
     "metadata": {},
     "output_type": "execute_result"
    }
   ],
   "source": [
    "import regex as re\n",
    "a=\"Ascdfr 4353a\"\n",
    "re.findall('[a-z0-9]',a)"
   ]
  },
  {
   "cell_type": "raw",
   "metadata": {
    "id": "uC7KR4xbpW91"
   },
   "source": [
    "\"\"\"What is the procedure for making a normal expression in regax case insensitive?\"\"\""
   ]
  },
  {
   "cell_type": "code",
   "execution_count": null,
   "metadata": {
    "id": "ve9yIeM0phzv"
   },
   "outputs": [],
   "source": [
    "by using the re.IGNORECASE function"
   ]
  },
  {
   "cell_type": "markdown",
   "metadata": {
    "id": "UWl0J68kkJg0"
   },
   "source": [
    "\"\"\"What does the . character normally match? What does it match if  re.DOTALL is passed as 2nd argument  in re.compile()?\"\"\""
   ]
  },
  {
   "cell_type": "code",
   "execution_count": null,
   "metadata": {
    "id": "esv4-jhKkXFl"
   },
   "outputs": [],
   "source": [
    ". Character match all charater except newline If we pass re.DOTALL and then re.compile() then it will match newline too"
   ]
  },
  {
   "cell_type": "raw",
   "metadata": {
    "id": "Oeift-_jmPGd"
   },
   "source": [
    "\"\"\"18. If numReg = re.compile(r'\\d+'), what will numRegex.sub('X', '11 drummers, 10 pipers, five rings, 4 hen') return?\"\"\""
   ]
  },
  {
   "cell_type": "code",
   "execution_count": null,
   "metadata": {
    "id": "ywj8AdYHC9pI"
   },
   "outputs": [],
   "source": [
    "It will subtitute all the digit to the given charater(in this case \"X\")"
   ]
  },
  {
   "cell_type": "raw",
   "metadata": {
    "id": "xzGQxB1UD7XE"
   },
   "source": [
    "\"\"\"19. What does passing re.VERBOSE as the 2nd argument to re.compile() allow to do?\"\"\""
   ]
  },
  {
   "cell_type": "code",
   "execution_count": null,
   "metadata": {
    "id": "XPBNIM1DFaBm"
   },
   "outputs": [],
   "source": [
    "re.VERBOSE it will read the given aurgument by ignoring all the space and new lines "
   ]
  },
  {
   "cell_type": "raw",
   "metadata": {
    "id": "gaOKXuoZKsJf"
   },
   "source": [
    "\"\"\"20. How would you write a regex that match a number with comma for every three digits? It must match the given following:\n",
    "'42'\n",
    "'1,234'\n",
    "'6,368,745'\n",
    "but not the following:\n",
    "'12,34,567' (which has only two digits between the commas)\n",
    "'1234' (which lacks commas)\"\"\""
   ]
  },
  {
   "cell_type": "code",
   "execution_count": 18,
   "metadata": {
    "colab": {
     "base_uri": "https://localhost:8080/"
    },
    "id": "bYcGOgGbKxxi",
    "outputId": "6621f55b-527b-4dfb-e429-685e961d685a"
   },
   "outputs": [
    {
     "data": {
      "text/plain": [
       "['368,']"
      ]
     },
     "execution_count": 18,
     "metadata": {},
     "output_type": "execute_result"
    }
   ],
   "source": [
    "s=\"\"\"'42' \n",
    "'1,234'\n",
    "'6,368,745'\n",
    "'12,34,567'\n",
    "'1234'\n",
    "\"\"\"\n",
    "re.findall(r\"\\d{3}\\,\",s)"
   ]
  },
  {
   "cell_type": "markdown",
   "metadata": {
    "id": "EYjN_GP2Lwbd"
   },
   "source": [
    "\"\"\"21. How would you write a regex that matches the full name of someone whose last name is 'Watanabe'? You can assume that the first name that comes before it will always be one word that begins with a capital letter. The regex must match the following:\n",
    "\n",
    "'Haruto Watanabe'\n",
    "\n",
    "'Alice Watanabe'\n",
    "'RoboCop Watanabe'\n",
    "but not the following:\n",
    "'haruto Watanabe' (where the first name is not capitalized)\n",
    "'Mr. Watanabe' (where the preceding word has a nonletter character)\n",
    "'Watanabe' (which has no first name)\n",
    "'Haruto watanabe' (where Watanabe is not capitalized)\n",
    "\"\"\""
   ]
  },
  {
   "cell_type": "code",
   "execution_count": 20,
   "metadata": {
    "colab": {
     "base_uri": "https://localhost:8080/"
    },
    "id": "2QGC31qMMTu6",
    "outputId": "47d98441-d99a-4381-ade5-e8443664d339"
   },
   "outputs": [
    {
     "data": {
      "text/plain": [
       "['Haruto Watanabe', 'Alice Watanabe', 'RoboCop Watanabe']"
      ]
     },
     "execution_count": 20,
     "metadata": {},
     "output_type": "execute_result"
    }
   ],
   "source": [
    "s=\"\"\"'Haruto Watanabe'\n",
    "\n",
    "'Alice Watanabe'\n",
    "'RoboCop Watanabe'\n",
    "but not the following:\n",
    "'haruto Watanabe' \n",
    "'Mr. Watanabe' \n",
    "'Watanabe' \n",
    "'Haruto watanabe'\n",
    "\"\"\"\n",
    "re.findall(r\"[A-Z]\\w* Watanabe\",s)"
   ]
  },
  {
   "cell_type": "raw",
   "metadata": {
    "id": "4kKQKI0ENQWk"
   },
   "source": [
    "\"\"\"22. How would you write a regex that matches a sentence where the first word is either Alice, Bob, or Carol; the second word is either eats, pets, or throws; the third word is apples, cats, or baseballs; and the sentence ends with a period? This regex should be case-insensitive. It must match the following:\n",
    "'Alice eats apples.'\n",
    "'Bob pets cats.'\n",
    "'Carol throws baseballs.'\n",
    "'Alice throws Apples.'\n",
    "'BOB EATS CATS.'\n",
    "but not the following:\n",
    "'RoboCop eats apples.'\n",
    "'ALICE THROWS FOOTBALLS.'\n",
    "'Carol eats 7 cats.'\"\"\""
   ]
  },
  {
   "cell_type": "code",
   "execution_count": 26,
   "metadata": {
    "colab": {
     "base_uri": "https://localhost:8080/"
    },
    "id": "1jJg9kVwNbey",
    "outputId": "996fb9f7-f1cd-45aa-bbf5-40064c3bbd26"
   },
   "outputs": [
    {
     "data": {
      "text/plain": [
       "['Alice eats apples.', 'Bob pets cats.', 'Carol throws baseballs.']"
      ]
     },
     "execution_count": 26,
     "metadata": {},
     "output_type": "execute_result"
    }
   ],
   "source": [
    "s= \"\"\"'Alice eats apples.'\n",
    "'Bob pets cats.'\n",
    "'Carol throws baseballs.'\n",
    "'Alice throws Apples.'\n",
    "'BOB EATS CATS.'\n",
    "but not the following:\n",
    "'RoboCop eats apples.'\n",
    "'ALICE THROWS FOOTBALLS.'\n",
    "'Carol eats 7 cats.'\n",
    "\"\"\"\n",
    "re.findall(r\"((?:Alice|Bob|Carol) (?:eats|pets|throws) (?:apples|cats|baseballs)(?:\\.|\\?))\",s)"
   ]
  }
 ],
 "metadata": {
  "colab": {
   "provenance": []
  },
  "kernelspec": {
   "display_name": "Python 3 (ipykernel)",
   "language": "python",
   "name": "python3"
  },
  "language_info": {
   "codemirror_mode": {
    "name": "ipython",
    "version": 3
   },
   "file_extension": ".py",
   "mimetype": "text/x-python",
   "name": "python",
   "nbconvert_exporter": "python",
   "pygments_lexer": "ipython3",
   "version": "3.10.6"
  }
 },
 "nbformat": 4,
 "nbformat_minor": 4
}
