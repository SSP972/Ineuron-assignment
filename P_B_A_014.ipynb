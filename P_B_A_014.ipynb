{
 "cells": [
  {
   "cell_type": "markdown",
   "id": "785351be-80aa-4d8b-b5b8-4b1b75074a95",
   "metadata": {},
   "source": [
    "1. What does RGBA stand for?"
   ]
  },
  {
   "cell_type": "code",
   "execution_count": null,
   "id": "bcc0d213-9359-4c79-ab3a-94e4bcb1afe7",
   "metadata": {},
   "outputs": [],
   "source": [
    "Red-Green-Blue-Alpha"
   ]
  },
  {
   "cell_type": "code",
   "execution_count": 1,
   "id": "6a36e0f4-7ed1-46e9-bbca-f750002fb153",
   "metadata": {},
   "outputs": [
    {
     "name": "stdout",
     "output_type": "stream",
     "text": [
      "Requirement already satisfied: pillow in /opt/conda/lib/python3.10/site-packages (9.2.0)\n"
     ]
    }
   ],
   "source": [
    "!pip install pillow"
   ]
  },
  {
   "cell_type": "markdown",
   "id": "b815bd52-fe11-4b36-8057-08b74f166d7a",
   "metadata": {},
   "source": [
    "2. From the Pillow module, how do you get the RGBA value of any images?"
   ]
  },
  {
   "cell_type": "code",
   "execution_count": 9,
   "id": "784c1875-cc5c-4de3-9b8d-755c1b52f798",
   "metadata": {},
   "outputs": [
    {
     "name": "stdin",
     "output_type": "stream",
     "text": [
      "Enter image path to get RGBA values: crater-crescent-moon-dark-149988.jpg\n"
     ]
    },
    {
     "name": "stdout",
     "output_type": "stream",
     "text": [
      "8970052\n"
     ]
    }
   ],
   "source": [
    "from PIL import Image\n",
    "Image_path= input(\"Enter image path to get RGBA values:\")\n",
    "img=Image.open(f\"{Image_path}\")\n",
    "img_data=img.convert(\"RGBA\")\n",
    "print(len(list(img_data.getdata())))"
   ]
  },
  {
   "cell_type": "markdown",
   "id": "f48f4ced-ecfd-4c30-97b1-e4f0f6121004",
   "metadata": {},
   "source": [
    "3. What is a box tuple, and how does it work?"
   ]
  },
  {
   "cell_type": "code",
   "execution_count": null,
   "id": "e385f2d4-2cdd-4aa7-99ed-7c5a8a46da56",
   "metadata": {},
   "outputs": [],
   "source": [
    "boxtuple contain(int(left(x-coordinate of 1st point)), int(int(Top(y-coordinate))), int(right(x coordinate of 2nd point)), int(bottom(Y-coordinate of 2nd point))))\n",
    "\n",
    "Left = The x-coordinate of the leftmost edge of the box.\n",
    "\n",
    "Top = The y-coordinate of the top edge of the box.\n",
    "\n",
    "Right = The x-coordinate of one pixel to the right of the rightmost edge of the box. This integer must be greater than the left integer.\n",
    "\n",
    "Bottom = The y-coordinate of one pixel lower than the bottom edge of the box. This integer must be greater than the top integer."
   ]
  },
  {
   "cell_type": "markdown",
   "id": "a5eb9db5-299e-4cab-ba72-81d998a31f8b",
   "metadata": {},
   "source": [
    "4. Use your image and load in notebook then, How can you find out the width and height of an Image object?"
   ]
  },
  {
   "cell_type": "code",
   "execution_count": 10,
   "id": "b3567824-98a9-49b1-b057-6fb25fcf0c55",
   "metadata": {},
   "outputs": [
    {
     "name": "stdout",
     "output_type": "stream",
     "text": [
      "(3458, 2594)\n"
     ]
    }
   ],
   "source": [
    "print(img.size)"
   ]
  },
  {
   "cell_type": "markdown",
   "id": "873cd096-fa32-42e8-abf9-0ecbb4c6a5a9",
   "metadata": {},
   "source": [
    "5. What method would you call to get Image object for a 100×100 image, excluding the lower-left quarter of it?"
   ]
  },
  {
   "cell_type": "code",
   "execution_count": null,
   "id": "3e2997b1-160b-41bd-9a86-eed15e66bec8",
   "metadata": {},
   "outputs": [],
   "source": [
    "as we would like to perform operation to get 3 quarters of the image(excluding left corner) hence there is no single method to crop this\n",
    "kind of image as we have 4 coordinte which are in paire to represent pixle location hence as we have to crop 1st half the crop 4th quarter\n",
    "and append it to 1st half hence we get required img\n",
    "\n",
    "\n",
    "from PIL import Image\n",
    "a= Image.new(\"RGBA\",(100,100),color=\"green\")\n",
    "half_crop=a.crop((0,0,a.size[0],a.size[1]//2))\n",
    "right_lower_quat=a.crop((a.size[0]//2,a.size[1]//2,a.size[0],a.size[1]))\n",
    "copy_right_lwr_quat= right_lower_quat.copy()\n",
    "copy_half_crop=half_crop.copy()\n",
    "new_img=Image.new(\"RGBA\",a.size,color=\"blue\")\n",
    "new_img.paste(copy_half_crop,(0,0))\n",
    "new_img.paste(copy_right_lwr_quat,(a.size[0]//2,a.size[1]//2))\n",
    "new_img.save(\"result.png\")\n"
   ]
  },
  {
   "cell_type": "markdown",
   "id": "cc5f0a79-b155-4120-9629-a98964ec4f77",
   "metadata": {},
   "source": [
    "6. After making changes to an Image object, how could you save it as an image file?"
   ]
  },
  {
   "cell_type": "code",
   "execution_count": null,
   "id": "efc11d2e-7d9b-4f0f-9d02-df9fb6b24364",
   "metadata": {},
   "outputs": [],
   "source": [
    "new_img.save(\"result.png\")\n"
   ]
  },
  {
   "cell_type": "markdown",
   "id": "94ccf635-f7e6-4120-9ab7-3cc8baf24cd9",
   "metadata": {},
   "source": [
    "7. What module contains Pillow’s shape-drawing code?"
   ]
  },
  {
   "cell_type": "code",
   "execution_count": null,
   "id": "244f6a90-f083-4b40-894d-013ab54c2f4d",
   "metadata": {},
   "outputs": [],
   "source": [
    "PIL.ImageDraw"
   ]
  },
  {
   "cell_type": "code",
   "execution_count": null,
   "id": "d9f4a1df-811f-40e9-9f5c-fd8a3ffa88d8",
   "metadata": {},
   "outputs": [],
   "source": [
    "Image objects do not have drawing methods. What kind of object does? How do you get this kind of object?"
   ]
  },
  {
   "cell_type": "code",
   "execution_count": null,
   "id": "716aae13-b943-4dcd-ac6b-9a175af3013f",
   "metadata": {},
   "outputs": [],
   "source": [
    "from PIL import ImageDraw\n",
    "ImageDraw.Draw()"
   ]
  }
 ],
 "metadata": {
  "kernelspec": {
   "display_name": "Python 3 (ipykernel)",
   "language": "python",
   "name": "python3"
  },
  "language_info": {
   "codemirror_mode": {
    "name": "ipython",
    "version": 3
   },
   "file_extension": ".py",
   "mimetype": "text/x-python",
   "name": "python",
   "nbconvert_exporter": "python",
   "pygments_lexer": "ipython3",
   "version": "3.10.6"
  }
 },
 "nbformat": 4,
 "nbformat_minor": 5
}
