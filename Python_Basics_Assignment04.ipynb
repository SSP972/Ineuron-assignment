{
  "nbformat": 4,
  "nbformat_minor": 0,
  "metadata": {
    "colab": {
      "provenance": [],
      "collapsed_sections": []
    },
    "kernelspec": {
      "name": "python3",
      "display_name": "Python 3"
    },
    "language_info": {
      "name": "python"
    },
    "accelerator": "TPU"
  },
  "cells": [
    {
      "cell_type": "code",
      "execution_count": null,
      "metadata": {
        "id": "rx3uXM-Uw5I-"
      },
      "outputs": [],
      "source": [
        "# 1. What exactly is []?"
      ]
    },
    {
      "cell_type": "code",
      "source": [
        "# square brackets are generally use for indexing values and it is also use to assign a list \"variable = []\" "
      ],
      "metadata": {
        "id": "C4vgK-ASxeh2"
      },
      "execution_count": null,
      "outputs": []
    },
    {
      "cell_type": "code",
      "source": [
        "# 2. In a list of values stored in a variable called spam, how would you assign the value 'hello' as the third value? (Assume [2, 4, 6, 8, 10] are in spam.)\n",
        "# Let's pretend the spam includes the list ['a', 'b', 'c', 'd'] for the next three queries.\n"
      ],
      "metadata": {
        "id": "nZWU3x7sxezh"
      },
      "execution_count": null,
      "outputs": []
    },
    {
      "cell_type": "code",
      "source": [
        "spam= [2, 4, 6, 8, 10]\n",
        "spam[2]=\"hello\"\n",
        "spam"
      ],
      "metadata": {
        "id": "d_63eZBAxnHv",
        "colab": {
          "base_uri": "https://localhost:8080/"
        },
        "outputId": "fea1e5cb-4e33-4e35-ede8-1991909d5c48"
      },
      "execution_count": null,
      "outputs": [
        {
          "output_type": "execute_result",
          "data": {
            "text/plain": [
              "[2, 4, 'hello', 8, 10]"
            ]
          },
          "metadata": {},
          "execution_count": 1
        }
      ]
    },
    {
      "cell_type": "code",
      "source": [
        "3. What is the value of spam[int(int('3' * 2) / 11)]?"
      ],
      "metadata": {
        "id": "HpcwsZ1PxDaN"
      },
      "execution_count": null,
      "outputs": []
    },
    {
      "cell_type": "code",
      "source": [
        "spam= ['a', 'b', 'c', 'd']\n",
        "# d will be the output"
      ],
      "metadata": {
        "id": "AtOC1WuAxnzE"
      },
      "execution_count": null,
      "outputs": []
    },
    {
      "cell_type": "code",
      "source": [
        "spam= ['a', 'b', 'c', 'd']\n",
        "spam[int(int('3' * 2) / 11)]"
      ],
      "metadata": {
        "colab": {
          "base_uri": "https://localhost:8080/",
          "height": 35
        },
        "id": "5BRl9bakeJpe",
        "outputId": "e3213495-e221-4fec-c318-5b35062f1652"
      },
      "execution_count": null,
      "outputs": [
        {
          "output_type": "execute_result",
          "data": {
            "text/plain": [
              "'d'"
            ],
            "application/vnd.google.colaboratory.intrinsic+json": {
              "type": "string"
            }
          },
          "metadata": {},
          "execution_count": 8
        }
      ]
    },
    {
      "cell_type": "code",
      "source": [
        "4. What is the value of spam[-1]?"
      ],
      "metadata": {
        "id": "f7JW1EF4xDky"
      },
      "execution_count": null,
      "outputs": []
    },
    {
      "cell_type": "code",
      "source": [
        "spam= ['a', 'b', 'c', 'd']\n",
        "# it will give last value in list"
      ],
      "metadata": {
        "id": "8ZQtwIfdxoPn"
      },
      "execution_count": null,
      "outputs": []
    },
    {
      "cell_type": "code",
      "source": [
        "spam= ['a', 'b', 'c', 'd']\n",
        "spam[-1]"
      ],
      "metadata": {
        "colab": {
          "base_uri": "https://localhost:8080/",
          "height": 35
        },
        "id": "LJmG2bTRe_hz",
        "outputId": "5680f03e-dcf9-4bf2-9cb0-9ab88e846383"
      },
      "execution_count": null,
      "outputs": [
        {
          "output_type": "execute_result",
          "data": {
            "text/plain": [
              "'d'"
            ],
            "application/vnd.google.colaboratory.intrinsic+json": {
              "type": "string"
            }
          },
          "metadata": {},
          "execution_count": 9
        }
      ]
    },
    {
      "cell_type": "code",
      "source": [
        "# 5. What is the value of spam[:2]?\n",
        "# it will give ['a','b']\n",
        "spam[:2]"
      ],
      "metadata": {
        "id": "Bya31m66xD1L",
        "colab": {
          "base_uri": "https://localhost:8080/"
        },
        "outputId": "7f4d1f1c-d76b-4c5e-aa68-045d119f538b"
      },
      "execution_count": null,
      "outputs": [
        {
          "output_type": "execute_result",
          "data": {
            "text/plain": [
              "['a', 'b']"
            ]
          },
          "metadata": {},
          "execution_count": 10
        }
      ]
    },
    {
      "cell_type": "code",
      "source": [
        "Let's pretend bacon has the list [3.14, 'cat,' 11, 'cat,' True] for the next three questions."
      ],
      "metadata": {
        "id": "r83BiMADxp3Z"
      },
      "execution_count": null,
      "outputs": []
    },
    {
      "cell_type": "code",
      "source": [
        "6. What is the value of bacon.index('cat')?"
      ],
      "metadata": {
        "id": "R0-F5SdFxD8O"
      },
      "execution_count": null,
      "outputs": []
    },
    {
      "cell_type": "code",
      "source": [
        "#as the input given in the assignment the string included comma after cat and ask to resolve queries on cat str so modifing this input to \"cat\" from \"cat,\"\n",
        "bacon= [3.14, 'cat', 11, 'cat' ,True]  \n",
        "\n",
        "bacon.index('cat') # index attribute is work from 0th element till last element so this is giving out put as 1"
      ],
      "metadata": {
        "id": "S9y72UnwxqXm",
        "colab": {
          "base_uri": "https://localhost:8080/"
        },
        "outputId": "ce76dd89-f6e7-4704-857e-432452556822"
      },
      "execution_count": 13,
      "outputs": [
        {
          "output_type": "execute_result",
          "data": {
            "text/plain": [
              "1"
            ]
          },
          "metadata": {},
          "execution_count": 13
        }
      ]
    },
    {
      "cell_type": "code",
      "source": [
        "# 7. How does bacon.append(99) change the look of the list value in bacon?"
      ],
      "metadata": {
        "id": "fDsBMEpIxEEA"
      },
      "execution_count": 11,
      "outputs": []
    },
    {
      "cell_type": "code",
      "source": [
        "bacon= [3.14, 'cat', 11, 'cat' ,True]\n",
        "bacon.append(99)\n",
        "# bacon = [3.14, 'cat', 11, 'cat' ,True,99]\n",
        "bacon"
      ],
      "metadata": {
        "id": "W8NL2FrHxsOj",
        "colab": {
          "base_uri": "https://localhost:8080/"
        },
        "outputId": "b1448857-ac7e-4102-cc8f-422debb35835"
      },
      "execution_count": 12,
      "outputs": [
        {
          "output_type": "execute_result",
          "data": {
            "text/plain": [
              "[3.14, 'cat', 11, 'cat', True, 99]"
            ]
          },
          "metadata": {},
          "execution_count": 12
        }
      ]
    },
    {
      "cell_type": "code",
      "source": [
        "8. How does bacon.remove('cat') change the look of the list in bacon?"
      ],
      "metadata": {
        "id": "l4VJLf1zxELa"
      },
      "execution_count": null,
      "outputs": []
    },
    {
      "cell_type": "code",
      "source": [
        "bacon= [3.14, 'cat', 11, 'cat' ,True]\n",
        "bacon.remove('cat')\n",
        "print(bacon)    #if we rerun this query then it will remove the nxt 1st same variable in this case it will remove the cat at [2]\n",
        "bacon.remove('cat')\n",
        "bacon"
      ],
      "metadata": {
        "id": "QtqKODyWxsnx",
        "colab": {
          "base_uri": "https://localhost:8080/"
        },
        "outputId": "616a13f5-ca7a-4dd3-ab9e-afac48a17d18"
      },
      "execution_count": 16,
      "outputs": [
        {
          "output_type": "stream",
          "name": "stdout",
          "text": [
            "[3.14, 11, 'cat', True]\n"
          ]
        },
        {
          "output_type": "execute_result",
          "data": {
            "text/plain": [
              "[3.14, 11, True]"
            ]
          },
          "metadata": {},
          "execution_count": 16
        }
      ]
    },
    {
      "cell_type": "code",
      "source": [
        "9. What are the list concatenation and list replication operators?"
      ],
      "metadata": {
        "id": "6np2P7s_xES3"
      },
      "execution_count": null,
      "outputs": []
    },
    {
      "cell_type": "code",
      "source": [
        "bacon= [3.14, 'cat', 11, 'cat' ,True]\n",
        "bacon1= [3.14, 'cat', 11, 'cat' ,True]+bacon\n",
        "print(\"concatenation example:  \",bacon1)\n",
        "bacon2=bacon*2\n",
        "print(\"replaction example: \",bacon2)\n"
      ],
      "metadata": {
        "id": "4Tt9a7YTxs-q",
        "colab": {
          "base_uri": "https://localhost:8080/"
        },
        "outputId": "7e4ba720-85af-4e8e-c562-3da07969862c"
      },
      "execution_count": 20,
      "outputs": [
        {
          "output_type": "stream",
          "name": "stdout",
          "text": [
            "concatenation example:   [3.14, 'cat', 11, 'cat', True, 3.14, 'cat', 11, 'cat', True]\n",
            "replaction example:  [3.14, 'cat', 11, 'cat', True, 3.14, 'cat', 11, 'cat', True]\n"
          ]
        }
      ]
    },
    {
      "cell_type": "code",
      "source": [
        "10. What is difference between the list methods append() and insert()?\n"
      ],
      "metadata": {
        "id": "g4aCfhU7xEZp"
      },
      "execution_count": null,
      "outputs": []
    },
    {
      "cell_type": "code",
      "source": [
        "bacon= [3.14, 'cat', 11, 'cat' ,True]\n",
        "bacon.append(\"The New appended object at end\")\n",
        "print(\"appended\", bacon)\n",
        "bacon= [3.14, 'cat', 11, 'cat' ,True]\n",
        "bacon.insert(2,\"The New inserted object at the second index\")\n",
        "bacon\n",
        "\n",
        "\n",
        "#with insert we can insert the object at any index it will shift the whole list after that and give output as shown below\n",
        "# meanwhile in append item will be appended at the last of the list "
      ],
      "metadata": {
        "id": "pdUJO2o4xtpH",
        "colab": {
          "base_uri": "https://localhost:8080/"
        },
        "outputId": "d9beb64d-e189-4888-ae74-8f064b855f96"
      },
      "execution_count": 22,
      "outputs": [
        {
          "output_type": "stream",
          "name": "stdout",
          "text": [
            "appended [3.14, 'cat', 11, 'cat', True, 'The New appended object at end']\n"
          ]
        },
        {
          "output_type": "execute_result",
          "data": {
            "text/plain": [
              "[3.14, 'cat', 'The New inserted object at the second index', 11, 'cat', True]"
            ]
          },
          "metadata": {},
          "execution_count": 22
        }
      ]
    },
    {
      "cell_type": "code",
      "source": [
        "11. What are the two methods for removing items from a list?"
      ],
      "metadata": {
        "id": "2EdlhE1BxEhB"
      },
      "execution_count": null,
      "outputs": []
    },
    {
      "cell_type": "code",
      "source": [
        "bacon= [3.14, 'cat', 11, 'cat' ,True]\n",
        "bacon.remove('cat')\n",
        "print(\"for remove\",bacon)\n",
        "bacon= [3.14, 'cat', 11, 'cat' ,True]\n",
        "bacon.pop(1)\n",
        "print(\"for pop\",bacon)"
      ],
      "metadata": {
        "id": "aNfZpceoxuEe",
        "colab": {
          "base_uri": "https://localhost:8080/"
        },
        "outputId": "86ee2e69-1433-4924-c465-35836180cc0b"
      },
      "execution_count": 24,
      "outputs": [
        {
          "output_type": "stream",
          "name": "stdout",
          "text": [
            "for remove [3.14, 11, 'cat', True]\n",
            "for pop [3.14, 11, 'cat', True]\n"
          ]
        }
      ]
    },
    {
      "cell_type": "code",
      "source": [
        "12. Describe how list values and string values are identical."
      ],
      "metadata": {
        "id": "Tz6iwqzJxEoh"
      },
      "execution_count": null,
      "outputs": []
    },
    {
      "cell_type": "code",
      "source": [
        "#both have the sequence\n",
        "#both can take input as str\n",
        "#we can concenate or replicate both "
      ],
      "metadata": {
        "id": "1fTdmFsoxuaG"
      },
      "execution_count": null,
      "outputs": []
    },
    {
      "cell_type": "code",
      "source": [
        "# 13.What's the difference between tuples and lists?\n",
        " "
      ],
      "metadata": {
        "id": "IxG4p1rvxEwC"
      },
      "execution_count": null,
      "outputs": []
    },
    {
      "cell_type": "code",
      "source": [
        "# tuples are immutable whereas the lists are mutable\n",
        "# also we can sort the list but we can't sort the tuple "
      ],
      "metadata": {
        "id": "D1eILjg0xu5W"
      },
      "execution_count": null,
      "outputs": []
    },
    {
      "cell_type": "code",
      "source": [
        "14. How do you type a tuple value that only contains the integer 42?"
      ],
      "metadata": {
        "id": "5UpAItrexE3n"
      },
      "execution_count": null,
      "outputs": []
    },
    {
      "cell_type": "code",
      "source": [
        "(42)"
      ],
      "metadata": {
        "id": "YRp3mEh7xvL2"
      },
      "execution_count": null,
      "outputs": []
    },
    {
      "cell_type": "code",
      "source": [
        "15. How do you get a list value's tuple form? How do you get a tuple value's list form?"
      ],
      "metadata": {
        "id": "oEyRLAMKxE_H"
      },
      "execution_count": null,
      "outputs": []
    },
    {
      "cell_type": "code",
      "source": [
        "bacon= [3.14, 'cat', 11, 'cat' ,True]\n",
        "bacon= tuple(bacon)\n",
        "print(f\"type of the Bacon {bacon}{type(bacon)}\")\n",
        "bacon= (3.14, 'cat', 11, 'cat' ,True)\n",
        "bacon = list(bacon)\n",
        "print(f\"type of the Bacon {bacon}{type(bacon)}\")"
      ],
      "metadata": {
        "id": "MUTpJEn_xvfU",
        "colab": {
          "base_uri": "https://localhost:8080/"
        },
        "outputId": "b10f20ae-92e3-4759-9635-af15c76e1f0d"
      },
      "execution_count": 26,
      "outputs": [
        {
          "output_type": "stream",
          "name": "stdout",
          "text": [
            "type of the Bacon (3.14, 'cat', 11, 'cat', True)<class 'tuple'>\n",
            "type of the Bacon [3.14, 'cat', 11, 'cat', True]<class 'list'>\n"
          ]
        }
      ]
    },
    {
      "cell_type": "code",
      "source": [
        "#16. Variables that \"contain\" list values are not necessarily lists themselves. Instead, what do they contain?"
      ],
      "metadata": {
        "id": "jxtEcAc5xFHN"
      },
      "execution_count": null,
      "outputs": []
    },
    {
      "cell_type": "code",
      "source": [
        "# they can be any data type \n",
        "bacon= [3.14, 'cat', 11, 'cat' ,True,(3.14, 'cat', 11, 'cat' ,True),{3.14, 'cat', 11, 'cat' ,True},{3.14 : 45, 'cat':34 ,56:True},[3.14, 'cat', 11, 'cat' ,True]]\n",
        "for i in bacon:\n",
        "  print(f\"type of the Bacon {i}  ||  {type(i)}\")"
      ],
      "metadata": {
        "id": "LOdVnc7KxwCR",
        "colab": {
          "base_uri": "https://localhost:8080/"
        },
        "outputId": "a301b1d3-6131-446d-f4b4-6158fb175318"
      },
      "execution_count": 35,
      "outputs": [
        {
          "output_type": "stream",
          "name": "stdout",
          "text": [
            "type of the Bacon 3.14  ||  <class 'float'>\n",
            "type of the Bacon cat  ||  <class 'str'>\n",
            "type of the Bacon 11  ||  <class 'int'>\n",
            "type of the Bacon cat  ||  <class 'str'>\n",
            "type of the Bacon True  ||  <class 'bool'>\n",
            "type of the Bacon (3.14, 'cat', 11, 'cat', True)  ||  <class 'tuple'>\n",
            "type of the Bacon {11, 'cat', 3.14, True}  ||  <class 'set'>\n",
            "type of the Bacon {3.14: 45, 'cat': 34, 56: True}  ||  <class 'dict'>\n",
            "type of the Bacon [3.14, 'cat', 11, 'cat', True]  ||  <class 'list'>\n"
          ]
        }
      ]
    },
    {
      "cell_type": "code",
      "source": [
        "#17. How do you distinguish between copy.copy() and copy.deepcopy()?"
      ],
      "metadata": {
        "id": "AJGAlvCNxFQC"
      },
      "execution_count": null,
      "outputs": []
    },
    {
      "cell_type": "code",
      "source": [
        "import copy\n",
        "b1= [3.14, 'cat', 11, 'cat' ,True,[3.14, 'cat', 11, 'cat' ,True],[3.14, 'cat', 11, 'cat' ,True]]\n",
        "b2=copy.copy(b1)\n",
        "print(b1)\n",
        "print(b2)\n",
        "print(\"...........................................................................................................................................\")\n",
        "b1[-1]=\"THE Modification\"\n",
        "print(b1)      #in shallow copy the other list remains same after modification except if modification is made on object of a item as shown below  \n",
        "print(b2)"
      ],
      "metadata": {
        "id": "MqimC0llxwez",
        "colab": {
          "base_uri": "https://localhost:8080/"
        },
        "outputId": "19abd27b-c23c-4633-9a64-9747e8b08ad3"
      },
      "execution_count": 63,
      "outputs": [
        {
          "output_type": "stream",
          "name": "stdout",
          "text": [
            "[3.14, 'cat', 11, 'cat', True, [3.14, 'cat', 11, 'cat', True], [3.14, 'cat', 11, 'cat', True]]\n",
            "[3.14, 'cat', 11, 'cat', True, [3.14, 'cat', 11, 'cat', True], [3.14, 'cat', 11, 'cat', True]]\n",
            "...........................................................................................................................................\n",
            "[3.14, 'cat', 11, 'cat', True, [3.14, 'cat', 11, 'cat', True], 'THE Modification']\n",
            "[3.14, 'cat', 11, 'cat', True, [3.14, 'cat', 11, 'cat', True], [3.14, 'cat', 11, 'cat', True]]\n"
          ]
        }
      ]
    },
    {
      "cell_type": "code",
      "source": [
        "b1= [3.14, 'cat', 11, 'cat' ,True,[3.14, 'cat', 11, 'cat' ,True],[3.14, 'cat', 11, 'cat' ,True]]\n",
        "b2=copy.copy(b1)\n",
        "print(b1)\n",
        "print(b2)\n",
        "print(\"...........................................................................................................................................\")\n",
        "print(\"SHALLOW COPY\")\n",
        "b1[-1][0]=\"THE Modification\"\n",
        "print(b1)      #in shallow copy the other list remains same after modification except if modification is made on object of a item as shown below  \n",
        "print(b2)"
      ],
      "metadata": {
        "colab": {
          "base_uri": "https://localhost:8080/"
        },
        "id": "yj948cu4Kx3F",
        "outputId": "0c184f8d-abb1-4e2f-c7f4-ddfbe6159f32"
      },
      "execution_count": 65,
      "outputs": [
        {
          "output_type": "stream",
          "name": "stdout",
          "text": [
            "[3.14, 'cat', 11, 'cat', True, [3.14, 'cat', 11, 'cat', True], [3.14, 'cat', 11, 'cat', True]]\n",
            "[3.14, 'cat', 11, 'cat', True, [3.14, 'cat', 11, 'cat', True], [3.14, 'cat', 11, 'cat', True]]\n",
            "...........................................................................................................................................\n",
            "SHALLOW COPY\n",
            "[3.14, 'cat', 11, 'cat', True, [3.14, 'cat', 11, 'cat', True], ['THE Modification', 'cat', 11, 'cat', True]]\n",
            "[3.14, 'cat', 11, 'cat', True, [3.14, 'cat', 11, 'cat', True], ['THE Modification', 'cat', 11, 'cat', True]]\n"
          ]
        }
      ]
    },
    {
      "cell_type": "code",
      "source": [
        "# with deepcopy we can keep our intial variable as it is for object modification\n",
        "print(\"DEEPCOPY\")\n",
        "import copy\n",
        "b1= [3.14, 'cat', 11, 'cat' ,True,[3.14, 'cat', 11, 'cat' ,True],[3.14, 'cat', 11, 'cat' ,True]]\n",
        "b2=copy.deepcopy(b1)\n",
        "print(b1)\n",
        "print(b2)\n",
        "print(\"...........................................................................................................................................\")\n",
        "b2[-1][0]=\"THE Modification\"\n",
        "print(b1)   \n",
        "print(b2)"
      ],
      "metadata": {
        "colab": {
          "base_uri": "https://localhost:8080/"
        },
        "id": "u5nR3cpcQG47",
        "outputId": "fbb7fca8-b474-4b59-a69f-0dc0d37cf1af"
      },
      "execution_count": 64,
      "outputs": [
        {
          "output_type": "stream",
          "name": "stdout",
          "text": [
            "DEEPCOPY\n",
            "[3.14, 'cat', 11, 'cat', True, [3.14, 'cat', 11, 'cat', True], [3.14, 'cat', 11, 'cat', True]]\n",
            "[3.14, 'cat', 11, 'cat', True, [3.14, 'cat', 11, 'cat', True], [3.14, 'cat', 11, 'cat', True]]\n",
            "...........................................................................................................................................\n",
            "[3.14, 'cat', 11, 'cat', True, [3.14, 'cat', 11, 'cat', True], [3.14, 'cat', 11, 'cat', True]]\n",
            "[3.14, 'cat', 11, 'cat', True, [3.14, 'cat', 11, 'cat', True], ['THE Modification', 'cat', 11, 'cat', True]]\n"
          ]
        }
      ]
    },
    {
      "cell_type": "code",
      "source": [],
      "metadata": {
        "id": "hOMp4FK9Qk3Y"
      },
      "execution_count": null,
      "outputs": []
    }
  ]
}