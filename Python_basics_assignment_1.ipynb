{
  "nbformat": 4,
  "nbformat_minor": 0,
  "metadata": {
    "colab": {
      "provenance": [],
      "collapsed_sections": []
    },
    "kernelspec": {
      "name": "python3",
      "display_name": "Python 3"
    },
    "language_info": {
      "name": "python"
    }
  },
  "cells": [
    {
      "cell_type": "markdown",
      "source": [
        "\n",
        "1. In the below elements which of them are values or an expression? eg:- values can be integer or string and expressions will be mathematical operators.\n",
        "    \n",
        "    *\n",
        "\n",
        "    'hello'\n",
        "\n",
        "    -87.8\n",
        "\n",
        "    -\n",
        "\n",
        "    /\n",
        "\n",
        "    +\n",
        "\n",
        "    6\n"
      ],
      "metadata": {
        "id": "riXBWCT7uTU6"
      }
    },
    {
      "cell_type": "markdown",
      "source": [],
      "metadata": {
        "id": "p2LjCSSVECl8"
      }
    },
    {
      "cell_type": "markdown",
      "source": [
        "Values('hello',-87.8,6) expression (*,/,-,+)"
      ],
      "metadata": {
        "id": "bc9ojubXELan"
      }
    },
    {
      "cell_type": "code",
      "source": [],
      "metadata": {
        "id": "_4GLhUaeEtxg"
      },
      "execution_count": null,
      "outputs": []
    },
    {
      "cell_type": "markdown",
      "source": [
        "2. What is the difference between string and variable?\n",
        "\n",
        "\n",
        "\n",
        "\n",
        "\n",
        "In variable we can store any data type \n",
        "Wherein string itself is a data type which store the characters in quotes"
      ],
      "metadata": {
        "id": "Iqf9Tqw8EuCr"
      }
    },
    {
      "cell_type": "code",
      "source": [],
      "metadata": {
        "id": "SJxfwgyYFJ2u"
      },
      "execution_count": null,
      "outputs": []
    },
    {
      "cell_type": "markdown",
      "source": [
        "3. Describe three different data types.\n",
        "\n",
        "\n",
        "\n",
        "Integers:-  it contains whole numbers\n",
        "Float:- it contains fractional as well as whole numbers \n",
        "String  it is a sequence of characters represented in quotes"
      ],
      "metadata": {
        "id": "5xOt3wb1FKOA"
      }
    },
    {
      "cell_type": "code",
      "source": [],
      "metadata": {
        "id": "nQo8tH9xFu4y"
      },
      "execution_count": null,
      "outputs": []
    },
    {
      "cell_type": "markdown",
      "source": [
        "4. What is an expression made up of? What do all expressions do?\n",
        "\n",
        "\n",
        "..............\n",
        "\n",
        "Expression is made of operators and operand for eg.  A+b*c**d\n",
        "\n",
        "\n",
        "Expressions are used to interpret the other values from given operators and operand"
      ],
      "metadata": {
        "id": "FwtywzDtFvH6"
      }
    },
    {
      "cell_type": "code",
      "source": [],
      "metadata": {
        "id": "rml-XwIuGF3a"
      },
      "execution_count": null,
      "outputs": []
    },
    {
      "cell_type": "markdown",
      "source": [
        "\n",
        "5. This assignment statements, like spam = 10. What is the difference between an expression and a statement?\n",
        "\n",
        "\n",
        "\n",
        "Expression will evaluate and return the value from given input where, statement will execute and may or may not return a value it will proceed as per the statement"
      ],
      "metadata": {
        "id": "MyRjwEp1GGOK"
      }
    },
    {
      "cell_type": "code",
      "source": [],
      "metadata": {
        "id": "_OmJAkt6GOTL"
      },
      "execution_count": null,
      "outputs": []
    },
    {
      "cell_type": "markdown",
      "source": [
        "6. After running the following code, what does the variable bacon contain?\n",
        "\n",
        "bacon = 22\n",
        "\n",
        "bacon + 1\n",
        "\n",
        "\n",
        "\n",
        "Bacon will have new value 23"
      ],
      "metadata": {
        "id": "98xa-bs0GOb0"
      }
    },
    {
      "cell_type": "code",
      "source": [
        "bacon =22\n",
        "bacon + 1"
      ],
      "metadata": {
        "colab": {
          "base_uri": "https://localhost:8080/"
        },
        "id": "IM5AD_MFGUgW",
        "outputId": "ea9d79ad-b027-48c5-88ce-c0f8a4900369"
      },
      "execution_count": null,
      "outputs": [
        {
          "output_type": "execute_result",
          "data": {
            "text/plain": [
              "23"
            ]
          },
          "metadata": {},
          "execution_count": 1
        }
      ]
    },
    {
      "cell_type": "code",
      "source": [],
      "metadata": {
        "id": "fsLfq_rpGls_"
      },
      "execution_count": null,
      "outputs": []
    },
    {
      "cell_type": "markdown",
      "source": [
        "7. What should the values of the following two terms be?\n",
        "\n",
        "'spam' + 'spamspam'\n",
        "\n",
        "'spam' * 3\n",
        "\n",
        "\n",
        "\n",
        "\n",
        "'spamspamspam' in both cases"
      ],
      "metadata": {
        "id": "_XKO9LvpGl66"
      }
    },
    {
      "cell_type": "code",
      "source": [
        "A= 'spam' + 'spamspam'\n",
        "\n",
        "B= 'spam' * 3\n",
        "\n",
        "print(f\"'spam' + 'spamspam': = {A}\")\n",
        "print(f\"'spam*3': = {B}\")"
      ],
      "metadata": {
        "colab": {
          "base_uri": "https://localhost:8080/"
        },
        "id": "pdpQWaSwGso8",
        "outputId": "8cbe97fc-49b8-47a1-fc73-68ac1835c8e8"
      },
      "execution_count": null,
      "outputs": [
        {
          "output_type": "stream",
          "name": "stdout",
          "text": [
            "'spam' + 'spamspam': = spamspamspam\n",
            "'spam*3': = spamspamspam\n"
          ]
        }
      ]
    },
    {
      "cell_type": "code",
      "source": [],
      "metadata": {
        "id": "JZPr_UnUHbT8"
      },
      "execution_count": null,
      "outputs": []
    },
    {
      "cell_type": "markdown",
      "source": [
        "8. Why is eggs a valid variable name while 100 is invalid?\n",
        "\n",
        "\n",
        "\n",
        "\n",
        "As per the python documentation rules variable must not start from keywords and number. \n",
        "As python interpreter will get confuse if they have allowed numbers and keywords as variable"
      ],
      "metadata": {
        "id": "FRt7wWopHbdd"
      }
    },
    {
      "cell_type": "code",
      "source": [],
      "metadata": {
        "id": "oYpUU76cHhSp"
      },
      "execution_count": null,
      "outputs": []
    },
    {
      "cell_type": "markdown",
      "source": [
        "9. What three functions can be used to get the integer, floating-point number, or string version of a value?\n",
        "\n",
        "\n",
        "Int()\n",
        "\n",
        "Float()\n",
        "\n",
        "Str()"
      ],
      "metadata": {
        "id": "ykQWl8EWHha5"
      }
    },
    {
      "cell_type": "code",
      "source": [],
      "metadata": {
        "id": "RTxfrlTwHo1y"
      },
      "execution_count": null,
      "outputs": []
    },
    {
      "cell_type": "markdown",
      "source": [
        "10. Why does this expression cause an error? How can you fix it?\n",
        "\n",
        "'I have eaten ' + 99 + ' burritos.'\n",
        "\n",
        "\n",
        "We were trying to add int data type to str data type python doesn't support to add str with integers or float \n",
        "\n",
        "\n",
        "'I have eaten ' + '99' + ' burritos.'"
      ],
      "metadata": {
        "id": "ZAGbT6IeHo80"
      }
    },
    {
      "cell_type": "code",
      "source": [
        "'I have eaten ' + 99 + ' burritos.'"
      ],
      "metadata": {
        "colab": {
          "base_uri": "https://localhost:8080/",
          "height": 270
        },
        "id": "ATtN_0G-H5GK",
        "outputId": "270706fe-3f5e-4859-aaff-db212db3393c"
      },
      "execution_count": null,
      "outputs": [
        {
          "output_type": "error",
          "ename": "TypeError",
          "evalue": "ignored",
          "traceback": [
            "\u001b[0;31m---------------------------------------------------------------------------\u001b[0m",
            "\u001b[0;31mTypeError\u001b[0m                                 Traceback (most recent call last)",
            "\u001b[0;32m<ipython-input-6-d24137131a5c>\u001b[0m in \u001b[0;36m<module>\u001b[0;34m\u001b[0m\n\u001b[0;32m----> 1\u001b[0;31m \u001b[0;34m'I have eaten '\u001b[0m \u001b[0;34m+\u001b[0m \u001b[0;36m99\u001b[0m \u001b[0;34m+\u001b[0m \u001b[0;34m' burritos.'\u001b[0m\u001b[0;34m\u001b[0m\u001b[0;34m\u001b[0m\u001b[0m\n\u001b[0m",
            "\u001b[0;31mTypeError\u001b[0m: can only concatenate str (not \"int\") to str"
          ]
        }
      ]
    },
    {
      "cell_type": "code",
      "source": [
        "'I have eaten ' + '99' + ' burritos.'"
      ],
      "metadata": {
        "colab": {
          "base_uri": "https://localhost:8080/",
          "height": 35
        },
        "id": "5sQaQpc7H0bH",
        "outputId": "9a3d3e75-bd62-4c5e-bd8c-274bec5548b2"
      },
      "execution_count": null,
      "outputs": [
        {
          "output_type": "execute_result",
          "data": {
            "text/plain": [
              "'I have eaten 99 burritos.'"
            ],
            "application/vnd.google.colaboratory.intrinsic+json": {
              "type": "string"
            }
          },
          "metadata": {},
          "execution_count": 5
        }
      ]
    }
  ]
}