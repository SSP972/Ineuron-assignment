{
  "cells": [
    {
      "cell_type": "code",
      "source": [
        "# 1.What are the two values of the Boolean data type? How do you write them?\n",
        "# True and False"
      ],
      "metadata": {
        "id": "i0a1v9-ewIBG"
      },
      "id": "i0a1v9-ewIBG",
      "execution_count": null,
      "outputs": []
    },
    {
      "cell_type": "code",
      "execution_count": null,
      "id": "0370479a-3ef8-48be-b2bb-b61536230904",
      "metadata": {
        "id": "0370479a-3ef8-48be-b2bb-b61536230904"
      },
      "outputs": [],
      "source": [
        "True"
      ]
    },
    {
      "cell_type": "code",
      "execution_count": null,
      "id": "8052655e-c01f-43e9-9b06-74bb8e2583f5",
      "metadata": {
        "id": "8052655e-c01f-43e9-9b06-74bb8e2583f5"
      },
      "outputs": [],
      "source": [
        "False"
      ]
    },
    {
      "cell_type": "code",
      "source": [
        "#2. What are the three different types of Boolean operators?"
      ],
      "metadata": {
        "id": "1ugrHseyxHfV"
      },
      "id": "1ugrHseyxHfV",
      "execution_count": null,
      "outputs": []
    },
    {
      "cell_type": "code",
      "execution_count": null,
      "id": "3ca08b5c-5ae6-414b-8837-251b022c0a78",
      "metadata": {
        "id": "3ca08b5c-5ae6-414b-8837-251b022c0a78"
      },
      "outputs": [],
      "source": [
        "or , and , not"
      ]
    },
    {
      "cell_type": "code",
      "source": [
        "#3. Make a list of each Boolean operator's truth tables (i.e. every possible combination of Boolean values for the operator and what it evaluate )."
      ],
      "metadata": {
        "id": "QnEYg5n3xSbk"
      },
      "id": "QnEYg5n3xSbk",
      "execution_count": null,
      "outputs": []
    },
    {
      "cell_type": "code",
      "execution_count": null,
      "id": "6f955cc5-ec36-477c-b303-3858a1766302",
      "metadata": {
        "id": "6f955cc5-ec36-477c-b303-3858a1766302",
        "outputId": "c2474e31-761d-4969-f1fe-b98333aa9aa8"
      },
      "outputs": [
        {
          "name": "stdout",
          "output_type": "stream",
          "text": [
            "OR\n",
            " ....................................\n",
            " True or False  = True\n",
            " ....................................\n",
            " False or True  = True\n",
            " ....................................\n",
            " True or True  = True\n",
            " ....................................\n",
            " False or False  = False\n",
            "\n",
            "\n",
            "AND\n",
            " ....................................\n",
            " True AND False  = False\n",
            " ....................................\n",
            " False AND True  = False\n",
            " ....................................\n",
            " True AND True  = True\n",
            " ....................................\n",
            " False AND False  = False\n",
            "\n",
            "\n",
            "NOT\n",
            " ....................................\n",
            "  NOT False  = True\n",
            " ....................................\n",
            "  NOT True  = False\n"
          ]
        }
      ],
      "source": [
        "O,R= True,False\n",
        "print (\"OR\")\n",
        "print(f\" ....................................\\n {O} or {R}  = {O or R}\")\n",
        "print(f\" ....................................\\n {R} or {O}  = {R or O}\")\n",
        "print(f\" ....................................\\n {O} or {O}  = {O or O}\")\n",
        "print(f\" ....................................\\n {R} or {R}  = {R or R}\")\n",
        "print(\"\\n\")\n",
        "print (\"AND\")\n",
        "print(f\" ....................................\\n {O} AND {R}  = {O and R}\")\n",
        "print(f\" ....................................\\n {R} AND {O}  = {R and O}\")\n",
        "print(f\" ....................................\\n {O} AND {O}  = {O and O}\")\n",
        "print(f\" ....................................\\n {R} AND {R}  = {R and R}\")\n",
        "print(\"\\n\")\n",
        "print (\"NOT\")\n",
        "print(f\" ....................................\\n  NOT {R}  = { not R}\")\n",
        "print(f\" ....................................\\n  NOT {O}  = { not O}\")\n",
        "\n",
        "\n"
      ]
    },
    {
      "cell_type": "code",
      "execution_count": null,
      "id": "7822dabe-cdcd-4efd-b299-257efb8f9077",
      "metadata": {
        "id": "7822dabe-cdcd-4efd-b299-257efb8f9077"
      },
      "outputs": [],
      "source": [
        "# 4. What are the values of the following expressions?\n",
        "#   (5 > 4) and (3 == 5) = false \"\"\"1&0==0\"\"\"\n",
        "\n",
        "#   not (5 > 4) = false \"\"\"1!= 0\"\"\"\n",
        "\n",
        "#   (5 > 4) or (3 == 5) = true \"\"\"1|0==1\"\"\"\n",
        "\n",
        "#   not ((5 > 4) or (3 == 5)) = false \"\"\"1|0!=0\"\"\"\n",
        "\n",
        "#   (True and True) and (True == False) = false \"\"\"1&0==0\"\"\"\n",
        "\n",
        "#   (not False) or (not True) = true \"\"\"1|0==1\"\"\""
      ]
    },
    {
      "cell_type": "code",
      "execution_count": null,
      "id": "7a457524-2a1b-4e17-909c-9b96e30ad70f",
      "metadata": {
        "id": "7a457524-2a1b-4e17-909c-9b96e30ad70f",
        "outputId": "ae03d70d-10b4-4c10-f5c3-5ae8eec05ff6"
      },
      "outputs": [
        {
          "name": "stdout",
          "output_type": "stream",
          "text": [
            "False\n",
            "False\n",
            "True\n",
            "False\n",
            "False\n",
            "True\n"
          ]
        }
      ],
      "source": [
        "print(f\"{(5 > 4) and (3 == 5)}\\n{not (5 > 4)}\\n{(5 > 4) or (3 == 5)}\\n{not ((5 > 4) or (3 == 5))}\\n{(True and True) and (True == False)}\\n{(not False) or (not True)}\")\n"
      ]
    },
    {
      "cell_type": "code",
      "source": [
        "#  5. What are the six comparison operators?"
      ],
      "metadata": {
        "id": "WiOczEcYxiBx"
      },
      "id": "WiOczEcYxiBx",
      "execution_count": null,
      "outputs": []
    },
    {
      "cell_type": "code",
      "execution_count": null,
      "id": "da593247-2b5b-4dcf-abfb-8771249ecfd2",
      "metadata": {
        "id": "da593247-2b5b-4dcf-abfb-8771249ecfd2"
      },
      "outputs": [],
      "source": [
        "[<,>,<=,>=,==,!=]"
      ]
    },
    {
      "cell_type": "code",
      "source": [
        "#`6. How do you tell the difference between the equal to and assignment operators?Describe a condition and when you would use one.`"
      ],
      "metadata": {
        "id": "rM406hGhxk8P"
      },
      "id": "rM406hGhxk8P",
      "execution_count": null,
      "outputs": []
    },
    {
      "cell_type": "code",
      "execution_count": null,
      "id": "53101f26-9d4f-4ebd-9f3a-e227d15a7931",
      "metadata": {
        "id": "53101f26-9d4f-4ebd-9f3a-e227d15a7931"
      },
      "outputs": [],
      "source": [
        "#equal to is denoted by \"==\" which is used when we're writing a logic while assignment operator will be denoted by \"=\" this symbol  "
      ]
    },
    {
      "cell_type": "code",
      "source": [
        "#7. Identify the three blocks in this code:\n"
      ],
      "metadata": {
        "id": "0R-LOwhwx13c"
      },
      "id": "0R-LOwhwx13c",
      "execution_count": null,
      "outputs": []
    },
    {
      "cell_type": "code",
      "execution_count": null,
      "id": "3caa8d21-ffc9-4df9-85a2-4efb0c1b2cb6",
      "metadata": {
        "id": "3caa8d21-ffc9-4df9-85a2-4efb0c1b2cb6"
      },
      "outputs": [],
      "source": [
        "spam = 0\n",
        "if spam == 10:\n",
        "    print('eggs')     #Block 1 statment 1\n",
        "if spam > 5:\n",
        "    print('bacon')     #Block 2 statment 1\n",
        "else:\n",
        "    print('ham')         #Block 3 statment 1\n",
        "    print('spam')        #Block 3 statment 2\n",
        "    print('spam')        #Block3   statment 3\n"
      ]
    },
    {
      "cell_type": "code",
      "source": [
        "#8. Write code that prints Hello if 1 is stored in spam, prints Howdy if 2 is stored in spam, and prints\n",
        "# Greetings! if anything else is stored in spam."
      ],
      "metadata": {
        "id": "y1bQJfM-x_yy"
      },
      "id": "y1bQJfM-x_yy",
      "execution_count": null,
      "outputs": []
    },
    {
      "cell_type": "code",
      "execution_count": null,
      "id": "29f59bdb-aad4-4785-95b2-605f866759dc",
      "metadata": {
        "id": "29f59bdb-aad4-4785-95b2-605f866759dc",
        "outputId": "b46edfa8-bcbe-4f24-9c75-71b03dc49a90"
      },
      "outputs": [
        {
          "name": "stdin",
          "output_type": "stream",
          "text": [
            "Put any number :  4\n"
          ]
        },
        {
          "name": "stdout",
          "output_type": "stream",
          "text": [
            "Greetings!\n"
          ]
        }
      ],
      "source": [
        "spam = int(input(\"Put any number : \" ))\n",
        "if spam == 1:\n",
        "    print(\"Hello\")\n",
        "elif spam == 2:\n",
        "    print(\"Howdy\")\n",
        "else:\n",
        "    print(\"Greetings!\")\n",
        "    "
      ]
    },
    {
      "cell_type": "code",
      "source": [
        "#9.If your programme is stuck in an endless loop, what keys you’ll press?"
      ],
      "metadata": {
        "id": "0Qz9aFLCy7PR"
      },
      "id": "0Qz9aFLCy7PR",
      "execution_count": null,
      "outputs": []
    },
    {
      "cell_type": "code",
      "execution_count": null,
      "id": "ea004b86-d594-4763-8765-b385e310f8e2",
      "metadata": {
        "id": "ea004b86-d594-4763-8765-b385e310f8e2"
      },
      "outputs": [],
      "source": [
        "\"Ctrl+C\"\n",
        "  "
      ]
    },
    {
      "cell_type": "code",
      "source": [
        "#10. How can you tell the difference between break and continue?"
      ],
      "metadata": {
        "id": "6bH4yYoYy-VJ"
      },
      "id": "6bH4yYoYy-VJ",
      "execution_count": null,
      "outputs": []
    },
    {
      "cell_type": "code",
      "source": [
        "#break is use for to get out of loop while continue is use to to stay in the loop \n",
        "a = range(1,10)\n",
        "for i in a:\n",
        "  if i >=5:\n",
        "    break\n",
        "  \n",
        "  else:\n",
        "    print(i)\n",
        "    continue\n",
        "  "
      ],
      "metadata": {
        "colab": {
          "base_uri": "https://localhost:8080/"
        },
        "id": "pnIjg9QFECBe",
        "outputId": "69c3b65e-6e8b-4841-f3a4-0a4606e8b265"
      },
      "id": "pnIjg9QFECBe",
      "execution_count": null,
      "outputs": [
        {
          "output_type": "stream",
          "name": "stdout",
          "text": [
            "1\n",
            "2\n",
            "3\n",
            "4\n"
          ]
        }
      ]
    },
    {
      "cell_type": "code",
      "source": [
        "#11. In a for loop, what is the difference between range(10), range(0, 10), and range(0, 10, 1)?"
      ],
      "metadata": {
        "id": "tsMTMcCgzDAS"
      },
      "id": "tsMTMcCgzDAS",
      "execution_count": null,
      "outputs": []
    },
    {
      "cell_type": "code",
      "source": [
        "#all ranges are same they have detailed inputs like in range(0,10) starting point is defined and in range(0,10,1) with statring and end points here steps are defined"
      ],
      "metadata": {
        "id": "A96fH_m4dLso"
      },
      "id": "A96fH_m4dLso",
      "execution_count": null,
      "outputs": []
    },
    {
      "cell_type": "code",
      "source": [
        "# 12. Write a short program that prints the numbers 1 to 10 using a for loop. Then write an equivalent\n",
        "# program that prints the numbers 1 to 10 using a while loop."
      ],
      "metadata": {
        "id": "VFUBieZmzF1x"
      },
      "id": "VFUBieZmzF1x",
      "execution_count": null,
      "outputs": []
    },
    {
      "cell_type": "code",
      "source": [
        "a = range(1,11)\n",
        "j=1\n",
        "print(\"FOR LOOP\")\n",
        "for i in a:\n",
        "  print(i)\n",
        "print(\"WHILE lOOP\")\n",
        "while j<=len(a):\n",
        "  print(j)\n",
        "  j+=1"
      ],
      "metadata": {
        "colab": {
          "base_uri": "https://localhost:8080/"
        },
        "id": "mT4BQ4QCoh3Y",
        "outputId": "19973d7f-3daf-42b3-d385-33b6bbe15f93"
      },
      "id": "mT4BQ4QCoh3Y",
      "execution_count": null,
      "outputs": [
        {
          "output_type": "stream",
          "name": "stdout",
          "text": [
            "FOR LOOP\n",
            "1\n",
            "2\n",
            "3\n",
            "4\n",
            "5\n",
            "6\n",
            "7\n",
            "8\n",
            "9\n",
            "10\n",
            "WHILE lOOP\n",
            "1\n",
            "2\n",
            "3\n",
            "4\n",
            "5\n",
            "6\n",
            "7\n",
            "8\n",
            "9\n",
            "10\n"
          ]
        }
      ]
    },
    {
      "cell_type": "code",
      "source": [
        "# 13. If you had a function named bacon() inside a module named spam, how would you call it after\n",
        "# importing spam?"
      ],
      "metadata": {
        "id": "CMMBXf_bzL-8"
      },
      "id": "CMMBXf_bzL-8",
      "execution_count": null,
      "outputs": []
    },
    {
      "cell_type": "code",
      "source": [
        "variable.bacon()"
      ],
      "metadata": {
        "id": "glKRKbmduFKr"
      },
      "id": "glKRKbmduFKr",
      "execution_count": null,
      "outputs": []
    }
  ],
  "metadata": {
    "kernelspec": {
      "display_name": "Python 3 (ipykernel)",
      "language": "python",
      "name": "python3"
    },
    "language_info": {
      "codemirror_mode": {
        "name": "ipython",
        "version": 3
      },
      "file_extension": ".py",
      "mimetype": "text/x-python",
      "name": "python",
      "nbconvert_exporter": "python",
      "pygments_lexer": "ipython3",
      "version": "3.9.12"
    },
    "colab": {
      "provenance": []
    }
  },
  "nbformat": 4,
  "nbformat_minor": 5
}