{
 "cells": [
  {
   "cell_type": "markdown",
   "id": "02ee1220-96fa-4a7d-9648-9128df7ed313",
   "metadata": {},
   "source": [
    "1. How do you distinguish between shutil.copy() and shutil.copytree()?"
   ]
  },
  {
   "cell_type": "code",
   "execution_count": null,
   "id": "27f0aff9-7a7f-4eef-a319-ee974571e122",
   "metadata": {},
   "outputs": [],
   "source": [
    "copy is used for jst single file while the copytree is used for whole directory to get copied."
   ]
  },
  {
   "cell_type": "markdown",
   "id": "f7f9ceda-ee9b-48ed-b9b3-7add422991cf",
   "metadata": {
    "tags": []
   },
   "source": [
    "2. What function is used to rename files??"
   ]
  },
  {
   "cell_type": "code",
   "execution_count": null,
   "id": "64e69594-a983-4972-8599-8cd277d8d660",
   "metadata": {},
   "outputs": [],
   "source": [
    "we can use copy function to rename it or move function where we can change the file name without keeping its backup"
   ]
  },
  {
   "cell_type": "markdown",
   "id": "0a908828-fe18-4f86-93f3-841232c1f98e",
   "metadata": {},
   "source": [
    "3. What is the difference between the delete functions in the send2trash and shutil modules?"
   ]
  },
  {
   "cell_type": "code",
   "execution_count": null,
   "id": "224c0a1c-5dfa-4c6e-985f-dd7ecddbd5e4",
   "metadata": {},
   "outputs": [],
   "source": [
    "send2trash will sendfile tio recyclebin while the shutil will delete permanently "
   ]
  },
  {
   "cell_type": "markdown",
   "id": "bbc7123e-7ea6-4f13-922d-791919322465",
   "metadata": {
    "tags": []
   },
   "source": [
    "4. ZipFile objects have a close() method just like File objects’ close() method. What ZipFile method is\n",
    "   equivalent to File objects’ open() method?\n"
   ]
  },
  {
   "cell_type": "code",
   "execution_count": 11,
   "id": "3da26261-15d2-4d7d-b5e6-394659016b39",
   "metadata": {},
   "outputs": [
    {
     "name": "stdout",
     "output_type": "stream",
     "text": [
      "File Name                                             Modified             Size\n",
      "Assignment_P_B_07.ipynb                        2022-11-05 18:07:00         4938\n",
      "Assignment_P_B_07.ipynb                        2022-11-05 18:07:00         4938\n",
      "Assignment_P_B_07.ipynb                        2022-11-05 18:07:00         4938\n",
      "Assignment_P_B_07.ipynb                        2022-11-05 18:07:01         4938\n"
     ]
    }
   ],
   "source": [
    "# zipfile()is equivalent to open()\n",
    "import zipfile\n",
    "a= zipfile.ZipFile(\"a.zip\",\"a\")\n",
    "a.write(\"Assignment_P_B_07.ipynb\")\n",
    "a.close()\n",
    "a.printdir()"
   ]
  },
  {
   "cell_type": "markdown",
   "id": "4a501168-cea3-4566-a16c-ebdbc15b8276",
   "metadata": {},
   "source": [
    "5. Create a programme that searches a folder tree for files with a certain file extension (such as .pdf\n",
    "   or .jpg). Copy these files from whatever location they are in to a new folder."
   ]
  },
  {
   "cell_type": "code",
   "execution_count": 1,
   "id": "fc8877b1-1507-4a2d-9a51-2b34e352b7ec",
   "metadata": {},
   "outputs": [],
   "source": [
    "def selectiveCopy(folder, extensions, destFolder):\n",
    "    try:\n",
    "        folder = os.path.abspath(folder)\n",
    "        destFolder = os.path.abspath(destFolder)\n",
    "        print('Looking in', folder, 'for files with extensions of', ', '.join(extensions))\n",
    "        for foldername, subfolders, filenames in os.walk(folder):\n",
    "            print(\"DeBUG\", foldername, \"=\" * 80)\n",
    "            print(\"DeBUG\", subfolders, \"=\" * 80)\n",
    "            for filename in filenames:\n",
    "                print(\"DeBUG\", filename, \"-\"*80 )\n",
    "\n",
    "                name, extension = os.path.splitext(filename)\n",
    "                if extension in extensions:\n",
    "                    fileAbsPath = foldername + os.path.sep + filename\n",
    "                    print('Coping', fileAbsPath, 'to', destFolder)\n",
    "                    shutil.copy(fileAbsPath, destFolder)\n",
    "    except Exception as e:\n",
    "        print(\"ERROR\",e)\n",
    "    finally:\n",
    "        print(\"Successfully completed\")"
   ]
  },
  {
   "cell_type": "code",
   "execution_count": null,
   "id": "74943e5e-a629-44fa-a85a-a1930c4c05d7",
   "metadata": {},
   "outputs": [],
   "source": []
  }
 ],
 "metadata": {
  "kernelspec": {
   "display_name": "Python 3 (ipykernel)",
   "language": "python",
   "name": "python3"
  },
  "language_info": {
   "codemirror_mode": {
    "name": "ipython",
    "version": 3
   },
   "file_extension": ".py",
   "mimetype": "text/x-python",
   "name": "python",
   "nbconvert_exporter": "python",
   "pygments_lexer": "ipython3",
   "version": "3.10.6"
  }
 },
 "nbformat": 4,
 "nbformat_minor": 5
}
