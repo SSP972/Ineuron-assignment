{
  "nbformat": 4,
  "nbformat_minor": 0,
  "metadata": {
    "colab": {
      "provenance": []
    },
    "kernelspec": {
      "name": "python3",
      "display_name": "Python 3"
    },
    "language_info": {
      "name": "python"
    }
  },
  "cells": [
    {
      "cell_type": "code",
      "execution_count": null,
      "metadata": {
        "id": "c3ImneUwzA63"
      },
      "outputs": [],
      "source": [
        "Write a Python program to print \"Hello Python\"?\n",
        "Write a Python program to do arithmetical operations addition and division.?\n",
        "Write a Python program to find the area of a triangle?\n",
        "Write a Python program to swap two variables?\n",
        "Write a Python program to generate a random number?"
      ]
    },
    {
      "cell_type": "code",
      "source": [
        "print(\"Hello Python\")"
      ],
      "metadata": {
        "id": "pN8g_c7PzdCP"
      },
      "execution_count": null,
      "outputs": []
    },
    {
      "cell_type": "code",
      "source": [
        "b,a= 11,10\n",
        "#addition\n",
        "c=b+a\n",
        "print(f\"Addition  {c}\")\n",
        "#division\n",
        "d=b/a\n",
        "print(f\"Division  {d}\") \n"
      ],
      "metadata": {
        "id": "vl4QvYxMzdKb"
      },
      "execution_count": null,
      "outputs": []
    },
    {
      "cell_type": "code",
      "source": [
        "hght= input(\"enter height value:  \")\n",
        "base= input(\"enter base value:  \")\n",
        "c=int(hght)*int(base)\n",
        "print(f\"Area of triangle is :  {c}\")"
      ],
      "metadata": {
        "colab": {
          "base_uri": "https://localhost:8080/"
        },
        "id": "ta4ipD-1zdQW",
        "outputId": "13a22f95-9dba-45a3-fd86-fbcd4d5063aa"
      },
      "execution_count": 5,
      "outputs": [
        {
          "output_type": "stream",
          "name": "stdout",
          "text": [
            "enter height value:  5\n",
            "enter base value:  4\n",
            "Area of triangle is :  20\n"
          ]
        }
      ]
    },
    {
      "cell_type": "code",
      "source": [
        "a= 19 \n",
        "b =10\n",
        "a,b=b,a\n",
        "print(a,b)"
      ],
      "metadata": {
        "colab": {
          "base_uri": "https://localhost:8080/"
        },
        "id": "jOpYDhDkzdUV",
        "outputId": "fdbe9f99-91a5-49e2-ff6d-c81ec9b8d274"
      },
      "execution_count": 6,
      "outputs": [
        {
          "output_type": "stream",
          "name": "stdout",
          "text": [
            "10 19\n"
          ]
        }
      ]
    },
    {
      "cell_type": "code",
      "source": [
        "import random\n",
        "print(random.randrange(10))"
      ],
      "metadata": {
        "colab": {
          "base_uri": "https://localhost:8080/"
        },
        "id": "-H3aeoEPzdXf",
        "outputId": "11d15c42-939d-4e0b-f074-d83a78525f60"
      },
      "execution_count": 19,
      "outputs": [
        {
          "output_type": "stream",
          "name": "stdout",
          "text": [
            "8\n"
          ]
        }
      ]
    }
  ]
}