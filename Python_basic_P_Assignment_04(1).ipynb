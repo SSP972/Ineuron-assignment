{
  "nbformat": 4,
  "nbformat_minor": 0,
  "metadata": {
    "colab": {
      "provenance": []
    },
    "kernelspec": {
      "name": "python3",
      "display_name": "Python 3"
    },
    "language_info": {
      "name": "python"
    }
  },
  "cells": [
    {
      "cell_type": "code",
      "execution_count": null,
      "metadata": {
        "id": "ZKCRkjYwOs4C"
      },
      "outputs": [],
      "source": [
        "# 1. Write a Python Program to Find the Factorial of a Number?\n",
        "# 2. Write a Python Program to Display the multiplication Table?\n",
        "# 3. Write a Python Program to Print the Fibonacci sequence?\n",
        "# 4. Write a Python Program to Check Armstrong Number?\n",
        "# 5. Write a Python Program to Find Armstrong Number in an Interval?\n",
        "# 6. Write a Python Program to Find the Sum of Natural Numbers?"
      ]
    },
    {
      "cell_type": "code",
      "source": [
        "def fact(n):\n",
        "  if n==1:\n",
        "    return n\n",
        "  else:\n",
        "    return n*(fact(n-1))"
      ],
      "metadata": {
        "id": "EyaoGgVIO2NW"
      },
      "execution_count": null,
      "outputs": []
    },
    {
      "cell_type": "code",
      "source": [
        "fact(15)"
      ],
      "metadata": {
        "colab": {
          "base_uri": "https://localhost:8080/"
        },
        "id": "Ps_pYY38PTVy",
        "outputId": "25210fe0-7527-42a9-bfb8-d24f4757a75f"
      },
      "execution_count": null,
      "outputs": [
        {
          "output_type": "execute_result",
          "data": {
            "text/plain": [
              "1307674368000"
            ]
          },
          "metadata": {},
          "execution_count": 3
        }
      ]
    },
    {
      "cell_type": "code",
      "source": [
        "num= int(input(\"Enter the number for table till 10 multiples: \"))\n",
        "for i in range(1,11):\n",
        "  print(f\"{num} X {i} = {num*i}\\n\")"
      ],
      "metadata": {
        "colab": {
          "base_uri": "https://localhost:8080/"
        },
        "id": "-WvyHLv4PVpd",
        "outputId": "24217bb8-b59f-4a2b-9310-05789d6805d8"
      },
      "execution_count": null,
      "outputs": [
        {
          "output_type": "stream",
          "name": "stdout",
          "text": [
            "Enter the number for table till 10 multiples: 20\n",
            "20 X 1 = 20\n",
            "\n",
            "20 X 2 = 40\n",
            "\n",
            "20 X 3 = 60\n",
            "\n",
            "20 X 4 = 80\n",
            "\n",
            "20 X 5 = 100\n",
            "\n",
            "20 X 6 = 120\n",
            "\n",
            "20 X 7 = 140\n",
            "\n",
            "20 X 8 = 160\n",
            "\n",
            "20 X 9 = 180\n",
            "\n",
            "20 X 10 = 200\n",
            "\n"
          ]
        }
      ]
    },
    {
      "cell_type": "code",
      "source": [
        "def fib(l,a=0,b=1):\n",
        "  '''fib (length of the fibonacci input as any possitive interger, starts from 0 , second digit set to 1 )\n",
        "  example:\n",
        "      input: fib(10)\n",
        "      output: 0 1 1 2 3 5 8 13 21 54  '''\n",
        "  if l==1:\n",
        "    return 0 \n",
        "  print(a,end=\" \")\n",
        "  return a + (fib(l-1,b,a+b))"
      ],
      "metadata": {
        "id": "5yW9DxcZSCB9"
      },
      "execution_count": 51,
      "outputs": []
    },
    {
      "cell_type": "code",
      "source": [
        "fib(10)"
      ],
      "metadata": {
        "colab": {
          "base_uri": "https://localhost:8080/"
        },
        "id": "iMvrNlUITwnP",
        "outputId": "c6e90f80-c71b-4f6b-c44a-6b5e378a72bf"
      },
      "execution_count": 52,
      "outputs": [
        {
          "output_type": "stream",
          "name": "stdout",
          "text": [
            "0 1 1 2 3 5 8 13 21 "
          ]
        },
        {
          "output_type": "execute_result",
          "data": {
            "text/plain": [
              "54"
            ]
          },
          "metadata": {},
          "execution_count": 52
        }
      ]
    },
    {
      "cell_type": "code",
      "source": [
        "def armstrong_num(a,_a=[]):\n",
        "  \"\"\"enter the number to get armstrong number \n",
        "   example:\n",
        "      input: armstrong_num(153)\n",
        "      output: \"it is an Armstrong number\" \"\"\"\n",
        "  z=0\n",
        "  _list=list()\n",
        "  b=list(str(a))\n",
        "  for i in b:\n",
        "    d = int(i)**len(b)\n",
        "    _list.append(d)\n",
        "  for i in _list:\n",
        "    z+=i\n",
        "  if z==a:\n",
        "    return \"it is an Armstrong number\"\n",
        "  else:\n",
        "    return \"it is not Armstrong number\""
      ],
      "metadata": {
        "id": "EacgB71dTykI"
      },
      "execution_count": 84,
      "outputs": []
    },
    {
      "cell_type": "code",
      "source": [
        "(armstrong_num(153))"
      ],
      "metadata": {
        "colab": {
          "base_uri": "https://localhost:8080/",
          "height": 35
        },
        "id": "EfX8yXROURa9",
        "outputId": "2ff56420-032f-40c3-aecb-ed1e30b38bca"
      },
      "execution_count": 85,
      "outputs": [
        {
          "output_type": "execute_result",
          "data": {
            "text/plain": [
              "'it is an Armstrong number'"
            ],
            "application/vnd.google.colaboratory.intrinsic+json": {
              "type": "string"
            }
          },
          "metadata": {},
          "execution_count": 85
        }
      ]
    },
    {
      "cell_type": "code",
      "source": [
        "l= input(\"enter lower  and upper limits of the interval: \" ).split(maxsplit=2)\n",
        "List=list()\n",
        "for i in range(int(l[0]),int(l[1])+1):\n",
        "  if \"it is an Armstrong number\"== armstrong_num(i):\n",
        "     List.append(i)\n",
        "print(List)"
      ],
      "metadata": {
        "colab": {
          "base_uri": "https://localhost:8080/"
        },
        "id": "TQOcFyZmU8hU",
        "outputId": "42d70239-dd1b-48ac-f337-b477202a3ad5"
      },
      "execution_count": 97,
      "outputs": [
        {
          "output_type": "stream",
          "name": "stdout",
          "text": [
            "enter lower  and upper limits of the interval: 100 2000\n",
            "[153, 370, 371, 407, 1634]\n"
          ]
        }
      ]
    },
    {
      "cell_type": "code",
      "source": [
        "def sum_natural_num(n):\n",
        "  \"\"\"enter any positive number to get sum of all natural number till given number\n",
        "  input: sum_natural_num(4)\n",
        "  output: 10\"\"\" \n",
        "  if n < 0:\n",
        "     return \"Enter a positive number\"\n",
        "  else:\n",
        "    sum = 0\n",
        "    while(n > 0):\n",
        "        sum +=n\n",
        "        n-=1\n",
        "    \n",
        "  return sum\n",
        "  "
      ],
      "metadata": {
        "id": "o_pIzpCUZb1T"
      },
      "execution_count": 123,
      "outputs": []
    },
    {
      "cell_type": "code",
      "source": [
        "sum_natural_num(1000)"
      ],
      "metadata": {
        "colab": {
          "base_uri": "https://localhost:8080/"
        },
        "id": "Sm8a7iA8kZ2F",
        "outputId": "66157318-4233-4816-c4ff-58e0283a4b1d"
      },
      "execution_count": 124,
      "outputs": [
        {
          "output_type": "execute_result",
          "data": {
            "text/plain": [
              "500500"
            ]
          },
          "metadata": {},
          "execution_count": 124
        }
      ]
    }
  ]
}