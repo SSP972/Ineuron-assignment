{
 "cells": [
  {
   "cell_type": "markdown",
   "id": "ce5679f7-f34f-4f30-b42e-61e973910788",
   "metadata": {},
   "source": [
    "1. Write a Python program to find words which are greater than given length k?"
   ]
  },
  {
   "cell_type": "code",
   "execution_count": 1,
   "id": "42140989-def5-463b-87df-cd33a0961a11",
   "metadata": {},
   "outputs": [],
   "source": [
    "string=\"123456 abcd 34567\""
   ]
  },
  {
   "cell_type": "code",
   "execution_count": 2,
   "id": "f70f13df-5b50-4ebd-b33d-d23606ac2d21",
   "metadata": {},
   "outputs": [
    {
     "name": "stdout",
     "output_type": "stream",
     "text": [
      "123456\n",
      "34567\n"
     ]
    }
   ],
   "source": [
    "length=4\n",
    "for i in string.split():\n",
    "    if len(i)>length:\n",
    "        print (i)"
   ]
  },
  {
   "cell_type": "markdown",
   "id": "395ada66-99e5-41af-bb5e-7dd293317e33",
   "metadata": {},
   "source": [
    "2. Write a Python program for removing i-th character from a string?\n"
   ]
  },
  {
   "cell_type": "code",
   "execution_count": 3,
   "id": "715f008a-c2cc-4bde-a007-00c57d6f49e6",
   "metadata": {},
   "outputs": [
    {
     "data": {
      "text/plain": [
       "'12356 abcd 34567'"
      ]
     },
     "execution_count": 3,
     "metadata": {},
     "output_type": "execute_result"
    }
   ],
   "source": [
    "string=\"123456 abcd 34567\"\n",
    "i_value= 3\n",
    "string[:i_value]+string[i_value+1:]"
   ]
  },
  {
   "cell_type": "markdown",
   "id": "847ae3db-8a03-4fc3-b031-edc792e49ee2",
   "metadata": {},
   "source": [
    "3. Write a Python program to split and join a string?"
   ]
  },
  {
   "cell_type": "code",
   "execution_count": 4,
   "id": "5cfa2b73-3594-43b1-a3bc-c7169dc2563d",
   "metadata": {},
   "outputs": [
    {
     "data": {
      "text/plain": [
       "'123456 abcd 34567'"
      ]
     },
     "execution_count": 4,
     "metadata": {},
     "output_type": "execute_result"
    }
   ],
   "source": [
    "split_str=string.split()\n",
    "joint_str= \" \".join(split_str)\n",
    "joint_str"
   ]
  },
  {
   "cell_type": "markdown",
   "id": "16e5d2be-323b-47b4-afec-86ea280905ce",
   "metadata": {},
   "source": [
    "4. Write a Python to check if a given string is binary string or not?"
   ]
  },
  {
   "cell_type": "code",
   "execution_count": 5,
   "id": "f42ea1a4-0210-4202-a60d-b978ada4ce17",
   "metadata": {},
   "outputs": [
    {
     "name": "stdout",
     "output_type": "stream",
     "text": [
      "Input is binary\n"
     ]
    }
   ],
   "source": [
    "string_b= \"0101110111011\"\n",
    "def _isbinary(string_b):\n",
    "    check_binary=set(string_b)\n",
    "    checking_set={\"0\",\"1\"}\n",
    "    if check_binary==checking_set or check_binary=={\"0\"} or check_binary=={\"1\"}:\n",
    "        print(\"Input is binary\")\n",
    "    else:\n",
    "        print(\"NO\")\n",
    "_isbinary(string_b)"
   ]
  },
  {
   "cell_type": "markdown",
   "id": "f24b9c12-477d-4b6d-897f-6ee94f895c0e",
   "metadata": {},
   "source": [
    "5. Write a Python program to find uncommon words from two Strings?"
   ]
  },
  {
   "cell_type": "code",
   "execution_count": 6,
   "id": "085bd22b-9101-4dab-a739-375d5e63d8da",
   "metadata": {},
   "outputs": [
    {
     "data": {
      "text/plain": [
       "{'common', 'not', 'uncommon'}"
      ]
     },
     "execution_count": 6,
     "metadata": {},
     "output_type": "execute_result"
    }
   ],
   "source": [
    "string_A= \"This is not a common\"\n",
    "string_B=\"This is a uncommon uncommon\"\n",
    "def uncommon(string_A,string_B):\n",
    "    temp=list()\n",
    "    for i in string_A.split():\n",
    "        if i not in string_B.split():\n",
    "            temp.append(i)\n",
    "    for i in string_B.split():\n",
    "        if i not in string_A.split():\n",
    "            temp.append(i)\n",
    "    return set(temp)\n",
    "uncommon(string_A,string_B)"
   ]
  },
  {
   "cell_type": "markdown",
   "id": "c8e1bf41-b973-4eb8-9003-1430ec5c8855",
   "metadata": {},
   "source": [
    "6. Write a Python to find all duplicate characters in string"
   ]
  },
  {
   "cell_type": "code",
   "execution_count": 7,
   "id": "2fe48a92-bd15-4ae9-a89d-1e413383b886",
   "metadata": {},
   "outputs": [
    {
     "name": "stdout",
     "output_type": "stream",
     "text": [
      "i\n",
      "s\n",
      "n\n",
      "o\n",
      "m\n"
     ]
    }
   ],
   "source": [
    "from collections import Counter\n",
    "def duplicate(string_0=str()):\n",
    "    string_1 = Counter(string_0.replace(\" \", \"\"))\n",
    "    for char, count in string_1.items():\n",
    "        if (count > 1) :\n",
    "            print(char)\n",
    "duplicate(string_A)"
   ]
  },
  {
   "cell_type": "markdown",
   "id": "071c2ac0-ba0d-4918-9e15-c1bacdb9c669",
   "metadata": {},
   "source": [
    "7. Write a Python Program to check if a string contains any special character?"
   ]
  },
  {
   "cell_type": "code",
   "execution_count": 8,
   "id": "f8f50009-200f-40dc-b4cb-6cccae0bbc12",
   "metadata": {},
   "outputs": [
    {
     "name": "stdout",
     "output_type": "stream",
     "text": [
      "['@']\n"
     ]
    }
   ],
   "source": [
    "string=\"123456 abcd 34567@\"\n",
    "import re \n",
    "check_re=re.compile('[@_!#$%^&*()<>?/\\|}{~:]')\n",
    "\n",
    "if check_re.search(string)==None:\n",
    "    print(\"No special character\")\n",
    "else:\n",
    "    print(check_re.findall(string))"
   ]
  }
 ],
 "metadata": {
  "kernelspec": {
   "display_name": "Python 3 (ipykernel)",
   "language": "python",
   "name": "python3"
  },
  "language_info": {
   "codemirror_mode": {
    "name": "ipython",
    "version": 3
   },
   "file_extension": ".py",
   "mimetype": "text/x-python",
   "name": "python",
   "nbconvert_exporter": "python",
   "pygments_lexer": "ipython3",
   "version": "3.10.6"
  }
 },
 "nbformat": 4,
 "nbformat_minor": 5
}
