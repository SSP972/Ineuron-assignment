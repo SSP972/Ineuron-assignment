{
 "cells": [
  {
   "cell_type": "markdown",
   "id": "2ba1ef4f-694d-4be1-ac1e-a6009433a6d3",
   "metadata": {},
   "source": [
    "Write a Python Program to find largest element in an array?"
   ]
  },
  {
   "cell_type": "code",
   "execution_count": 1,
   "id": "38cf3d8a-3028-4769-a58c-9e728d8b24cd",
   "metadata": {},
   "outputs": [
    {
     "name": "stdout",
     "output_type": "stream",
     "text": [
      "sum of this array: [[0.44582341 0.43234474 0.31521413 0.87424764 0.88860922 0.22396002\n",
      "  0.9243971  0.87370024 0.24054801 0.73368617]] is: \n",
      " 5.952530670707052\n"
     ]
    }
   ],
   "source": [
    "# Write a Python Program to find sum of array?\n",
    "import numpy as np\n",
    "array= np.random.rand(1,10)\n",
    "sum_array=np.sum(array)\n",
    "print(f\"sum of this array: {array} is: \\n {sum_array}\")"
   ]
  },
  {
   "cell_type": "markdown",
   "id": "4bbd841b-04f8-4735-b998-cbeeeba26d18",
   "metadata": {},
   "source": [
    "Write a Python Program for array rotation?"
   ]
  },
  {
   "cell_type": "code",
   "execution_count": 2,
   "id": "60721d30-e614-459a-9a90-c3059074661b",
   "metadata": {
    "tags": []
   },
   "outputs": [],
   "source": [
    "def rotation(arr=list(),rotate=1,step=2):\n",
    "    \"\"\"Default input rotation(arr=list(),rotation=1,step=2)\"\"\"\n",
    "    arr[:]=arr[step:len(arr)]+arr[0:step]\n",
    "    if rotate>1:\n",
    "        rotate-=1\n",
    "        return rotation(arr,rotate)\n",
    "    else:\n",
    "        return arr"
   ]
  },
  {
   "cell_type": "code",
   "execution_count": 3,
   "id": "9b1d4a43-1a8c-4dd3-9e94-ef0329d05f63",
   "metadata": {},
   "outputs": [
    {
     "data": {
      "text/plain": [
       "[3, 4, 5, 6, 1, 2]"
      ]
     },
     "execution_count": 3,
     "metadata": {},
     "output_type": "execute_result"
    }
   ],
   "source": [
    "rotation(arr=[1,2,3,4,5,6])"
   ]
  },
  {
   "cell_type": "markdown",
   "id": "37150ae6-ad66-4dbb-92fe-e5f86a78cdfb",
   "metadata": {},
   "source": [
    "Write a Python Program to Split the array and add the first part to the end?\n"
   ]
  },
  {
   "cell_type": "code",
   "execution_count": 4,
   "id": "83cc42c5-74d4-4202-8be9-f110e74a4b58",
   "metadata": {},
   "outputs": [
    {
     "name": "stdout",
     "output_type": "stream",
     "text": [
      "before split: [1, 2, 3, 4, 5, 6]\n",
      "after split: [4, 5, 6, 1, 2, 3]\n"
     ]
    }
   ],
   "source": [
    "arr=[1,2,3,4,5,6]\n",
    "print(\"before split:\",arr)\n",
    "arr[:]=arr[len(arr)//2:len(arr)]+arr[0:len(arr)//2]\n",
    "print(\"after split:\",arr)"
   ]
  },
  {
   "cell_type": "markdown",
   "id": "2f78789b-68c3-42d1-b0d9-f301dbf805aa",
   "metadata": {},
   "source": [
    "Write a Python Program to check if given array is Monotonic?"
   ]
  },
  {
   "cell_type": "code",
   "execution_count": 5,
   "id": "69b2e5c7-6e4e-43ae-805b-a57544ce20b6",
   "metadata": {},
   "outputs": [],
   "source": [
    "def monotonic(arr):\n",
    "    return (all(arr[i] <= arr[i + 1] for i in range(len(arr) - 1)) or all(arr[j] >= arr[j + 1] for j in range(len(arr) - 1)))"
   ]
  },
  {
   "cell_type": "code",
   "execution_count": 6,
   "id": "f2cb4e60-d517-4115-a7f8-4c8d8e66be48",
   "metadata": {},
   "outputs": [
    {
     "data": {
      "text/plain": [
       "False"
      ]
     },
     "execution_count": 6,
     "metadata": {},
     "output_type": "execute_result"
    }
   ],
   "source": [
    "monotonic([1, 2, 3, 4, 5, 4])"
   ]
  }
 ],
 "metadata": {
  "kernelspec": {
   "display_name": "Python 3 (ipykernel)",
   "language": "python",
   "name": "python3"
  },
  "language_info": {
   "codemirror_mode": {
    "name": "ipython",
    "version": 3
   },
   "file_extension": ".py",
   "mimetype": "text/x-python",
   "name": "python",
   "nbconvert_exporter": "python",
   "pygments_lexer": "ipython3",
   "version": "3.10.6"
  }
 },
 "nbformat": 4,
 "nbformat_minor": 5
}
